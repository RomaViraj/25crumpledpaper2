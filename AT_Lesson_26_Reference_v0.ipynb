{
  "nbformat": 4,
  "nbformat_minor": 0,
  "metadata": {
    "colab": {
      "name": "AT - Lesson 26 - Reference - v0",
      "provenance": [],
      "collapsed_sections": [],
      "include_colab_link": true
    },
    "kernelspec": {
      "name": "python3",
      "display_name": "Python 3"
    }
  },
  "cells": [
    {
      "cell_type": "markdown",
      "metadata": {
        "id": "view-in-github",
        "colab_type": "text"
      },
      "source": [
        "<a href=\"https://colab.research.google.com/github/RomaViraj/25crumpledpaper2/blob/master/AT_Lesson_26_Reference_v0.ipynb\" target=\"_parent\"><img src=\"https://colab.research.google.com/assets/colab-badge.svg\" alt=\"Open In Colab\"/></a>"
      ]
    },
    {
      "cell_type": "markdown",
      "metadata": {
        "id": "aMbswDYFUt_1"
      },
      "source": [
        "# Lesson 26: Meteorite Landings - Count Plots"
      ]
    },
    {
      "cell_type": "markdown",
      "metadata": {
        "id": "Ax20GZ_xqOtW"
      },
      "source": [
        "**WARNING:** The reference notebook is meant **ONLY** for a teacher. Please **DO NOT** share it with any student. \n",
        "\n",
        "The contents of the reference notebook are meant only to prepare a teacher for a class. To conduct the class, use the class copy of the reference notebook. The link and the instructions for the same are provided in the **Notes To The Teacher** section.\n",
        "\n",
        "\n",
        "|Particulars|Description|\n",
        "|-|-|\n",
        "|**Topic**|Meteorite Landings - Count Plots|\n",
        "|||\n",
        "|**Class Description**|In this class, a student will learn how to create a count plot using the `seaborn` module|\n",
        "|||\n",
        "|**Class**|C26|\n",
        "|||\n",
        "|**Class Time**|45 minutes|\n",
        "|||\n",
        "|**Goal**|Divide the DataFrame into a fixed time period|\n",
        "||Create count plots for the total number of meteorites found in a year|\n",
        "||Create grouped count plots based on the `nametype` and `fall` categories for the total number of meteorites found in a year|\n",
        "|||\n",
        "|**Teacher Resources**|Google Account|\n",
        "||Link to Lesson 26 Colab reference notebook|\n",
        "||Laptop with internet connectivity|\n",
        "||Earphones with mic|\n",
        "|||\n",
        "|**Student Resources**|Google Account|\n",
        "||Laptop with internet connectivity|\n",
        "||Earphones with mic|"
      ]
    },
    {
      "cell_type": "markdown",
      "metadata": {
        "id": "ro9m-u8SrNVf"
      },
      "source": [
        "---"
      ]
    },
    {
      "cell_type": "markdown",
      "metadata": {
        "id": "s-kP_qnMrOhu"
      },
      "source": [
        "### Class Structure\n",
        "\n",
        "A class is divided into three parts, as shown in the table below.\n",
        "\n",
        "|Parts|Duration|\n",
        "|-|-|\n",
        "|**Warm-Up**|5 minutes|\n",
        "|||\n",
        "|**Teacher-Student Activities**|35 minutes|\n",
        "|||\n",
        "|**Wrap-Up**|5 minutes|"
      ]
    },
    {
      "cell_type": "markdown",
      "metadata": {
        "id": "7R58brXCrSrA"
      },
      "source": [
        "---"
      ]
    },
    {
      "cell_type": "markdown",
      "metadata": {
        "id": "vhL3a-oarTQM"
      },
      "source": [
        "### Notes To The Teacher\n",
        "\n",
        "Before beginning the class:\n",
        "\n",
        "1. Open the **AT - Lesson 26 - Class Copy - v0** file by clicking on the link provided in the **Activities** section under the title **Meteorite Landings - Count Plots (Class Copy)**.  \n",
        "\n",
        "2. After opening the file mentioned in the first point, create its duplicate copy by following the steps described below:\n",
        "\n",
        "    - Click on the **File** menu. A new drop-down list will appear.\n",
        "\n",
        "      <img src='https://student-datasets-bucket.s3.ap-south-1.amazonaws.com/images/lesson-0/0_file_menu.png' width=400>\n",
        "\n",
        "    - Click on the **Save a copy in Drive** option. A duplicate copy will get created. It will open up in the new tab on your web browser.\n",
        "\n",
        "      <img src='https://student-datasets-bucket.s3.ap-south-1.amazonaws.com/images/lesson-0/1_create_colab_duplicate_copy.png' width=500>\n",
        "\n",
        "    - In the duplicate copy, click on the **Share** button on the top right corner of the notebook. A new dialog box will appear.\n",
        "\n",
        "      <img src='https://student-datasets-bucket.s3.ap-south-1.amazonaws.com/images/lesson-0/2_share_button.png' width=500>\n",
        "\n",
        "    - Click on the tiny downward arrow next to **Anyone with the link can view** text. A drop-down list will appear.\n",
        "\n",
        "      <img src='https://student-datasets-bucket.s3.ap-south-1.amazonaws.com/images/lesson-0/3_anyone_can_view.png' width=500>\n",
        "\n",
        "    - Click on the **More...** option. A new page on the dialog box will appear.\n",
        "\n",
        "      <img src='https://student-datasets-bucket.s3.ap-south-1.amazonaws.com/images/lesson-0/4_more_option.png' width=500>\n",
        "\n",
        "    - Click on the circle next to **On - Anyone with the link** option. Now, go down and click on the tiny downward box next to **Can edit** text. A drop-down list will appear.\n",
        "\n",
        "      <img src='https://student-datasets-bucket.s3.ap-south-1.amazonaws.com/images/lesson-0/5_anyone_with_the_link.png' width=500>\n",
        "\n",
        "    - Click on the **Can edit** option. Then click on the **Save** button. You will be directed back to the first page of the dialog box.\n",
        "\n",
        "      <img src='https://student-datasets-bucket.s3.ap-south-1.amazonaws.com/images/lesson-0/6_can_edit.png' width=500>\n",
        "\n",
        "    - Make sure that under the **Link sharing on** section, **Anyone with the link can edit** option is selected. \n",
        "\n",
        "      <img src='https://student-datasets-bucket.s3.ap-south-1.amazonaws.com/images/lesson-0/7_anyone_can_edit.png' width=500>\n",
        "\n",
        "    - Then click on the **Done** button.\n",
        "\n",
        "3. After creating the duplicate copy of the notebook, please rename it in the **YYYY-MM-DD_StudentName_Lesson26** format. \n",
        "\n",
        "\n",
        "4. Now, finish the **Warm-Up** section. Afterwards, proceed with the class using the duplicate copy of the notebook. You can share the link of the duplicate copy (named as **YYYY-MM-DD_StudentName_Lesson26**) with the student through the chat window.\n",
        "\n",
        "5. When a student executes the code for the first time in the duplicate copy that you shared with them, they may get the following warning:\n",
        "\n",
        "   ```\n",
        "    Warning: This notebook was not authored by Google. This notebook was \n",
        "    authored by xyz@gmail.com. It may request access to your data stored \n",
        "    with Google such as files, emails and contacts. Please review the source \n",
        "    code and contact the creator of this notebook at xyz@gmail.com with any \n",
        "    additional questions. \n",
        "\n",
        "                                                      Cancel. Run Anyway.\n",
        "  ```\n",
        "\n",
        "6. Ask the student to click on the `Run Anyway` button.\n",
        "\n",
        "7. Wherever you see the hat (**^**) sign on the heading of activity, give a hats-off to the student at the end of the activity.\n",
        "\n",
        "    - Single hat sign, i.e., **^** denotes give hats-off for concentration. You have to assess the concentration level of a student based on their attentiveness and understanding of the concept.\n",
        "\n",
        "    - Double hat signs, i.e., **^^** denotes give hats-off for creativity. It can be an alternative approach to writing a code for an activity or applying the logic in a totally different problem statement.\n",
        "\n",
        "    - Triple hat signs, i.e., **^^^** denotes give hats-off for persistence. It is the ability of a student to not give up on writing code and writing code with minimal teacher support.\n",
        "\n",
        "8. Every time you execute your code in the Google Colab notebook, please don't forget to save it by pressing the **Ctrl + S** keys (or **Command + S** keys if you are using a Mac). While saving the notebook, you or student may encounter the following error:\n",
        "\n",
        "   ```\n",
        "    Save failed\n",
        "    \n",
        "    The notebook has been changed outside of this session. Would you like to \n",
        "    overwrite existing changes?\n",
        "    \n",
        "                                                              CANCEL    YES\n",
        "   ```\n",
        "\n",
        "   Click on the `YES` button.\n",
        "\n",
        "9. Occasionally, you may encounter some error such as `NameError, ReferenceError, ImportError` or `ModuleNotFoundError` after executing the code in $k^{th}$ code cell (where $k > 0$). Most likely, due to poor internet speed, the Colab notebook might have lost the information that all the previous codes have been executed already. As a remedy, run codes in the code cells beginning from the first code cell till the $(k - 1)^{th}$ code cell. For e.g., if the code in the $5^{th}$ code cell fails to run because of one of the aforementioned errors, execute the codes in all the first four code cells again.\n",
        "\n",
        "10. For every **Teacher Action**, the teacher is supposed to share their screen with the student. Similarly, for every **Student Action**, the student is supposed to share their screen with the teacher.\n"
      ]
    },
    {
      "cell_type": "markdown",
      "metadata": {
        "id": "KhRIFMSKrrWK"
      },
      "source": [
        "---"
      ]
    },
    {
      "cell_type": "markdown",
      "metadata": {
        "id": "tLKD_Wkurtxu"
      },
      "source": [
        "### Warm-Up\n",
        "\n",
        "```\n",
        "TEACHER\n",
        "  Hi student_name! How are you doing?\n",
        "\n",
        "EXPECTED STUDENT RESPONSE\n",
        "  I am doing good, teacher. How about you?\n",
        "\n",
        "\n",
        "TEACHER\n",
        "  I am having a good time, thank you. So, how was your day? What did you do \n",
        "  today?\n",
        "\n",
        "EXPECTED STUDENT RESPONSE \n",
        "  I went to school. Had my lunch. Played a game and then did my homework \n",
        "  before this class.\n",
        "\n",
        "\n",
        "TEACHER\n",
        "  That's great. I am glad that you are having a good day. Now, let's do a \n",
        "  quick recap of our previous class. Can you recall the concepts you \n",
        "  learnt in the previous lesson?\n",
        "\n",
        "EXPECTED STUDENT RESPONSE\n",
        "  We learnt how to create cartograms for the meteorite landing sites.\n",
        "\n",
        "\n",
        "TEACHER\n",
        "  Excellent! You recalled everything that you learnt in the last class. \n",
        "  Great job! Keep it up. \n",
        " \n",
        " \n",
        "  In this class, we are going to learn how to create \n",
        "  count plots for the number of meteorites fallen in a year.\n",
        "\n",
        "  So, are you excited for this class?\n",
        "\n",
        "EXPECTED STUDENT RESPONSE\n",
        "  Yes, teacher.\n",
        "\n",
        "\n",
        "TEACHER\n",
        "  All right. Let's get started. I'm sharing the link to the Colab notebook \n",
        "  for this class with you. Open it up.\n",
        "\n",
        "  Note:\n",
        "    - Share the duplicate copy of the notebook that you just created with \n",
        "      the student through the chat window.\n",
        "    \n",
        "EXPECTED STUDENT RESPONSE\n",
        "  The student opens the Colab notebook.\n",
        "```"
      ]
    },
    {
      "cell_type": "markdown",
      "metadata": {
        "id": "vaZnq-qZrN75"
      },
      "source": [
        "---"
      ]
    },
    {
      "cell_type": "markdown",
      "metadata": {
        "id": "dmruqgPqb9BH"
      },
      "source": [
        "### Teacher-Student Activities\n",
        "\n",
        "In the previous classes, we learnt how to create a cartogram. In this class, we will learn how to create a count plot.\n",
        "\n",
        "A count plot is simply a type of bar graph which presents the number of occurrences of a value in a visual format. It helps in visualising the variation of values for a particular feature. For e.g., if you want to see graphically whether the number of meteorites falling over the years increasing or decreasing year-on-year basis, then you can chose to create a count plot. They are very easy to create. Let's get create a few count plots to get a better understanding.\n",
        "\n",
        "Let's quickly rush through the activities we covered in the previous class and begin this class from **Activity 1: Count Plots** section.\n",
        "\n"
      ]
    },
    {
      "cell_type": "markdown",
      "metadata": {
        "id": "0btx_ehOLDK5"
      },
      "source": [
        "---"
      ]
    },
    {
      "cell_type": "markdown",
      "metadata": {
        "id": "DoShzic97iBl"
      },
      "source": [
        "#### Recap\n",
        "\n",
        "Dataset Link (don't click on it):\n",
        "\n",
        "https://student-datasets-bucket.s3.ap-south-1.amazonaws.com/whitehat-ds-datasets/meteorite-landings/meteorite-landings.csv\n"
      ]
    },
    {
      "cell_type": "code",
      "metadata": {
        "id": "ThLLbqIzUd9f",
        "colab": {
          "base_uri": "https://localhost:8080/",
          "height": 136
        },
        "outputId": "6390f79f-bf30-4e76-c2ba-20e6cf38da46"
      },
      "source": [
        "# Below are the activities that have been covered in the previous class.\n",
        "# 1. Import the necessary libraries for this class and create a DataFrame.\n",
        "import numpy as np\n",
        "import pandas as pd\n",
        "import matplotlib.pyplot as plt\n",
        "\n",
        "met_df = pd.read_csv('https://student-datasets-bucket.s3.ap-south-1.amazonaws.com/whitehat-ds-datasets/meteorite-landings/meteorite-landings.csv')\n",
        "\n",
        "# 2. Find the number of rows and columns in the DataFrame. \n",
        "print(met_df.shape)\n",
        "\n",
        "# 3. Rows containing the year values less than 860 and greater than 2016.\n",
        "correct_years_df = met_df[(met_df['year'] >= 860) & (met_df['year'] <= 2016)]\n",
        "\n",
        "# 4. Rows having the 'reclong' values greater than or equal to -180 degrees and less than or equal to 180 degrees.\n",
        "correct_long_df = correct_years_df[(correct_years_df['reclong'] >= -180) & (correct_years_df['reclong'] <= 180)]\n",
        "\n",
        "# 5. Rows containing the '0 reclat' and '0 reclong' values from the 'correct_long_df'.\n",
        "correct_lat_long_df = correct_long_df[~((correct_long_df['reclat'] == 0 ) & (correct_long_df['reclong'] == 0))]\n",
        "\n",
        "# 6. Indices of the rows having missing mass values.\n",
        "row_indices = correct_lat_long_df[correct_lat_long_df['mass'].isnull() == True].index\n",
        "\n",
        "# 7. Missing values in the 'mass' column in the 'correct_lat_long_df' DataFrame with median of mass.\n",
        "median_mass = correct_lat_long_df['mass'].median()\n",
        "correct_lat_long_df.loc[row_indices, 'mass'] = median_mass\n",
        "\n",
        "# 8. Convert the 'year' values into an integer type values.\n",
        "correct_lat_long_df.loc[:, 'year'] = correct_lat_long_df.loc[:, 'year'].astype('int')"
      ],
      "execution_count": null,
      "outputs": [
        {
          "output_type": "stream",
          "text": [
            "(45716, 10)\n"
          ],
          "name": "stdout"
        },
        {
          "output_type": "stream",
          "text": [
            "/usr/local/lib/python3.6/dist-packages/pandas/core/indexing.py:966: SettingWithCopyWarning: \n",
            "A value is trying to be set on a copy of a slice from a DataFrame.\n",
            "Try using .loc[row_indexer,col_indexer] = value instead\n",
            "\n",
            "See the caveats in the documentation: https://pandas.pydata.org/pandas-docs/stable/user_guide/indexing.html#returning-a-view-versus-a-copy\n",
            "  self.obj[item] = s\n"
          ],
          "name": "stderr"
        }
      ]
    },
    {
      "cell_type": "markdown",
      "metadata": {
        "id": "mAHPBr8hmtGf"
      },
      "source": [
        "---"
      ]
    },
    {
      "cell_type": "markdown",
      "metadata": {
        "id": "3r0iIXWObH1T"
      },
      "source": [
        "#### Activity 1: Count Plots^\n",
        "\n",
        "Now let's make a count plot for all the years after 1990 to see the variation in the number of meteorites observed over the years. For this, we need to create a DataFrame for all the meteorites observed (`Fell` & `Found`) after 1990."
      ]
    },
    {
      "cell_type": "code",
      "metadata": {
        "id": "8xrcfG81zHUQ",
        "colab": {
          "base_uri": "https://localhost:8080/",
          "height": 419
        },
        "outputId": "5652e2ef-16dc-48ba-dcc1-cabb9876a05f"
      },
      "source": [
        "# Student Action: Create a DataFrame called 'met_after_1990_df' and store data for the meteorites discovered after 1990.\n",
        "met_after_1990_df = correct_lat_long_df[correct_lat_long_df['year'] > 1990]\n",
        "met_after_1990_df"
      ],
      "execution_count": null,
      "outputs": [
        {
          "output_type": "execute_result",
          "data": {
            "text/html": [
              "<div>\n",
              "<style scoped>\n",
              "    .dataframe tbody tr th:only-of-type {\n",
              "        vertical-align: middle;\n",
              "    }\n",
              "\n",
              "    .dataframe tbody tr th {\n",
              "        vertical-align: top;\n",
              "    }\n",
              "\n",
              "    .dataframe thead th {\n",
              "        text-align: right;\n",
              "    }\n",
              "</style>\n",
              "<table border=\"1\" class=\"dataframe\">\n",
              "  <thead>\n",
              "    <tr style=\"text-align: right;\">\n",
              "      <th></th>\n",
              "      <th>name</th>\n",
              "      <th>id</th>\n",
              "      <th>nametype</th>\n",
              "      <th>recclass</th>\n",
              "      <th>mass</th>\n",
              "      <th>fall</th>\n",
              "      <th>year</th>\n",
              "      <th>reclat</th>\n",
              "      <th>reclong</th>\n",
              "      <th>GeoLocation</th>\n",
              "    </tr>\n",
              "  </thead>\n",
              "  <tbody>\n",
              "    <tr>\n",
              "      <th>18</th>\n",
              "      <td>Al Zarnkh</td>\n",
              "      <td>447</td>\n",
              "      <td>Valid</td>\n",
              "      <td>LL5</td>\n",
              "      <td>700.0</td>\n",
              "      <td>Fell</td>\n",
              "      <td>2001</td>\n",
              "      <td>13.66033</td>\n",
              "      <td>28.96000</td>\n",
              "      <td>(13.660330, 28.960000)</td>\n",
              "    </tr>\n",
              "    <tr>\n",
              "      <th>22</th>\n",
              "      <td>Alby sur Chéran</td>\n",
              "      <td>458</td>\n",
              "      <td>Valid</td>\n",
              "      <td>Eucrite-mmict</td>\n",
              "      <td>252.0</td>\n",
              "      <td>Fell</td>\n",
              "      <td>2002</td>\n",
              "      <td>45.82133</td>\n",
              "      <td>6.01533</td>\n",
              "      <td>(45.821330, 6.015330)</td>\n",
              "    </tr>\n",
              "    <tr>\n",
              "      <th>30</th>\n",
              "      <td>Almahata Sitta</td>\n",
              "      <td>48915</td>\n",
              "      <td>Valid</td>\n",
              "      <td>Ureilite-an</td>\n",
              "      <td>3950.0</td>\n",
              "      <td>Fell</td>\n",
              "      <td>2008</td>\n",
              "      <td>20.74575</td>\n",
              "      <td>32.41275</td>\n",
              "      <td>(20.745750, 32.412750)</td>\n",
              "    </tr>\n",
              "    <tr>\n",
              "      <th>49</th>\n",
              "      <td>Ash Creek</td>\n",
              "      <td>48954</td>\n",
              "      <td>Valid</td>\n",
              "      <td>L6</td>\n",
              "      <td>9500.0</td>\n",
              "      <td>Fell</td>\n",
              "      <td>2009</td>\n",
              "      <td>31.80500</td>\n",
              "      <td>-97.01000</td>\n",
              "      <td>(31.805000, -97.010000)</td>\n",
              "    </tr>\n",
              "    <tr>\n",
              "      <th>70</th>\n",
              "      <td>Ban Rong Du</td>\n",
              "      <td>4934</td>\n",
              "      <td>Valid</td>\n",
              "      <td>Iron, ungrouped</td>\n",
              "      <td>16700.0</td>\n",
              "      <td>Fell</td>\n",
              "      <td>1993</td>\n",
              "      <td>16.66667</td>\n",
              "      <td>101.18333</td>\n",
              "      <td>(16.666670, 101.183330)</td>\n",
              "    </tr>\n",
              "    <tr>\n",
              "      <th>...</th>\n",
              "      <td>...</td>\n",
              "      <td>...</td>\n",
              "      <td>...</td>\n",
              "      <td>...</td>\n",
              "      <td>...</td>\n",
              "      <td>...</td>\n",
              "      <td>...</td>\n",
              "      <td>...</td>\n",
              "      <td>...</td>\n",
              "      <td>...</td>\n",
              "    </tr>\n",
              "    <tr>\n",
              "      <th>45697</th>\n",
              "      <td>Zapaliname</td>\n",
              "      <td>30392</td>\n",
              "      <td>Valid</td>\n",
              "      <td>Iron, IAB-MG</td>\n",
              "      <td>85000.0</td>\n",
              "      <td>Found</td>\n",
              "      <td>1998</td>\n",
              "      <td>25.00944</td>\n",
              "      <td>-100.75000</td>\n",
              "      <td>(25.009440, -100.750000)</td>\n",
              "    </tr>\n",
              "    <tr>\n",
              "      <th>45701</th>\n",
              "      <td>Zegdou</td>\n",
              "      <td>30398</td>\n",
              "      <td>Valid</td>\n",
              "      <td>H3</td>\n",
              "      <td>6700.0</td>\n",
              "      <td>Found</td>\n",
              "      <td>1998</td>\n",
              "      <td>29.75000</td>\n",
              "      <td>-4.50000</td>\n",
              "      <td>(29.750000, -4.500000)</td>\n",
              "    </tr>\n",
              "    <tr>\n",
              "      <th>45702</th>\n",
              "      <td>Zelfana</td>\n",
              "      <td>31353</td>\n",
              "      <td>Valid</td>\n",
              "      <td>L5</td>\n",
              "      <td>1058.0</td>\n",
              "      <td>Found</td>\n",
              "      <td>2002</td>\n",
              "      <td>32.15833</td>\n",
              "      <td>4.63333</td>\n",
              "      <td>(32.158330, 4.633330)</td>\n",
              "    </tr>\n",
              "    <tr>\n",
              "      <th>45712</th>\n",
              "      <td>Zinder</td>\n",
              "      <td>30409</td>\n",
              "      <td>Valid</td>\n",
              "      <td>Pallasite, ungrouped</td>\n",
              "      <td>46.0</td>\n",
              "      <td>Found</td>\n",
              "      <td>1999</td>\n",
              "      <td>13.78333</td>\n",
              "      <td>8.96667</td>\n",
              "      <td>(13.783330, 8.966670)</td>\n",
              "    </tr>\n",
              "    <tr>\n",
              "      <th>45714</th>\n",
              "      <td>Zubkovsky</td>\n",
              "      <td>31357</td>\n",
              "      <td>Valid</td>\n",
              "      <td>L6</td>\n",
              "      <td>2167.0</td>\n",
              "      <td>Found</td>\n",
              "      <td>2003</td>\n",
              "      <td>49.78917</td>\n",
              "      <td>41.50460</td>\n",
              "      <td>(49.789170, 41.504600)</td>\n",
              "    </tr>\n",
              "  </tbody>\n",
              "</table>\n",
              "<p>16503 rows × 10 columns</p>\n",
              "</div>"
            ],
            "text/plain": [
              "                  name     id  ...    reclong               GeoLocation\n",
              "18           Al Zarnkh    447  ...   28.96000    (13.660330, 28.960000)\n",
              "22     Alby sur Chéran    458  ...    6.01533     (45.821330, 6.015330)\n",
              "30      Almahata Sitta  48915  ...   32.41275    (20.745750, 32.412750)\n",
              "49           Ash Creek  48954  ...  -97.01000   (31.805000, -97.010000)\n",
              "70         Ban Rong Du   4934  ...  101.18333   (16.666670, 101.183330)\n",
              "...                ...    ...  ...        ...                       ...\n",
              "45697       Zapaliname  30392  ... -100.75000  (25.009440, -100.750000)\n",
              "45701           Zegdou  30398  ...   -4.50000    (29.750000, -4.500000)\n",
              "45702          Zelfana  31353  ...    4.63333     (32.158330, 4.633330)\n",
              "45712           Zinder  30409  ...    8.96667     (13.783330, 8.966670)\n",
              "45714        Zubkovsky  31357  ...   41.50460    (49.789170, 41.504600)\n",
              "\n",
              "[16503 rows x 10 columns]"
            ]
          },
          "metadata": {
            "tags": []
          },
          "execution_count": 2
        }
      ]
    },
    {
      "cell_type": "markdown",
      "metadata": {
        "id": "KAQp_L1CjeLx"
      },
      "source": [
        "So there are 16,503 meteorites which were observed (`Fell & Found`) after 1990. Now, let's create a count plot for this DataFrame.\n",
        "\n",
        "To create a count plot, we will use the `countplot()` function which exists in the `seaborn` module. It takes two inputs. The first input is the axis on which the values to be plotted and the second input is the source of the data, i.e., the DataFrame containing those values. Here, we will plot the `year` values on the x-axis."
      ]
    },
    {
      "cell_type": "code",
      "metadata": {
        "id": "oh4MLbOlnTMh",
        "colab": {
          "base_uri": "https://localhost:8080/",
          "height": 442
        },
        "outputId": "b81762c1-42fb-4e84-a841-4393e46205b6"
      },
      "source": [
        "# Teacher Action: Create a count plot for the 'year' values in the 'met_after_1990_df' DataFrame on the x-axis.\n",
        "import seaborn as sns\n",
        "plt.figure(figsize=(21, 7))\n",
        "sns.countplot(x='year', data=met_after_1990_df)\n",
        "plt.grid() # The 'grid()' function creates grid lines on a graph. It exists in the 'matplotlib.pyplot' module.\n",
        "plt.show()"
      ],
      "execution_count": null,
      "outputs": [
        {
          "output_type": "display_data",
          "data": {
            "image/png": "[encoded data removed]",
            "text/plain": [
              "<Figure size 1512x504 with 1 Axes>"
            ]
          },
          "metadata": {
            "tags": []
          }
        }
      ]
    },
    {
      "cell_type": "markdown",
      "metadata": {
        "id": "3fEuTskhHorV"
      },
      "source": [
        "So according to the above count plot, after the years 1990 (exclusive), the number of meteorites falling have been increasing and decreasing non-periodically. In other words, there appears no fixed pattern in the number of the falls of meteorites.\n",
        "\n",
        "Most number of meteorites were observed in the year 2003. Thereafter, the number of meteorites observed dropped.\n"
      ]
    },
    {
      "cell_type": "markdown",
      "metadata": {
        "id": "cpSdOH16Jpje"
      },
      "source": [
        "---"
      ]
    },
    {
      "cell_type": "markdown",
      "metadata": {
        "id": "7b0JB6nFJqpd"
      },
      "source": [
        "#### Activity 2: Horizontal Bars In Count Plot^^\n",
        "\n",
        "We can also change the orientation of a count plot by plotting it horizontally. In other words, we can plot the year values on the y-axis by replacing `x` with `y` in the `countplot()` function."
      ]
    },
    {
      "cell_type": "code",
      "metadata": {
        "id": "2Ijct6UbHrGp",
        "colab": {
          "base_uri": "https://localhost:8080/",
          "height": 606
        },
        "outputId": "ad1a30c0-1190-49ae-84ee-d90f6a7d33e7"
      },
      "source": [
        "# Teacher Action: Create a count plot for the 'year' values in the 'met_after_1990_df' DataFrame on the y-axis.\n",
        "plt.figure(figsize=(15, 10))\n",
        "sns.countplot(y='year', data=met_after_1990_df)\n",
        "plt.grid()\n",
        "plt.show()"
      ],
      "execution_count": null,
      "outputs": [
        {
          "output_type": "display_data",
          "data": {
            "image/png": "[encoded data removed]",
            "text/plain": [
              "<Figure size 1080x720 with 1 Axes>"
            ]
          },
          "metadata": {
            "tags": []
          }
        }
      ]
    },
    {
      "cell_type": "markdown",
      "metadata": {
        "id": "JrloPA7pdipQ"
      },
      "source": [
        "As you can see, we have printed the `year` count values on the y-axis. It is entirely up to you to choose the axis. "
      ]
    },
    {
      "cell_type": "markdown",
      "metadata": {
        "id": "RHTNly1bKIx0"
      },
      "source": [
        "---"
      ]
    },
    {
      "cell_type": "markdown",
      "metadata": {
        "id": "o_18gDTaKKZS"
      },
      "source": [
        "#### Activity 3: The `hue` Parameter^^^\n",
        "\n",
        "We can split the count bars based on a category in a count plot. For e.g., \n",
        "we can split the count bars to show \n",
        "\n",
        "- the number of meteorites that fell but were not found in a year and \n",
        "\n",
        "- the number of meteorites that fell and were found in a year\n",
        "\n",
        "To split the count bars based on a category, use the `hue` parameter. "
      ]
    },
    {
      "cell_type": "code",
      "metadata": {
        "id": "QRvsOumaK0_Q",
        "colab": {
          "base_uri": "https://localhost:8080/",
          "height": 442
        },
        "outputId": "b1021169-9362-4d7c-9e7c-10e140a8edd1"
      },
      "source": [
        "# Student Action: Split the count bar for each meteorite counts for a year into the 'Fell' bar and the 'Found' bar.\n",
        "plt.figure(figsize=(21, 7))\n",
        "sns.countplot(x='year', data=met_after_1990_df, hue='fall')\n",
        "plt.show()"
      ],
      "execution_count": null,
      "outputs": [
        {
          "output_type": "display_data",
          "data": {
            "image/png": "[encoded data removed]",
            "text/plain": [
              "<Figure size 1512x504 with 1 Axes>"
            ]
          },
          "metadata": {
            "tags": []
          }
        }
      ]
    },
    {
      "cell_type": "markdown",
      "metadata": {
        "id": "hiNqngPBLQLV"
      },
      "source": [
        "As you can see, we have divided the count bars into the count of `Fell` and the count of `Found` bars for a year. The blue coloured bars represent the count of the meteorites which fell but not found in a year whereas the orange coloured bars represent the count of the meteorites which fell but were found in a year. The `Fell` values are very low in comparison to the `Found` values. Hence, the blue coloured bars are very short compared to the orange coloured bars.\n",
        "\n",
        "Similarly, we can also divide the count bars based on the `nametype` category."
      ]
    },
    {
      "cell_type": "code",
      "metadata": {
        "id": "2nQMeED1MLzo",
        "colab": {
          "base_uri": "https://localhost:8080/",
          "height": 442
        },
        "outputId": "3643d9e8-c993-4a62-f4e9-a44c6a4dfc56"
      },
      "source": [
        "# Student Action: Split the count bar for each meteorite counts for a year into the 'Valid' bar and the 'Relict' bar.\n",
        "plt.figure(figsize=(21, 7))\n",
        "sns.countplot(x='year', data=met_after_1990_df, hue='nametype')\n",
        "plt.show()"
      ],
      "execution_count": null,
      "outputs": [
        {
          "output_type": "display_data",
          "data": {
            "image/png": "[encoded data removed]",
            "text/plain": [
              "<Figure size 1512x504 with 1 Axes>"
            ]
          },
          "metadata": {
            "tags": []
          }
        }
      ]
    },
    {
      "cell_type": "markdown",
      "metadata": {
        "id": "0a2oGbdKP88t"
      },
      "source": [
        "As you can see, we have divided the count bars into the count of `Valid` and the count of `Relict` bars for a year. The blue coloured bars represent the count of the meteorites that were found in a good condition in a year whereas the orange coloured bars represent the count of the meteorites that were found in a withered condition in a year. The `Relict` values are very low in comparison to the `Valid` values. Hence, the orange coloured bars are very short compared to the blue coloured bars.\n",
        "\n",
        "Now, let's create a count plot for the meteorites observed between the years 1961 and 1990 (both inclusive)."
      ]
    },
    {
      "cell_type": "code",
      "metadata": {
        "id": "nyG--LJ76jB3",
        "colab": {
          "base_uri": "https://localhost:8080/",
          "height": 419
        },
        "outputId": "fd50c551-02bb-4d37-f564-56a6eb0fc583"
      },
      "source": [
        "# Student Action: Create a DataFrame for the years between 1961 and 1990.\n",
        "met_1961_1990_df = correct_lat_long_df[(correct_lat_long_df['year'] > 1960) & (correct_lat_long_df['year'] < 1991)]\n",
        "met_1961_1990_df"
      ],
      "execution_count": null,
      "outputs": [
        {
          "output_type": "execute_result",
          "data": {
            "text/html": [
              "<div>\n",
              "<style scoped>\n",
              "    .dataframe tbody tr th:only-of-type {\n",
              "        vertical-align: middle;\n",
              "    }\n",
              "\n",
              "    .dataframe tbody tr th {\n",
              "        vertical-align: top;\n",
              "    }\n",
              "\n",
              "    .dataframe thead th {\n",
              "        text-align: right;\n",
              "    }\n",
              "</style>\n",
              "<table border=\"1\" class=\"dataframe\">\n",
              "  <thead>\n",
              "    <tr style=\"text-align: right;\">\n",
              "      <th></th>\n",
              "      <th>name</th>\n",
              "      <th>id</th>\n",
              "      <th>nametype</th>\n",
              "      <th>recclass</th>\n",
              "      <th>mass</th>\n",
              "      <th>fall</th>\n",
              "      <th>year</th>\n",
              "      <th>reclat</th>\n",
              "      <th>reclong</th>\n",
              "      <th>GeoLocation</th>\n",
              "    </tr>\n",
              "  </thead>\n",
              "  <tbody>\n",
              "    <tr>\n",
              "      <th>3</th>\n",
              "      <td>Acapulco</td>\n",
              "      <td>10</td>\n",
              "      <td>Valid</td>\n",
              "      <td>Acapulcoite</td>\n",
              "      <td>1914.0</td>\n",
              "      <td>Fell</td>\n",
              "      <td>1976</td>\n",
              "      <td>16.88333</td>\n",
              "      <td>-99.90000</td>\n",
              "      <td>(16.883330, -99.900000)</td>\n",
              "    </tr>\n",
              "    <tr>\n",
              "      <th>10</th>\n",
              "      <td>Aioun el Atrouss</td>\n",
              "      <td>423</td>\n",
              "      <td>Valid</td>\n",
              "      <td>Diogenite-pm</td>\n",
              "      <td>1000.0</td>\n",
              "      <td>Fell</td>\n",
              "      <td>1974</td>\n",
              "      <td>16.39806</td>\n",
              "      <td>-9.57028</td>\n",
              "      <td>(16.398060, -9.570280)</td>\n",
              "    </tr>\n",
              "    <tr>\n",
              "      <th>16</th>\n",
              "      <td>Akyumak</td>\n",
              "      <td>433</td>\n",
              "      <td>Valid</td>\n",
              "      <td>Iron, IVA</td>\n",
              "      <td>50000.0</td>\n",
              "      <td>Fell</td>\n",
              "      <td>1981</td>\n",
              "      <td>39.91667</td>\n",
              "      <td>42.81667</td>\n",
              "      <td>(39.916670, 42.816670)</td>\n",
              "    </tr>\n",
              "    <tr>\n",
              "      <th>29</th>\n",
              "      <td>Allende</td>\n",
              "      <td>2278</td>\n",
              "      <td>Valid</td>\n",
              "      <td>CV3</td>\n",
              "      <td>2000000.0</td>\n",
              "      <td>Fell</td>\n",
              "      <td>1969</td>\n",
              "      <td>26.96667</td>\n",
              "      <td>-105.31667</td>\n",
              "      <td>(26.966670, -105.316670)</td>\n",
              "    </tr>\n",
              "    <tr>\n",
              "      <th>31</th>\n",
              "      <td>Alta'ameem</td>\n",
              "      <td>2284</td>\n",
              "      <td>Valid</td>\n",
              "      <td>LL5</td>\n",
              "      <td>6000.0</td>\n",
              "      <td>Fell</td>\n",
              "      <td>1977</td>\n",
              "      <td>35.27333</td>\n",
              "      <td>44.21556</td>\n",
              "      <td>(35.273330, 44.215560)</td>\n",
              "    </tr>\n",
              "    <tr>\n",
              "      <th>...</th>\n",
              "      <td>...</td>\n",
              "      <td>...</td>\n",
              "      <td>...</td>\n",
              "      <td>...</td>\n",
              "      <td>...</td>\n",
              "      <td>...</td>\n",
              "      <td>...</td>\n",
              "      <td>...</td>\n",
              "      <td>...</td>\n",
              "      <td>...</td>\n",
              "    </tr>\n",
              "    <tr>\n",
              "      <th>45708</th>\n",
              "      <td>Zhigansk</td>\n",
              "      <td>30405</td>\n",
              "      <td>Valid</td>\n",
              "      <td>Iron, IIIAB</td>\n",
              "      <td>900000.0</td>\n",
              "      <td>Found</td>\n",
              "      <td>1966</td>\n",
              "      <td>68.00000</td>\n",
              "      <td>128.30000</td>\n",
              "      <td>(68.000000, 128.300000)</td>\n",
              "    </tr>\n",
              "    <tr>\n",
              "      <th>45709</th>\n",
              "      <td>Zhongxiang</td>\n",
              "      <td>30406</td>\n",
              "      <td>Valid</td>\n",
              "      <td>Iron</td>\n",
              "      <td>100000.0</td>\n",
              "      <td>Found</td>\n",
              "      <td>1981</td>\n",
              "      <td>31.20000</td>\n",
              "      <td>112.50000</td>\n",
              "      <td>(31.200000, 112.500000)</td>\n",
              "    </tr>\n",
              "    <tr>\n",
              "      <th>45710</th>\n",
              "      <td>Zillah 001</td>\n",
              "      <td>31355</td>\n",
              "      <td>Valid</td>\n",
              "      <td>L6</td>\n",
              "      <td>1475.0</td>\n",
              "      <td>Found</td>\n",
              "      <td>1990</td>\n",
              "      <td>29.03700</td>\n",
              "      <td>17.01850</td>\n",
              "      <td>(29.037000, 17.018500)</td>\n",
              "    </tr>\n",
              "    <tr>\n",
              "      <th>45711</th>\n",
              "      <td>Zillah 002</td>\n",
              "      <td>31356</td>\n",
              "      <td>Valid</td>\n",
              "      <td>Eucrite</td>\n",
              "      <td>172.0</td>\n",
              "      <td>Found</td>\n",
              "      <td>1990</td>\n",
              "      <td>29.03700</td>\n",
              "      <td>17.01850</td>\n",
              "      <td>(29.037000, 17.018500)</td>\n",
              "    </tr>\n",
              "    <tr>\n",
              "      <th>45715</th>\n",
              "      <td>Zulu Queen</td>\n",
              "      <td>30414</td>\n",
              "      <td>Valid</td>\n",
              "      <td>L3.7</td>\n",
              "      <td>200.0</td>\n",
              "      <td>Found</td>\n",
              "      <td>1976</td>\n",
              "      <td>33.98333</td>\n",
              "      <td>-115.68333</td>\n",
              "      <td>(33.983330, -115.683330)</td>\n",
              "    </tr>\n",
              "  </tbody>\n",
              "</table>\n",
              "<p>13631 rows × 10 columns</p>\n",
              "</div>"
            ],
            "text/plain": [
              "                   name     id  ...    reclong               GeoLocation\n",
              "3              Acapulco     10  ...  -99.90000   (16.883330, -99.900000)\n",
              "10     Aioun el Atrouss    423  ...   -9.57028    (16.398060, -9.570280)\n",
              "16              Akyumak    433  ...   42.81667    (39.916670, 42.816670)\n",
              "29              Allende   2278  ... -105.31667  (26.966670, -105.316670)\n",
              "31           Alta'ameem   2284  ...   44.21556    (35.273330, 44.215560)\n",
              "...                 ...    ...  ...        ...                       ...\n",
              "45708          Zhigansk  30405  ...  128.30000   (68.000000, 128.300000)\n",
              "45709        Zhongxiang  30406  ...  112.50000   (31.200000, 112.500000)\n",
              "45710        Zillah 001  31355  ...   17.01850    (29.037000, 17.018500)\n",
              "45711        Zillah 002  31356  ...   17.01850    (29.037000, 17.018500)\n",
              "45715        Zulu Queen  30414  ... -115.68333  (33.983330, -115.683330)\n",
              "\n",
              "[13631 rows x 10 columns]"
            ]
          },
          "metadata": {
            "tags": []
          },
          "execution_count": 9
        }
      ]
    },
    {
      "cell_type": "markdown",
      "metadata": {
        "id": "ow1-HuJs-qt5"
      },
      "source": [
        "So, there are 13,631 meteorites which were observed between 1961 and 1990 (both inclusive). Let's create a count plot for these years."
      ]
    },
    {
      "cell_type": "code",
      "metadata": {
        "id": "SJghlcWs-j-b",
        "colab": {
          "base_uri": "https://localhost:8080/",
          "height": 442
        },
        "outputId": "ad1e7404-e6a4-4b62-87fd-450a837bde44"
      },
      "source": [
        "# Student Action: Create a count plot for the 'year' column in the 'met_1961_1990_df' DataFrame.\n",
        "plt.figure(figsize=(21, 7))\n",
        "sns.countplot(x='year', data=met_1961_1990_df)\n",
        "plt.grid()\n",
        "plt.show()"
      ],
      "execution_count": null,
      "outputs": [
        {
          "output_type": "display_data",
          "data": {
            "image/png": "[encoded data removed]",
            "text/plain": [
              "<Figure size 1512x504 with 1 Axes>"
            ]
          },
          "metadata": {
            "tags": []
          }
        }
      ]
    },
    {
      "cell_type": "markdown",
      "metadata": {
        "id": "rE751EBBbQU1"
      },
      "source": [
        "As you can see, the number of meteorites fallen on Earth started increasing since 1974. Before 1974, the number of meteorites fallen were consistently less than 500. This could also possibly mean that till 1974, we did not had the capacity (or technology) to precisely monitor the fall of the meteorites.\n",
        "\n",
        "The most number of meteorites were observed in the year 1979. Now, let's split the count bar for each year into two count bars based on the `fall` category.\n",
        "\n"
      ]
    },
    {
      "cell_type": "code",
      "metadata": {
        "id": "uT8ZRe2dQtr3",
        "colab": {
          "base_uri": "https://localhost:8080/",
          "height": 442
        },
        "outputId": "91d79adc-e263-4ec4-bc51-60e34de98092"
      },
      "source": [
        "# Student Action: Create a count plot for the 'year' column in the 'met_1961_1990_df' DataFrame with 'fall' as the hue parameter.\n",
        "plt.figure(figsize=(21, 7))\n",
        "sns.countplot(x='year', data=met_1961_1990_df, hue='fall')\n",
        "plt.show()"
      ],
      "execution_count": null,
      "outputs": [
        {
          "output_type": "display_data",
          "data": {
            "image/png": "[encoded data removed]",
            "text/plain": [
              "<Figure size 1512x504 with 1 Axes>"
            ]
          },
          "metadata": {
            "tags": []
          }
        }
      ]
    },
    {
      "cell_type": "markdown",
      "metadata": {
        "id": "tl3hZDQFRau3"
      },
      "source": [
        "Again, the `Found` meteorites are large in numbers for each year.\n",
        "\n",
        "Now, let's split the count bars into two count bars based on the `nametype` category.\n"
      ]
    },
    {
      "cell_type": "code",
      "metadata": {
        "id": "wrGI7KimRdsh",
        "colab": {
          "base_uri": "https://localhost:8080/",
          "height": 442
        },
        "outputId": "250bb379-0040-4bed-c406-b9159d927897"
      },
      "source": [
        "# Student Action: Create a count plot for the 'year' column in the 'met_1961_1990_df' DataFrame with 'nametype' as the hue parameter.\n",
        "plt.figure(figsize=(21, 7))\n",
        "sns.countplot(x='year', data=met_1961_1990_df, hue='nametype')\n",
        "plt.show()"
      ],
      "execution_count": null,
      "outputs": [
        {
          "output_type": "display_data",
          "data": {
            "image/png": "[encoded data removed]",
            "text/plain": [
              "<Figure size 1512x504 with 1 Axes>"
            ]
          },
          "metadata": {
            "tags": []
          }
        }
      ]
    },
    {
      "cell_type": "markdown",
      "metadata": {
        "id": "yvy63gVLQwSd"
      },
      "source": [
        "Again, the `Valid` meteorites are large in numbers for each year.\n",
        "\n",
        "Let's create another count plot for the meteorites observed between the years 1921 and 1960 (both inclusive)."
      ]
    },
    {
      "cell_type": "code",
      "metadata": {
        "id": "d6oMieCYbc33",
        "colab": {
          "base_uri": "https://localhost:8080/",
          "height": 419
        },
        "outputId": "b3c81721-da7d-4050-c5f1-c3eb9f3aa842"
      },
      "source": [
        "# Student Action: Create a DataFrame for the years between 1921 to 1960 (both inclusive).\n",
        "met_1921_1960_df = correct_lat_long_df[(correct_lat_long_df['year'] >= 1921) & (correct_lat_long_df['year'] <= 1960)]\n",
        "met_1921_1960_df"
      ],
      "execution_count": null,
      "outputs": [
        {
          "output_type": "execute_result",
          "data": {
            "text/html": [
              "<div>\n",
              "<style scoped>\n",
              "    .dataframe tbody tr th:only-of-type {\n",
              "        vertical-align: middle;\n",
              "    }\n",
              "\n",
              "    .dataframe tbody tr th {\n",
              "        vertical-align: top;\n",
              "    }\n",
              "\n",
              "    .dataframe thead th {\n",
              "        text-align: right;\n",
              "    }\n",
              "</style>\n",
              "<table border=\"1\" class=\"dataframe\">\n",
              "  <thead>\n",
              "    <tr style=\"text-align: right;\">\n",
              "      <th></th>\n",
              "      <th>name</th>\n",
              "      <th>id</th>\n",
              "      <th>nametype</th>\n",
              "      <th>recclass</th>\n",
              "      <th>mass</th>\n",
              "      <th>fall</th>\n",
              "      <th>year</th>\n",
              "      <th>reclat</th>\n",
              "      <th>reclong</th>\n",
              "      <th>GeoLocation</th>\n",
              "    </tr>\n",
              "  </thead>\n",
              "  <tbody>\n",
              "    <tr>\n",
              "      <th>1</th>\n",
              "      <td>Aarhus</td>\n",
              "      <td>2</td>\n",
              "      <td>Valid</td>\n",
              "      <td>H6</td>\n",
              "      <td>720.0</td>\n",
              "      <td>Fell</td>\n",
              "      <td>1951</td>\n",
              "      <td>56.18333</td>\n",
              "      <td>10.23333</td>\n",
              "      <td>(56.183330, 10.233330)</td>\n",
              "    </tr>\n",
              "    <tr>\n",
              "      <th>2</th>\n",
              "      <td>Abee</td>\n",
              "      <td>6</td>\n",
              "      <td>Valid</td>\n",
              "      <td>EH4</td>\n",
              "      <td>107000.0</td>\n",
              "      <td>Fell</td>\n",
              "      <td>1952</td>\n",
              "      <td>54.21667</td>\n",
              "      <td>-113.00000</td>\n",
              "      <td>(54.216670, -113.000000)</td>\n",
              "    </tr>\n",
              "    <tr>\n",
              "      <th>6</th>\n",
              "      <td>Adzhi-Bogdo (stone)</td>\n",
              "      <td>390</td>\n",
              "      <td>Valid</td>\n",
              "      <td>LL3-6</td>\n",
              "      <td>910.0</td>\n",
              "      <td>Fell</td>\n",
              "      <td>1949</td>\n",
              "      <td>44.83333</td>\n",
              "      <td>95.16667</td>\n",
              "      <td>(44.833330, 95.166670)</td>\n",
              "    </tr>\n",
              "    <tr>\n",
              "      <th>8</th>\n",
              "      <td>Aguada</td>\n",
              "      <td>398</td>\n",
              "      <td>Valid</td>\n",
              "      <td>L6</td>\n",
              "      <td>1620.0</td>\n",
              "      <td>Fell</td>\n",
              "      <td>1930</td>\n",
              "      <td>-31.60000</td>\n",
              "      <td>-65.23333</td>\n",
              "      <td>(-31.600000, -65.233330)</td>\n",
              "    </tr>\n",
              "    <tr>\n",
              "      <th>11</th>\n",
              "      <td>Aïr</td>\n",
              "      <td>424</td>\n",
              "      <td>Valid</td>\n",
              "      <td>L6</td>\n",
              "      <td>24000.0</td>\n",
              "      <td>Fell</td>\n",
              "      <td>1925</td>\n",
              "      <td>19.08333</td>\n",
              "      <td>8.38333</td>\n",
              "      <td>(19.083330, 8.383330)</td>\n",
              "    </tr>\n",
              "    <tr>\n",
              "      <th>...</th>\n",
              "      <td>...</td>\n",
              "      <td>...</td>\n",
              "      <td>...</td>\n",
              "      <td>...</td>\n",
              "      <td>...</td>\n",
              "      <td>...</td>\n",
              "      <td>...</td>\n",
              "      <td>...</td>\n",
              "      <td>...</td>\n",
              "      <td>...</td>\n",
              "    </tr>\n",
              "    <tr>\n",
              "      <th>45690</th>\n",
              "      <td>Yudoma</td>\n",
              "      <td>30376</td>\n",
              "      <td>Valid</td>\n",
              "      <td>Iron, IVA</td>\n",
              "      <td>7600.0</td>\n",
              "      <td>Found</td>\n",
              "      <td>1946</td>\n",
              "      <td>60.00000</td>\n",
              "      <td>140.00000</td>\n",
              "      <td>(60.000000, 140.000000)</td>\n",
              "    </tr>\n",
              "    <tr>\n",
              "      <th>45698</th>\n",
              "      <td>Zapata County</td>\n",
              "      <td>30393</td>\n",
              "      <td>Valid</td>\n",
              "      <td>Iron</td>\n",
              "      <td>29.6</td>\n",
              "      <td>Found</td>\n",
              "      <td>1930</td>\n",
              "      <td>27.00000</td>\n",
              "      <td>-99.00000</td>\n",
              "      <td>(27.000000, -99.000000)</td>\n",
              "    </tr>\n",
              "    <tr>\n",
              "      <th>45703</th>\n",
              "      <td>Zenda</td>\n",
              "      <td>30400</td>\n",
              "      <td>Valid</td>\n",
              "      <td>Iron, IAB complex</td>\n",
              "      <td>3700.0</td>\n",
              "      <td>Found</td>\n",
              "      <td>1955</td>\n",
              "      <td>42.51333</td>\n",
              "      <td>-88.48944</td>\n",
              "      <td>(42.513330, -88.489440)</td>\n",
              "    </tr>\n",
              "    <tr>\n",
              "      <th>45706</th>\n",
              "      <td>Zerkaly</td>\n",
              "      <td>31354</td>\n",
              "      <td>Valid</td>\n",
              "      <td>H5</td>\n",
              "      <td>16000.0</td>\n",
              "      <td>Found</td>\n",
              "      <td>1956</td>\n",
              "      <td>52.13333</td>\n",
              "      <td>81.96667</td>\n",
              "      <td>(52.133330, 81.966670)</td>\n",
              "    </tr>\n",
              "    <tr>\n",
              "      <th>45713</th>\n",
              "      <td>Zlin</td>\n",
              "      <td>30410</td>\n",
              "      <td>Valid</td>\n",
              "      <td>H4</td>\n",
              "      <td>3.3</td>\n",
              "      <td>Found</td>\n",
              "      <td>1939</td>\n",
              "      <td>49.25000</td>\n",
              "      <td>17.66667</td>\n",
              "      <td>(49.250000, 17.666670)</td>\n",
              "    </tr>\n",
              "  </tbody>\n",
              "</table>\n",
              "<p>876 rows × 10 columns</p>\n",
              "</div>"
            ],
            "text/plain": [
              "                      name     id  ...    reclong               GeoLocation\n",
              "1                   Aarhus      2  ...   10.23333    (56.183330, 10.233330)\n",
              "2                     Abee      6  ... -113.00000  (54.216670, -113.000000)\n",
              "6      Adzhi-Bogdo (stone)    390  ...   95.16667    (44.833330, 95.166670)\n",
              "8                   Aguada    398  ...  -65.23333  (-31.600000, -65.233330)\n",
              "11                     Aïr    424  ...    8.38333     (19.083330, 8.383330)\n",
              "...                    ...    ...  ...        ...                       ...\n",
              "45690               Yudoma  30376  ...  140.00000   (60.000000, 140.000000)\n",
              "45698        Zapata County  30393  ...  -99.00000   (27.000000, -99.000000)\n",
              "45703                Zenda  30400  ...  -88.48944   (42.513330, -88.489440)\n",
              "45706              Zerkaly  31354  ...   81.96667    (52.133330, 81.966670)\n",
              "45713                 Zlin  30410  ...   17.66667    (49.250000, 17.666670)\n",
              "\n",
              "[876 rows x 10 columns]"
            ]
          },
          "metadata": {
            "tags": []
          },
          "execution_count": 13
        }
      ]
    },
    {
      "cell_type": "markdown",
      "metadata": {
        "id": "xyZ7dK-Gb8Qr"
      },
      "source": [
        "So, there are 876 meteorites which are observed during the years 1921 and 1960. Let's create a count plot for this period."
      ]
    },
    {
      "cell_type": "code",
      "metadata": {
        "id": "zHc34-XgcG6C",
        "colab": {
          "base_uri": "https://localhost:8080/",
          "height": 497
        },
        "outputId": "d45084e9-3fb3-4e4c-bc4b-f32919dbacf7"
      },
      "source": [
        "# Student Action: Create a count plot for the 'year' column in the 'met_1921_1960_df' DataFrame.\n",
        "plt.figure(figsize=(22, 8))\n",
        "sns.countplot(x='year', data=met_1921_1960_df)\n",
        "plt.grid()\n",
        "plt.show()"
      ],
      "execution_count": null,
      "outputs": [
        {
          "output_type": "display_data",
          "data": {
            "image/png": "[encoded data removed]",
            "text/plain": [
              "<Figure size 1584x576 with 1 Axes>"
            ]
          },
          "metadata": {
            "tags": []
          }
        }
      ]
    },
    {
      "cell_type": "markdown",
      "metadata": {
        "id": "vSXuVPQJOm-p"
      },
      "source": [
        "Again, there is no fixed pattern in the number of fallen meteorites between 1921 and 1960.\n",
        "\n",
        "In the period 1921 to 1960, most numbers of meteorites were observed in the year 1937 but they all are less than 100 which is not so significant compared to the meteorites observed in late 1900s and 2000s.\n",
        "\n",
        "Now, let's split the count bars into two count bars based on the `fall` category.\n"
      ]
    },
    {
      "cell_type": "code",
      "metadata": {
        "id": "gnOSBMAJRvCG",
        "colab": {
          "base_uri": "https://localhost:8080/",
          "height": 442
        },
        "outputId": "74f554ff-635b-484b-8f52-936e6c71d0f5"
      },
      "source": [
        "# Student Action: Create a count plot for the 'year' column in the 'met_1921_1960_df' DataFrame with 'fall' as the hue parameter.\n",
        "plt.figure(figsize=(21, 7))\n",
        "sns.countplot(x='year', data=met_1921_1960_df, hue='fall')\n",
        "plt.show()"
      ],
      "execution_count": null,
      "outputs": [
        {
          "output_type": "display_data",
          "data": {
            "image/png": "[encoded data removed]",
            "text/plain": [
              "<Figure size 1512x504 with 1 Axes>"
            ]
          },
          "metadata": {
            "tags": []
          }
        }
      ]
    },
    {
      "cell_type": "markdown",
      "metadata": {
        "id": "oaaqycySSFFB"
      },
      "source": [
        "Between 1921 and 1960, the difference between the number of `Fell` meteorites and `Found` meteorites for every year is not huge unlike between 1961 and 1990.\n",
        "\n",
        "Now, let's split the count bars into two count bars based on the `nametype` category.\n"
      ]
    },
    {
      "cell_type": "code",
      "metadata": {
        "id": "cdzoj14jSF2B",
        "colab": {
          "base_uri": "https://localhost:8080/",
          "height": 442
        },
        "outputId": "3f14293e-7993-4e1a-c5d5-fbf20dd3f6bf"
      },
      "source": [
        "# Student Action: Create a count plot for the 'year' column in the 'met_1921_1960_df' DataFrame with 'nametype' as the hue parameter.\n",
        "plt.figure(figsize=(21, 7))\n",
        "sns.countplot(x='year', data=met_1921_1960_df, hue='nametype')\n",
        "plt.show()"
      ],
      "execution_count": null,
      "outputs": [
        {
          "output_type": "display_data",
          "data": {
            "image/png": "[encoded data removed]",
            "text/plain": [
              "<Figure size 1512x504 with 1 Axes>"
            ]
          },
          "metadata": {
            "tags": []
          }
        }
      ]
    },
    {
      "cell_type": "markdown",
      "metadata": {
        "id": "TSPeTEDIR5Xp"
      },
      "source": [
        "So, there were no withered meteorites between 1921 to 1960. This could also mean that we did not had the capacity (or technology) to find the withered meteorites between 1921 and 1960.\n",
        "\n",
        "Additionally, it seems that as we go in the past, the number of meteorites observed decrease. \n",
        "\n",
        "Let's create a DataFrame for the meteorites observed in all the years on or before 1920 and then use the `value_counts()` function to count the number of meteorites observed."
      ]
    },
    {
      "cell_type": "code",
      "metadata": {
        "id": "ZNfq0pfI7iDg",
        "colab": {
          "base_uri": "https://localhost:8080/",
          "height": 419
        },
        "outputId": "c345ed1f-0e96-4628-fdae-fbb7588624c4"
      },
      "source": [
        "# Student Action: Create a DataFrame for the meteorites observed before 1921.\n",
        "before_1921_df = correct_lat_long_df[correct_lat_long_df['year'] <= 1920]\n",
        "before_1921_df"
      ],
      "execution_count": null,
      "outputs": [
        {
          "output_type": "execute_result",
          "data": {
            "text/html": [
              "<div>\n",
              "<style scoped>\n",
              "    .dataframe tbody tr th:only-of-type {\n",
              "        vertical-align: middle;\n",
              "    }\n",
              "\n",
              "    .dataframe tbody tr th {\n",
              "        vertical-align: top;\n",
              "    }\n",
              "\n",
              "    .dataframe thead th {\n",
              "        text-align: right;\n",
              "    }\n",
              "</style>\n",
              "<table border=\"1\" class=\"dataframe\">\n",
              "  <thead>\n",
              "    <tr style=\"text-align: right;\">\n",
              "      <th></th>\n",
              "      <th>name</th>\n",
              "      <th>id</th>\n",
              "      <th>nametype</th>\n",
              "      <th>recclass</th>\n",
              "      <th>mass</th>\n",
              "      <th>fall</th>\n",
              "      <th>year</th>\n",
              "      <th>reclat</th>\n",
              "      <th>reclong</th>\n",
              "      <th>GeoLocation</th>\n",
              "    </tr>\n",
              "  </thead>\n",
              "  <tbody>\n",
              "    <tr>\n",
              "      <th>0</th>\n",
              "      <td>Aachen</td>\n",
              "      <td>1</td>\n",
              "      <td>Valid</td>\n",
              "      <td>L5</td>\n",
              "      <td>21.0</td>\n",
              "      <td>Fell</td>\n",
              "      <td>1880</td>\n",
              "      <td>50.77500</td>\n",
              "      <td>6.08333</td>\n",
              "      <td>(50.775000, 6.083330)</td>\n",
              "    </tr>\n",
              "    <tr>\n",
              "      <th>4</th>\n",
              "      <td>Achiras</td>\n",
              "      <td>370</td>\n",
              "      <td>Valid</td>\n",
              "      <td>L6</td>\n",
              "      <td>780.0</td>\n",
              "      <td>Fell</td>\n",
              "      <td>1902</td>\n",
              "      <td>-33.16667</td>\n",
              "      <td>-64.95000</td>\n",
              "      <td>(-33.166670, -64.950000)</td>\n",
              "    </tr>\n",
              "    <tr>\n",
              "      <th>5</th>\n",
              "      <td>Adhi Kot</td>\n",
              "      <td>379</td>\n",
              "      <td>Valid</td>\n",
              "      <td>EH4</td>\n",
              "      <td>4239.0</td>\n",
              "      <td>Fell</td>\n",
              "      <td>1919</td>\n",
              "      <td>32.10000</td>\n",
              "      <td>71.80000</td>\n",
              "      <td>(32.100000, 71.800000)</td>\n",
              "    </tr>\n",
              "    <tr>\n",
              "      <th>7</th>\n",
              "      <td>Agen</td>\n",
              "      <td>392</td>\n",
              "      <td>Valid</td>\n",
              "      <td>H5</td>\n",
              "      <td>30000.0</td>\n",
              "      <td>Fell</td>\n",
              "      <td>1814</td>\n",
              "      <td>44.21667</td>\n",
              "      <td>0.61667</td>\n",
              "      <td>(44.216670, 0.616670)</td>\n",
              "    </tr>\n",
              "    <tr>\n",
              "      <th>9</th>\n",
              "      <td>Aguila Blanca</td>\n",
              "      <td>417</td>\n",
              "      <td>Valid</td>\n",
              "      <td>L</td>\n",
              "      <td>1440.0</td>\n",
              "      <td>Fell</td>\n",
              "      <td>1920</td>\n",
              "      <td>-30.86667</td>\n",
              "      <td>-64.55000</td>\n",
              "      <td>(-30.866670, -64.550000)</td>\n",
              "    </tr>\n",
              "    <tr>\n",
              "      <th>...</th>\n",
              "      <td>...</td>\n",
              "      <td>...</td>\n",
              "      <td>...</td>\n",
              "      <td>...</td>\n",
              "      <td>...</td>\n",
              "      <td>...</td>\n",
              "      <td>...</td>\n",
              "      <td>...</td>\n",
              "      <td>...</td>\n",
              "      <td>...</td>\n",
              "    </tr>\n",
              "    <tr>\n",
              "      <th>45683</th>\n",
              "      <td>Youanmi</td>\n",
              "      <td>30373</td>\n",
              "      <td>Valid</td>\n",
              "      <td>Iron, IIIAB</td>\n",
              "      <td>118400.0</td>\n",
              "      <td>Found</td>\n",
              "      <td>1917</td>\n",
              "      <td>-29.50000</td>\n",
              "      <td>118.75000</td>\n",
              "      <td>(-29.500000, 118.750000)</td>\n",
              "    </tr>\n",
              "    <tr>\n",
              "      <th>45684</th>\n",
              "      <td>Youndegin</td>\n",
              "      <td>30374</td>\n",
              "      <td>Valid</td>\n",
              "      <td>Iron, IAB-MG</td>\n",
              "      <td>3800000.0</td>\n",
              "      <td>Found</td>\n",
              "      <td>1884</td>\n",
              "      <td>-32.10000</td>\n",
              "      <td>117.71667</td>\n",
              "      <td>(-32.100000, 117.716670)</td>\n",
              "    </tr>\n",
              "    <tr>\n",
              "      <th>45686</th>\n",
              "      <td>Ysleta</td>\n",
              "      <td>30375</td>\n",
              "      <td>Valid</td>\n",
              "      <td>Iron, ungrouped</td>\n",
              "      <td>140700.0</td>\n",
              "      <td>Found</td>\n",
              "      <td>1914</td>\n",
              "      <td>31.65000</td>\n",
              "      <td>-106.18333</td>\n",
              "      <td>(31.650000, -106.183330)</td>\n",
              "    </tr>\n",
              "    <tr>\n",
              "      <th>45691</th>\n",
              "      <td>Zacatecas (1792)</td>\n",
              "      <td>30381</td>\n",
              "      <td>Valid</td>\n",
              "      <td>Iron, ungrouped</td>\n",
              "      <td>1000000.0</td>\n",
              "      <td>Found</td>\n",
              "      <td>1792</td>\n",
              "      <td>22.81667</td>\n",
              "      <td>-102.56667</td>\n",
              "      <td>(22.816670, -102.566670)</td>\n",
              "    </tr>\n",
              "    <tr>\n",
              "      <th>45693</th>\n",
              "      <td>Zaffra</td>\n",
              "      <td>30383</td>\n",
              "      <td>Valid</td>\n",
              "      <td>Iron, IAB-MG</td>\n",
              "      <td>3000.0</td>\n",
              "      <td>Found</td>\n",
              "      <td>1919</td>\n",
              "      <td>35.00000</td>\n",
              "      <td>-94.75000</td>\n",
              "      <td>(35.000000, -94.750000)</td>\n",
              "    </tr>\n",
              "  </tbody>\n",
              "</table>\n",
              "<p>1026 rows × 10 columns</p>\n",
              "</div>"
            ],
            "text/plain": [
              "                   name     id  ...    reclong               GeoLocation\n",
              "0                Aachen      1  ...    6.08333     (50.775000, 6.083330)\n",
              "4               Achiras    370  ...  -64.95000  (-33.166670, -64.950000)\n",
              "5              Adhi Kot    379  ...   71.80000    (32.100000, 71.800000)\n",
              "7                  Agen    392  ...    0.61667     (44.216670, 0.616670)\n",
              "9         Aguila Blanca    417  ...  -64.55000  (-30.866670, -64.550000)\n",
              "...                 ...    ...  ...        ...                       ...\n",
              "45683           Youanmi  30373  ...  118.75000  (-29.500000, 118.750000)\n",
              "45684         Youndegin  30374  ...  117.71667  (-32.100000, 117.716670)\n",
              "45686            Ysleta  30375  ... -106.18333  (31.650000, -106.183330)\n",
              "45691  Zacatecas (1792)  30381  ... -102.56667  (22.816670, -102.566670)\n",
              "45693            Zaffra  30383  ...  -94.75000   (35.000000, -94.750000)\n",
              "\n",
              "[1026 rows x 10 columns]"
            ]
          },
          "metadata": {
            "tags": []
          },
          "execution_count": 14
        }
      ]
    },
    {
      "cell_type": "markdown",
      "metadata": {
        "id": "rhCCl4u5VVbN"
      },
      "source": [
        "So, a total of 1026 meteorites were observed between the years 860 and 1920 (both inclusive). That's even less than 1 meteorite observed per year on an average because\n",
        "\n",
        "$$\\frac{\\text{Number of meteorites observed}}{\\text{Number of years}} = \\left(\\frac{1026}{1920 - 860 + 1} \\right) = \\frac{1026}{1060 + 1}$$ \n",
        "\n",
        "$$\\Rightarrow \\frac{1026}{1061} < 1$$\n",
        "\n",
        "There are \n",
        "$1061$ \n",
        "years between 860 and 1920 including both of them.\n",
        "\n",
        "**Note:** To count the number of natural numbers between two natural numbers \n",
        "$a$ and $b$ where $a < b$ including both of them, use the $(b - a + 1)$\n",
        "mathematical expression.\n",
        "\n",
        "Let's create a count plot for the meteorites observed before 1921."
      ]
    },
    {
      "cell_type": "code",
      "metadata": {
        "id": "ds8sIRrMUxoX",
        "colab": {
          "base_uri": "https://localhost:8080/",
          "height": 1000
        },
        "outputId": "8a27374b-f30b-4e08-bfa2-f288cefe6436"
      },
      "source": [
        "# Student Action: Create a count plot for the meteorites observed before 1921.\n",
        "plt.figure(figsize=(15, 45))\n",
        "sns.countplot(y='year', data=before_1921_df)\n",
        "plt.grid()\n",
        "plt.show()"
      ],
      "execution_count": null,
      "outputs": [
        {
          "output_type": "display_data",
          "data": {
            "image/png": "[encoded data removed]",
            "text/plain": [
              "<Figure size 1080x3240 with 1 Axes>"
            ]
          },
          "metadata": {
            "tags": []
          }
        }
      ]
    },
    {
      "cell_type": "markdown",
      "metadata": {
        "id": "xmV3codd8pIb"
      },
      "source": [
        "As we can see, the number of meteorites observed before 1921 drops significantly even less than 5.\n",
        "\n",
        "So, the count plots helps us in visualising the data and exploring the trend (if there exists one). Also, creating a count plot is a very straight forward task. In the next class, we will learn how to create histograms."
      ]
    },
    {
      "cell_type": "markdown",
      "metadata": {
        "id": "icaFkNH-SciQ"
      },
      "source": [
        "---"
      ]
    },
    {
      "cell_type": "markdown",
      "metadata": {
        "id": "64KIkuqPyHhM"
      },
      "source": [
        "### Wrap-Up\n",
        "\n",
        "```\n",
        "TEACHER\n",
        "  Did you enjoy the class?\n",
        "\n",
        "EXPECTED STUDENT RESPONSE\n",
        "  Yes, teacher.\n",
        "\n",
        "\n",
        "TEACHER\n",
        "  What part of the class did you enjoy?\n",
        "\n",
        "EXPECTED STUDENT RESPONSE\n",
        "  I enjoyed everything.\n",
        "\n",
        "\n",
        "TEACHER\n",
        "  I am glad you are having a good time. But make sure that you practice \n",
        "  writing code in your free time.\n",
        "\n",
        "EXPECTED STUDENT RESPONSE\n",
        "  Sure teacher.\n",
        "\n",
        "\n",
        "TEACHER\n",
        "  In the next class, we will learn to create another type of bar graphs \n",
        "  called histograms to find some kind of hidden trend if there exists any.\n",
        "\n",
        "EXPECTED STUDENT RESPONSE\n",
        "  Sure teacher.\n",
        "\n",
        "\n",
        "TEACHER\n",
        "  See you in the next class. Bye!\n",
        "\n",
        "EXPECTED STUDENT RESPONSE\n",
        "  Bye teacher!\n",
        "```"
      ]
    },
    {
      "cell_type": "markdown",
      "metadata": {
        "id": "fSNAdeJYyGx9"
      },
      "source": [
        "---"
      ]
    },
    {
      "cell_type": "markdown",
      "metadata": {
        "id": "q6m03_lRyRpM"
      },
      "source": [
        "#### Activities\n",
        "\n",
        "**Teacher Activities**\n",
        "\n",
        "1. Meteorite Landings - Count Plots (Class Copy)\n",
        "\n",
        "   https://colab.research.google.com/drive/1CPiWhsBzRW9qGE-9mDwWi3gZStNZ5vul\n",
        "\n",
        "2. Meteorite Landings - Count Plots (Reference)\n",
        "\n",
        "   https://colab.research.google.com/drive/1wCwdjTWtdDiDp_pPKE6agZg4UXjFmpur"
      ]
    },
    {
      "cell_type": "markdown",
      "metadata": {
        "id": "GIBCh21KyGBc"
      },
      "source": [
        "---"
      ]
    }
  ]
}