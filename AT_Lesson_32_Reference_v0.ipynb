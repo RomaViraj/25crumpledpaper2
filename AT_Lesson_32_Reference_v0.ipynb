{
  "nbformat": 4,
  "nbformat_minor": 0,
  "metadata": {
    "colab": {
      "name": "AT - Lesson 32 - Reference - v0",
      "provenance": [],
      "collapsed_sections": [],
      "include_colab_link": true
    },
    "kernelspec": {
      "name": "python3",
      "display_name": "Python 3"
    }
  },
  "cells": [
    {
      "cell_type": "markdown",
      "metadata": {
        "id": "view-in-github",
        "colab_type": "text"
      },
      "source": [
        "<a href=\"https://colab.research.google.com/github/RomaViraj/APT/blob/master/AT_Lesson_32_Reference_v0.ipynb\" target=\"_parent\"><img src=\"https://colab.research.google.com/assets/colab-badge.svg\" alt=\"Open In Colab\"/></a>"
      ]
    },
    {
      "cell_type": "markdown",
      "metadata": {
        "id": "reRBe_cVB1Kq"
      },
      "source": [
        "# Lesson 32: Python Dictionary Operations II"
      ]
    },
    {
      "cell_type": "markdown",
      "metadata": {
        "id": "7Sa7w9xwM8Nk"
      },
      "source": [
        "**WARNING:** The reference notebook is meant **ONLY** for a teacher. Please **DO NOT** share it with any student. \n",
        "\n",
        "The contents of the reference notebook are meant only to prepare a teacher for a class. To conduct the class, use the class copy of the reference notebook. The link and the instructions for the same are provided in the **Notes To The Teacher** section.\n",
        "\n",
        "\n",
        "|Particulars|Description|\n",
        "|-|-|\n",
        "|**Topic**|Python Dictionary Operations II|\n",
        "|||\n",
        "|**Class Description**|In this class, a student will learn to apply more fundamental and advanced operations on a Python dictionary|\n",
        "|||\n",
        "|**Class**|C32|\n",
        "|||\n",
        "|**Class Time**|45 minutes|\n",
        "|||\n",
        "|**Goal**|Add a new item to a dictionary|\n",
        "||Create a Python dictionary from two Python list|\n",
        "||Remove an item from a dictionary|\n",
        "||Update an existing item in a dictionary|\n",
        "||Check whether an item exists in a dictionary|\n",
        "|||\n",
        "|**Teacher Resources**|Google Account|\n",
        "||Link to Lesson 32 Colab reference notebook|\n",
        "||Laptop with internet connectivity|\n",
        "||Earphones with mic|\n",
        "|||\n",
        "|**Student Resources**|Google Account|\n",
        "||Laptop with internet connectivity|\n",
        "||Earphones with mic|"
      ]
    },
    {
      "cell_type": "markdown",
      "metadata": {
        "id": "6nGaroy1OBbx"
      },
      "source": [
        "---"
      ]
    },
    {
      "cell_type": "markdown",
      "metadata": {
        "id": "RNyaDP24OEA5"
      },
      "source": [
        "### Class Structure\n",
        "\n",
        "A class is divided into three parts, as shown in the table below.\n",
        "\n",
        "|Parts|Duration|\n",
        "|-|-|\n",
        "|**Warm-Up**|5 minutes|\n",
        "|||\n",
        "|**Teacher-Student Activities**|35 minutes|\n",
        "|||\n",
        "|**Wrap-Up**|5 minutes|"
      ]
    },
    {
      "cell_type": "markdown",
      "metadata": {
        "id": "YrsH_wHGOHnX"
      },
      "source": [
        "---"
      ]
    },
    {
      "cell_type": "markdown",
      "metadata": {
        "id": "J0RugJvqOMFW"
      },
      "source": [
        "### Notes To The Teacher\n",
        "\n",
        "Before beginning the class:\n",
        "\n",
        "1. Open the **AT - Lesson 32 - Class Copy - v0** file by clicking on the link provided in the **Activities** section under the title **Python Dictionary Operations II (Class Copy)**.  \n",
        "\n",
        "2. After opening the file mentioned in the first point, create its duplicate copy by following the steps described below:\n",
        "\n",
        "    - Click on the **File** menu. A new drop-down list will appear.\n",
        "\n",
        "      <img src='https://student-datasets-bucket.s3.ap-south-1.amazonaws.com/images/lesson-0/0_file_menu.png' width=400>\n",
        "\n",
        "    - Click on the **Save a copy in Drive** option. A duplicate copy will get created. It will open up in the new tab on your web browser.\n",
        "\n",
        "      <img src='https://student-datasets-bucket.s3.ap-south-1.amazonaws.com/images/lesson-0/1_create_colab_duplicate_copy.png' width=500>\n",
        "\n",
        "    - In the duplicate copy, click on the **Share** button on the top right corner of the notebook. A new dialogue box will appear.\n",
        "\n",
        "      <img src='https://student-datasets-bucket.s3.ap-south-1.amazonaws.com/images/lesson-0/2_share_button.png' width=500>\n",
        "\n",
        "    - Click on the tiny downward arrow next to **Anyone with the link can view** text. A drop-down list will appear.\n",
        "\n",
        "      <img src='https://student-datasets-bucket.s3.ap-south-1.amazonaws.com/images/lesson-0/3_anyone_can_view.png' width=500>\n",
        "\n",
        "    - Click on the **More...** option. A new page on the dialogue box will appear.\n",
        "\n",
        "      <img src='https://student-datasets-bucket.s3.ap-south-1.amazonaws.com/images/lesson-0/4_more_option.png' width=500>\n",
        "\n",
        "    - Click on the circle next to **On - Anyone with the link** option. Now, go down and click on the tiny downward box next to **Can edit** text. A drop-down list will appear.\n",
        "\n",
        "      <img src='https://student-datasets-bucket.s3.ap-south-1.amazonaws.com/images/lesson-0/5_anyone_with_the_link.png' width=500>\n",
        "\n",
        "    - Click on the **Can edit** option. Then click on the **Save** button. You will be directed back to the first page of the dialogue box.\n",
        "\n",
        "      <img src='https://student-datasets-bucket.s3.ap-south-1.amazonaws.com/images/lesson-0/6_can_edit.png' width=500>\n",
        "\n",
        "    - Make sure that under the **Link sharing on** section, **Anyone with the link can edit** option is selected. \n",
        "\n",
        "      <img src='https://student-datasets-bucket.s3.ap-south-1.amazonaws.com/images/lesson-0/7_anyone_can_edit.png' width=500>\n",
        "\n",
        "    - Then click on the **Done** button.\n",
        "\n",
        "3. After creating the duplicate copy of the notebook, please rename it in the **YYYY-MM-DD_StudentName_Lesson32** format. \n",
        "\n",
        "\n",
        "4. Now, finish the **Warm-Up** section. Afterwards, proceed with the class using the duplicate copy of the notebook. You can share the link of the duplicate copy (named as **YYYY-MM-DD_StudentName_Lesson32**) with the student through the chat window.\n",
        "\n",
        "5. When a student executes the code for the first time in the duplicate copy that you shared with them, they may get the following warning:\n",
        "\n",
        "   ```\n",
        "    Warning: This notebook was not authored by Google. This notebook was \n",
        "    authored by xyz@gmail.com. It may request access to your data stored \n",
        "    with Google such as files, emails and contacts. Please review the source \n",
        "    code and contact the creator of this notebook at xyz@gmail.com with any \n",
        "    additional questions. \n",
        "\n",
        "                                                      Cancel. Run Anyway.\n",
        "  ```\n",
        "\n",
        "6. Ask the student to click on the `Run Anyway` button.\n",
        "\n",
        "7. Wherever you see the hat (**^**) sign on the heading of activity, give a hats-off to the student at the end of the activity.\n",
        "\n",
        "    - Single hat sign, i.e., **^** denotes give hats-off for concentration. You have to assess the concentration level of a student based on their attentiveness and understanding of the concept.\n",
        "\n",
        "    - Double hat signs, i.e., **^^** denotes give hats-off for creativity. It can be an alternative approach to writing a code for an activity or applying the logic in a totally different problem statement.\n",
        "\n",
        "    - Triple hat signs, i.e., **^^^** denotes give hats-off for persistence. It is the ability of a student to not give up on writing code and writing code with minimal teacher support.\n",
        "\n",
        "8. Every time you execute your code in the Google Colab notebook, please don't forget to save it by pressing the **Ctrl + S** keys (or **Command + S** keys if you are using a Mac). While saving the notebook, you or student may encounter the following error:\n",
        "\n",
        "   ```\n",
        "    Save failed\n",
        "    \n",
        "    The notebook has been changed outside of this session. Would you like to \n",
        "    overwrite existing changes?\n",
        "    \n",
        "                                                              CANCEL    YES\n",
        "   ```\n",
        "\n",
        "   Click on the `YES` button.\n",
        "\n",
        "9. Occasionally, you may encounter some error such as `NameError, ReferenceError, ImportError` or `ModuleNotFoundError` after executing the code in $k^{th}$ code cell (where $k > 0$). Most likely, due to poor internet speed, the Colab notebook might have lost the information that all the previous codes have been executed already. As a remedy, run codes in the code cells beginning from the first code cell till the $(k - 1)^{th}$ code cell. For e.g., if the code in the $5^{th}$ code cell fails to run because of one of the aforementioned errors, execute the codes in all the first four code cells again.\n",
        "\n",
        "10. For every **Teacher Action**, the teacher is supposed to share their screen with the student. Similarly, for every **Student Action**, the student is supposed to share their screen with the teacher.\n"
      ]
    },
    {
      "cell_type": "markdown",
      "metadata": {
        "id": "GXbPAexIQDhW"
      },
      "source": [
        "---"
      ]
    },
    {
      "cell_type": "markdown",
      "metadata": {
        "id": "Pmb4Sz_gOZCF"
      },
      "source": [
        "### Warm-Up\n",
        "\n",
        "```\n",
        "TEACHER\n",
        "  Hi student_name! How are you doing?\n",
        "\n",
        "EXPECTED STUDENT RESPONSE\n",
        "  I am doing good, teacher. How about you?\n",
        "\n",
        "\n",
        "TEACHER\n",
        "  I am having a good time, thank you. So, how was your day? What did you do \n",
        "  today?\n",
        "\n",
        "EXPECTED STUDENT RESPONSE \n",
        "  I went to school. Had my lunch. Played a game and then did my homework \n",
        "  before this class.\n",
        "\n",
        "\n",
        "TEACHER\n",
        "  That's great. I am glad that you are having a good day. Now, let's do a \n",
        "  quick recap of our previous class. Can you recall the concepts you \n",
        "  learnt in the previous lesson?\n",
        "\n",
        "EXPECTED STUDENT RESPONSE\n",
        "  We learnt how to calculate the length of a dictionary and how to retrieve \n",
        "  items from a dictionary.\n",
        "\n",
        "TEACHER\n",
        "  Excellent! You recalled everything that you learnt in the last class. \n",
        "  Great job! Keep it up. \n",
        "  I have an exciting quiz question for you! Are you ready to answer this question?    \n",
        "  ```   \n",
        "  **Instructions for the Teacher:**\n",
        "  -  Please click on the \"Quiz Time\" button on the bottom right corner of your screen to start the In-Class Quiz.<img src='https://student-datasets-bucket.s3.ap-south-1.amazonaws.com/images/quiz-time.png' width=100>   \n",
        "  - A quiz will be visible to both you and the student. Encourage the student to answer the quiz question. \n",
        "  - The student may choose the wrong option, help the student to think correctly about the question and then answer again. \n",
        "  - After the student selects the correct option, the \"End Quiz\" button will start appearing on your screen.  <img src='https://student-datasets-bucket.s3.ap-south-1.amazonaws.com/images/end-quiz.png' width=100>  \n",
        "  - Click the \"End quiz\" to close the quiz pop-up and continue the class. \n",
        "  - Do not spend more than 2 minutes on this quiz.\n",
        "\n",
        "```\n",
        "TEACHER\n",
        "  In this class, we are going to learn how to \n",
        "  apply more fundamental and advanced operations on a Python dictionary.\n",
        "\n",
        "  So, are you excited for this class?\n",
        "\n",
        "EXPECTED STUDENT RESPONSE\n",
        "  Yes, teacher.\n",
        "\n",
        "\n",
        "TEACHER\n",
        "  All right. Let's get started. I'm sharing the link to the Colab notebook \n",
        "  for this class with you. Open it up.\n",
        "\n",
        "  Note:\n",
        "    - Share the duplicate copy of the notebook that you just created with \n",
        "      the student through the chat window.\n",
        "    \n",
        "EXPECTED STUDENT RESPONSE\n",
        "  The student opens the Colab notebook.\n",
        "```"
      ]
    },
    {
      "cell_type": "markdown",
      "metadata": {
        "id": "NQ645lLkOYSb"
      },
      "source": [
        "---"
      ]
    },
    {
      "cell_type": "markdown",
      "metadata": {
        "id": "EB1Cu4jn2NoS"
      },
      "source": [
        "### Teacher-Student Activities\n",
        "\n",
        "Let's continue the discussion on Python dictionaries. In this class, we will learn how to:\n",
        "\n",
        "- Add a new item to a dictionary\n",
        "\n",
        "- Create a Python dictionary from two Python list\n",
        "\n",
        "- Remove an item from a dictionary\n",
        "\n",
        "- Update an existing item in a dictionary\n",
        "\n",
        "- How to check whether an item exists in a dictionary\n",
        "\n",
        "- And few important points about a Python dictionary\n",
        "\n",
        "Let's quickly create the `my_dict` dictionary again and continue this class from the **Activity 1: Adding New Item** section."
      ]
    },
    {
      "cell_type": "markdown",
      "metadata": {
        "id": "DuEpC8s_2Mpj"
      },
      "source": [
        "---"
      ]
    },
    {
      "cell_type": "markdown",
      "metadata": {
        "id": "MjEaQMNF6sv6"
      },
      "source": [
        "#### Recap\n",
        "\n",
        "**A python dictionary is a collection of key-value pairs.** \n",
        "\n",
        "|Key         |Value                  |\n",
        "|------------|-----------------------|\n",
        "|Front Camera|16 MP                  |\n",
        "|Battery     |3300 mAh               |\n",
        "|Processor   |Qualcomm Snapdragon 845|\n",
        "|Display     |6.28 inches            |\n",
        "|RAM         |6 GB                   |\n",
        "|Rear Camera |16 MP + 20 MP          |\n",
        "|Price (INR) |28990                  |\n",
        "|Fast Charge |True                   |\n",
        "\n",
        "Collectively, both a key and its corresponding value constitute an item stored in a dictionary. \n",
        "\n",
        "A dictionary is created using curly brackets (`{}`). A key and its corresponding value are mapped using the colon (`:`) sign and each key-value pair is separated by a comma. "
      ]
    },
    {
      "cell_type": "code",
      "metadata": {
        "id": "uWigmBpR8VBW",
        "colab": {
          "base_uri": "https://localhost:8080/",
          "height": 153
        },
        "outputId": "f068f493-d184-4f16-bed0-8458f364e409"
      },
      "source": [
        "# Create a dictionary as a collection of key-value pairs containing the items shown in the table above.\n",
        "my_dict = {'Front Camera' : '16 MP', # First key-value pair \n",
        "           'Battery' : '3300 mAh', # Second key-value pair\n",
        "           'Processor' : 'Qualcomm Snapdragon 845', # Third key-value pair\n",
        "           'Display' : '6.28 inches', # Fourth key-value pair\n",
        "           'RAM' : '6 GB', # Fifth key-value pair\n",
        "           'Rear Camera' : '16 MP + 20 MP', # Sixth key-value pair\n",
        "           'Price' : 28990, # Seventh key-value pair\n",
        "           'Fast Charge' : True} # Eighth key-value pair\n",
        "\n",
        "my_dict"
      ],
      "execution_count": null,
      "outputs": [
        {
          "output_type": "execute_result",
          "data": {
            "text/plain": [
              "{'Battery': '3300 mAh',\n",
              " 'Display': '6.28 inches',\n",
              " 'Fast Charge': True,\n",
              " 'Front Camera': '16 MP',\n",
              " 'Price': 28990,\n",
              " 'Processor': 'Qualcomm Snapdragon 845',\n",
              " 'RAM': '6 GB',\n",
              " 'Rear Camera': '16 MP + 20 MP'}"
            ]
          },
          "metadata": {
            "tags": []
          },
          "execution_count": 13
        }
      ]
    },
    {
      "cell_type": "markdown",
      "metadata": {
        "id": "V7ySO9Mw8eeO"
      },
      "source": [
        "**Note** that the output will not always display the key-value pairs in the same order in which you entered the pairs in the dictionary."
      ]
    },
    {
      "cell_type": "markdown",
      "metadata": {
        "id": "DQCN05Iu6sKi"
      },
      "source": [
        "---"
      ]
    },
    {
      "cell_type": "markdown",
      "metadata": {
        "id": "gLsIDUXaxQtu"
      },
      "source": [
        "#### Activity 1: Adding New Item\n",
        "\n",
        "Let's also add the storage capacity of the smartphone to the `my_dict` dictionary. So the new item is `Memory` and the corresponding value is `'128 GB'`.\n",
        "\n",
        "To add a new item to a dictionary, you simply have to use the square brackets as shown in the syntax below.\n",
        "\n",
        "**Syntax:** `dictionary_name[key] = value`\n",
        "\n",
        "where `dictionary_name` is some variable storing a dictionary."
      ]
    },
    {
      "cell_type": "code",
      "metadata": {
        "id": "CMM1DD7Vu9MB",
        "colab": {
          "base_uri": "https://localhost:8080/",
          "height": 170
        },
        "outputId": "a563acb5-21b9-42c0-a997-dd3ec3424c12"
      },
      "source": [
        "# Student Action: Add 'Memory' and '128 GB' as keys and values respectively to the 'my_dict' dictionary.\n",
        "my_dict['Memory'] = '128 GB'\n",
        "my_dict"
      ],
      "execution_count": null,
      "outputs": [
        {
          "output_type": "execute_result",
          "data": {
            "text/plain": [
              "{'Battery': '3300 mAh',\n",
              " 'Display': '6.28 inches',\n",
              " 'Fast Charge': True,\n",
              " 'Front Camera': '16 MP',\n",
              " 'Memory': '128 GB',\n",
              " 'Price': 28990,\n",
              " 'Processor': 'Qualcomm Snapdragon 845',\n",
              " 'RAM': '6 GB',\n",
              " 'Rear Camera': '16 MP + 20 MP'}"
            ]
          },
          "metadata": {
            "tags": []
          },
          "execution_count": 14
        }
      ]
    },
    {
      "cell_type": "markdown",
      "metadata": {
        "id": "wqpzOZkXyNLC"
      },
      "source": [
        "As you can see, a new key-value pair, `'Memory' : '128 GB'` has been added to the `my_dict` dictionary."
      ]
    },
    {
      "cell_type": "markdown",
      "metadata": {
        "id": "WYvjalPzou0g"
      },
      "source": [
        "---"
      ]
    },
    {
      "cell_type": "markdown",
      "metadata": {
        "id": "fpiX_GCR2c4x"
      },
      "source": [
        "#### Activity 2: The `zip()` Function\n",
        "\n",
        "Sometimes you may require to create a dictionary from two Python lists. Consider the two lists shown below.\n",
        "\n",
        "```\n",
        "car_companies = ['Maruti Suzuki', 'Honda', 'Hyundai', 'Ford', 'Volkswagen']\n",
        "car_models = [\n",
        "                ['Baleno', 'Vitara Brezza', 'Ciaz'], \n",
        "                'City', \n",
        "                ['Verna', 'Creta'], \n",
        "                ['Figo', 'EcoSport', 'Aspire'], \n",
        "                ['Polo', 'Tiguan', 'Vento']\n",
        "              ]\n",
        "```\n",
        "\n",
        "The `car_companies` list contains the name of the car manufacturers. The `car_models` list contains the models of cars manufactured by them.\n",
        "\n",
        "Let's create a dictionary which maps every car model to its corresponding manufacturer. Let's store it in the `cars_dict`.\n",
        "\n",
        "To create a dictionary from two lists, use the `zip()` and `dict()` function using the following syntax.\n",
        "\n",
        "**Syntax:** `dictionary_name = dict(zip(list1, list2))`\n",
        "\n",
        "where the `zip()` function joins the lists `list1` and `list2` but the `dict()` function converts the resulting object into a dictionary."
      ]
    },
    {
      "cell_type": "code",
      "metadata": {
        "id": "9b2Kpf8532G1",
        "colab": {
          "base_uri": "https://localhost:8080/",
          "height": 102
        },
        "outputId": "82956ab7-c91e-43be-f504-899d8c59abad"
      },
      "source": [
        "# Student Action: Create a new dictionary by joining the 'car_companies' & 'car_models' lists. Store it in the 'cars_dict' variable.\n",
        "car_companies = ['Maruti Suzuki', 'Honda', 'Hyundai', 'Ford', 'Volkswagen']\n",
        "car_models = [['Baleno', 'Vitara Brezza', 'Ciaz'], \n",
        "              'City', \n",
        "              ['Verna', 'Creta'], \n",
        "              ['Figo', 'EcoSport', 'Aspire'], \n",
        "              ['Polo', 'Tiguan', 'Vento']]\n",
        "\n",
        "cars_dict = dict(zip(car_companies, car_models))\n",
        "cars_dict"
      ],
      "execution_count": null,
      "outputs": [
        {
          "output_type": "execute_result",
          "data": {
            "text/plain": [
              "{'Ford': ['Figo', 'EcoSport', 'Aspire'],\n",
              " 'Honda': 'City',\n",
              " 'Hyundai': ['Verna', 'Creta'],\n",
              " 'Maruti Suzuki': ['Baleno', 'Vitara Brezza', 'Ciaz'],\n",
              " 'Volkswagen': ['Polo', 'Tiguan', 'Vento']}"
            ]
          },
          "metadata": {
            "tags": []
          },
          "execution_count": 15
        }
      ]
    },
    {
      "cell_type": "markdown",
      "metadata": {
        "id": "Cd62Z0sZ4O8m"
      },
      "source": [
        "As you can see, a new dictionary called `cars_dict` has been created using the `zip()` and `dict()` functions. \n",
        "\n",
        "The `zip()` function maps items of the first list with the items of the second list such that former become **keys** and latter become the corresponding **values** of the keys.\n",
        "\n",
        "**Note** that the first item contained in the first list becomes **key** for the first item in the second list and the second item in the first list becomes **key** for the second item in the second list and so on.\n",
        "\n",
        "Instead of using the `dict()` function, if you use the `list()` function on top of the `zip()` function, you will get a Python list containing the items of the two lists as a collection of key-value pairs in tuples. \n"
      ]
    },
    {
      "cell_type": "code",
      "metadata": {
        "id": "7WtNy6Tg4MLp",
        "colab": {
          "base_uri": "https://localhost:8080/",
          "height": 102
        },
        "outputId": "bff63599-e0a6-444b-c500-ab1ddc6fccb5"
      },
      "source": [
        "# Student Action: Create a new list by joining the 'car_companies' & 'car_models' lists. Store it in the 'cars_list' variable.\n",
        "cars_list = list(zip(car_companies, car_models))\n",
        "cars_list"
      ],
      "execution_count": null,
      "outputs": [
        {
          "output_type": "execute_result",
          "data": {
            "text/plain": [
              "[('Maruti Suzuki', ['Baleno', 'Vitara Brezza', 'Ciaz']),\n",
              " ('Honda', 'City'),\n",
              " ('Hyundai', ['Verna', 'Creta']),\n",
              " ('Ford', ['Figo', 'EcoSport', 'Aspire']),\n",
              " ('Volkswagen', ['Polo', 'Tiguan', 'Vento'])]"
            ]
          },
          "metadata": {
            "tags": []
          },
          "execution_count": 16
        }
      ]
    },
    {
      "cell_type": "markdown",
      "metadata": {
        "id": "cUNElrS-5igB"
      },
      "source": [
        "As you can see, the `zip()` function has clubbed the items of the `car_companies` and `car_models` as a key-value pair in a tuple and the `list()` function has created a list containing tuples."
      ]
    },
    {
      "cell_type": "markdown",
      "metadata": {
        "id": "AGegRjBNCzL8"
      },
      "source": [
        "---"
      ]
    },
    {
      "cell_type": "markdown",
      "metadata": {
        "id": "fzB2DstZCzzJ"
      },
      "source": [
        "#### Activity 3: List Comprehension For Dictionaries^^\n",
        "\n",
        "You can also use the list comprehension method to create a Python dictionary.\n",
        "\n",
        "Let's again map all the `car_models` items to the `car_companies` items by creating a new dictionary using the `zip()` function and the list comprehension method."
      ]
    },
    {
      "cell_type": "code",
      "metadata": {
        "id": "j0R8zYnHDN4Y",
        "colab": {
          "base_uri": "https://localhost:8080/",
          "height": 102
        },
        "outputId": "455337aa-cb30-4328-cbfa-db87e4dba5a7"
      },
      "source": [
        "# Teacher Action: Create a new dictionary using the list comprehension method to map all the 'car_models' items to the car_companies items.\n",
        "new_cars_dict = {key : value for key, value in zip(car_companies, car_models)}\n",
        "new_cars_dict"
      ],
      "execution_count": null,
      "outputs": [
        {
          "output_type": "execute_result",
          "data": {
            "text/plain": [
              "{'Ford': ['Figo', 'EcoSport', 'Aspire'],\n",
              " 'Honda': 'City',\n",
              " 'Hyundai': ['Verna', 'Creta'],\n",
              " 'Maruti Suzuki': ['Baleno', 'Vitara Brezza', 'Ciaz'],\n",
              " 'Volkswagen': ['Polo', 'Tiguan', 'Vento']}"
            ]
          },
          "metadata": {
            "tags": []
          },
          "execution_count": 17
        }
      ]
    },
    {
      "cell_type": "markdown",
      "metadata": {
        "id": "zNrhvG8vDlsE"
      },
      "source": [
        "The above list comprehension should be read as \"*For every key & value in the object returned by the `zip()` function, add them to the dictionary*\". To add the key-value pair, you simply need to write `key` followed by the colon (`:`) sign, followed by `value`. \n",
        "\n",
        "**Syntax:** `{key : value for key, value in zip(list1, list2)}`\n",
        "\n",
        "The variables `key` and `value` are dummy variables. You can use any variable in their places. \n",
        "\n",
        "E.g., `{x : y for x, y in zip(list1, list2)}, {p : q for p, q in zip(list1, list2)}` etc."
      ]
    },
    {
      "cell_type": "code",
      "metadata": {
        "id": "R5v29Mc9EtD3",
        "colab": {
          "base_uri": "https://localhost:8080/",
          "height": 102
        },
        "outputId": "7855ce5f-0e63-45c7-fdb4-da32d0784bf1"
      },
      "source": [
        "# Student Action: Run the code below.\n",
        "new_cars_dict1 = {x : y for x, y in zip(car_companies, car_models)}\n",
        "new_cars_dict1"
      ],
      "execution_count": null,
      "outputs": [
        {
          "output_type": "execute_result",
          "data": {
            "text/plain": [
              "{'Ford': ['Figo', 'EcoSport', 'Aspire'],\n",
              " 'Honda': 'City',\n",
              " 'Hyundai': ['Verna', 'Creta'],\n",
              " 'Maruti Suzuki': ['Baleno', 'Vitara Brezza', 'Ciaz'],\n",
              " 'Volkswagen': ['Polo', 'Tiguan', 'Vento']}"
            ]
          },
          "metadata": {
            "tags": []
          },
          "execution_count": 18
        }
      ]
    },
    {
      "cell_type": "code",
      "metadata": {
        "id": "jaqMMf79E6Gt",
        "colab": {
          "base_uri": "https://localhost:8080/",
          "height": 102
        },
        "outputId": "559578cf-5bb5-477f-a8fd-d47445b2c423"
      },
      "source": [
        "# Student Action: Run the code below.\n",
        "new_cars_dict2 = {p : q for p, q in zip(car_companies, car_models)}\n",
        "new_cars_dict2"
      ],
      "execution_count": null,
      "outputs": [
        {
          "output_type": "execute_result",
          "data": {
            "text/plain": [
              "{'Ford': ['Figo', 'EcoSport', 'Aspire'],\n",
              " 'Honda': 'City',\n",
              " 'Hyundai': ['Verna', 'Creta'],\n",
              " 'Maruti Suzuki': ['Baleno', 'Vitara Brezza', 'Ciaz'],\n",
              " 'Volkswagen': ['Polo', 'Tiguan', 'Vento']}"
            ]
          },
          "metadata": {
            "tags": []
          },
          "execution_count": 19
        }
      ]
    },
    {
      "cell_type": "markdown",
      "metadata": {
        "id": "Dgc-gAEr0YwE"
      },
      "source": [
        "---"
      ]
    },
    {
      "cell_type": "markdown",
      "metadata": {
        "id": "Gha1iu2O6LBD"
      },
      "source": [
        "#### Activity 4: Removing Item From Dictionary\n",
        "\n",
        "To remove an item from a dictionary, you can use the `pop()` function. Inside the `pop()` function, you have to provide the key for which the key-value pair must be removed from the dictionary.\n",
        "\n",
        "Let's remove the item `'Battery' : '3300 mAh'` from the `my_dict` dictionary, using the `pop()` function."
      ]
    },
    {
      "cell_type": "code",
      "metadata": {
        "id": "ypB9Evth5HKH",
        "colab": {
          "base_uri": "https://localhost:8080/",
          "height": 153
        },
        "outputId": "3f2772e6-c1a5-4993-8edd-4ce3b8c8e5bc"
      },
      "source": [
        "# Student Action: Remove the item 'Battery' : '3300 mAh' from the 'my_dict' dictionary.\n",
        "my_dict.pop('Battery')\n",
        "my_dict"
      ],
      "execution_count": null,
      "outputs": [
        {
          "output_type": "execute_result",
          "data": {
            "text/plain": [
              "{'Display': '6.28 inches',\n",
              " 'Fast Charge': True,\n",
              " 'Front Camera': '16 MP',\n",
              " 'Memory': '128 GB',\n",
              " 'Price': 28990,\n",
              " 'Processor': 'Qualcomm Snapdragon 845',\n",
              " 'RAM': '6 GB',\n",
              " 'Rear Camera': '16 MP + 20 MP'}"
            ]
          },
          "metadata": {
            "tags": []
          },
          "execution_count": 20
        }
      ]
    },
    {
      "cell_type": "markdown",
      "metadata": {
        "id": "BwhK5JtH66Va"
      },
      "source": [
        "As you can see, the `pop()` function has removed `'Battery' : '3300 mAh'` item from the `my_dict` dictionary.\n",
        "\n",
        "**Note:** The `pop()` function for a Python dictionary is different from the `pop()` function in Python list. In the case of dictionary, it takes the key of a key-value pair to remove the pair. \n",
        "\n",
        "**Syntax:** `python_dictionary.pop(key)`\n",
        "\n",
        "There is another function called the `popitem()` to remove an item from a dictionary. However, it removes only the last item from a dictionary."
      ]
    },
    {
      "cell_type": "code",
      "metadata": {
        "id": "Rq41rO9VqfxF",
        "colab": {
          "base_uri": "https://localhost:8080/",
          "height": 170
        },
        "outputId": "7fd1bb0b-7d5c-476a-8b4e-26d94b7db42e"
      },
      "source": [
        "# Student Action: Remove the last item from the dictionary.\n",
        "print(\"The item remove by the popitem() function is\", my_dict.popitem(), \"\\n\")\n",
        "my_dict"
      ],
      "execution_count": null,
      "outputs": [
        {
          "output_type": "stream",
          "text": [
            "The item remove by the popitem() function is ('Memory', '128 GB') \n",
            "\n"
          ],
          "name": "stdout"
        },
        {
          "output_type": "execute_result",
          "data": {
            "text/plain": [
              "{'Display': '6.28 inches',\n",
              " 'Fast Charge': True,\n",
              " 'Front Camera': '16 MP',\n",
              " 'Price': 28990,\n",
              " 'Processor': 'Qualcomm Snapdragon 845',\n",
              " 'RAM': '6 GB',\n",
              " 'Rear Camera': '16 MP + 20 MP'}"
            ]
          },
          "metadata": {
            "tags": []
          },
          "execution_count": 21
        }
      ]
    },
    {
      "cell_type": "markdown",
      "metadata": {
        "id": "387aGRu0rimJ"
      },
      "source": [
        "The item removed is returned as a key-value pair in a tuple."
      ]
    },
    {
      "cell_type": "markdown",
      "metadata": {
        "id": "GQ_1YaWR7Y96"
      },
      "source": [
        "---"
      ]
    },
    {
      "cell_type": "markdown",
      "metadata": {
        "id": "PJaqkLfk7cSX"
      },
      "source": [
        "#### Activity 5: Update Dictionary Item\n",
        "\n",
        "Let's say the price of the smartphone, whose specifications are listed in the `my_dict` dictionary, changes to INR 25000. So, the `'Price': 28990` item in the `my_dict` dictionary must be updated.\n",
        "\n",
        "To update an item in a dictionary, you need to enclose the key for that item in square brackets followed by the equals to sign, followed by the updated value as shown in the following syntax.\n",
        "\n",
        "**Syntax:** `dictionary_name[key] = new_value` "
      ]
    },
    {
      "cell_type": "code",
      "metadata": {
        "id": "cXk13ZOR64Li",
        "colab": {
          "base_uri": "https://localhost:8080/",
          "height": 136
        },
        "outputId": "c35f1096-cd27-45ae-e52a-f11278141cde"
      },
      "source": [
        "# Student Action: Update the price of the smartphone in the 'my_dict' dictionary.\n",
        "my_dict['Price'] = 25000\n",
        "my_dict"
      ],
      "execution_count": null,
      "outputs": [
        {
          "output_type": "execute_result",
          "data": {
            "text/plain": [
              "{'Display': '6.28 inches',\n",
              " 'Fast Charge': True,\n",
              " 'Front Camera': '16 MP',\n",
              " 'Price': 25000,\n",
              " 'Processor': 'Qualcomm Snapdragon 845',\n",
              " 'RAM': '6 GB',\n",
              " 'Rear Camera': '16 MP + 20 MP'}"
            ]
          },
          "metadata": {
            "tags": []
          },
          "execution_count": 22
        }
      ]
    },
    {
      "cell_type": "markdown",
      "metadata": {
        "id": "uLtC_rI08Dff"
      },
      "source": [
        "As you can see, the value corresponding to the `'Price'` is changed to `25000`."
      ]
    },
    {
      "cell_type": "markdown",
      "metadata": {
        "id": "f_0ozJJZ8iFC"
      },
      "source": [
        "---"
      ]
    },
    {
      "cell_type": "markdown",
      "metadata": {
        "id": "cI72YLG98teC"
      },
      "source": [
        "#### Activity 6: The `in` & `not in` Keywords^^^\n",
        "\n",
        "To check whether a key exists in a dictionary or not, you can use the `in` keyword. If a key exists in the dictionary, then the `in` keyword will return `True`, else it will return `False`. Similarly, if a key exists in the dictionary, then the `not in` keyword will return `False`, else it will return `True`.\n",
        "\n",
        "You have already used them in `for` loops many times.\n",
        "\n",
        "**Syntax:** `key in dictionary_name`\n",
        "\n",
        "**Syntax:** `key not in dictionary_name`\n",
        "\n",
        "Let's find out whether the keys, `'Honda'` and `'Audi'` exist in the `cars_dict` or not."
      ]
    },
    {
      "cell_type": "code",
      "metadata": {
        "id": "fncaZ5cJ8Bna",
        "colab": {
          "base_uri": "https://localhost:8080/",
          "height": 34
        },
        "outputId": "82aa40b9-1281-4cca-aeea-594cb6969c8e"
      },
      "source": [
        "# Student Action: Check whether the item 'Honda' exists in the 'cars_dict' dictionary using the 'in' keyword.\n",
        "'Honda' in cars_dict"
      ],
      "execution_count": null,
      "outputs": [
        {
          "output_type": "execute_result",
          "data": {
            "text/plain": [
              "True"
            ]
          },
          "metadata": {
            "tags": []
          },
          "execution_count": 23
        }
      ]
    },
    {
      "cell_type": "code",
      "metadata": {
        "id": "n_eQpnNK9Ypt",
        "colab": {
          "base_uri": "https://localhost:8080/",
          "height": 34
        },
        "outputId": "d20b6453-feea-41d1-ccff-7760b659d102"
      },
      "source": [
        "# Student Action: Check whether the item 'Audi' exists in the 'cars_dict' dictionary using the 'in' keyword.\n",
        "'Audi' not in cars_dict"
      ],
      "execution_count": null,
      "outputs": [
        {
          "output_type": "execute_result",
          "data": {
            "text/plain": [
              "True"
            ]
          },
          "metadata": {
            "tags": []
          },
          "execution_count": 24
        }
      ]
    },
    {
      "cell_type": "markdown",
      "metadata": {
        "id": "HSFyfWCixII2"
      },
      "source": [
        "---"
      ]
    },
    {
      "cell_type": "markdown",
      "metadata": {
        "id": "kTI9sh0MxJ8F"
      },
      "source": [
        "#### Activity 7: The `update()` Function\n",
        "\n",
        "\n",
        "The `update()` function is applied on a dictionary and it's input is another dictionary wherein both the dictionary may or may not contain the same keys. The `update()` function performs two operations:\n",
        "\n",
        "1. It updates the existing key-value pair in a dictionary if a key exists. \n",
        "\n",
        "2. It adds the key-value pairs which do not exist in a dictionary.\n",
        "\n",
        "Consider the two dictionaries:\n",
        "\n",
        "```\n",
        "cars_dict = {'Ford': ['Figo', 'EcoSport', 'Aspire'],\n",
        "              'Honda': 'City',\n",
        "              'Hyundai': ['Verna', 'Creta'],\n",
        "              'Maruti Suzuki': ['Baleno', 'Vitara Brezza', 'Ciaz'],\n",
        "              'Volkswagen': ['Polo', 'Tiguan', 'Vento']}\n",
        "\n",
        "supercars = {\"Ford\": \"Mustang GT\",\n",
        "             \"Lamborghini\": [\"Huracan\", \"Aventador\", \"Elemento\"],\n",
        "             \"Koenigsegg\": [\"Agera\", \"Gemera\", \"Regera\"],\n",
        "             \"Bugatti\": \"Veyron\"}\n",
        "```\n",
        "\n",
        "When the `update()` function is applied on the `cars_dict` dictionary with the `supercars` dictionary as input, it updates the value of the `Ford` key and adds the other key-value pairs of the `supercars` dictionary to the `car_dict` dictionary."
      ]
    },
    {
      "cell_type": "code",
      "metadata": {
        "id": "yXKYodGnxKlg",
        "colab": {
          "base_uri": "https://localhost:8080/",
          "height": 153
        },
        "outputId": "d16d84b8-3820-45b5-b5be-d9f4a75fe5f1"
      },
      "source": [
        "# Student Action: Create the 'supercars' dictionary and update the 'cars_dict' dictionary with the key-value pairs of the 'supercars' dictionary.\n",
        "supercars = {\"Ford\": \"Mustang GT\",\n",
        "             \"Lamborghini\": [\"Huracan\", \"Aventador\", \"Elemento\"],\n",
        "             \"Koenigsegg\": [\"Agera\", \"Gemera\", \"Regera\"],\n",
        "             \"Bugatti\": \"Veyron\"}\n",
        "cars_dict.update(supercars)\n",
        "cars_dict"
      ],
      "execution_count": null,
      "outputs": [
        {
          "output_type": "execute_result",
          "data": {
            "text/plain": [
              "{'Bugatti': 'Veyron',\n",
              " 'Ford': 'Mustang GT',\n",
              " 'Honda': 'City',\n",
              " 'Hyundai': ['Verna', 'Creta'],\n",
              " 'Koenigsegg': ['Agera', 'Gemera', 'Regera'],\n",
              " 'Lamborghini': ['Huracan', 'Aventador', 'Elemento'],\n",
              " 'Maruti Suzuki': ['Baleno', 'Vitara Brezza', 'Ciaz'],\n",
              " 'Volkswagen': ['Polo', 'Tiguan', 'Vento']}"
            ]
          },
          "metadata": {
            "tags": []
          },
          "execution_count": 26
        }
      ]
    },
    {
      "cell_type": "markdown",
      "metadata": {
        "id": "v5DkeL326Khx"
      },
      "source": [
        "---"
      ]
    },
    {
      "cell_type": "markdown",
      "metadata": {
        "id": "czjZdLZm6LJF"
      },
      "source": [
        "#### Activity 8: The `JSON` Objects^\n",
        "\n",
        "JSON stands for **J**ava**S**cript **O**bject **N**otation. It is a way of storing data and exchanging it on the web across multiple servers. In fact, the information stored using JSON on a webpage of a website. \n",
        "\n",
        "- Go to any website. E.g., [IMDb](https://www.imdb.com/?ref_=nv_home)\n",
        "\n",
        "- Right-click on an empty space. A list of action items will appear\n",
        "\n",
        "- Click on the **View Page Source** option. The webpage will open in a new tab in HTML view.\n",
        "\n",
        "- Hit *Commad + F* keys (on Mac) or *Ctrl + F* keys (on other) computers to initiate a search. Then in the search box type **json** and hit the return or enter key. You should be able to see **json** at least once in the searches.\n",
        "\n",
        "A **JSON** object is much alike to a Python dictionary. The only difference being:\n",
        "\n",
        "1. The boolean values in a JSON object are stored as `true` or `false`\n",
        "\n",
        "2. The unavailable/missing values are stored as `null` whereas in Python (excluding Pandas or NumPy) they are stored as `None`.\n",
        "\n",
        "Consider a sample `JSON` object below that is stored in a `movies_info` variable.\n",
        "\n",
        "```\n",
        "movies_info = \"\"\"\n",
        "{\"hollywood\":[\n",
        "    {\"year\": 2014,\n",
        "      \"title\": \"X-Men: Days of Future Past\",\n",
        "      \"info\": {\n",
        "        \"directors\": [\"Bryan Singer\"],\n",
        "        \"release_date\": \"2014-05-21T00:00:00Z\",\n",
        "        \"genres\": [\"Action\", \"Adventure\", \"Fantasy\", \"Sci-Fi\"],\n",
        "        \"rank\": 9,\n",
        "        \"actors\": [\"Jennifer Lawrence\", \"Hugh Jackman\", \"Michael Fassbender\"],\n",
        "        \"english\": true\n",
        "        }\n",
        "    },\n",
        "    {\"year\": 2014,\n",
        "      \"title\": \"Transformers: Age of Extinction\",\n",
        "      \"info\": {\n",
        "        \"directors\": [\"Michael Bay\"],\n",
        "        \"release_date\": \"2014-06-25T00:00:00Z\",\n",
        "        \"genres\": [\"Action\", \"Adventure\", \"Sci-Fi\"],\n",
        "        \"rank\": 10,\n",
        "        \"actors\": [\"Mark Wahlberg\", \"Nicola Peltz\", \"Jack Reynor\"],\n",
        "        \"english\": true\n",
        "        }\n",
        "    }\n",
        "  ],\n",
        " \"bollywood\":[\n",
        "    {\"year\": 2020,\n",
        "      \"title\": \"Angrezi Medium\",\n",
        "      \"info\": {\n",
        "        \"directors\": [\"Homi Adajania\"],\n",
        "        \"release_date\": \"2030-03-13\",\n",
        "        \"genres\": [\"Comdey\", \"Drama\"],\n",
        "        \"rank\": null,\n",
        "        \"actors\": [\"Irrfan Khan\", \"Radhika Madan\", \"Kareena Kapoor\"],\n",
        "        \"english\": false\n",
        "        }\n",
        "    }\n",
        "  ]\n",
        "}\n",
        "\"\"\"\n",
        "```\n",
        "\n",
        "The above `JSON` object is essentially a Python dictionary having two key-value pairs wherein each key is a string containing a list as a value. The list further contains dictionaries whose keys are `year, title` and `info`. The `info` key further contains a dictionary having 6 key-value pairs.\n",
        "\n",
        "Notice the values of the `english` keys. They are boolean values reported as `true` or `false`. The `rank` key holds numeric values for the first two occurrences and a `null` value for the last occurrence.\n",
        "\n",
        "To load a `JSON` object as a Python dictionary you have to import the `json` module. Then use the `json.loads()` function whose input is a `json` object stored in a variable. \n",
        "\n",
        "**Note:** The above `json` object is stored as a string enclosed between three double quotes, i.e., (`\"\"\" \"\"\"`). This is called a multiline string which you will learn in the upcoming classes.\n",
        "\n",
        "At the moment, let's convert the above `JSON` object into a Python dictionary and check whether the boolean values are converted into Python booleans and the `null` value is converted into `None`."
      ]
    },
    {
      "cell_type": "code",
      "metadata": {
        "id": "FlVtLvkjA-zY",
        "colab": {
          "base_uri": "https://localhost:8080/",
          "height": 493
        },
        "outputId": "e5881f19-dba8-4e53-f791-1cd790417eb9"
      },
      "source": [
        "# Student Aciton: Convert the above JSON object into a Python dictionary.\n",
        "import json\n",
        "\n",
        "movies_info = \"\"\"\n",
        "{\"hollywood\":[\n",
        "    {\"year\": 2014,\n",
        "      \"title\": \"X-Men: Days of Future Past\",\n",
        "      \"info\": {\n",
        "        \"directors\": [\"Bryan Singer\"],\n",
        "        \"release_date\": \"2014-05-21T00:00:00Z\",\n",
        "        \"genres\": [\"Action\", \"Adventure\", \"Fantasy\", \"Sci-Fi\"],\n",
        "        \"rank\": 9,\n",
        "        \"actors\": [\"Jennifer Lawrence\", \"Hugh Jackman\", \"Michael Fassbender\"],\n",
        "        \"english\": true\n",
        "        }\n",
        "    },\n",
        "    {\"year\": 2014,\n",
        "      \"title\": \"Transformers: Age of Extinction\",\n",
        "      \"info\": {\n",
        "        \"directors\": [\"Michael Bay\"],\n",
        "        \"release_date\": \"2014-06-25T00:00:00Z\",\n",
        "        \"genres\": [\"Action\", \"Adventure\", \"Sci-Fi\"],\n",
        "        \"rank\": 10,\n",
        "        \"actors\": [\"Mark Wahlberg\", \"Nicola Peltz\", \"Jack Reynor\"],\n",
        "        \"english\": true\n",
        "        }\n",
        "    }\n",
        "  ],\n",
        " \"bollywood\":[\n",
        "    {\"year\": 2020,\n",
        "      \"title\": \"Angrezi Medium\",\n",
        "      \"info\": {\n",
        "        \"directors\": [\"Homi Adajania\"],\n",
        "        \"release_date\": \"2030-03-13\",\n",
        "        \"genres\": [\"Comdey\", \"Drama\"],\n",
        "        \"rank\": null,\n",
        "        \"actors\": [\"Irrfan Khan\", \"Radhika Madan\", \"Kareena Kapoor\"],\n",
        "        \"english\": false\n",
        "        }\n",
        "    }\n",
        "  ]\n",
        "}\n",
        "\"\"\"\n",
        "\n",
        "movies_dict = json.loads(movies_info)\n",
        "movies_dict"
      ],
      "execution_count": null,
      "outputs": [
        {
          "output_type": "execute_result",
          "data": {
            "text/plain": [
              "{'bollywood': [{'info': {'actors': ['Irrfan Khan',\n",
              "     'Radhika Madan',\n",
              "     'Kareena Kapoor'],\n",
              "    'directors': ['Homi Adajania'],\n",
              "    'english': False,\n",
              "    'genres': ['Comdey', 'Drama'],\n",
              "    'rank': None,\n",
              "    'release_date': '2030-03-13'},\n",
              "   'title': 'Angrezi Medium',\n",
              "   'year': 2020}],\n",
              " 'hollywood': [{'info': {'actors': ['Jennifer Lawrence',\n",
              "     'Hugh Jackman',\n",
              "     'Michael Fassbender'],\n",
              "    'directors': ['Bryan Singer'],\n",
              "    'english': True,\n",
              "    'genres': ['Action', 'Adventure', 'Fantasy', 'Sci-Fi'],\n",
              "    'rank': 9,\n",
              "    'release_date': '2014-05-21T00:00:00Z'},\n",
              "   'title': 'X-Men: Days of Future Past',\n",
              "   'year': 2014},\n",
              "  {'info': {'actors': ['Mark Wahlberg', 'Nicola Peltz', 'Jack Reynor'],\n",
              "    'directors': ['Michael Bay'],\n",
              "    'english': True,\n",
              "    'genres': ['Action', 'Adventure', 'Sci-Fi'],\n",
              "    'rank': 10,\n",
              "    'release_date': '2014-06-25T00:00:00Z'},\n",
              "   'title': 'Transformers: Age of Extinction',\n",
              "   'year': 2014}]}"
            ]
          },
          "metadata": {
            "tags": []
          },
          "execution_count": 27
        }
      ]
    },
    {
      "cell_type": "code",
      "metadata": {
        "id": "lUwdkogqBT5L",
        "colab": {
          "base_uri": "https://localhost:8080/",
          "height": 34
        },
        "outputId": "c9fa8b0c-4b54-46b1-a5b7-da1b03443255"
      },
      "source": [
        "# Student Action: Verify whether the JSON object is converted into a Python dictionary or not.\n",
        "type(movies_dict)"
      ],
      "execution_count": null,
      "outputs": [
        {
          "output_type": "execute_result",
          "data": {
            "text/plain": [
              "dict"
            ]
          },
          "metadata": {
            "tags": []
          },
          "execution_count": 28
        }
      ]
    },
    {
      "cell_type": "markdown",
      "metadata": {
        "id": "f_El5f04D9nl"
      },
      "source": [
        "---"
      ]
    },
    {
      "cell_type": "markdown",
      "metadata": {
        "id": "A0_wuVs6EBzJ"
      },
      "source": [
        "#### Activity 9: The `clear()` Function\n",
        "\n",
        "The `clear()` function simply clears or deletes all the key-values pairs from a dictionary."
      ]
    },
    {
      "cell_type": "code",
      "metadata": {
        "id": "M43N32aXD-OH",
        "colab": {
          "base_uri": "https://localhost:8080/",
          "height": 34
        },
        "outputId": "5c214bf9-acc3-43eb-8b62-483b66bb7243"
      },
      "source": [
        "#### Student Action: Clear the contents of the 'movies_dict' dictionary.\n",
        "movies_dict.clear()\n",
        "movies_dict"
      ],
      "execution_count": null,
      "outputs": [
        {
          "output_type": "execute_result",
          "data": {
            "text/plain": [
              "{}"
            ]
          },
          "metadata": {
            "tags": []
          },
          "execution_count": 29
        }
      ]
    },
    {
      "cell_type": "markdown",
      "metadata": {
        "id": "dVwld6tXCGq6"
      },
      "source": [
        "That's it! We have covered everything we need to about Python dictionaries. In the next class, we will learn about Python tuples.\n",
        "\n",
        "**Note:** You can now attempt **Project 9**."
      ]
    },
    {
      "cell_type": "markdown",
      "metadata": {
        "id": "FY_w7kVMmL0u"
      },
      "source": [
        "---"
      ]
    },
    {
      "cell_type": "markdown",
      "metadata": {
        "id": "NGs4sFN5GI_2"
      },
      "source": [
        "### Additional Activities\n",
        "\n",
        "The activities starting from this point are optional. Please do these activities **ONLY** if you have time to spare in the class. Otherwise, skip to the **Wrap-Up** section. The additional activities will not be available in the class copy of the notebook. You will have to manually add these activities in the class copy by adding new text and code cells.\n",
        "\n",
        "Moreover, you don't have to do all the additional activities. Depending on the availability of time in a class, you can choose the number of additional activities to perform from this collection. "
      ]
    },
    {
      "cell_type": "markdown",
      "metadata": {
        "id": "a93_8lWoGIPs"
      },
      "source": [
        "---"
      ]
    },
    {
      "cell_type": "markdown",
      "metadata": {
        "id": "haL5Hm8QErCC"
      },
      "source": [
        "#### Activity 1: Exam Schedule\n",
        "\n",
        "Create the following four dictionaries.\n",
        "\n",
        "```\n",
        "subject_1 = {'Name': 'Mathematics', \n",
        "             'Date': '28-04-2020', \n",
        "             'Day': 'Tuesday'}\n",
        "subject_2 = {'Name': 'English Comm', \n",
        "             'Date': '29-04-2020', \n",
        "             'Day': 'Wednesday'}\n",
        "subject_3 = {'Name': 'Science', \n",
        "             'Date': '30-04-2020', \n",
        "             'Day': 'Friday'}\n",
        "\n",
        "my_time_table = {\"Exam 1\": subject_1, \n",
        "                 \"Exam 2\": subject_2, \n",
        "                 \"Exam 3\": subject_3}\n",
        "```\n",
        "\n",
        "Finally, print the contents of the `my_time_table` dictionary in the following format.\n",
        "\n",
        "```\n",
        "Exam 1\n",
        "Name : Mathematics\n",
        "Date : 28-04-2020\n",
        "Day : Tuesday\n",
        "\n",
        "Exam 2\n",
        "Name : English Comm\n",
        "Date : 29-04-2020\n",
        "Day : Wednesday\n",
        "\n",
        "Exam 3\n",
        "Name : Science\n",
        "Date : 30-04-2020\n",
        "Day : Friday\n",
        "```\n"
      ]
    },
    {
      "cell_type": "code",
      "metadata": {
        "id": "TYaD-wH_Fwh8",
        "colab": {
          "base_uri": "https://localhost:8080/",
          "height": 272
        },
        "outputId": "934eed89-5ab9-44bd-c67a-4a93052fcb5e"
      },
      "source": [
        "# Solution:\n",
        "subject_1 = {'Name': 'Mathematics', \n",
        "             'Date': '28-04-2020', \n",
        "             'Day': 'Tuesday'}\n",
        "subject_2 = {'Name': 'English Comm', \n",
        "             'Date': '29-04-2020', \n",
        "             'Day': 'Wednesday'}\n",
        "subject_3 = {'Name': 'Science', \n",
        "             'Date': '30-04-2020', \n",
        "             'Day': 'Friday'}\n",
        "\n",
        "my_time_table = {\"Exam 1\": subject_1, \n",
        "                 \"Exam 2\": subject_2, \n",
        "                 \"Exam 3\": subject_3}\n",
        "\n",
        "for exam in my_time_table:\n",
        "  print(exam)\n",
        "  for d in my_time_table[exam]:\n",
        "    print(d, \":\", my_time_table[exam].get(d))\n",
        "  print()"
      ],
      "execution_count": null,
      "outputs": [
        {
          "output_type": "stream",
          "text": [
            "Exam 1\n",
            "Name : Mathematics\n",
            "Date : 28-04-2020\n",
            "Day : Tuesday\n",
            "\n",
            "Exam 2\n",
            "Name : English Comm\n",
            "Date : 29-04-2020\n",
            "Day : Wednesday\n",
            "\n",
            "Exam 3\n",
            "Name : Science\n",
            "Date : 30-04-2020\n",
            "Day : Friday\n",
            "\n"
          ],
          "name": "stdout"
        }
      ]
    },
    {
      "cell_type": "markdown",
      "metadata": {
        "id": "F6hwiZvhFfPx"
      },
      "source": [
        "---"
      ]
    },
    {
      "cell_type": "markdown",
      "metadata": {
        "id": "yvYweQ-yFgPD"
      },
      "source": [
        "#### Activity 2: Comprehension\n",
        "\n",
        "Create a dictionary of cubes of the first 10 natural numbers using comprehension method.\n",
        "\n"
      ]
    },
    {
      "cell_type": "code",
      "metadata": {
        "id": "uf05iS3kGeGk",
        "colab": {
          "base_uri": "https://localhost:8080/",
          "height": 187
        },
        "outputId": "c9975a34-13c4-4d32-f648-cee90a789598"
      },
      "source": [
        "# Solution:\n",
        "cubes_dict = {\"cube of \" + str(x) : x ** 3 for x in range(1, 11)}\n",
        "cubes_dict"
      ],
      "execution_count": null,
      "outputs": [
        {
          "output_type": "execute_result",
          "data": {
            "text/plain": [
              "{'cube of 1': 1,\n",
              " 'cube of 10': 1000,\n",
              " 'cube of 2': 8,\n",
              " 'cube of 3': 27,\n",
              " 'cube of 4': 64,\n",
              " 'cube of 5': 125,\n",
              " 'cube of 6': 216,\n",
              " 'cube of 7': 343,\n",
              " 'cube of 8': 512,\n",
              " 'cube of 9': 729}"
            ]
          },
          "metadata": {
            "tags": []
          },
          "execution_count": 31
        }
      ]
    },
    {
      "cell_type": "markdown",
      "metadata": {
        "id": "xx63QoX2HkuU"
      },
      "source": [
        "---"
      ]
    },
    {
      "cell_type": "markdown",
      "metadata": {
        "id": "vIGKT9uHG-9D"
      },
      "source": [
        "#### Activity 3: List of Keys & Values\n",
        "\n",
        "For the `my_dict` dictionary items, create separate Python lists for keys and values."
      ]
    },
    {
      "cell_type": "code",
      "metadata": {
        "id": "dskYhimOHQsV",
        "colab": {
          "base_uri": "https://localhost:8080/",
          "height": 51
        },
        "outputId": "a8355371-3c1a-47cf-abd7-5e0325b6dc94"
      },
      "source": [
        "# Solution:\n",
        "py_keys_list = list(my_dict.keys())\n",
        "py_values_list = list(my_dict.values())\n",
        "print(py_keys_list)\n",
        "print(py_values_list)"
      ],
      "execution_count": null,
      "outputs": [
        {
          "output_type": "stream",
          "text": [
            "['Front Camera', 'Processor', 'Display', 'RAM', 'Rear Camera', 'Price', 'Fast Charge']\n",
            "['16 MP', 'Qualcomm Snapdragon 845', '6.28 inches', '6 GB', '16 MP + 20 MP', 25000, True]\n"
          ],
          "name": "stdout"
        }
      ]
    },
    {
      "cell_type": "markdown",
      "metadata": {
        "id": "U9UBUu95EqDw"
      },
      "source": [
        "---"
      ]
    },
    {
      "cell_type": "markdown",
      "metadata": {
        "id": "dvn737VQOsfD"
      },
      "source": [
        "### Wrap-Up\n",
        "\n",
        "```\n",
        "TEACHER\n",
        "  Did you enjoy the class?\n",
        "\n",
        "EXPECTED STUDENT RESPONSE\n",
        "  Yes, teacher.\n",
        "\n",
        "\n",
        "TEACHER\n",
        "  What part of the class did you enjoy?\n",
        "\n",
        "EXPECTED STUDENT RESPONSE\n",
        "  I enjoyed everything.\n",
        "\n",
        "\n",
        "TEACHER\n",
        "  I am glad you are having a good time. But make sure that you practice \n",
        "  writing code in your free time.\n",
        "\n",
        "EXPECTED STUDENT RESPONSE\n",
        "  Sure teacher.\n",
        "\n",
        "\n",
        "TEACHER\n",
        "  In the next class, we will learn about Python tuples in detail.\n",
        "\n",
        "EXPECTED STUDENT RESPONSE\n",
        "  Sure teacher.\n",
        "\n",
        "\n",
        "TEACHER\n",
        "  See you in the next class. Bye!\n",
        "\n",
        "EXPECTED STUDENT RESPONSE\n",
        "  Bye teacher!\n",
        "```"
      ]
    },
    {
      "cell_type": "markdown",
      "metadata": {
        "id": "YaRL9ZOzOxl2"
      },
      "source": [
        "---"
      ]
    },
    {
      "cell_type": "markdown",
      "metadata": {
        "id": "Dp7oBLfMOyJD"
      },
      "source": [
        "#### Activities\n",
        "\n",
        "**Teacher Activities**\n",
        "\n",
        "1. Python Dictionary Operations II (Class Copy)\n",
        "\n",
        "   https://colab.research.google.com/drive/18ryA1Ivi8xtaTgW9SCvKg25uqJxSvjzL      \n",
        "\n",
        "2. Python Dictionary Operations II (Reference)\n",
        "\n",
        "   https://colab.research.google.com/drive/1RSb40q6av2a_HC3TY5-6WkAdltxEVyEb"
      ]
    },
    {
      "cell_type": "markdown",
      "metadata": {
        "id": "xIyHcGKnOr_s"
      },
      "source": [
        "---"
      ]
    }
  ]
}