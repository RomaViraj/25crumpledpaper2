{
  "nbformat": 4,
  "nbformat_minor": 0,
  "metadata": {
    "colab": {
      "name": "AT - Lesson 33 - Reference - v0",
      "provenance": [],
      "collapsed_sections": [],
      "include_colab_link": true
    },
    "kernelspec": {
      "name": "python3",
      "display_name": "Python 3"
    }
  },
  "cells": [
    {
      "cell_type": "markdown",
      "metadata": {
        "id": "view-in-github",
        "colab_type": "text"
      },
      "source": [
        "<a href=\"https://colab.research.google.com/github/RomaViraj/APT/blob/master/AT_Lesson_33_Tuple.ipynb\" target=\"_parent\"><img src=\"https://colab.research.google.com/assets/colab-badge.svg\" alt=\"Open In Colab\"/></a>"
      ]
    },
    {
      "cell_type": "markdown",
      "metadata": {
        "id": "DOQ43Vq9IBwE"
      },
      "source": [
        "# Lesson 33: Python Tuples I"
      ]
    },
    {
      "cell_type": "markdown",
      "metadata": {
        "id": "DTP6HaHxknK2"
      },
      "source": [
        "**WARNING:** The reference notebook is meant **ONLY** for a teacher. Please **DO NOT** share it with any student. \n",
        "\n",
        "The contents of the reference notebook are meant only to prepare a teacher for a class. To conduct the class, use the class copy of the reference notebook. The link and the instructions for the same are provided in the **Notes To The Teacher** section.\n",
        "\n",
        "\n",
        "|Particulars|Description|\n",
        "|-|-|\n",
        "|**Topic**|Python Tuples I|\n",
        "|||\n",
        "|**Class Description**|In this class, a student will learn to create Python tuples and apply fundamental operations on them|\n",
        "|||\n",
        "|**Class**|C33|\n",
        "|||\n",
        "|**Class Time**|45 minutes|\n",
        "|||\n",
        "|**Goal**|Create a Python tuple and calculate the length of a tuple|\n",
        "||Retrieve items using the tuple indexing method|\n",
        "||Slice a Python tuple|\n",
        "||Count the number of times an item exists in a tuple|\n",
        "||Get the index of an item in a tuple|\n",
        "|||\n",
        "|**Teacher Resources**|Google Account|\n",
        "||Link to Lesson 33 Colab reference notebook|\n",
        "||Laptop with internet connectivity|\n",
        "||Earphones with mic|\n",
        "|||\n",
        "|**Student Resources**|Google Account|\n",
        "||Laptop with internet connectivity|\n",
        "||Earphones with mic|"
      ]
    },
    {
      "cell_type": "markdown",
      "metadata": {
        "id": "aSbnQHSCldEC"
      },
      "source": [
        "---"
      ]
    },
    {
      "cell_type": "markdown",
      "metadata": {
        "id": "Vc7XzD3flfq6"
      },
      "source": [
        "### Class Structure\n",
        "\n",
        "A class is divided into three parts, as shown in the table below.\n",
        "\n",
        "|Parts|Duration|\n",
        "|-|-|\n",
        "|**Warm-Up**|5 minutes|\n",
        "|||\n",
        "|**Teacher-Student Activities**|35 minutes|\n",
        "|||\n",
        "|**Wrap-Up**|5 minutes|"
      ]
    },
    {
      "cell_type": "markdown",
      "metadata": {
        "id": "4u5M9IAUlg67"
      },
      "source": [
        "---"
      ]
    },
    {
      "cell_type": "markdown",
      "metadata": {
        "id": "2TtQZ2hdljqv"
      },
      "source": [
        "### Notes To The Teacher\n",
        "\n",
        "There are many concepts and operations common to both a Python list and a Python tuple. Please revise them by asking the questions to students based on Python lists at the beginning of every activity in this class. E.g., if a concept/operation in **Activity 3** is the same as the one applicable to Python then ask a question based on that concept/operation at the beginning of the activity. This will help a student to recall the concepts and improve their class experience.\n",
        "\n",
        "Before beginning the class:\n",
        "\n",
        "1. Open the **AT - Lesson 33 - Class Copy - v0** file by clicking on the link provided in the **Activities** section under the title **Python Tuples I (Class Copy)**.  \n",
        "\n",
        "2. After opening the file mentioned in the first point, create its duplicate copy by following the steps described below:\n",
        "\n",
        "    - Click on the **File** menu. A new drop-down list will appear.\n",
        "\n",
        "      <img src='https://student-datasets-bucket.s3.ap-south-1.amazonaws.com/images/lesson-0/0_file_menu.png' width=400>\n",
        "\n",
        "    - Click on the **Save a copy in Drive** option. A duplicate copy will get created. It will open up in the new tab on your web browser.\n",
        "\n",
        "      <img src='https://student-datasets-bucket.s3.ap-south-1.amazonaws.com/images/lesson-0/1_create_colab_duplicate_copy.png' width=500>\n",
        "\n",
        "    - In the duplicate copy, click on the **Share** button on the top right corner of the notebook. A new dialogue box will appear.\n",
        "\n",
        "      <img src='https://student-datasets-bucket.s3.ap-south-1.amazonaws.com/images/lesson-0/2_share_button.png' width=500>\n",
        "\n",
        "    - Click on the tiny downward arrow next to **Anyone with the link can view** text. A drop-down list will appear.\n",
        "\n",
        "      <img src='https://student-datasets-bucket.s3.ap-south-1.amazonaws.com/images/lesson-0/3_anyone_can_view.png' width=500>\n",
        "\n",
        "    - Click on the **More...** option. A new page on the dialogue box will appear.\n",
        "\n",
        "      <img src='https://student-datasets-bucket.s3.ap-south-1.amazonaws.com/images/lesson-0/4_more_option.png' width=500>\n",
        "\n",
        "    - Click on the circle next to **On - Anyone with the link** option. Now, go down and click on the tiny downward box next to **Can edit** text. A drop-down list will appear.\n",
        "\n",
        "      <img src='https://student-datasets-bucket.s3.ap-south-1.amazonaws.com/images/lesson-0/5_anyone_with_the_link.png' width=500>\n",
        "\n",
        "    - Click on the **Can edit** option. Then click on the **Save** button. You will be directed back to the first page of the dialogue box.\n",
        "\n",
        "      <img src='https://student-datasets-bucket.s3.ap-south-1.amazonaws.com/images/lesson-0/6_can_edit.png' width=500>\n",
        "\n",
        "    - Make sure that under the **Link sharing on** section, **Anyone with the link can edit** option is selected. \n",
        "\n",
        "      <img src='https://student-datasets-bucket.s3.ap-south-1.amazonaws.com/images/lesson-0/7_anyone_can_edit.png' width=500>\n",
        "\n",
        "    - Then click on the **Done** button.\n",
        "\n",
        "3. After creating the duplicate copy of the notebook, please rename it in the **YYYY-MM-DD_StudentName_Lesson33** format. \n",
        "\n",
        "\n",
        "4. Now, finish the **Warm-Up** section. Afterwards, proceed with the class using the duplicate copy of the notebook. You can share the link of the duplicate copy (named as **YYYY-MM-DD_StudentName_Lesson33**) with the student through the chat window.\n",
        "\n",
        "5. When a student executes the code for the first time in the duplicate copy that you shared with them, they may get the following warning:\n",
        "\n",
        "   ```\n",
        "    Warning: This notebook was not authored by Google. This notebook was \n",
        "    authored by xyz@gmail.com. It may request access to your data stored \n",
        "    with Google such as files, emails and contacts. Please review the source \n",
        "    code and contact the creator of this notebook at xyz@gmail.com with any \n",
        "    additional questions. \n",
        "\n",
        "                                                      Cancel. Run Anyway.\n",
        "  ```\n",
        "\n",
        "6. Ask the student to click on the `Run Anyway` button.\n",
        "\n",
        "7. Wherever you see the hat (**^**) sign on the heading of activity, give a hats-off to the student at the end of the activity.\n",
        "\n",
        "    - Single hat sign, i.e., **^** denotes give hats-off for concentration. You have to assess the concentration level of a student based on their attentiveness and understanding of the concept.\n",
        "\n",
        "    - Double hat signs, i.e., **^^** denotes give hats-off for creativity. It can be an alternative approach to writing a code for an activity or applying the logic in a totally different problem statement.\n",
        "\n",
        "    - Triple hat signs, i.e., **^^^** denotes give hats-off for persistence. It is the ability of a student to not give up on writing code and writing code with minimal teacher support.\n",
        "\n",
        "8. Every time you execute your code in the Google Colab notebook, please don't forget to save it by pressing the **Ctrl + S** keys (or **Command + S** keys if you are using a Mac). While saving the notebook, you or student may encounter the following error:\n",
        "\n",
        "   ```\n",
        "    Save failed\n",
        "    \n",
        "    The notebook has been changed outside of this session. Would you like to \n",
        "    overwrite existing changes?\n",
        "    \n",
        "                                                              CANCEL    YES\n",
        "   ```\n",
        "\n",
        "   Click on the `YES` button.\n",
        "\n",
        "9. Occasionally, you may encounter some error such as `NameError, ReferenceError, ImportError` or `ModuleNotFoundError` after executing the code in $k^{th}$ code cell (where $k > 0$). Most likely, due to poor internet speed, the Colab notebook might have lost the information that all the previous codes have been executed already. As a remedy, run codes in the code cells beginning from the first code cell till the $(k - 1)^{th}$ code cell. For e.g., if the code in the $5^{th}$ code cell fails to run because of one of the aforementioned errors, execute the codes in all the first four code cells again.\n",
        "\n",
        "10. For every **Teacher Action**, the teacher is supposed to share their screen with the student. Similarly, for every **Student Action**, the student is supposed to share their screen with the teacher.\n"
      ]
    },
    {
      "cell_type": "markdown",
      "metadata": {
        "id": "OZ_S-19znQWT"
      },
      "source": [
        "---"
      ]
    },
    {
      "cell_type": "markdown",
      "metadata": {
        "id": "HjsV9E-vnRGG"
      },
      "source": [
        "### Warm-Up\n",
        "\n",
        "```\n",
        "TEACHER\n",
        "  Hi student_name! How are you doing?\n",
        "\n",
        "EXPECTED STUDENT RESPONSE\n",
        "  I am doing good, teacher. How about you?\n",
        "\n",
        "\n",
        "TEACHER\n",
        "  I am having a good time, thank you. So, how was your day? What did you do \n",
        "  today?\n",
        "\n",
        "EXPECTED STUDENT RESPONSE \n",
        "  I went to school. Had my lunch. Played a game and then did my homework \n",
        "  before this class.\n",
        "\n",
        "\n",
        "TEACHER\n",
        "  That's great. I am glad that you are having a good day. Now, let's do a \n",
        "  quick recap of our previous class. Can you recall the concepts you \n",
        "  learnt in the previous lesson?\n",
        "\n",
        "EXPECTED STUDENT RESPONSE\n",
        "  We learnt how to \n",
        "    - Add a new item to a dictionary\n",
        "    - Create a Python dictionary from two Python list\n",
        "    - Remove an item from a dictionary\n",
        "    - Update an existing item in a dictionary\n",
        "    - How to check whether an item exists in a dictionary\n",
        "    - And few important points about a Python dictionary\n",
        "\n",
        "TEACHER\n",
        "  Excellent! You recalled everything that you learnt in the last class. \n",
        "  Great job! Keep it up. \n",
        "  I have an exciting quiz question for you! Are you ready to answer this question?    \n",
        "  ```   \n",
        "  **Instructions for the Teacher:**\n",
        "  -  Please click on the \"Quiz Time\" button on the bottom right corner of your screen to start the In-Class Quiz.<img src='https://student-datasets-bucket.s3.ap-south-1.amazonaws.com/images/quiz-time.png' width=100>   \n",
        "  - A quiz will be visible to both you and the student. Encourage the student to answer the quiz question. \n",
        "  - The student may choose the wrong option, help the student to think correctly about the question and then answer again. \n",
        "  - After the student selects the correct option, the \"End Quiz\" button will start appearing on your screen.  <img src='https://student-datasets-bucket.s3.ap-south-1.amazonaws.com/images/end-quiz.png' width=100>  \n",
        "  - Click the \"End quiz\" to close the quiz pop-up and continue the class. \n",
        "  - Do not spend more than 2 minutes on this quiz.\n",
        "\n",
        "```\n",
        "TEACHER\n",
        "  In this class, we are going to learn how to create \n",
        "  Python tuples and how to apply some fundamental operations on them. Most of \n",
        "  these are common to Python lists.\n",
        "\n",
        "  So, are you excited for this class?\n",
        "\n",
        "EXPECTED STUDENT RESPONSE\n",
        "  Yes, teacher.\n",
        "\n",
        "\n",
        "TEACHER\n",
        "  All right. Let's get started. I'm sharing the link to the Colab notebook \n",
        "  for this class with you. Open it up.\n",
        "\n",
        "  Note:\n",
        "    - Share the duplicate copy of the notebook that you just created with \n",
        "      the student through the chat window.\n",
        "    \n",
        "EXPECTED STUDENT RESPONSE\n",
        "  The student opens the Colab notebook.\n",
        "```"
      ]
    },
    {
      "cell_type": "markdown",
      "metadata": {
        "id": "YwNkwrSdXjkP"
      },
      "source": [
        "---"
      ]
    },
    {
      "cell_type": "markdown",
      "metadata": {
        "id": "s2pZAC4BWtxM"
      },
      "source": [
        "### Teacher-Student Activities\n",
        "\n",
        "So far you have learned two data-structures: lists and dictionaries. In this class, we will learn Python tuples in detail. We have been using them but never really discussed them much.\n",
        "\n",
        "Essentially, Python tuples behave exactly like Python lists with just one difference. Python tuples are immutable in nature. In other words, the contents of a tuple are unchangeable. Once a tuple is created, you cannot add a new item, cannot update an existing item and cannot delete an item.\n",
        "\n",
        "To sum it up, a Python tuple is an **ordered and immutable** collection of items. A Python list, on the other hand, is an ordered but mutable collection of items.\n",
        "\n",
        "In real-life situations, a tuple is used to store unchangeable information such as bank account number, email-id, coordinates of a location or any universally true fact such as water has two molecules of hydrogen and one molecule of oxygen. \n"
      ]
    },
    {
      "cell_type": "markdown",
      "metadata": {
        "id": "3kS83R_RkxZt"
      },
      "source": [
        "---"
      ]
    },
    {
      "cell_type": "markdown",
      "metadata": {
        "id": "UL4aH3IwkyTs"
      },
      "source": [
        "#### Activity 1: Create Python Tuple\n",
        "\n",
        "Let's create a tuple which stores the names of the six naturally occurring noble gases. They are as follows:\n",
        "\n",
        "`helium (He), neon (Ne), argon (Ar), krypton (Kr), xenon (Xe), radon (Rn)`\n",
        "\n",
        "To create a tuple, you simply have to write the items enclosed between the common brackets `()` such that the items are separated by a comma."
      ]
    },
    {
      "cell_type": "code",
      "metadata": {
        "id": "sGXjP_9XLI0X",
        "colab": {
          "base_uri": "https://localhost:8080/",
          "height": 34
        },
        "outputId": "fe182dea-b731-4029-a7bc-9ef0608e20c0"
      },
      "source": [
        "# Student Action: Create a tuple containing the names of the six naturally occurring noble gases.\n",
        "noble_gases = ('He', 'Ne', 'Ar', 'Kr', 'Xn', 'Rn')\n",
        "noble_gases"
      ],
      "execution_count": null,
      "outputs": [
        {
          "output_type": "execute_result",
          "data": {
            "text/plain": [
              "('He', 'Ne', 'Ar', 'Kr', 'Xn', 'Rn')"
            ]
          },
          "metadata": {
            "tags": []
          },
          "execution_count": 1
        }
      ]
    },
    {
      "cell_type": "markdown",
      "metadata": {
        "id": "mlP16hWpXgd3"
      },
      "source": [
        " To verify whether a data structure is a tuple or not, you can use the `type()` function."
      ]
    },
    {
      "cell_type": "code",
      "metadata": {
        "id": "uYRMrXEaXe51",
        "colab": {
          "base_uri": "https://localhost:8080/",
          "height": 34
        },
        "outputId": "1676b26d-8daa-45c1-f11d-9e19d58dc756"
      },
      "source": [
        "# Student Action: Verify whether the data-structure stored in the 'noble_gases' variable is a tuple or not.\n",
        "type(noble_gases)"
      ],
      "execution_count": null,
      "outputs": [
        {
          "output_type": "execute_result",
          "data": {
            "text/plain": [
              "tuple"
            ]
          },
          "metadata": {
            "tags": []
          },
          "execution_count": 3
        }
      ]
    },
    {
      "cell_type": "markdown",
      "metadata": {
        "id": "YiIAzbVIY0Hq"
      },
      "source": [
        "Similar to a Python list, a Python tuple can also contain different types of items such as integer, float, string, list, boolean, tuple etc. Let's learn this concept with the help of an example.\n",
        "\n",
        "Consider the following properties of helium.\n",
        "\n",
        "|Properties of Helium (He) |Values|\n",
        "|-|-|\n",
        "|Atomic number|2|\n",
        "|Atomic mass $\\left(\\frac{g}{mol}\\right)$|4.0026|\n",
        "|Electronegativity according to Pauling|unknown|\n",
        "|Present in Earth's atmosphere|Yes|\n",
        "|Stable isotopes|helium-3, helium-4|\n",
        "\n",
        "The `Values` column in the above list contains items of all the types. Let's put the same items in a tuple and store it in the `helium_props` variable.\n",
        "\n",
        "\n"
      ]
    },
    {
      "cell_type": "code",
      "metadata": {
        "id": "uU_TcNO7TxQy",
        "colab": {
          "base_uri": "https://localhost:8080/",
          "height": 34
        },
        "outputId": "20004b87-6f1b-4357-f432-abd572ad5f12"
      },
      "source": [
        "# Student Action: Create a tuple containing all the properties of Helium.\n",
        "helium_props = (2, 4.0026, 'unknown', True, ['helium-3', 'helium-4'])\n",
        "helium_props"
      ],
      "execution_count": null,
      "outputs": [
        {
          "output_type": "execute_result",
          "data": {
            "text/plain": [
              "(2, 4.0026, 'unknown', True, ['helium-3', 'helium-4'])"
            ]
          },
          "metadata": {
            "tags": []
          },
          "execution_count": 67
        }
      ]
    },
    {
      "cell_type": "markdown",
      "metadata": {
        "id": "ZfCaFwjJYX2b"
      },
      "source": [
        "As you can see, a tuple can contain different types of items.\n"
      ]
    },
    {
      "cell_type": "markdown",
      "metadata": {
        "id": "9RV3-ZMkxrZG"
      },
      "source": [
        "---"
      ]
    },
    {
      "cell_type": "markdown",
      "metadata": {
        "id": "gCe9LYbXaSvI"
      },
      "source": [
        "#### Activity 2: Tuple Length\n",
        "\n",
        "The length of a tuple (or tuple length) is the number of items contained in the tuple. To calculate the length of a tuple (or the number of items present in a tuple), you can use the `len()` function (the same function that you have been using for Python lists)."
      ]
    },
    {
      "cell_type": "code",
      "metadata": {
        "id": "J-Z09gTba5Gt",
        "colab": {
          "base_uri": "https://localhost:8080/",
          "height": 34
        },
        "outputId": "21c7d47d-5d8a-47e1-ddd3-5a584e37f31d"
      },
      "source": [
        "# Student Action: Calculate the number of items contained in the 'helium_props' tuple.\n",
        "len(helium_props)"
      ],
      "execution_count": null,
      "outputs": [
        {
          "output_type": "execute_result",
          "data": {
            "text/plain": [
              "5"
            ]
          },
          "metadata": {
            "tags": []
          },
          "execution_count": 6
        }
      ]
    },
    {
      "cell_type": "markdown",
      "metadata": {
        "id": "WuND4hQYa7Lw"
      },
      "source": [
        "The last item `['helium-3', 'helium-4']` is a list acting as a singular item contained in the `helium_props` tuple."
      ]
    },
    {
      "cell_type": "markdown",
      "metadata": {
        "id": "2uI5LyWYNiXr"
      },
      "source": [
        "---"
      ]
    },
    {
      "cell_type": "markdown",
      "metadata": {
        "id": "mDDIaAO7xVrl"
      },
      "source": [
        "#### Activity 3: Empty Tuple & One-Item Tuple\n",
        "\n",
        "You can also create an empty tuple (a tuple having no item) by simply writing the common brackets (or parentheses)."
      ]
    },
    {
      "cell_type": "code",
      "metadata": {
        "id": "ouw082yTu95T",
        "colab": {
          "base_uri": "https://localhost:8080/",
          "height": 34
        },
        "outputId": "9651e71e-797f-435a-951f-be328b223289"
      },
      "source": [
        "# Student Action: Create an empty tuple.\n",
        "empty_tuple = ()\n",
        "empty_tuple"
      ],
      "execution_count": null,
      "outputs": [
        {
          "output_type": "execute_result",
          "data": {
            "text/plain": [
              "()"
            ]
          },
          "metadata": {
            "tags": []
          },
          "execution_count": 10
        }
      ]
    },
    {
      "cell_type": "markdown",
      "metadata": {
        "id": "KVm8f5k1vRh1"
      },
      "source": [
        "Interestingly, creating a tuple containing only one item is quite tricky. As an experiment, create the following five tuples containing only one item and check their types using the `type` function.\n",
        "\n",
        "```\n",
        "atomic_num = (2)\n",
        "atomic_mass = (4.0026)\n",
        "elec_neg = ('unknown')\n",
        "in_earth_atmos = (True)\n",
        "stable_isotopes = (['helium-3', 'helium-4'])\n",
        "```"
      ]
    },
    {
      "cell_type": "code",
      "metadata": {
        "id": "RSPj_JS0vZG3",
        "colab": {
          "base_uri": "https://localhost:8080/",
          "height": 102
        },
        "outputId": "88cc1956-6e3a-4d02-abb7-9801851013cc"
      },
      "source": [
        "# Student Action: Create the above five tuples and check their types.\n",
        "atomic_num = (2)\n",
        "atomic_mass = (4.0026)\n",
        "elec_neg = ('unknown')\n",
        "in_earth_atmos = (True)\n",
        "stable_isotopes = (['helium-3', 'helium-4'])\n",
        "print(type(atomic_num))\n",
        "print(type(atomic_mass))\n",
        "print(type(elec_neg))\n",
        "print(type(in_earth_atmos))\n",
        "print(type(stable_isotopes))"
      ],
      "execution_count": null,
      "outputs": [
        {
          "output_type": "stream",
          "text": [
            "<class 'int'>\n",
            "<class 'float'>\n",
            "<class 'str'>\n",
            "<class 'bool'>\n",
            "<class 'list'>\n"
          ],
          "name": "stdout"
        }
      ]
    },
    {
      "cell_type": "markdown",
      "metadata": {
        "id": "g3Zw7bK-yI6m"
      },
      "source": [
        "As you can see, the `type()` function returns all the other types except for `tuple`. This is how the Python interpreter works. We can't do anything about it.\n",
        "\n",
        "Now, put a comma after the item in each of the above five tuples and check their types again. "
      ]
    },
    {
      "cell_type": "code",
      "metadata": {
        "id": "EJYYKtsZyoFt",
        "colab": {
          "base_uri": "https://localhost:8080/",
          "height": 102
        },
        "outputId": "2e953477-70d0-4e8a-f7dc-8fb6c3367941"
      },
      "source": [
        "# Student Action: Create the above five tuples again by putting a comma after item in each tuple and check their types.\n",
        "atomic_num = (2,)\n",
        "atomic_mass = (4.0026,)\n",
        "elec_neg = ('unknown',)\n",
        "in_earth_atmos = (True,)\n",
        "stable_isotopes = (['helium-3', 'helium-4'],)\n",
        "print(type(atomic_num))\n",
        "print(type(atomic_mass))\n",
        "print(type(elec_neg))\n",
        "print(type(in_earth_atmos))\n",
        "print(type(stable_isotopes))"
      ],
      "execution_count": null,
      "outputs": [
        {
          "output_type": "stream",
          "text": [
            "<class 'tuple'>\n",
            "<class 'tuple'>\n",
            "<class 'tuple'>\n",
            "<class 'tuple'>\n",
            "<class 'tuple'>\n"
          ],
          "name": "stdout"
        }
      ]
    },
    {
      "cell_type": "markdown",
      "metadata": {
        "id": "5z7-el8VzNq7"
      },
      "source": [
        "As you can see, we have now created five tuples. Each of them contains only one item. Hence, the trick to create a tuple having only one item is to put a comma after the item. \n",
        "\n",
        "**Note:** Even if you don't enclose the items within parentheses but put a trailing comma, then also Python will create a tuple."
      ]
    },
    {
      "cell_type": "code",
      "metadata": {
        "id": "inB4D0glz5Us",
        "colab": {
          "base_uri": "https://localhost:8080/",
          "height": 51
        },
        "outputId": "95593a8a-d16c-45b0-82b1-b0736e644455"
      },
      "source": [
        "# Student Action: Create two tuples without putting parentheses: one having only one item and another having at least two items.\n",
        "# Verify whether they both are tuples or not.\n",
        "tuple1 = 1, \n",
        "tuple2 = 1, 2, 3 # You can also put a comma after the last element but it is not required.\n",
        "print(type(tuple1))\n",
        "print(type(tuple2))"
      ],
      "execution_count": null,
      "outputs": [
        {
          "output_type": "stream",
          "text": [
            "<class 'tuple'>\n",
            "<class 'tuple'>\n"
          ],
          "name": "stdout"
        }
      ]
    },
    {
      "cell_type": "markdown",
      "metadata": {
        "id": "JfGAxG_i0MA6"
      },
      "source": [
        "As you can see, even without putting parentheses, we can create a tuple. This is a very unique property of a Python tuple."
      ]
    },
    {
      "cell_type": "markdown",
      "metadata": {
        "id": "axkkh0lFbN9m"
      },
      "source": [
        "---"
      ]
    },
    {
      "cell_type": "markdown",
      "metadata": {
        "id": "zX2UYla-ZZr7"
      },
      "source": [
        "#### Activity 4: Tuple Indexing^\n",
        "\n",
        "Tuple indexing is exactly the same as list indexing. Every item in a Python tuple, occupies a unique position called index. \n",
        "\n",
        "- The first item in a tuple occupies `index = 0`. \n",
        "\n",
        "- Similarly, the second item occupies `index = 1` and so on.\n",
        "\n",
        "- The last item occupies `index = (n - 1)`, where `n` is the number of items contained in a tuple.\n",
        "\n",
        "To get an item of a specific index, write the name of the variable storing the tuple followed by the index value enclosed between square brackets `[]`.\n",
        "\n",
        "**Syntax:** `tuple_name[index_value]`\n"
      ]
    },
    {
      "cell_type": "markdown",
      "metadata": {
        "id": "MTQcsObYeTAk"
      },
      "source": [
        "Here's the expected output for the following exercise:\n",
        "\n",
        "```\n",
        "Item at index 0 is 2\n",
        "Item at index 1 is 4.0026\n",
        "Item at index 2 is unknown\n",
        "Item at index 3 is True\n",
        "Item at index 4 is ['helium-3', 'helium-4']\n",
        "```\n"
      ]
    },
    {
      "cell_type": "code",
      "metadata": {
        "id": "r9YReDgvYbnJ",
        "colab": {
          "base_uri": "https://localhost:8080/",
          "height": 102
        },
        "outputId": "600c45db-beb4-4bdd-ef84-9c31eee60bfe"
      },
      "source": [
        "# Student Action: Print all the items one-by-one contained in the 'helium_props' tuple using the indexing method along with a 'for' loop.\n",
        "for i in range(len(helium_props)):\n",
        "  print(\"Item at index\", i, \"is\", helium_props[i])"
      ],
      "execution_count": null,
      "outputs": [
        {
          "output_type": "stream",
          "text": [
            "Item at index 0 is 2\n",
            "Item at index 1 is 4.0026\n",
            "Item at index 2 is unknown\n",
            "Item at index 3 is True\n",
            "Item at index 4 is ['helium-3', 'helium-4']\n"
          ],
          "name": "stdout"
        }
      ]
    },
    {
      "cell_type": "markdown",
      "metadata": {
        "id": "_Rv7qabdcnoD"
      },
      "source": [
        "As you can see, you can get individual items by writing their indices enclosed between square brackets after the variable containing the tuple.\n",
        "\n",
        "Just like a Python list, you can use negative indexing as well to retrieve an item from a tuple.\n"
      ]
    },
    {
      "cell_type": "markdown",
      "metadata": {
        "id": "fOjwNFdceWWM"
      },
      "source": [
        "Here's the expected output for the following exercise:\n",
        "\n",
        "```\n",
        "Item at index -5 is 2\n",
        "Item at index -4 is 4.0026\n",
        "Item at index -3 is unknown\n",
        "Item at index -2 is True\n",
        "Item at index -1 is ['helium-3', 'helium-4']\n",
        "```"
      ]
    },
    {
      "cell_type": "code",
      "metadata": {
        "id": "oV_NMDsjgS86",
        "colab": {
          "base_uri": "https://localhost:8080/",
          "height": 102
        },
        "outputId": "5b570dd3-46f0-4097-edac-f66d87d6c353"
      },
      "source": [
        "# Student Action: Print all the items one-by-one contained in the 'helium_props' tuple using the negative indexing method along with a 'for' loop.\n",
        "for i in range(len(helium_props)):\n",
        "  print(\"Item at index\", i - len(helium_props), \"is\", helium_props[i - len(helium_props)]) # The value of 'i' goes from 0 to 4.  "
      ],
      "execution_count": null,
      "outputs": [
        {
          "output_type": "stream",
          "text": [
            "Item at index -5 is 2\n",
            "Item at index -4 is 4.0026\n",
            "Item at index -3 is unknown\n",
            "Item at index -2 is True\n",
            "Item at index -1 is ['helium-3', 'helium-4']\n"
          ],
          "name": "stdout"
        }
      ]
    },
    {
      "cell_type": "markdown",
      "metadata": {
        "id": "twJpb_FYdGg1"
      },
      "source": [
        "Here's the expected output for the following exercise:\n",
        "\n",
        "```\n",
        "Item at index -1 is ['helium-3', 'helium-4']\n",
        "Item at index -2 is True\n",
        "Item at index -3 is unknown\n",
        "Item at index -4 is 4.0026\n",
        "Item at index -5 is 2\n",
        "```"
      ]
    },
    {
      "cell_type": "code",
      "metadata": {
        "id": "xgpEp-eQbW12",
        "colab": {
          "base_uri": "https://localhost:8080/",
          "height": 102
        },
        "outputId": "ace86aaa-5c31-4f6e-8238-dfa20f2f37da"
      },
      "source": [
        "# Student Action: Get all the items of the 'helium_props' tuple in the reverse order using the negative indexing method along with a 'for' loop.\n",
        "for i in range(len(helium_props)):\n",
        "  print(\"Item at index\", - (i + 1), \"is\", helium_props[len(helium_props) - 1 - i]) "
      ],
      "execution_count": null,
      "outputs": [
        {
          "output_type": "stream",
          "text": [
            "Item at index -1 is ['helium-3', 'helium-4']\n",
            "Item at index -2 is True\n",
            "Item at index -3 is unknown\n",
            "Item at index -4 is 4.0026\n",
            "Item at index -5 is 2\n"
          ],
          "name": "stdout"
        }
      ]
    },
    {
      "cell_type": "markdown",
      "metadata": {
        "id": "A9GPlohcvxU7"
      },
      "source": [
        "You can also retrieve all the items from a tuple without using the `range()` function in a `for` loop.\n",
        "\n"
      ]
    },
    {
      "cell_type": "markdown",
      "metadata": {
        "id": "ULb6zpkJej5l"
      },
      "source": [
        "Here's the expected output for the following exercise:\n",
        "\n",
        "```\n",
        "Item at index 0 is 2\n",
        "Item at index 1 is 4.0026\n",
        "Item at index 2 is unknown\n",
        "Item at index 3 is True\n",
        "Item at index 4 is ['helium-3', 'helium-4']\n",
        "```\n"
      ]
    },
    {
      "cell_type": "code",
      "metadata": {
        "id": "dOQoESx4wmOr",
        "colab": {
          "base_uri": "https://localhost:8080/",
          "height": 102
        },
        "outputId": "a168fc66-c071-44e5-94b7-20cab1107a06"
      },
      "source": [
        "# Student Action: Retrieve all the items from 'helium_props' tuple without using the 'range()' function in a 'for' loop.\n",
        "i = 0\n",
        "for item in helium_props:\n",
        "  print(\"Item at index\", i, \"is\", item)\n",
        "  i += 1"
      ],
      "execution_count": null,
      "outputs": [
        {
          "output_type": "stream",
          "text": [
            "Item at index 0 is 2\n",
            "Item at index 1 is 4.0026\n",
            "Item at index 2 is unknown\n",
            "Item at index 3 is True\n",
            "Item at index 4 is ['helium-3', 'helium-4']\n"
          ],
          "name": "stdout"
        }
      ]
    },
    {
      "cell_type": "markdown",
      "metadata": {
        "id": "ain-xGoSdeJG"
      },
      "source": [
        "**Note:** The `i += 1` is another way of writing `i = i + 1`. Similarly, \n",
        "\n",
        "- `i -= 1` is another way of writing `i = i - 1`.\n",
        "\n",
        "- `i *= 2` is another way of writing `i = i * 2` and so on."
      ]
    },
    {
      "cell_type": "markdown",
      "metadata": {
        "id": "ehuJdrrDdbf3"
      },
      "source": [
        "---"
      ]
    },
    {
      "cell_type": "markdown",
      "metadata": {
        "id": "Gl6PMYFzdcuY"
      },
      "source": [
        "#### Activity 5: Tuple Slicing^^\n",
        "\n",
        "Again, tuple slicing is exactly the same as the list slicing. We will quickly go through this concept."
      ]
    },
    {
      "cell_type": "code",
      "metadata": {
        "id": "g4St23LCckp5",
        "colab": {
          "base_uri": "https://localhost:8080/",
          "height": 34
        },
        "outputId": "22bb7c8e-3768-4923-bc59-d0ca7bc15148"
      },
      "source": [
        "# Student Action: Get the first four items from the 'helium_props' tuple.\n",
        "helium_props[:4]"
      ],
      "execution_count": null,
      "outputs": [
        {
          "output_type": "execute_result",
          "data": {
            "text/plain": [
              "(2, 4.0026, 'unknown', True)"
            ]
          },
          "metadata": {
            "tags": []
          },
          "execution_count": 39
        }
      ]
    },
    {
      "cell_type": "code",
      "metadata": {
        "id": "8awzIZSGfAz9",
        "colab": {
          "base_uri": "https://localhost:8080/",
          "height": 34
        },
        "outputId": "1989e7de-9c0b-4e82-b09d-e4f061646d54"
      },
      "source": [
        "# Student Action: Get all the items from the 'helium_props' tuple in the reverse order.\n",
        "helium_props[::-1]"
      ],
      "execution_count": null,
      "outputs": [
        {
          "output_type": "execute_result",
          "data": {
            "text/plain": [
              "(['helium-3', 'helium-4'], True, 'unknown', 4.0026, 2)"
            ]
          },
          "metadata": {
            "tags": []
          },
          "execution_count": 41
        }
      ]
    },
    {
      "cell_type": "code",
      "metadata": {
        "id": "qOtYwIANhkZD",
        "colab": {
          "base_uri": "https://localhost:8080/",
          "height": 34
        },
        "outputId": "85e4b80c-7294-4374-b71f-21050f0409d7"
      },
      "source": [
        "# Student Action: Get the alternate items from the 'helium_props' tuple.\n",
        "helium_props[::2]"
      ],
      "execution_count": null,
      "outputs": [
        {
          "output_type": "execute_result",
          "data": {
            "text/plain": [
              "(2, 'unknown', ['helium-3', 'helium-4'])"
            ]
          },
          "metadata": {
            "tags": []
          },
          "execution_count": 43
        }
      ]
    },
    {
      "cell_type": "code",
      "metadata": {
        "id": "gtS9zNIejcqV",
        "colab": {
          "base_uri": "https://localhost:8080/",
          "height": 34
        },
        "outputId": "66d45192-59ff-424d-e4d8-8d226deb5654"
      },
      "source": [
        "# Student Action: Get the last three items from the 'helium_props' tuple.\n",
        "helium_props[2:]"
      ],
      "execution_count": null,
      "outputs": [
        {
          "output_type": "execute_result",
          "data": {
            "text/plain": [
              "('unknown', True, ['helium-3', 'helium-4'])"
            ]
          },
          "metadata": {
            "tags": []
          },
          "execution_count": 46
        }
      ]
    },
    {
      "cell_type": "code",
      "metadata": {
        "id": "6SudkgSafxNx",
        "colab": {
          "base_uri": "https://localhost:8080/",
          "height": 34
        },
        "outputId": "9132c23a-970c-46dc-a572-e668fa4bfe2a"
      },
      "source": [
        "# Student Action: Get all the items from the 'helium_props' tuple using negative indexing except for the first and the last items.\n",
        "helium_props[-4:-1]"
      ],
      "execution_count": null,
      "outputs": [
        {
          "output_type": "execute_result",
          "data": {
            "text/plain": [
              "(4.0026, 'unknown', True)"
            ]
          },
          "metadata": {
            "tags": []
          },
          "execution_count": 47
        }
      ]
    },
    {
      "cell_type": "code",
      "metadata": {
        "id": "wN2ip7IXOA3a",
        "colab": {
          "base_uri": "https://localhost:8080/",
          "height": 34
        },
        "outputId": "09a5ccce-b111-4765-83cf-0c5a31de9ea6"
      },
      "source": [
        "# Student Action: Get the second item of the list stored in the 'helium_props' tuple.\n",
        "helium_props[-1][1]"
      ],
      "execution_count": null,
      "outputs": [
        {
          "output_type": "execute_result",
          "data": {
            "text/plain": [
              "'helium-4'"
            ]
          },
          "metadata": {
            "tags": []
          },
          "execution_count": 49
        }
      ]
    },
    {
      "cell_type": "markdown",
      "metadata": {
        "id": "34tM0N5Pl4gc"
      },
      "source": [
        "---"
      ]
    },
    {
      "cell_type": "markdown",
      "metadata": {
        "id": "tBXa9yhPukbh"
      },
      "source": [
        "#### Activity 6: The `index()` Function\n",
        "\n",
        "You can use the `index()` function to find out the index of an item in a tuple. The same function can also be used for a Python list.\n",
        "\n",
        "**Syntax:** `tuple_name.index(item)`"
      ]
    },
    {
      "cell_type": "code",
      "metadata": {
        "id": "TV_dXbgYlzxw",
        "colab": {
          "base_uri": "https://localhost:8080/",
          "height": 34
        },
        "outputId": "75f66a61-1d1e-45e6-dfc6-a43639f1e5ff"
      },
      "source": [
        "# Student Action: Get the index of the item 'unknown' that is present in the 'helium_props' tuple.\n",
        "helium_props.index('unknown')"
      ],
      "execution_count": null,
      "outputs": [
        {
          "output_type": "execute_result",
          "data": {
            "text/plain": [
              "2"
            ]
          },
          "metadata": {
            "tags": []
          },
          "execution_count": 52
        }
      ]
    },
    {
      "cell_type": "markdown",
      "metadata": {
        "id": "ushE05W8PZSs"
      },
      "source": [
        "**Note:** The `index()` function throws `ValueError` if an item does not exist in the tuple."
      ]
    },
    {
      "cell_type": "markdown",
      "metadata": {
        "id": "73bW5MU8PwUm"
      },
      "source": [
        "---"
      ]
    },
    {
      "cell_type": "markdown",
      "metadata": {
        "id": "zKlZahzS8GuO"
      },
      "source": [
        "#### Activity 7: The `count()` Function\n",
        "\n",
        "The `count()` function in tuple counts the number of times an item occurs in a tuple. The same function can also be used for a Python list.\n",
        "\n",
        "Here we have a tuple containing the FIFA football world cup winners starting from the year 1982 till 2018. \n",
        "\n",
        "`fifa_wc_winners = ('Italy', 'Argentina', 'Germany', 'Brazil', 'France', 'Brazil', 'Italy', 'Spain', 'Germany', 'France')`\n",
        "\n",
        "Find out how many times France and Brazil have won the world cup in the given period."
      ]
    },
    {
      "cell_type": "code",
      "metadata": {
        "id": "paKTAiIq7Acp",
        "colab": {
          "base_uri": "https://localhost:8080/",
          "height": 51
        },
        "outputId": "086109e1-3bfb-4263-f8ee-01890e54a1d9"
      },
      "source": [
        "# Student Action: Count the number of times 'France' & 'Brazil' have won the world cup between the years 1982 and 2018.\n",
        "fifa_wc_winners = ('Italy', 'Argentina', 'Germany', 'Brazil', 'France', 'Brazil', 'Italy', 'Spain', 'Germany', 'France')\n",
        "\n",
        "print(fifa_wc_winners.count('France'))\n",
        "fifa_wc_winners.count('Brazil')"
      ],
      "execution_count": null,
      "outputs": [
        {
          "output_type": "stream",
          "text": [
            "2\n"
          ],
          "name": "stdout"
        },
        {
          "output_type": "execute_result",
          "data": {
            "text/plain": [
              "2"
            ]
          },
          "metadata": {
            "tags": []
          },
          "execution_count": 62
        }
      ]
    },
    {
      "cell_type": "markdown",
      "metadata": {
        "id": "QwedUG329Gpd"
      },
      "source": [
        "So, both the countries have won the FIFA world cup twice between the years 1982 and 2018. This also proves that a tuple can contain repeated elements (or items)."
      ]
    },
    {
      "cell_type": "markdown",
      "metadata": {
        "id": "44YH35S_RITK"
      },
      "source": [
        "---"
      ]
    },
    {
      "cell_type": "markdown",
      "metadata": {
        "id": "348_q6lxSZYV"
      },
      "source": [
        "#### Activity 8: Add, Replace & Delete Item^^^\n",
        "\n",
        "As discussed at the beginning of this class, we cannot add, replace (or update) & delete an item from a tuple. Let's verify this theory. \n",
        "\n",
        "Let's try to replace the item `'unknown'` contained in the `helium_props` tuple with the string `'Not Available'`. We should get an error."
      ]
    },
    {
      "cell_type": "code",
      "metadata": {
        "id": "ZvW7-FvETYqm",
        "colab": {
          "base_uri": "https://localhost:8080/",
          "height": 215
        },
        "outputId": "125ec99a-a2b3-4700-a1de-624ccaa0c9d6"
      },
      "source": [
        "# Student Action: Try to replace the item 'unknown' contained in the 'helium_props' tuple with the string 'Not Available'.\n",
        "index_of_unknown = helium_props.index('unknown')\n",
        "print(\"The item 'unknown' exists at index =\", index_of_unknown)\n",
        "helium_props[index_of_unknown] = 'Not Available'"
      ],
      "execution_count": null,
      "outputs": [
        {
          "output_type": "stream",
          "text": [
            "The item 'unknown' exists at index = 2\n"
          ],
          "name": "stdout"
        },
        {
          "output_type": "error",
          "ename": "TypeError",
          "evalue": "ignored",
          "traceback": [
            "\u001b[0;31m---------------------------------------------------------------------------\u001b[0m",
            "\u001b[0;31mTypeError\u001b[0m                                 Traceback (most recent call last)",
            "\u001b[0;32m<ipython-input-81-edc86d8cef92>\u001b[0m in \u001b[0;36m<module>\u001b[0;34m()\u001b[0m\n\u001b[1;32m      1\u001b[0m \u001b[0mindex_of_unknown\u001b[0m \u001b[0;34m=\u001b[0m \u001b[0mhelium_props\u001b[0m\u001b[0;34m.\u001b[0m\u001b[0mindex\u001b[0m\u001b[0;34m(\u001b[0m\u001b[0;34m'unknown'\u001b[0m\u001b[0;34m)\u001b[0m\u001b[0;34m\u001b[0m\u001b[0;34m\u001b[0m\u001b[0m\n\u001b[1;32m      2\u001b[0m \u001b[0mprint\u001b[0m\u001b[0;34m(\u001b[0m\u001b[0;34m\"The item 'unknown' exists at index =\"\u001b[0m\u001b[0;34m,\u001b[0m \u001b[0mindex_of_unknown\u001b[0m\u001b[0;34m)\u001b[0m\u001b[0;34m\u001b[0m\u001b[0;34m\u001b[0m\u001b[0m\n\u001b[0;32m----> 3\u001b[0;31m \u001b[0mhelium_props\u001b[0m\u001b[0;34m[\u001b[0m\u001b[0mindex_of_unknown\u001b[0m\u001b[0;34m]\u001b[0m \u001b[0;34m=\u001b[0m \u001b[0;34m'Not Available'\u001b[0m\u001b[0;34m\u001b[0m\u001b[0;34m\u001b[0m\u001b[0m\n\u001b[0m",
            "\u001b[0;31mTypeError\u001b[0m: 'tuple' object does not support item assignment"
          ]
        }
      ]
    },
    {
      "cell_type": "markdown",
      "metadata": {
        "id": "csp3eeh3UBBr"
      },
      "source": [
        "As you can see, Python throws `TypeError` saying that `'tuple' object does not support item assignment`. Hence, we have verified that we cannot replace or update an existing item in a tuple.\n",
        "\n",
        "Let's try to delete the item `'unknown'` using the `del` keyword. It works for a Python list as well. There exists no `remove()` function for a Python tuple like the one that exists for a Python list.\n",
        "\n",
        "**Note:** Again you will get an error."
      ]
    },
    {
      "cell_type": "code",
      "metadata": {
        "id": "2cgn3b0pUuVL",
        "colab": {
          "base_uri": "https://localhost:8080/",
          "height": 164
        },
        "outputId": "d7366e11-6ddd-4037-ba3d-0578e7de26e9"
      },
      "source": [
        "# Student Action: Try to delete the item 'unknown' from the 'helium_props' tuple. using the 'del' keyword.\n",
        "del helium_props[2]"
      ],
      "execution_count": null,
      "outputs": [
        {
          "output_type": "error",
          "ename": "TypeError",
          "evalue": "ignored",
          "traceback": [
            "\u001b[0;31m---------------------------------------------------------------------------\u001b[0m",
            "\u001b[0;31mTypeError\u001b[0m                                 Traceback (most recent call last)",
            "\u001b[0;32m<ipython-input-66-64c219785445>\u001b[0m in \u001b[0;36m<module>\u001b[0;34m()\u001b[0m\n\u001b[0;32m----> 1\u001b[0;31m \u001b[0;32mdel\u001b[0m \u001b[0mhelium_props\u001b[0m\u001b[0;34m[\u001b[0m\u001b[0;36m2\u001b[0m\u001b[0;34m]\u001b[0m\u001b[0;34m\u001b[0m\u001b[0;34m\u001b[0m\u001b[0m\n\u001b[0m",
            "\u001b[0;31mTypeError\u001b[0m: 'tuple' object doesn't support item deletion"
          ]
        }
      ]
    },
    {
      "cell_type": "markdown",
      "metadata": {
        "id": "g5QBOAkhVHyg"
      },
      "source": [
        "As you can see, Python throws `TypeError` saying that `'tuple' object doesn't support item deletion`. Hence, we have verified that we cannot delete an existing item from a tuple.\n",
        "\n",
        "There exists no function like the `append()` function (exists for a Python list) that can add an item to a tuple. But can concatenate or join two or more tuples.\n",
        "\n",
        "We will pause here and will continue the discussion on Python tuples in the next class."
      ]
    },
    {
      "cell_type": "markdown",
      "metadata": {
        "id": "XKPonIJBSX3c"
      },
      "source": [
        "---"
      ]
    },
    {
      "cell_type": "markdown",
      "metadata": {
        "id": "8MkMTB7Zn-CR"
      },
      "source": [
        "### Wrap-Up\n",
        "\n",
        "```\n",
        "TEACHER\n",
        "  Did you enjoy the class?\n",
        "\n",
        "EXPECTED STUDENT RESPONSE\n",
        "  Yes, teacher.\n",
        "\n",
        "\n",
        "TEACHER\n",
        "  What part of the class did you enjoy?\n",
        "\n",
        "EXPECTED STUDENT RESPONSE\n",
        "  I enjoyed everything.\n",
        "\n",
        "\n",
        "TEACHER\n",
        "  I am glad you are having a good time. But make sure that you practice \n",
        "  writing code in your free time.\n",
        "\n",
        "EXPECTED STUDENT RESPONSE\n",
        "  Sure teacher.\n",
        "\n",
        "\n",
        "TEACHER\n",
        "  In the next class, we will learn about a few advanced operations for Python \n",
        "  tuples and also learn more concepts common to both Python lists and tuples \n",
        "  that we didn't cover while learning Python lists.\n",
        "\n",
        "EXPECTED STUDENT RESPONSE\n",
        "  Sure teacher.\n",
        "\n",
        "\n",
        "TEACHER\n",
        "  See you in the next class. Bye!\n",
        "\n",
        "EXPECTED STUDENT RESPONSE\n",
        "  Bye teacher!\n",
        "```"
      ]
    },
    {
      "cell_type": "markdown",
      "metadata": {
        "id": "Ks6yi2own9lt"
      },
      "source": [
        "---"
      ]
    },
    {
      "cell_type": "markdown",
      "metadata": {
        "id": "5oWFCQVin_c-"
      },
      "source": [
        "#### Activities\n",
        "\n",
        "**Teacher Activities**\n",
        "\n",
        "1. Python Tuples I (Class Copy)\n",
        "\n",
        "   https://colab.research.google.com/drive/1somRllLIQpyoBjdBYLjixtn9xLvCucaP\n",
        "\n",
        "2. Python Tuples I (Reference)\n",
        "\n",
        "   https://colab.research.google.com/drive/1AO82WbIq9l-PXlXKBKX8nDeNZzI792-Q  "
      ]
    },
    {
      "cell_type": "markdown",
      "metadata": {
        "id": "S9Z6HpHjn_Bf"
      },
      "source": [
        "---"
      ]
    }
  ]
}