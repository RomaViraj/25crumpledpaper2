{
  "nbformat": 4,
  "nbformat_minor": 0,
  "metadata": {
    "colab": {
      "name": "AT - Lesson 34 - Reference - v0",
      "provenance": [],
      "collapsed_sections": [],
      "include_colab_link": true
    },
    "kernelspec": {
      "name": "python3",
      "display_name": "Python 3"
    }
  },
  "cells": [
    {
      "cell_type": "markdown",
      "metadata": {
        "id": "view-in-github",
        "colab_type": "text"
      },
      "source": [
        "<a href=\"https://colab.research.google.com/github/RomaViraj/APT/blob/master/AT_Lesson_34_Reference_v0.ipynb\" target=\"_parent\"><img src=\"https://colab.research.google.com/assets/colab-badge.svg\" alt=\"Open In Colab\"/></a>"
      ]
    },
    {
      "cell_type": "markdown",
      "metadata": {
        "id": "Jx5lDDsxcUJT"
      },
      "source": [
        "# Lesson 34: Python Tuples II"
      ]
    },
    {
      "cell_type": "markdown",
      "metadata": {
        "id": "1X6HlxytyKkS"
      },
      "source": [
        "**WARNING:** The reference notebook is meant **ONLY** for a teacher. Please **DO NOT** share it with any student. \n",
        "\n",
        "The contents of the reference notebook are meant only to prepare a teacher for a class. To conduct the class, use the class copy of the reference notebook. The link and the instructions for the same are provided in the **Notes To The Teacher** section.\n",
        "\n",
        "\n",
        "|Particulars|Description|\n",
        "|-|-|\n",
        "|**Topic**|Python Tuples II|\n",
        "|||\n",
        "|**Class Description**|In this class, a student will learn the advanced operations that can be applied to Python tuples|\n",
        "|||\n",
        "|**Class**|C34|\n",
        "|||\n",
        "|**Class Time**|45 minutes|\n",
        "|||\n",
        "|**Goal**|Concatenate multiple tuples|\n",
        "||Convert of an iterable object to a tuple|\n",
        "||Unpack tuple values|\n",
        "||Change an item of a tuple|\n",
        "||Enumerate the items of a tuple|\n",
        "||Join multiple tuples into one tuple|\n",
        "||Compare the performance of a tuple with a list|\n",
        "|||\n",
        "|**Teacher Resources**|Google Account|\n",
        "||Link to Lesson 34 Colab reference notebook|\n",
        "||Laptop with internet connectivity|\n",
        "||Earphones with mic|\n",
        "|||\n",
        "|**Student Resources**|Google Account|\n",
        "||Laptop with internet connectivity|\n",
        "||Earphones with mic|"
      ]
    },
    {
      "cell_type": "markdown",
      "metadata": {
        "id": "ea57u0g1yJF_"
      },
      "source": [
        "---"
      ]
    },
    {
      "cell_type": "markdown",
      "metadata": {
        "id": "Vh1sbzXszCmT"
      },
      "source": [
        "### Class Structure\n",
        "\n",
        "A class is divided into three parts, as shown in the table below.\n",
        "\n",
        "|Parts|Duration|\n",
        "|-|-|\n",
        "|**Warm-Up**|5 minutes|\n",
        "|||\n",
        "|**Teacher-Student Activities**|35 minutes|\n",
        "|||\n",
        "|**Wrap-Up**|5 minutes|"
      ]
    },
    {
      "cell_type": "markdown",
      "metadata": {
        "id": "TKQ-StXFyJ2r"
      },
      "source": [
        "---"
      ]
    },
    {
      "cell_type": "markdown",
      "metadata": {
        "id": "U3p69euHzE4Z"
      },
      "source": [
        "### Notes To The Teacher\n",
        "\n",
        "Before beginning the class:\n",
        "\n",
        "1. Open the **AT - Lesson 34 - Class Copy - v0** file by clicking on the link provided in the **Activities** section under the title **Python Tuples II (Class Copy)**.  \n",
        "\n",
        "2. After opening the file mentioned in the first point, create its duplicate copy by following the steps described below:\n",
        "\n",
        "    - Click on the **File** menu. A new drop-down list will appear.\n",
        "\n",
        "      <img src='https://student-datasets-bucket.s3.ap-south-1.amazonaws.com/images/lesson-0/0_file_menu.png' width=400>\n",
        "\n",
        "    - Click on the **Save a copy in Drive** option. A duplicate copy will get created. It will open up in the new tab on your web browser.\n",
        "\n",
        "      <img src='https://student-datasets-bucket.s3.ap-south-1.amazonaws.com/images/lesson-0/1_create_colab_duplicate_copy.png' width=500>\n",
        "\n",
        "    - In the duplicate copy, click on the **Share** button on the top right corner of the notebook. A new dialogue box will appear.\n",
        "\n",
        "      <img src='https://student-datasets-bucket.s3.ap-south-1.amazonaws.com/images/lesson-0/2_share_button.png' width=500>\n",
        "\n",
        "    - Click on the tiny downward arrow next to **Anyone with the link can view** text. A drop-down list will appear.\n",
        "\n",
        "      <img src='https://student-datasets-bucket.s3.ap-south-1.amazonaws.com/images/lesson-0/3_anyone_can_view.png' width=500>\n",
        "\n",
        "    - Click on the **More...** option. A new page on the dialogue box will appear.\n",
        "\n",
        "      <img src='https://student-datasets-bucket.s3.ap-south-1.amazonaws.com/images/lesson-0/4_more_option.png' width=500>\n",
        "\n",
        "    - Click on the circle next to **On - Anyone with the link** option. Now, go down and click on the tiny downward box next to **Can edit** text. A drop-down list will appear.\n",
        "\n",
        "      <img src='https://student-datasets-bucket.s3.ap-south-1.amazonaws.com/images/lesson-0/5_anyone_with_the_link.png' width=500>\n",
        "\n",
        "    - Click on the **Can edit** option. Then click on the **Save** button. You will be directed back to the first page of the dialogue box.\n",
        "\n",
        "      <img src='https://student-datasets-bucket.s3.ap-south-1.amazonaws.com/images/lesson-0/6_can_edit.png' width=500>\n",
        "\n",
        "    - Make sure that under the **Link sharing on** section, **Anyone with the link can edit** option is selected. \n",
        "\n",
        "      <img src='https://student-datasets-bucket.s3.ap-south-1.amazonaws.com/images/lesson-0/7_anyone_can_edit.png' width=500>\n",
        "\n",
        "    - Then click on the **Done** button.\n",
        "\n",
        "3. After creating the duplicate copy of the notebook, please rename it in the **YYYY-MM-DD_StudentName_Lesson34** format. \n",
        "\n",
        "\n",
        "4. Now, finish the **Warm-Up** section. Afterwards, proceed with the class using the duplicate copy of the notebook. You can share the link of the duplicate copy (named as **YYYY-MM-DD_StudentName_Lesson34**) with the student through the chat window.\n",
        "\n",
        "5. When a student executes the code for the first time in the duplicate copy that you shared with them, they may get the following warning:\n",
        "\n",
        "   ```\n",
        "    Warning: This notebook was not authored by Google. This notebook was \n",
        "    authored by xyz@gmail.com. It may request access to your data stored \n",
        "    with Google such as files, emails and contacts. Please review the source \n",
        "    code and contact the creator of this notebook at xyz@gmail.com with any \n",
        "    additional questions. \n",
        "\n",
        "                                                      Cancel. Run Anyway.\n",
        "  ```\n",
        "\n",
        "6. Ask the student to click on the `Run Anyway` button.\n",
        "\n",
        "7. Wherever you see the hat (**^**) sign on the heading of activity, give a hats-off to the student at the end of the activity.\n",
        "\n",
        "    - Single hat sign, i.e., **^** denotes give hats-off for concentration. You have to assess the concentration level of a student based on their attentiveness and understanding of the concept.\n",
        "\n",
        "    - Double hat signs, i.e., **^^** denotes give hats-off for creativity. It can be an alternative approach to writing a code for an activity or applying the logic in a totally different problem statement.\n",
        "\n",
        "    - Triple hat signs, i.e., **^^^** denotes give hats-off for persistence. It is the ability of a student to not give up on writing code and writing code with minimal teacher support.\n",
        "\n",
        "8. Every time you execute your code in the Google Colab notebook, please don't forget to save it by pressing the **Ctrl + S** keys (or **Command + S** keys if you are using a Mac). While saving the notebook, you or student may encounter the following error:\n",
        "\n",
        "   ```\n",
        "    Save failed\n",
        "    \n",
        "    The notebook has been changed outside of this session. Would you like to \n",
        "    overwrite existing changes?\n",
        "    \n",
        "                                                              CANCEL    YES\n",
        "   ```\n",
        "\n",
        "   Click on the `YES` button.\n",
        "\n",
        "9. Occasionally, you may encounter some error such as `NameError, ReferenceError, ImportError` or `ModuleNotFoundError` after executing the code in $k^{th}$ code cell (where $k > 0$). Most likely, due to poor internet speed, the Colab notebook might have lost the information that all the previous codes have been executed already. As a remedy, run codes in the code cells beginning from the first code cell till the $(k - 1)^{th}$ code cell. For e.g., if the code in the $5^{th}$ code cell fails to run because of one of the aforementioned errors, execute the codes in all the first four code cells again.\n",
        "\n",
        "10. For every **Teacher Action**, the teacher is supposed to share their screen with the student. Similarly, for every **Student Action**, the student is supposed to share their screen with the teacher.\n"
      ]
    },
    {
      "cell_type": "markdown",
      "metadata": {
        "id": "hCSOxDDByIVh"
      },
      "source": [
        "---"
      ]
    },
    {
      "cell_type": "markdown",
      "metadata": {
        "id": "nlQTqIghzLse"
      },
      "source": [
        "### Warm-Up\n",
        "\n",
        "```\n",
        "TEACHER\n",
        "  Hi student_name! How are you doing?\n",
        "\n",
        "EXPECTED STUDENT RESPONSE\n",
        "  I am doing good, teacher. How about you?\n",
        "\n",
        "\n",
        "TEACHER\n",
        "  I am having a good time, thank you. So, how was your day? What did you do \n",
        "  today?\n",
        "\n",
        "EXPECTED STUDENT RESPONSE \n",
        "  I went to school. Had my lunch. Played a game and then did my homework \n",
        "  before this class.\n",
        "\n",
        "\n",
        "TEACHER\n",
        "  That's great. I am glad that you are having a good day. Now, let's do a \n",
        "  quick recap of our previous class. Can you recall the concepts you \n",
        "  learnt in the previous lesson?\n",
        "\n",
        "EXPECTED STUDENT RESPONSE\n",
        "  We learnt how to \n",
        "    - Create a Python tuple and calculate the length of a tuple\n",
        "    - Retrieve items using the tuple indexing method\n",
        "    - Slice a Python tuple\n",
        "    - Count the number of times and item exits in a tuple\n",
        "    - Get the index of an item in a tuple\n",
        "\n",
        "TEACHER\n",
        "  Excellent! You recalled everything that you learnt in the last class. \n",
        "  Great job! Keep it up.\n",
        "  I have an exciting quiz question for you! Are you ready to answer this question?    \n",
        "  ```   \n",
        "  **Instructions for the Teacher:**\n",
        "  -  Please click on the \"Quiz Time\" button on the bottom right corner of your screen to start the In-Class Quiz.<img src='https://student-datasets-bucket.s3.ap-south-1.amazonaws.com/images/quiz-time.png' width=100>   \n",
        "  - A quiz will be visible to both you and the student. Encourage the student to answer the quiz question. \n",
        "  - The student may choose the wrong option, help the student to think correctly about the question and then answer again. \n",
        "  - After the student selects the correct option, the \"End Quiz\" button will start appearing on your screen.  <img src='https://student-datasets-bucket.s3.ap-south-1.amazonaws.com/images/end-quiz.png' width=100>  \n",
        "  - Click the \"End quiz\" to close the quiz pop-up and continue the class. \n",
        "  - Do not spend more than 2 minutes on this quiz.\n",
        "\n",
        "```\n",
        "TEACHER\n",
        "   In this class, we are going to learn the advanced operations that can be \n",
        "   applied to a Python tuple.\n",
        "\n",
        "  So, are you excited for this class?\n",
        "\n",
        "EXPECTED STUDENT RESPONSE\n",
        "  Yes, teacher.\n",
        "\n",
        "TEACHER\n",
        "  All right. Let's get started. I'm sharing the link to the Colab notebook \n",
        "  for this class with you. Open it up.\n",
        "\n",
        "  Note:\n",
        "    - Share the duplicate copy of the notebook that you just created with \n",
        "      the student through the chat window.\n",
        "    \n",
        "EXPECTED STUDENT RESPONSE\n",
        "  The student opens the Colab notebook.\n",
        "```"
      ]
    },
    {
      "cell_type": "markdown",
      "metadata": {
        "id": "XzBgIHG-zK80"
      },
      "source": [
        "---"
      ]
    },
    {
      "cell_type": "markdown",
      "metadata": {
        "id": "ffooxHP4tLK5"
      },
      "source": [
        "### Teacher-Student Activities\n",
        "\n",
        "Let's continue our discussion on Python tuples. In this class we will learn the following concepts/operations regarding tuples:\n",
        "\n",
        "- Concatenation of tuples\n",
        "\n",
        "- Conversion of an iterable object to a tuple.\n",
        "\n",
        "- Unpacking tuple values\n",
        "\n",
        "- Changing items in a tuple\n",
        "\n",
        "- Enumerating the items in a tuple\n",
        "\n",
        "- Joining multiple tuples into one tuple\n",
        "\n",
        "- Comparing the performance of a tuple with a list\n",
        "\n",
        "Almost all the above concepts/operations are common to lists as well. Let's continue this class from the concatenation of tuples."
      ]
    },
    {
      "cell_type": "markdown",
      "metadata": {
        "id": "YwNkwrSdXjkP"
      },
      "source": [
        "---"
      ]
    },
    {
      "cell_type": "markdown",
      "metadata": {
        "id": "Gg7lopbA4jNM"
      },
      "source": [
        "#### Activity 1: Concatenation^^\n",
        "\n",
        "In the last class, we learnt that we cannot add a new item to a tuple because tuples are immutable. However, we can join two tuples through concatenation. \n",
        "\n",
        "Recall that the process of joining two entities is called **concatenation**. This is exactly the same concept that you learnt for strings in one of the previous classes.\n",
        "\n",
        "Let's revisit this concept with the help of an example. Here are three different tuples containing the annual GDP of India (in %) starting from 1991 till 2018. These GDP figures are taken from the official world bank data website. \n",
        "\n",
        "1. `india_gdp_1991_2000 = (1.057, 5.482, 4.751, 6.659, 7.574, 7.550, 4.050, 6.184, 8.846, 3.841)`\n",
        "\n",
        "2. `india_gdp_2001_2010 = (4.824, 3.804, 7.860, 7.923, 7.923, 8.061, 7.661, 3.087, 7.862, 8.498)`\n",
        "\n",
        "3. `india_gdp_2011_2018 = (5.241, 5.456, 6.386, 7.410, 7.996, 8.170, 7.168, 6.811)`\n",
        "\n",
        "Let's join these tuples to form one tuple. To concatenate two or more tuples, use the `+` operator."
      ]
    },
    {
      "cell_type": "code",
      "metadata": {
        "id": "gVXe2jSD6kXM",
        "colab": {
          "base_uri": "https://localhost:8080/",
          "height": 510
        },
        "outputId": "4a53cfd2-09fb-4f6a-d488-119721fd6a65"
      },
      "source": [
        "# Student Action: Join the above three tuples to form a new tuple and store it in the 'india_gdp_1991_2018' variable. Also, print its length.\n",
        "india_gdp_1991_2000 = (1.057, 5.482, 4.751, 6.659, 7.574, 7.550, 4.050, 6.184, 8.846, 3.841)\n",
        "india_gdp_2001_2010 = (4.824, 3.804, 7.860, 7.923, 7.923, 8.061, 7.661, 3.087, 7.862, 8.498)\n",
        "india_gdp_2011_2018 = (5.241, 5.456, 6.386, 7.410, 7.996, 8.170, 7.168, 6.811)\n",
        "india_gdp_1991_2018 = india_gdp_1991_2000 + india_gdp_2001_2010 + india_gdp_2011_2018\n",
        "print(\"There are\", len(india_gdp_1991_2018), \"items in the resulting tuple.\") # The resulting tuple should have 28 items.\n",
        "india_gdp_1991_2018"
      ],
      "execution_count": null,
      "outputs": [
        {
          "output_type": "stream",
          "text": [
            "There are 28 items in the resulting tuple.\n"
          ],
          "name": "stdout"
        },
        {
          "output_type": "execute_result",
          "data": {
            "text/plain": [
              "(1.057,\n",
              " 5.482,\n",
              " 4.751,\n",
              " 6.659,\n",
              " 7.574,\n",
              " 7.55,\n",
              " 4.05,\n",
              " 6.184,\n",
              " 8.846,\n",
              " 3.841,\n",
              " 4.824,\n",
              " 3.804,\n",
              " 7.86,\n",
              " 7.923,\n",
              " 7.923,\n",
              " 8.061,\n",
              " 7.661,\n",
              " 3.087,\n",
              " 7.862,\n",
              " 8.498,\n",
              " 5.241,\n",
              " 5.456,\n",
              " 6.386,\n",
              " 7.41,\n",
              " 7.996,\n",
              " 8.17,\n",
              " 7.168,\n",
              " 6.811)"
            ]
          },
          "metadata": {
            "tags": []
          },
          "execution_count": 1
        }
      ]
    },
    {
      "cell_type": "markdown",
      "metadata": {
        "id": "JYT-60Fk5vzq"
      },
      "source": [
        "Let's verify whether the resulting tuple is indeed a tuple or not."
      ]
    },
    {
      "cell_type": "code",
      "metadata": {
        "id": "QI_OtkElBQ2-",
        "colab": {
          "base_uri": "https://localhost:8080/",
          "height": 34
        },
        "outputId": "21318157-8600-454a-bcb2-b9910598f0ee"
      },
      "source": [
        "# Student Action: Verify whether the resulting tuple is indeed a tuple or not.\n",
        "type(india_gdp_1991_2018)"
      ],
      "execution_count": null,
      "outputs": [
        {
          "output_type": "execute_result",
          "data": {
            "text/plain": [
              "tuple"
            ]
          },
          "metadata": {
            "tags": []
          },
          "execution_count": 2
        }
      ]
    },
    {
      "cell_type": "markdown",
      "metadata": {
        "id": "uKRZTDv4EE0H"
      },
      "source": [
        "You can also concatenate multiple lists using the `+` operator."
      ]
    },
    {
      "cell_type": "code",
      "metadata": {
        "id": "qtqzM61OEYtq",
        "colab": {
          "base_uri": "https://localhost:8080/",
          "height": 34
        },
        "outputId": "228e67a0-e867-46af-a2f0-261a95300a06"
      },
      "source": [
        "# Student Action: Create two or three lists containing some random items and concatenate them.\n",
        "first_10_nat_nums = [i for i in range(1, 11)]\n",
        "next_5_nat_nums = [i for i in range(11, 16)]\n",
        "first_15_nat_nums = first_10_nat_nums + next_5_nat_nums\n",
        "first_15_nat_nums"
      ],
      "execution_count": null,
      "outputs": [
        {
          "output_type": "execute_result",
          "data": {
            "text/plain": [
              "[1, 2, 3, 4, 5, 6, 7, 8, 9, 10, 11, 12, 13, 14, 15]"
            ]
          },
          "metadata": {
            "tags": []
          },
          "execution_count": 23
        }
      ]
    },
    {
      "cell_type": "markdown",
      "metadata": {
        "id": "B1qOlCGyGTgy"
      },
      "source": [
        "**Note:** You cannot concatenate multiple Python dictionaries, NumPy arrays and Pandas series among themselves using the `+` operator."
      ]
    },
    {
      "cell_type": "markdown",
      "metadata": {
        "id": "yNp0kFgFCwO1"
      },
      "source": [
        "---"
      ]
    },
    {
      "cell_type": "markdown",
      "metadata": {
        "id": "BtHTc0-qJgqz"
      },
      "source": [
        "#### Activity 2: The `tuple()` Function\n",
        "\n",
        "You can convert a Python list / NumPy array / Pandas Series into a tuple using the `tuple()` function. \n",
        "\n",
        "Let's create a NumPy array of first 10 natural numbers and convert it into a tuple using the `tuple()` function."
      ]
    },
    {
      "cell_type": "code",
      "metadata": {
        "id": "z4KWEte9LJAC",
        "colab": {
          "base_uri": "https://localhost:8080/",
          "height": 68
        },
        "outputId": "f1e582b0-67f8-4986-bab0-ec15b8ee1645"
      },
      "source": [
        "# Student Action: Create a NumPy array containing the first 10 natural numbers and convert it into a tuple. \n",
        "# Also, verify whether the array is converted to a tuple or not.\n",
        "import numpy as np\n",
        "\n",
        "# Create a NumPy array.\n",
        "num_array = np.arange(1, 11)\n",
        "# Print the NumPy array.\n",
        "print(num_array)\n",
        "# Convert the NumPy array into a tuple.\n",
        "num_tuple = tuple(num_array)\n",
        "# Print the tuple.\n",
        "print(num_tuple)\n",
        "# Verify.\n",
        "type(num_tuple)"
      ],
      "execution_count": null,
      "outputs": [
        {
          "output_type": "stream",
          "text": [
            "[ 1  2  3  4  5  6  7  8  9 10]\n",
            "(1, 2, 3, 4, 5, 6, 7, 8, 9, 10)\n"
          ],
          "name": "stdout"
        },
        {
          "output_type": "execute_result",
          "data": {
            "text/plain": [
              "tuple"
            ]
          },
          "metadata": {
            "tags": []
          },
          "execution_count": 3
        }
      ]
    },
    {
      "cell_type": "markdown",
      "metadata": {
        "id": "f0lMAKb0OJ7H"
      },
      "source": [
        "If you apply the `tuple()` function on a dictionary, the resulting tuple will contain only the keys of a dictionary.\n",
        "\n",
        "Let's apply the `tuple()` function on the following dictionary and check the output.\n",
        "\n",
        "```\n",
        "my_dict = {'Front Camera' : '16 MP', \n",
        "           'Battery' : '3300 mAh',\n",
        "           'Processor' : 'Qualcomm Snapdragon 845',\n",
        "           'Display' : '6.28 inches',  \n",
        "           'RAM' : '6 GB', \n",
        "           'Rear Camera' : '16 MP + 20 MP', \n",
        "           'Price' : 28990, \n",
        "           'Fast Charge' : True} \n",
        "```"
      ]
    },
    {
      "cell_type": "code",
      "metadata": {
        "id": "DuEl4mUNNr3h",
        "colab": {
          "base_uri": "https://localhost:8080/",
          "height": 153
        },
        "outputId": "f3b211e2-b879-4c5b-e06f-2014a2e6d22d"
      },
      "source": [
        "# Student Action: Apply the 'tuple()' function on the 'my_dict' dictionary.\n",
        "my_dict = {'Front Camera' : '16 MP', \n",
        "           'Battery' : '3300 mAh',\n",
        "           'Processor' : 'Qualcomm Snapdragon 845',\n",
        "           'Display' : '6.28 inches',  \n",
        "           'RAM' : '6 GB', \n",
        "           'Rear Camera' : '16 MP + 20 MP', \n",
        "           'Price' : 28990, \n",
        "           'Fast Charge' : True} \n",
        "my_tuple = tuple(my_dict)\n",
        "my_tuple"
      ],
      "execution_count": null,
      "outputs": [
        {
          "output_type": "execute_result",
          "data": {
            "text/plain": [
              "('Front Camera',\n",
              " 'Battery',\n",
              " 'Processor',\n",
              " 'Display',\n",
              " 'RAM',\n",
              " 'Rear Camera',\n",
              " 'Price',\n",
              " 'Fast Charge')"
            ]
          },
          "metadata": {
            "tags": []
          },
          "execution_count": 4
        }
      ]
    },
    {
      "cell_type": "markdown",
      "metadata": {
        "id": "Bt8okA7QPCTW"
      },
      "source": [
        "As you can see, the `tuple()` function, when applied to a dictionary, returns a tuple containing only the keys of the dictionary.\n",
        "\n",
        "Similarly, you can also apply the `list()` function to convert a data-structure into a list. The `list()` function, when applied on a dictionary, also returns a list containing only the keys of the dictionary."
      ]
    },
    {
      "cell_type": "code",
      "metadata": {
        "id": "BfOdiqvuP0Vm",
        "colab": {
          "base_uri": "https://localhost:8080/",
          "height": 153
        },
        "outputId": "bfd85c5d-61ec-416c-cd7d-197e30fa581c"
      },
      "source": [
        "# Student Action: Apply the 'list()' function on the 'my_dict' dictionary.\n",
        "my_list = list(my_dict)\n",
        "my_list"
      ],
      "execution_count": null,
      "outputs": [
        {
          "output_type": "execute_result",
          "data": {
            "text/plain": [
              "['Front Camera',\n",
              " 'Battery',\n",
              " 'Processor',\n",
              " 'Display',\n",
              " 'RAM',\n",
              " 'Rear Camera',\n",
              " 'Price',\n",
              " 'Fast Charge']"
            ]
          },
          "metadata": {
            "tags": []
          },
          "execution_count": 5
        }
      ]
    },
    {
      "cell_type": "markdown",
      "metadata": {
        "id": "6DFFERac6_nm"
      },
      "source": [
        "---"
      ]
    },
    {
      "cell_type": "markdown",
      "metadata": {
        "id": "0jVLzFYrCxxH"
      },
      "source": [
        "#### Activity 3: Unpacking\n",
        "\n",
        "We can unpack or assign all the values to the same number of variables by writing them in one line.\n",
        "\n",
        "**Syntax:** `vb1, vb2, vb3, ..., vbN = (item1, item2, item3, ..., itemN)`\n",
        "\n",
        "where `vb1, vb2, vb3, ..., vbN` are `N` different variables and `item1, item2, item3, ..., itemN` are `N` different items stored in the tuple."
      ]
    },
    {
      "cell_type": "code",
      "metadata": {
        "id": "oLzm2gBpuhim",
        "colab": {
          "base_uri": "https://localhost:8080/",
          "height": 102
        },
        "outputId": "778f143c-4eee-4172-ebe3-47cc2e505364"
      },
      "source": [
        "# Student Action: Create a tuple containing 5 items and assign their values to 5 differing variables.\n",
        "name, age, height, weight, city = ('Bruce Wayne', 28, 180, 75, 'Gotham')\n",
        "print(\"Name:\", name, \n",
        "      \"\\nAge:\", age, \n",
        "      \"\\nHeight (in cm):\", height,\n",
        "      \"\\nWeight (in kg):\", weight,\n",
        "      \"\\nCity:\", city)"
      ],
      "execution_count": null,
      "outputs": [
        {
          "output_type": "stream",
          "text": [
            "Name: Bruce Wayne \n",
            "Age: 28 \n",
            "Height (in cm): 180 \n",
            "Weight (in kg): 75 \n",
            "City: Gotham\n"
          ],
          "name": "stdout"
        }
      ]
    },
    {
      "cell_type": "markdown",
      "metadata": {
        "id": "kk4uK_shDt3a"
      },
      "source": [
        "The same method is also applicable for a list.\n",
        "\n",
        "**Note:** This method of unpacking values fails when the number of variables are less than or greater than the number of items in a tuple or a list."
      ]
    },
    {
      "cell_type": "markdown",
      "metadata": {
        "id": "NefMJbBW61Gt"
      },
      "source": [
        "---"
      ]
    },
    {
      "cell_type": "markdown",
      "metadata": {
        "id": "K3eBUNokDpkk"
      },
      "source": [
        "#### Activity 4: Changing Tuple Items\n",
        "\n",
        "We have already discussed that we cannot change the contents of a tuple. However, we can first convert the tuple into a list, then change the contents of the list and finally change the list back into a tuple.\n",
        "\n",
        "Let's create a tuple of English vowels which contains one consonant. To remove that consonant, we will first convert the tuple into a list using the `list()` function, then will remove the consonant by applying the `remove()` function and then convert the list back to a tuple using the `tuple()` function. "
      ]
    },
    {
      "cell_type": "code",
      "metadata": {
        "id": "-8mTXvszEKKQ",
        "colab": {
          "base_uri": "https://localhost:8080/",
          "height": 51
        },
        "outputId": "cbb3e82f-719d-4f5f-f8f1-d89f6a12d09c"
      },
      "source": [
        "# Student Action: Create a tuple containing English vowels and then reverse the order of its items.\n",
        "# Create a tuple of vowels.\n",
        "vowels_tuple = ('a', 'e', 'i', 's', 'o', 'u')\n",
        "\n",
        "# Print the contents of the tuple before converting it into a list.\n",
        "print(\"Before Reversal:\", vowels_tuple)\n",
        "\n",
        "# Convert the tuple into a list.\n",
        "vowels_list = list(vowels_tuple)\n",
        "\n",
        "# Remove the consonant from the list.\n",
        "vowels_list.remove('s')\n",
        "\n",
        "# Convert the list into a tuple.\n",
        "vowels_tuple = tuple(vowels_list)\n",
        "\n",
        "# Print the items of the tuple after reversing their order.\n",
        "print(\"After Reversal:\", vowels_tuple[::-1])"
      ],
      "execution_count": null,
      "outputs": [
        {
          "output_type": "stream",
          "text": [
            "Before Reversal: ('a', 'e', 'i', 's', 'o', 'u')\n",
            "After Reversal: ('u', 'o', 'i', 'e', 'a')\n"
          ],
          "name": "stdout"
        }
      ]
    },
    {
      "cell_type": "markdown",
      "metadata": {
        "id": "-yZvM61OFnl_"
      },
      "source": [
        "Similarly, you can apply other list functions by first converting a tuple into a list and then changing the list back to the tuple by applying the `tuple()` function. This little hack is useful when the data entered in a tuple is wrong or undesirable. However, this hack becomes a computationally heavy task in case of a huge dataset. Imagine having 1 million (or 10 lakh) data points in a dataset that is not supposed to be changed. But then there is one mistake that needs to be corrected. You will have to first convert the entire tuple into a list, then correct the mistake in the item and then convert it back into a tuple. This exercise could lead to system failure in case of large datasets. "
      ]
    },
    {
      "cell_type": "markdown",
      "metadata": {
        "id": "bISUwCYz6VMy"
      },
      "source": [
        "---"
      ]
    },
    {
      "cell_type": "markdown",
      "metadata": {
        "id": "gkb0Fabk61og"
      },
      "source": [
        "#### Activity 5: The `enumerate()` Function\n",
        "\n",
        "Before we learn this function, think of a way to print the indices of the items contained in the `india_gdp_2011_2018` tuple along with the items one-by-one.\n"
      ]
    },
    {
      "cell_type": "code",
      "metadata": {
        "id": "dR8TE264AQfd",
        "colab": {
          "base_uri": "https://localhost:8080/",
          "height": 153
        },
        "outputId": "c9a08df9-e982-46a7-fc69-dd31736ab350"
      },
      "source": [
        "# Student Action: Print the indices of the items contained in the 'india_gdp_2011_2018' tuple along with the items one-by-one.\n",
        "for i in range(len(india_gdp_2011_2018)):\n",
        "  print(i, india_gdp_2011_2018[i])"
      ],
      "execution_count": null,
      "outputs": [
        {
          "output_type": "stream",
          "text": [
            "0 5.241\n",
            "1 5.456\n",
            "2 6.386\n",
            "3 7.41\n",
            "4 7.996\n",
            "5 8.17\n",
            "6 7.168\n",
            "7 6.811\n"
          ],
          "name": "stdout"
        }
      ]
    },
    {
      "cell_type": "markdown",
      "metadata": {
        "id": "ZAjfIvjA_xif"
      },
      "source": [
        "The `enumerate()` function does the similar thing. It labels the items contained in a data-structure with numbers starting from zero. It is similar to doing the roll call to get the count of the number of people present in a gathering. However, it returns a non-readable Python object. \n",
        "\n",
        "Let's apply the `enumerate()` function on the `india_gdp_2011_2018` tuple."
      ]
    },
    {
      "cell_type": "code",
      "metadata": {
        "id": "YzTWmTY49-8J",
        "colab": {
          "base_uri": "https://localhost:8080/",
          "height": 34
        },
        "outputId": "7ac354b7-20f0-4703-9e28-ea7a8b64dfda"
      },
      "source": [
        "# Student Action: Apply the 'enumerate()' function on the 'india_gdp_2011_2018' tuple.\n",
        "enum_gdp = enumerate(india_gdp_2011_2018)\n",
        "enum_gdp"
      ],
      "execution_count": null,
      "outputs": [
        {
          "output_type": "execute_result",
          "data": {
            "text/plain": [
              "<enumerate at 0x7fd2839f3678>"
            ]
          },
          "metadata": {
            "tags": []
          },
          "execution_count": 8
        }
      ]
    },
    {
      "cell_type": "markdown",
      "metadata": {
        "id": "hfmfmNo6B-n4"
      },
      "source": [
        "As you can see, the output is some gibberish or non-readable object. In fact, it returns the physical memory location of the object created by the `enumerate()` function. \n",
        "\n",
        "Now, apply the `tuple()` function on top of the `enumerate()` function.\n"
      ]
    },
    {
      "cell_type": "code",
      "metadata": {
        "id": "AuxwfSsn-IRZ",
        "colab": {
          "base_uri": "https://localhost:8080/",
          "height": 153
        },
        "outputId": "e585290c-df1c-4570-a156-7d46cb89e34c"
      },
      "source": [
        "# Student Action: Apply the 'tuple()' function on top of the 'enumerate()' function.\n",
        "enum_gdp = tuple(enumerate(india_gdp_2011_2018))\n",
        "enum_gdp"
      ],
      "execution_count": null,
      "outputs": [
        {
          "output_type": "execute_result",
          "data": {
            "text/plain": [
              "((0, 5.241),\n",
              " (1, 5.456),\n",
              " (2, 6.386),\n",
              " (3, 7.41),\n",
              " (4, 7.996),\n",
              " (5, 8.17),\n",
              " (6, 7.168),\n",
              " (7, 6.811))"
            ]
          },
          "metadata": {
            "tags": []
          },
          "execution_count": 9
        }
      ]
    },
    {
      "cell_type": "markdown",
      "metadata": {
        "id": "GeD8Z8nvCrks"
      },
      "source": [
        "As you can see, the output is a tuple containing the key-value pairs of the item and its roll call such that each key-value pair is another tuple.\n",
        "\n",
        "You can also iterate through each tuple print both roll call and the item."
      ]
    },
    {
      "cell_type": "code",
      "metadata": {
        "id": "IgzUfX7ggup2",
        "colab": {
          "base_uri": "https://localhost:8080/",
          "height": 153
        },
        "outputId": "e9a9a6b4-68d6-40fb-d630-62b15175993e"
      },
      "source": [
        "# Student Action: Iterate through each tuple print both roll call and the item contained in the above tuple.\n",
        "for num, item in enum_gdp:\n",
        "  print(num, item)"
      ],
      "execution_count": null,
      "outputs": [
        {
          "output_type": "stream",
          "text": [
            "0 5.241\n",
            "1 5.456\n",
            "2 6.386\n",
            "3 7.41\n",
            "4 7.996\n",
            "5 8.17\n",
            "6 7.168\n",
            "7 6.811\n"
          ],
          "name": "stdout"
        }
      ]
    },
    {
      "cell_type": "markdown",
      "metadata": {
        "id": "O6pXut8agh6O"
      },
      "source": [
        "The `enumerate()` function can also be applied on lists, dictionaries and strings. "
      ]
    },
    {
      "cell_type": "code",
      "metadata": {
        "id": "bCYWEIO97OMi",
        "colab": {
          "base_uri": "https://localhost:8080/",
          "height": 51
        },
        "outputId": "23092e65-acd3-4461-9f2a-de98d12ffc8c"
      },
      "source": [
        "# Student Action: Apply the 'enumerate()' function on 'my_dict' dictionary and 'vowels_list'. On top of them apply the 'tuple()' function. \n",
        "enum_tuple = tuple(enumerate(my_dict))\n",
        "enum_vowels_tuple = tuple(enumerate(vowels_list))\n",
        "print(enum_tuple)\n",
        "enum_vowels_tuple"
      ],
      "execution_count": null,
      "outputs": [
        {
          "output_type": "stream",
          "text": [
            "((0, 'Front Camera'), (1, 'Battery'), (2, 'Processor'), (3, 'Display'), (4, 'RAM'), (5, 'Rear Camera'), (6, 'Price'), (7, 'Fast Charge'))\n"
          ],
          "name": "stdout"
        },
        {
          "output_type": "execute_result",
          "data": {
            "text/plain": [
              "((0, 'a'), (1, 'e'), (2, 'i'), (3, 'o'), (4, 'u'))"
            ]
          },
          "metadata": {
            "tags": []
          },
          "execution_count": 14
        }
      ]
    },
    {
      "cell_type": "markdown",
      "metadata": {
        "id": "-GltL_w7hnVB"
      },
      "source": [
        "As you can see, the `tuple()` function when applied on top of the `enumerate()` function \n",
        "\n",
        "- in the case of the `my_dict` dictionary, returns a **tuple** that is a collection of tuples such that each tuple contains the roll call of every key and the key itself contained in the `my_dict` dictionary. The values of the `my_dict` dictionary are ignored.\n",
        "\n",
        "- in the case of the `vowels_list`, returns a **tuple** that is a collection of tuples such that each tuple contains the roll call of every item and the item itself contained in the `vowels_list`.\n"
      ]
    },
    {
      "cell_type": "code",
      "metadata": {
        "id": "AQr_TpmG7mQe",
        "colab": {
          "base_uri": "https://localhost:8080/",
          "height": 51
        },
        "outputId": "2ba3b812-8c8d-44a1-fbc6-9b1fb58a417d"
      },
      "source": [
        "# Student Action: Apply the 'enumerate()' function on 'my_dict' dictionary and 'vowels_list'. On top of them apply the 'list()' function.\n",
        "enum_list = list(enumerate(my_dict))\n",
        "enum_vowels_list = list(enumerate(vowels_list))\n",
        "print(enum_list)\n",
        "enum_vowels_list"
      ],
      "execution_count": null,
      "outputs": [
        {
          "output_type": "stream",
          "text": [
            "[(0, 'Front Camera'), (1, 'Battery'), (2, 'Processor'), (3, 'Display'), (4, 'RAM'), (5, 'Rear Camera'), (6, 'Price'), (7, 'Fast Charge')]\n"
          ],
          "name": "stdout"
        },
        {
          "output_type": "execute_result",
          "data": {
            "text/plain": [
              "[(0, 'a'), (1, 'e'), (2, 'i'), (3, 'o'), (4, 'u')]"
            ]
          },
          "metadata": {
            "tags": []
          },
          "execution_count": 15
        }
      ]
    },
    {
      "cell_type": "markdown",
      "metadata": {
        "id": "HnNCkDxOFxGK"
      },
      "source": [
        "As you can see, the `list()` function when applied on top of the `enumerate()` function \n",
        "\n",
        "- in the case of the `my_dict` dictionary, returns a **list** that is a collection of tuples such that each tuple contains the roll call of every key and the key itself contained in the `my_dict` dictionary. The values of the `my_dict` dictionary are ignored.\n",
        "\n",
        "- in the case of the `vowels_list`, returns a **list** that is a collection of tuples such that each tuple contains the roll call of every item and the item itself contained in the `vowels_list`."
      ]
    },
    {
      "cell_type": "code",
      "metadata": {
        "id": "mB_-H0b46O81",
        "colab": {
          "base_uri": "https://localhost:8080/",
          "height": 51
        },
        "outputId": "c2611b40-3975-4e85-e5d6-e9c311c019f5"
      },
      "source": [
        "# Student Action: Apply the 'enumerate()' function on 'my_dict' dictionary and 'vowels_list'. On top of them apply the 'dict()' function.\n",
        "enum_dict = dict(enumerate(my_dict))\n",
        "enum_vowels_dict = dict(enumerate(vowels_list))\n",
        "print(enum_dict)\n",
        "enum_vowels_dict"
      ],
      "execution_count": null,
      "outputs": [
        {
          "output_type": "stream",
          "text": [
            "{0: 'Front Camera', 1: 'Battery', 2: 'Processor', 3: 'Display', 4: 'RAM', 5: 'Rear Camera', 6: 'Price', 7: 'Fast Charge'}\n"
          ],
          "name": "stdout"
        },
        {
          "output_type": "execute_result",
          "data": {
            "text/plain": [
              "{0: 'a', 1: 'e', 2: 'i', 3: 'o', 4: 'u'}"
            ]
          },
          "metadata": {
            "tags": []
          },
          "execution_count": 16
        }
      ]
    },
    {
      "cell_type": "markdown",
      "metadata": {
        "id": "nLZn8RrJ-Gnp"
      },
      "source": [
        "As you can see, the `dict()` function when applied on top of the `enumerate()` function \n",
        "\n",
        "- in the case of the `my_dict` dictionary, returns a **dictionary** that is a collection of key-value pairs such that each pair contains the roll call of every key and the key itself contained in the `my_dict` dictionary. The values of the `my_dict` dictionary are ignored.\n",
        "\n",
        "- in the case of the `vowels_list`, returns a **dictionary** that is a collection of key-value pairs such that each pair contains the roll call of every item and the item itself contained in the `vowels_list`."
      ]
    },
    {
      "cell_type": "markdown",
      "metadata": {
        "id": "FilhvY39D0wa"
      },
      "source": [
        "---"
      ]
    },
    {
      "cell_type": "markdown",
      "metadata": {
        "id": "DAjse46cTlar"
      },
      "source": [
        "#### Activity 6: The `sorted()` Function\n",
        "\n",
        "If you want to display the items of a tuple in the increasing or decreasing order, then you can apply the `sorted()` function. However, it will return a list instead of a tuple.\n",
        "\n",
        "The `sorted()` function, by-default, arranges the items in the ascending order. To arrange them in the descending order, pass a parameter called `reverse=True` inside the `sorted()` function.\n",
        "\n",
        "**Syntax:** \n",
        "\n",
        "- For ascending order, `sorted(tuple_name)`\n",
        "\n",
        "- For descending order, `sorted(tuple_name, reverse=True)`\n",
        "\n",
        "Let's learn this function with the help of an example.\n"
      ]
    },
    {
      "cell_type": "code",
      "metadata": {
        "id": "MI724bprTtJv",
        "colab": {
          "base_uri": "https://localhost:8080/",
          "height": 34
        },
        "outputId": "b68c133e-d944-45cd-df8d-b564645e466d"
      },
      "source": [
        "# Student Action: Create a tuple containing 10 random integers ranging between 1 and 50.\n",
        "import random\n",
        "\n",
        "randint_tuple = tuple([random.randint(1, 50) for i in range(11)])\n",
        "randint_tuple"
      ],
      "execution_count": null,
      "outputs": [
        {
          "output_type": "execute_result",
          "data": {
            "text/plain": [
              "(20, 44, 24, 23, 28, 23, 28, 32, 20, 22, 47)"
            ]
          },
          "metadata": {
            "tags": []
          },
          "execution_count": 17
        }
      ]
    },
    {
      "cell_type": "code",
      "metadata": {
        "id": "51dhJc4xUF4r",
        "colab": {
          "base_uri": "https://localhost:8080/",
          "height": 34
        },
        "outputId": "0c1c28c2-824a-4aa9-d0fc-28b289f35959"
      },
      "source": [
        "# Student Action: Now display the items of the tuple in the ascending order.\n",
        "randint_tuple_sorted = sorted(randint_tuple)\n",
        "randint_tuple_sorted"
      ],
      "execution_count": null,
      "outputs": [
        {
          "output_type": "execute_result",
          "data": {
            "text/plain": [
              "[20, 20, 22, 23, 23, 24, 28, 28, 32, 44, 47]"
            ]
          },
          "metadata": {
            "tags": []
          },
          "execution_count": 18
        }
      ]
    },
    {
      "cell_type": "markdown",
      "metadata": {
        "id": "nUZ5f0ylW9o7"
      },
      "source": [
        "As you can see, the items of the `randint_tuple` are displayed in the ascending order but as a list.\n",
        "\n",
        "The same function can also be applied for a Python list with the same syntax."
      ]
    },
    {
      "cell_type": "code",
      "metadata": {
        "id": "AZ5vEigeUK9j",
        "colab": {
          "base_uri": "https://localhost:8080/",
          "height": 34
        },
        "outputId": "20eaf315-55c5-4bdc-84c9-104e8a2ce292"
      },
      "source": [
        "# Student Action: Create a list containing 10 random integers ranging between 100 and 150.\n",
        "randint_list = [random.randint(100, 150) for i in range(11)]\n",
        "randint_list"
      ],
      "execution_count": null,
      "outputs": [
        {
          "output_type": "execute_result",
          "data": {
            "text/plain": [
              "[126, 111, 132, 115, 116, 149, 104, 142, 122, 124, 107]"
            ]
          },
          "metadata": {
            "tags": []
          },
          "execution_count": 19
        }
      ]
    },
    {
      "cell_type": "code",
      "metadata": {
        "id": "kmLtpw8SXlU1",
        "colab": {
          "base_uri": "https://localhost:8080/",
          "height": 34
        },
        "outputId": "2b30af02-aec2-469c-afaf-2470c0e4a445"
      },
      "source": [
        "# Student Action: Now display the items of the list in the descending order.\n",
        "randint_list_sorted = sorted(randint_list, reverse=True)\n",
        "randint_list_sorted"
      ],
      "execution_count": null,
      "outputs": [
        {
          "output_type": "execute_result",
          "data": {
            "text/plain": [
              "[149, 142, 132, 126, 124, 122, 116, 115, 111, 107, 104]"
            ]
          },
          "metadata": {
            "tags": []
          },
          "execution_count": 20
        }
      ]
    },
    {
      "cell_type": "markdown",
      "metadata": {
        "id": "ErQmyxiwTkM_"
      },
      "source": [
        "---"
      ]
    },
    {
      "cell_type": "markdown",
      "metadata": {
        "id": "pKSgOpO7IbeY"
      },
      "source": [
        "#### Activity 7: The `zip()` Function^\n",
        "\n",
        "You have already learnt that the `zip()` function can be used to join two or more lists to form a new dictionary and list. The objects need to be a list or a dictionary. Any two different iterable objects of the same length can be joined using the `zip` function. \n",
        "\n",
        "The iterable objects are those objects on which we can apply either a for loop or a while loop. So, if there are $n$ iterable objects and you want to join $r$ objects out of those $n$ objects such that $r \\leq n$ and $n \\ge1$, then you can do that in ${}^nP_r$ ways where $${}^nP_r = \\frac{n!}{(n-r)!}$$ and $$n! = n \\times (n - 1) \\times (n-2) \\dots 3 \\times 2 \\times 1$$\n",
        "\n",
        "Also, $1! = 1$ and $0!=1$\n",
        "\n",
        "E.g., if there are $n=3$ iterable objects (say list, dictionary, tuple) and you want to join $r=2$ of them, then you can join them in $${}^3P_2 = \\frac{3!}{(3-2)!} = \\frac{3 \\times2 \\times 1}{1} = 6 \\space \\text{ways}$$ \n",
        "\n",
        "The 6 possible ways are:\n",
        "\n",
        "1. list, dictionary\n",
        "\n",
        "2. dictionary, list\n",
        "\n",
        "3. list, tuple\n",
        "\n",
        "4. tuple, list\n",
        "\n",
        "5. dictionary, tuple\n",
        "\n",
        "6. tuple, dictionary\n",
        "\n",
        "In the above expression, if $r=n$, i.e., if all of the iterable objects are to be joined using the `zip()` function at a time, then it can be done in $n!$ ways because $${}^nP_n = \\frac{n!}{(n-n)!} = \\frac{n!}{0!} = n!$$\n",
        "\n",
        "E.g., if you want to join a list, a dictionary and a tuple at once, then you can join them in $3! = 3\\times 2 \\times 1 = 6$ ways. In this case, the 6 possible ways are:\n",
        "\n",
        "1. list, dictionary, tuple\n",
        "\n",
        "2. list, tuple, dictionary\n",
        "\n",
        "3. dictionary, list, tuple\n",
        "\n",
        "4. dictionary, tuple, list\n",
        "\n",
        "5. tuple, list, dictionary\n",
        "\n",
        "6. tuple, dictionary, list\n",
        "\n",
        "\n",
        "**Note:** You don't need to know this theory to apply the `zip()` function. It is just an example to demonstrate that mathematics is definitely applied in real-life problems especially in the field of computer applications. "
      ]
    },
    {
      "cell_type": "markdown",
      "metadata": {
        "id": "kUKWBCh4Pv99"
      },
      "source": [
        "Let's create a NumPy array containing the years from 1991 to 2018 and join it with the `india_gdp_1991_2018` tuple to form a new tuple using the `zip()` function."
      ]
    },
    {
      "cell_type": "code",
      "metadata": {
        "id": "tUW6-rH7I9zT",
        "colab": {
          "base_uri": "https://localhost:8080/",
          "height": 493
        },
        "outputId": "12491100-aec8-4e00-f448-be034d0ef91c"
      },
      "source": [
        "# Student Action: Create a NumPy array containing the year from 1991 to 2018 and join it with the 'india_gdp_1991_2018' tuple.\n",
        "years_and_gdp = tuple(zip(np.arange(1991, 2019), india_gdp_1991_2018))\n",
        "years_and_gdp"
      ],
      "execution_count": null,
      "outputs": [
        {
          "output_type": "execute_result",
          "data": {
            "text/plain": [
              "((1991, 1.057),\n",
              " (1992, 5.482),\n",
              " (1993, 4.751),\n",
              " (1994, 6.659),\n",
              " (1995, 7.574),\n",
              " (1996, 7.55),\n",
              " (1997, 4.05),\n",
              " (1998, 6.184),\n",
              " (1999, 8.846),\n",
              " (2000, 3.841),\n",
              " (2001, 4.824),\n",
              " (2002, 3.804),\n",
              " (2003, 7.86),\n",
              " (2004, 7.923),\n",
              " (2005, 7.923),\n",
              " (2006, 8.061),\n",
              " (2007, 7.661),\n",
              " (2008, 3.087),\n",
              " (2009, 7.862),\n",
              " (2010, 8.498),\n",
              " (2011, 5.241),\n",
              " (2012, 5.456),\n",
              " (2013, 6.386),\n",
              " (2014, 7.41),\n",
              " (2015, 7.996),\n",
              " (2016, 8.17),\n",
              " (2017, 7.168),\n",
              " (2018, 6.811))"
            ]
          },
          "metadata": {
            "tags": []
          },
          "execution_count": 22
        }
      ]
    },
    {
      "cell_type": "markdown",
      "metadata": {
        "id": "wGHCnbXxQGSg"
      },
      "source": [
        "Repeat the same exercise by interchanging the positions of the array and the tuple inside the `zip()` function."
      ]
    },
    {
      "cell_type": "code",
      "metadata": {
        "id": "wEl_s_SRQT09",
        "colab": {
          "base_uri": "https://localhost:8080/",
          "height": 493
        },
        "outputId": "65befacb-926e-41b7-e414-4f0decd44448"
      },
      "source": [
        "# Repeat the same exercise by interchanging the positions of the array and the tuple inside the zip() function.\n",
        "gdp_and_years = tuple(zip(india_gdp_1991_2018, np.arange(1991, 2019)))\n",
        "gdp_and_years"
      ],
      "execution_count": null,
      "outputs": [
        {
          "output_type": "execute_result",
          "data": {
            "text/plain": [
              "((1.057, 1991),\n",
              " (5.482, 1992),\n",
              " (4.751, 1993),\n",
              " (6.659, 1994),\n",
              " (7.574, 1995),\n",
              " (7.55, 1996),\n",
              " (4.05, 1997),\n",
              " (6.184, 1998),\n",
              " (8.846, 1999),\n",
              " (3.841, 2000),\n",
              " (4.824, 2001),\n",
              " (3.804, 2002),\n",
              " (7.86, 2003),\n",
              " (7.923, 2004),\n",
              " (7.923, 2005),\n",
              " (8.061, 2006),\n",
              " (7.661, 2007),\n",
              " (3.087, 2008),\n",
              " (7.862, 2009),\n",
              " (8.498, 2010),\n",
              " (5.241, 2011),\n",
              " (5.456, 2012),\n",
              " (6.386, 2013),\n",
              " (7.41, 2014),\n",
              " (7.996, 2015),\n",
              " (8.17, 2016),\n",
              " (7.168, 2017),\n",
              " (6.811, 2018))"
            ]
          },
          "metadata": {
            "tags": []
          },
          "execution_count": 23
        }
      ]
    },
    {
      "cell_type": "markdown",
      "metadata": {
        "id": "xao0jZVyQiFo"
      },
      "source": [
        "This time, the year values appear after the GDP values in the newly formed tuple."
      ]
    },
    {
      "cell_type": "markdown",
      "metadata": {
        "id": "AZJWEnkBIavJ"
      },
      "source": [
        "---"
      ]
    },
    {
      "cell_type": "markdown",
      "metadata": {
        "id": "ws9Z6_Z3oM86"
      },
      "source": [
        "#### Activity 8: Performance^^^\n",
        "\n",
        "Tuples are faster than lists. This is evident from the fact that tuples are immutable and have fewer functions as compared to the lists.\n",
        "\n",
        "Let's find out how fast tuples are compared to lists by recording the time taken to create 1 million tuples and 1 million lists having the identical items and identical lengths."
      ]
    },
    {
      "cell_type": "code",
      "metadata": {
        "id": "y043JEExodlj",
        "colab": {
          "base_uri": "https://localhost:8080/",
          "height": 51
        },
        "outputId": "5f81316c-bfbe-47e3-956e-294f0f314131"
      },
      "source": [
        "# Student Action: Run the code below.\n",
        "import timeit\n",
        "\n",
        "tuple_time = timeit.timeit(stmt=\"(1, 2, 3, 4, 5, 6, 7, 8, 9, 10)\", number=1000000)\n",
        "list_time = timeit.timeit(stmt=\"[i for i in range(1, 11)]\", number=1000000)\n",
        "\n",
        "print(\"Time taken to create 1 million tuples is\", round(tuple_time, 4), \"seconds.\",\n",
        "      \"\\nTime taken to create 1 million lists is\", round(list_time, 4), \"seconds.\")"
      ],
      "execution_count": null,
      "outputs": [
        {
          "output_type": "stream",
          "text": [
            "Time taken to create 1 million tuples is 0.0124 seconds. \n",
            "Time taken to create 1 million lists is 0.6235 seconds.\n"
          ],
          "name": "stdout"
        }
      ]
    },
    {
      "cell_type": "markdown",
      "metadata": {
        "id": "LTyV8hbTs0Wl"
      },
      "source": [
        "That's it. We have covered everything we need regarding tuples. In the next class, we will learn string operations."
      ]
    },
    {
      "cell_type": "markdown",
      "metadata": {
        "id": "M3PJwH4hzQOD"
      },
      "source": [
        "---"
      ]
    },
    {
      "cell_type": "markdown",
      "metadata": {
        "id": "JzScnkPfzQ5J"
      },
      "source": [
        "### Wrap-Up\n",
        "\n",
        "```\n",
        "TEACHER\n",
        "  Did you enjoy the class?\n",
        "\n",
        "EXPECTED STUDENT RESPONSE\n",
        "  Yes, teacher.\n",
        "\n",
        "\n",
        "TEACHER\n",
        "  What part of the class did you enjoy?\n",
        "\n",
        "EXPECTED STUDENT RESPONSE\n",
        "  I enjoyed everything.\n",
        "\n",
        "\n",
        "TEACHER\n",
        "  I am glad you are having a good time. But make sure that you practice \n",
        "  writing code in your free time.\n",
        "\n",
        "EXPECTED STUDENT RESPONSE\n",
        "  Sure teacher.\n",
        "\n",
        "\n",
        "TEACHER\n",
        "  In the next class, we will learn string operations.\n",
        "  \n",
        "EXPECTED STUDENT RESPONSE\n",
        "  Sure teacher.\n",
        "\n",
        "\n",
        "TEACHER\n",
        "  See you in the next class. Bye!\n",
        "\n",
        "EXPECTED STUDENT RESPONSE\n",
        "  Bye teacher!\n",
        "```"
      ]
    },
    {
      "cell_type": "markdown",
      "metadata": {
        "id": "D7c9QylnzSKo"
      },
      "source": [
        "---"
      ]
    },
    {
      "cell_type": "markdown",
      "metadata": {
        "id": "PH5TR5qOzSuM"
      },
      "source": [
        "### Activities\n",
        "\n",
        "**Teacher Activities**\n",
        "\n",
        "1. Python Tuples II (Class Copy)\n",
        "\n",
        "   https://colab.research.google.com/drive/1XV3ePBN1e6a8Em2Kb0GvlIL9wAHtWmKK\n",
        "  \n",
        "2. Python Tuples II (Reference)\n",
        "\n",
        "   https://colab.research.google.com/drive/1syjqfRIQeAbATKiEHSrVtC9wFhf1AITf\n",
        "\n",
        "3. The World Bank Data Website\n",
        "\n",
        "   https://data.worldbank.org/indicator/NY.GDP.MKTP.KD.ZG?locations=IN\n",
        "\n",
        "**Student Activities**\n",
        "\n",
        "1. The World Bank Data Website\n",
        "\n",
        "   https://data.worldbank.org/indicator/NY.GDP.MKTP.KD.ZG?locations=IN"
      ]
    },
    {
      "cell_type": "markdown",
      "metadata": {
        "id": "Yx2SWOM_oLl1"
      },
      "source": [
        "---"
      ]
    }
  ]
}