{
  "nbformat": 4,
  "nbformat_minor": 0,
  "metadata": {
    "colab": {
      "name": "AT - Lesson 35 - Reference - v0",
      "provenance": [],
      "collapsed_sections": [],
      "include_colab_link": true
    },
    "kernelspec": {
      "name": "python3",
      "display_name": "Python 3"
    }
  },
  "cells": [
    {
      "cell_type": "markdown",
      "metadata": {
        "id": "view-in-github",
        "colab_type": "text"
      },
      "source": [
        "<a href=\"https://colab.research.google.com/github/RomaViraj/APT/blob/master/AT_Lesson_35_Reference_v0.ipynb\" target=\"_parent\"><img src=\"https://colab.research.google.com/assets/colab-badge.svg\" alt=\"Open In Colab\"/></a>"
      ]
    },
    {
      "cell_type": "markdown",
      "metadata": {
        "id": "ZmBmKJ7A93-o"
      },
      "source": [
        "# Lesson 35: String Operations I"
      ]
    },
    {
      "cell_type": "markdown",
      "metadata": {
        "id": "5peRjl02iACZ"
      },
      "source": [
        "**WARNING:** The reference notebook is meant **ONLY** for a teacher. Please **DO NOT** share it with any student. The contents of the reference notebook are meant only to prepare a teacher for a class. To conduct the class, use the class copy of the reference notebook. \n",
        "\n",
        "|Particulars|Description|\n",
        "|-|-|\n",
        "|**Topic**|String Operations I|\n",
        "|||\n",
        "|**Class Description**|In this class, a student will learn fundamental string operations and string formatting|\n",
        "|||\n",
        "|**Class**|C35|\n",
        "|||\n",
        "|**Class Time**|45 minutes|\n",
        "|||\n",
        "|**Goals**|Apply the common data structure operations on a string|\n",
        "||Create a multiline string|\n",
        "||Create patterns such as triangles using string repetition|\n",
        "||Format a string using the `format()` function|\n",
        "|||\n",
        "|**Teacher Resources**|Google Account|\n",
        "||Link to Lesson 35 Colab reference notebook|\n",
        "||Laptop with internet connectivity|\n",
        "||Earphones with mic|\n",
        "|||\n",
        "|**Student Resources**|Google Account|\n",
        "||Laptop with internet connectivity|\n",
        "||Earphones with mic|"
      ]
    },
    {
      "cell_type": "markdown",
      "metadata": {
        "id": "vatnmWbAh8pi"
      },
      "source": [
        "---"
      ]
    },
    {
      "cell_type": "markdown",
      "metadata": {
        "id": "W597dcwtj41A"
      },
      "source": [
        "### Warm-up\n",
        "```\n",
        "TEACHER\n",
        "I have an exciting quiz question for you! Are you ready to answer this question?\n",
        "\n",
        "EXPECTED STUDENT RESPONSE\n",
        "Yes.\n",
        "```\n",
        "\n",
        "  **Instructions for the Teacher:**\n",
        "  -  Please click on the \"Quiz Time\" button on the bottom right corner of your screen to start the In-Class Quiz.<img src='https://student-datasets-bucket.s3.ap-south-1.amazonaws.com/images/quiz-time.png' width=100>   \n",
        "  - A quiz will be visible to both you and the student. Encourage the student to answer the quiz question. \n",
        "  - The student may choose the wrong option, help the student to think correctly about the question and then answer again. \n",
        "  - After the student selects the correct option, the \"End Quiz\" button will start appearing on your screen.  <img src='https://student-datasets-bucket.s3.ap-south-1.amazonaws.com/images/end-quiz.png' width=100>  \n",
        "  - Click the \"End quiz\" to close the quiz pop-up and continue the class. \n",
        "  - Do not spend more than 2 minutes on this quiz.\n",
        "\n",
        "\n"
      ]
    },
    {
      "cell_type": "markdown",
      "metadata": {
        "id": "3KU0XBixkILZ"
      },
      "source": [
        "---"
      ]
    },
    {
      "cell_type": "markdown",
      "metadata": {
        "id": "I0cTgOwYT8s0"
      },
      "source": [
        "### Teacher-Student Activities\n",
        "\n",
        "So far, we have been calling string a data-type. But technically, in Python, a string is another data structure just like a list, a tuple and a dictionary. Therefore, it means a string also stores data. Essentially, a string is an array containing some items. Any character (whether a letter, a number or a special symbol like space, brackets etc.) enclosed within double quotes (`\"\"`) or single quotes (`''`) is considered as a string. \n",
        "\n",
        "Since a string is a data structure, the following operations/functions applicable for lists and tuples are also applicable for strings:\n",
        "\n",
        "1. String Length\n",
        "\n",
        "2. String Indexing\n",
        "\n",
        "3. String Slicing\n",
        "\n",
        "4. Index Of An Item\n",
        "\n",
        "5. String Concatenation\n",
        "\n",
        "6. The `enumerate()` Function\n",
        "\n",
        "7. The `count()` Function\n",
        "\n",
        "Let's first quickly apply the above operations/functions on strings and then learn some new concepts about them."
      ]
    },
    {
      "cell_type": "markdown",
      "metadata": {
        "id": "AxTo4CQPDPZb"
      },
      "source": [
        "---"
      ]
    },
    {
      "cell_type": "markdown",
      "metadata": {
        "id": "g5D1KJm0C5PH"
      },
      "source": [
        "#### Activity 1: Common Data Structure Operations on Strings\n",
        "\n",
        "Here are the common operations or functions that can be applied to a data structure in Python.\n",
        "\n",
        "**1. String Length:** The number of items (or characters) contained in a string."
      ]
    },
    {
      "cell_type": "code",
      "metadata": {
        "id": "uU_TcNO7TxQy",
        "colab": {
          "base_uri": "https://localhost:8080/",
          "height": 34
        },
        "outputId": "363c0cea-8644-4e45-f3ee-66ee31d4fba3"
      },
      "source": [
        "# Student Action: Create an alphanumeric string, preferably a short sentence. Also, find its length.\n",
        "some_string = \"On 28-04-2020, US$ 1 is equivalent to INR 75.84\"\n",
        "len(some_string)"
      ],
      "execution_count": null,
      "outputs": [
        {
          "output_type": "execute_result",
          "data": {
            "text/plain": [
              "47"
            ]
          },
          "metadata": {
            "tags": []
          },
          "execution_count": 96
        }
      ]
    },
    {
      "cell_type": "markdown",
      "metadata": {
        "id": "u8WU1MYlFMZ9"
      },
      "source": [
        "**2. Indexing**: The positions occupied by the items or characters in a string.\n"
      ]
    },
    {
      "cell_type": "code",
      "metadata": {
        "id": "uYRMrXEaXe51",
        "colab": {
          "base_uri": "https://localhost:8080/",
          "height": 816
        },
        "outputId": "cfbe9d8d-8f08-48fc-db30-1ff7909154d5"
      },
      "source": [
        "# Student Action: Print every item (or character) of the above string using a loop and the indexing method. Also, print the indices.\n",
        "for i in range(len(some_string)):\n",
        "  print(\"index =\", i, \", item =\", some_string[i])"
      ],
      "execution_count": null,
      "outputs": [
        {
          "output_type": "stream",
          "text": [
            "index = 0 , item = O\n",
            "index = 1 , item = n\n",
            "index = 2 , item =  \n",
            "index = 3 , item = 2\n",
            "index = 4 , item = 8\n",
            "index = 5 , item = -\n",
            "index = 6 , item = 0\n",
            "index = 7 , item = 4\n",
            "index = 8 , item = -\n",
            "index = 9 , item = 2\n",
            "index = 10 , item = 0\n",
            "index = 11 , item = 2\n",
            "index = 12 , item = 0\n",
            "index = 13 , item = ,\n",
            "index = 14 , item =  \n",
            "index = 15 , item = U\n",
            "index = 16 , item = S\n",
            "index = 17 , item = $\n",
            "index = 18 , item =  \n",
            "index = 19 , item = 1\n",
            "index = 20 , item =  \n",
            "index = 21 , item = i\n",
            "index = 22 , item = s\n",
            "index = 23 , item =  \n",
            "index = 24 , item = e\n",
            "index = 25 , item = q\n",
            "index = 26 , item = u\n",
            "index = 27 , item = i\n",
            "index = 28 , item = v\n",
            "index = 29 , item = a\n",
            "index = 30 , item = l\n",
            "index = 31 , item = e\n",
            "index = 32 , item = n\n",
            "index = 33 , item = t\n",
            "index = 34 , item =  \n",
            "index = 35 , item = t\n",
            "index = 36 , item = o\n",
            "index = 37 , item =  \n",
            "index = 38 , item = I\n",
            "index = 39 , item = N\n",
            "index = 40 , item = R\n",
            "index = 41 , item =  \n",
            "index = 42 , item = 7\n",
            "index = 43 , item = 5\n",
            "index = 44 , item = .\n",
            "index = 45 , item = 8\n",
            "index = 46 , item = 4\n"
          ],
          "name": "stdout"
        }
      ]
    },
    {
      "cell_type": "markdown",
      "metadata": {
        "id": "DQVtMw0aGFiD"
      },
      "source": [
        "**Note:** Even the spaces occupy an index because they are also a part of the string."
      ]
    },
    {
      "cell_type": "code",
      "metadata": {
        "id": "nxAGqzUTGRGu",
        "colab": {
          "base_uri": "https://localhost:8080/",
          "height": 816
        },
        "outputId": "c2664d09-c3d6-4434-8650-8ecca488a631"
      },
      "source": [
        "# Student Action: Print the items of the above string in the reverse order without using negative indexing. Also, print the indices.\n",
        "for i in range(len(some_string)):\n",
        "  print(\"index =\", (len(some_string) - 1) - i, \", item =\", some_string[(len(some_string) - 1) - i])"
      ],
      "execution_count": null,
      "outputs": [
        {
          "output_type": "stream",
          "text": [
            "index = 46 , item = 4\n",
            "index = 45 , item = 8\n",
            "index = 44 , item = .\n",
            "index = 43 , item = 5\n",
            "index = 42 , item = 7\n",
            "index = 41 , item =  \n",
            "index = 40 , item = R\n",
            "index = 39 , item = N\n",
            "index = 38 , item = I\n",
            "index = 37 , item =  \n",
            "index = 36 , item = o\n",
            "index = 35 , item = t\n",
            "index = 34 , item =  \n",
            "index = 33 , item = t\n",
            "index = 32 , item = n\n",
            "index = 31 , item = e\n",
            "index = 30 , item = l\n",
            "index = 29 , item = a\n",
            "index = 28 , item = v\n",
            "index = 27 , item = i\n",
            "index = 26 , item = u\n",
            "index = 25 , item = q\n",
            "index = 24 , item = e\n",
            "index = 23 , item =  \n",
            "index = 22 , item = s\n",
            "index = 21 , item = i\n",
            "index = 20 , item =  \n",
            "index = 19 , item = 1\n",
            "index = 18 , item =  \n",
            "index = 17 , item = $\n",
            "index = 16 , item = S\n",
            "index = 15 , item = U\n",
            "index = 14 , item =  \n",
            "index = 13 , item = ,\n",
            "index = 12 , item = 0\n",
            "index = 11 , item = 2\n",
            "index = 10 , item = 0\n",
            "index = 9 , item = 2\n",
            "index = 8 , item = -\n",
            "index = 7 , item = 4\n",
            "index = 6 , item = 0\n",
            "index = 5 , item = -\n",
            "index = 4 , item = 8\n",
            "index = 3 , item = 2\n",
            "index = 2 , item =  \n",
            "index = 1 , item = n\n",
            "index = 0 , item = O\n"
          ],
          "name": "stdout"
        }
      ]
    },
    {
      "cell_type": "code",
      "metadata": {
        "id": "yNQHfLnZHmX_",
        "colab": {
          "base_uri": "https://localhost:8080/",
          "height": 816
        },
        "outputId": "db9adbd8-4ed9-439d-8e65-4e73fd9db0c8"
      },
      "source": [
        "# Student Action: Print the items of the above string using negative indexing. Also, print the indices.\n",
        "for i in range(-len(some_string), 0):\n",
        "  print(\"index =\", i, \", item =\", some_string[i])"
      ],
      "execution_count": null,
      "outputs": [
        {
          "output_type": "stream",
          "text": [
            "index = -47 , item = O\n",
            "index = -46 , item = n\n",
            "index = -45 , item =  \n",
            "index = -44 , item = 2\n",
            "index = -43 , item = 8\n",
            "index = -42 , item = -\n",
            "index = -41 , item = 0\n",
            "index = -40 , item = 4\n",
            "index = -39 , item = -\n",
            "index = -38 , item = 2\n",
            "index = -37 , item = 0\n",
            "index = -36 , item = 2\n",
            "index = -35 , item = 0\n",
            "index = -34 , item = ,\n",
            "index = -33 , item =  \n",
            "index = -32 , item = U\n",
            "index = -31 , item = S\n",
            "index = -30 , item = $\n",
            "index = -29 , item =  \n",
            "index = -28 , item = 1\n",
            "index = -27 , item =  \n",
            "index = -26 , item = i\n",
            "index = -25 , item = s\n",
            "index = -24 , item =  \n",
            "index = -23 , item = e\n",
            "index = -22 , item = q\n",
            "index = -21 , item = u\n",
            "index = -20 , item = i\n",
            "index = -19 , item = v\n",
            "index = -18 , item = a\n",
            "index = -17 , item = l\n",
            "index = -16 , item = e\n",
            "index = -15 , item = n\n",
            "index = -14 , item = t\n",
            "index = -13 , item =  \n",
            "index = -12 , item = t\n",
            "index = -11 , item = o\n",
            "index = -10 , item =  \n",
            "index = -9 , item = I\n",
            "index = -8 , item = N\n",
            "index = -7 , item = R\n",
            "index = -6 , item =  \n",
            "index = -5 , item = 7\n",
            "index = -4 , item = 5\n",
            "index = -3 , item = .\n",
            "index = -2 , item = 8\n",
            "index = -1 , item = 4\n"
          ],
          "name": "stdout"
        }
      ]
    },
    {
      "cell_type": "markdown",
      "metadata": {
        "id": "FJnZY6yTIh2e"
      },
      "source": [
        "**3. String Slicing:** A small part of string sliced out from the original string."
      ]
    },
    {
      "cell_type": "code",
      "metadata": {
        "id": "_u4_5mr_IeLf",
        "colab": {
          "base_uri": "https://localhost:8080/",
          "height": 34
        },
        "outputId": "37db955f-961c-48b3-c43f-61e1d67a4f18"
      },
      "source": [
        "# Student Action: Get the first 5 characters (or items) of the above string.\n",
        "some_string[:5]"
      ],
      "execution_count": null,
      "outputs": [
        {
          "output_type": "execute_result",
          "data": {
            "text/plain": [
              "'On 28'"
            ]
          },
          "metadata": {
            "tags": []
          },
          "execution_count": 100
        }
      ]
    },
    {
      "cell_type": "code",
      "metadata": {
        "id": "CXiH4PSFIzzE",
        "colab": {
          "base_uri": "https://localhost:8080/",
          "height": 51
        },
        "outputId": "f6a69159-dd4a-4fde-cd6e-67520bc8087d"
      },
      "source": [
        "# Student Action: Get the first 5 characters (or items) of the above string in the reverse order.\n",
        "# Method I:\n",
        "print(some_string[4::-1]) # '4::-1' means get all the items between indices 4 to 0 (including both) but in reverse order; ensured by -1.\n",
        "\n",
        "# Method II:\n",
        "items = some_string[:5]\n",
        "items[::-1]"
      ],
      "execution_count": null,
      "outputs": [
        {
          "output_type": "stream",
          "text": [
            "82 nO\n"
          ],
          "name": "stdout"
        },
        {
          "output_type": "execute_result",
          "data": {
            "text/plain": [
              "'82 nO'"
            ]
          },
          "metadata": {
            "tags": []
          },
          "execution_count": 105
        }
      ]
    },
    {
      "cell_type": "code",
      "metadata": {
        "id": "NUIt-yWBJhjT",
        "colab": {
          "base_uri": "https://localhost:8080/",
          "height": 34
        },
        "outputId": "dcceaa62-9ed6-4af9-b44d-5ebbc3bfb70b"
      },
      "source": [
        "# Student Action: Get all the characters (or items) of the above string in the reverse order.\n",
        "some_string[::-1]"
      ],
      "execution_count": null,
      "outputs": [
        {
          "output_type": "execute_result",
          "data": {
            "text/plain": [
              "'48.57 RNI ot tnelaviuqe si 1 $SU ,0202-40-82 nO'"
            ]
          },
          "metadata": {
            "tags": []
          },
          "execution_count": 106
        }
      ]
    },
    {
      "cell_type": "markdown",
      "metadata": {
        "id": "awt5qmUzKBNP"
      },
      "source": [
        "You cannot change/replace the items of a string using the index method. For that, we have to use the `replace()` function which we will learn shortly."
      ]
    },
    {
      "cell_type": "code",
      "metadata": {
        "id": "3-nJOCEmK5W9",
        "colab": {
          "base_uri": "https://localhost:8080/",
          "height": 164
        },
        "outputId": "b6e93347-4265-46fe-ae87-c183c7db0cc9"
      },
      "source": [
        "# Student Action: Try to replace the item at index = 3 with 'W'. You should get 'TypeError' because 'str' object does not support item assignment.\n",
        "some_string[3] = 'W'"
      ],
      "execution_count": null,
      "outputs": [
        {
          "output_type": "error",
          "ename": "TypeError",
          "evalue": "ignored",
          "traceback": [
            "\u001b[0;31m---------------------------------------------------------------------------\u001b[0m",
            "\u001b[0;31mTypeError\u001b[0m                                 Traceback (most recent call last)",
            "\u001b[0;32m<ipython-input-107-94abbf73ef71>\u001b[0m in \u001b[0;36m<module>\u001b[0;34m()\u001b[0m\n\u001b[0;32m----> 1\u001b[0;31m \u001b[0msome_string\u001b[0m\u001b[0;34m[\u001b[0m\u001b[0;36m3\u001b[0m\u001b[0;34m]\u001b[0m \u001b[0;34m=\u001b[0m \u001b[0;34m'W'\u001b[0m\u001b[0;34m\u001b[0m\u001b[0;34m\u001b[0m\u001b[0m\n\u001b[0m",
            "\u001b[0;31mTypeError\u001b[0m: 'str' object does not support item assignment"
          ]
        }
      ]
    },
    {
      "cell_type": "markdown",
      "metadata": {
        "id": "zvzKPHe9LgqO"
      },
      "source": [
        "**4. String Index:** The `index()` function returns the index at which the item is located. In case of the repeated item, it returns the index at which it appears the first time in the string. The same is true in case of a list and a tuple."
      ]
    },
    {
      "cell_type": "code",
      "metadata": {
        "id": "uD5Ld2S3LxHm",
        "colab": {
          "base_uri": "https://localhost:8080/",
          "height": 34
        },
        "outputId": "57349e25-fb59-41c8-cb6a-c69242f43fbd"
      },
      "source": [
        "# Student Action: Get the index of any item in the string that you created.\n",
        "some_string.index('-') # The item '-' occurs twice in the string at indices 5 and 8."
      ],
      "execution_count": null,
      "outputs": [
        {
          "output_type": "execute_result",
          "data": {
            "text/plain": [
              "5"
            ]
          },
          "metadata": {
            "tags": []
          },
          "execution_count": 109
        }
      ]
    },
    {
      "cell_type": "markdown",
      "metadata": {
        "id": "oNa1cgFTNMXi"
      },
      "source": [
        "**5. String Concatenation:** The process of joining two or more strings to get one string using the `+` operator is called string concatenation. \n",
        "\n",
        "**Note:** Before the string concatenation operation, you need to ensure that the objects to be concatenated are all strings. If a data-type that needs to be concatenated is not a string then, you first need to convert it into a string using the `str()` function."
      ]
    },
    {
      "cell_type": "code",
      "metadata": {
        "id": "MFk2vzm0OuvK",
        "colab": {
          "base_uri": "https://localhost:8080/",
          "height": 34
        },
        "outputId": "20bc132d-7214-47a7-f890-dbea987f9042"
      },
      "source": [
        "# Student Action: Concatenate the following objects to get the \"Jupiter has 79 known moons.\"\n",
        "planet = \"Jupiter\"\n",
        "num_moons = 79\n",
        "sentence = planet + \" has \" + str(num_moons) + \" known moons.\"\n",
        "sentence"
      ],
      "execution_count": null,
      "outputs": [
        {
          "output_type": "execute_result",
          "data": {
            "text/plain": [
              "'Jupiter has 79 known moons.'"
            ]
          },
          "metadata": {
            "tags": []
          },
          "execution_count": 48
        }
      ]
    },
    {
      "cell_type": "markdown",
      "metadata": {
        "id": "eQ2Hn1sefX6t"
      },
      "source": [
        "**6. The `enumerate()` Function**: It pairs the item in a string with its roll call and returns a collection of tuples."
      ]
    },
    {
      "cell_type": "code",
      "metadata": {
        "id": "cbB4VwB2gEjh",
        "colab": {
          "base_uri": "https://localhost:8080/",
          "height": 173
        },
        "outputId": "1f1bd02b-26b7-4088-f4e2-f5cb8fb00cda"
      },
      "source": [
        "# Student Action: Apply the 'enumerate()' function on above string thrice: On top of it apply the 'list()', 'dict()' &  'tuple()' functions.\n",
        "# Store all of three of them in different variables.\n",
        "enum_list = list(enumerate(sentence))\n",
        "enum_dict = dict(enumerate(sentence))\n",
        "enum_tuple = tuple(enumerate(sentence))\n",
        "\n",
        "print(\"List of tuples:\\n\", enum_list, \n",
        "      \"\\n\\nDictionary:\\n\", enum_dict,\n",
        "      \"\\n\\nTuple of tuples:\\n\", enum_tuple)"
      ],
      "execution_count": null,
      "outputs": [
        {
          "output_type": "stream",
          "text": [
            "List of tuples:\n",
            " [(0, 'J'), (1, 'u'), (2, 'p'), (3, 'i'), (4, 't'), (5, 'e'), (6, 'r'), (7, ' '), (8, 'h'), (9, 'a'), (10, 's'), (11, ' '), (12, '7'), (13, '9'), (14, ' '), (15, 'k'), (16, 'n'), (17, 'o'), (18, 'w'), (19, 'n'), (20, ' '), (21, 'm'), (22, 'o'), (23, 'o'), (24, 'n'), (25, 's'), (26, '.')] \n",
            "\n",
            "Dictionary:\n",
            " {0: 'J', 1: 'u', 2: 'p', 3: 'i', 4: 't', 5: 'e', 6: 'r', 7: ' ', 8: 'h', 9: 'a', 10: 's', 11: ' ', 12: '7', 13: '9', 14: ' ', 15: 'k', 16: 'n', 17: 'o', 18: 'w', 19: 'n', 20: ' ', 21: 'm', 22: 'o', 23: 'o', 24: 'n', 25: 's', 26: '.'} \n",
            "\n",
            "Tuple of tuples:\n",
            " ((0, 'J'), (1, 'u'), (2, 'p'), (3, 'i'), (4, 't'), (5, 'e'), (6, 'r'), (7, ' '), (8, 'h'), (9, 'a'), (10, 's'), (11, ' '), (12, '7'), (13, '9'), (14, ' '), (15, 'k'), (16, 'n'), (17, 'o'), (18, 'w'), (19, 'n'), (20, ' '), (21, 'm'), (22, 'o'), (23, 'o'), (24, 'n'), (25, 's'), (26, '.'))\n"
          ],
          "name": "stdout"
        }
      ]
    },
    {
      "cell_type": "markdown",
      "metadata": {
        "id": "47fwac30rP7R"
      },
      "source": [
        "**7. The `count()` Function:** It returns the number of times an item (or a character) appears in a string.  "
      ]
    },
    {
      "cell_type": "code",
      "metadata": {
        "id": "u6jwT9VEq0cW",
        "colab": {
          "base_uri": "https://localhost:8080/",
          "height": 34
        },
        "outputId": "a23e12d7-a1e6-4068-b073-b246aa0f3728"
      },
      "source": [
        "# Student Action: Count the number of spaces in the above string.\n",
        "sentence.count(' ')"
      ],
      "execution_count": null,
      "outputs": [
        {
          "output_type": "execute_result",
          "data": {
            "text/plain": [
              "4"
            ]
          },
          "metadata": {
            "tags": []
          },
          "execution_count": 112
        }
      ]
    },
    {
      "cell_type": "markdown",
      "metadata": {
        "id": "Q42qBPhNVMjz"
      },
      "source": [
        "---"
      ]
    },
    {
      "cell_type": "markdown",
      "metadata": {
        "id": "ThWR9mIBVOX1"
      },
      "source": [
        "#### Activity 2: Empty String & Multiline String^\n",
        "\n",
        "A string which has no item (or character) is called an empty string. It can be created by either using single quotes or double quotes without enclosing anything between them. Not even space."
      ]
    },
    {
      "cell_type": "code",
      "metadata": {
        "id": "o-_NmJhSVkNN",
        "colab": {
          "base_uri": "https://localhost:8080/",
          "height": 34
        },
        "outputId": "9d44cc93-6ed5-4c07-adb3-99475e265ff6"
      },
      "source": [
        "# Student Action: Create an empty string. Print the string and also print its length.\n",
        "empty_string = ''\n",
        "print(\"The string\", empty_string, \"is an empty string because it has\", len(empty_string), \"characters.\")"
      ],
      "execution_count": null,
      "outputs": [
        {
          "output_type": "stream",
          "text": [
            "The string  is an empty string because it has 0 characters.\n"
          ],
          "name": "stdout"
        }
      ]
    },
    {
      "cell_type": "markdown",
      "metadata": {
        "id": "jnZrU2FXkB9D"
      },
      "source": [
        "You may require to write a very long string in multiple lines in a code cell. Such a string is called a multiline string. To create a multiline string, use three single quotes (`''' '''`) or three double quotes (`\"\"\" \"\"\"`).\n",
        "\n",
        "Here's one of the wonderful poems by Nobel Prize Winner Dr Rabindranath Tagore from this collection called Gitanjali.\n",
        "\n",
        "```\n",
        "Where the mind is without fear\n",
        "and the head is held high,\n",
        "where knowledge is free.\n",
        "Where the world has not been broken up into fragments, \n",
        "by narrow domestic walls.\n",
        "Where words come out from the depth of truth,\n",
        "where tireless striving stretches its arms toward perfection.\n",
        "Where the clear stream of reason has not lost its way\n",
        "into the dreary desert sand of dead habit.\n",
        "Where the mind is led forward by thee\n",
        "into ever widening thought and action.\n",
        "In to that heaven of freedom, my father,\n",
        "LET MY COUNTRY AWAKE!\n",
        "```\n",
        "\n",
        "The above poem has 13 lines. If we want to print it as a string in the following code cell, then we will have to create it as a multiline string."
      ]
    },
    {
      "cell_type": "code",
      "metadata": {
        "id": "hJlxpFfmmN7-",
        "colab": {
          "base_uri": "https://localhost:8080/",
          "height": 255
        },
        "outputId": "6f232fe5-3de2-47eb-e97c-1cc24233977c"
      },
      "source": [
        "# Student Action: Create the multiline string for the above poem and print it using the 'print()' function.\n",
        "poem = \"\"\"\n",
        "          Where the mind is without fear\n",
        "          and the head is held high,\n",
        "          where knowledge is free.\n",
        "          Where the world has not been broken up into fragments, \n",
        "          by narrow domestic walls.\n",
        "          Where words come out from the depth of truth,\n",
        "          where tireless striving stretches its arms toward perfection.\n",
        "          Where the clear stream of reason has not lost its way\n",
        "          into the dreary desert sand of dead habit.\n",
        "          Where the mind is led forward by thee\n",
        "          into ever widening thought and action.\n",
        "          In to that heaven of freedom, my father,\n",
        "          LET MY COUNTRY AWAKE!\"\"\"\n",
        "print(poem)"
      ],
      "execution_count": null,
      "outputs": [
        {
          "output_type": "stream",
          "text": [
            "\n",
            "          Where the mind is without fear\n",
            "          and the head is held high,\n",
            "          where knowledge is free.\n",
            "          Where the world has not been broken up into fragments, \n",
            "          by narrow domestic walls.\n",
            "          Where words come out from the depth of truth,\n",
            "          where tireless striving stretches its arms toward perfection.\n",
            "          Where the clear stream of reason has not lost its way\n",
            "          into the dreary desert sand of dead habit.\n",
            "          Where the mind is led forward by thee\n",
            "          into ever widening thought and action.\n",
            "          In to that heaven of freedom, my father,\n",
            "          LET MY COUNTRY AWAKE!\n"
          ],
          "name": "stdout"
        }
      ]
    },
    {
      "cell_type": "markdown",
      "metadata": {
        "id": "6igTWqxBmo7s"
      },
      "source": [
        "The way you indent a multiline string is a way it gets printed in the output.\n",
        "\n",
        "Try to create the above string with either single quotes and double quotes. You should get an error."
      ]
    },
    {
      "cell_type": "code",
      "metadata": {
        "id": "MTCL0R8Kmwm9",
        "colab": {
          "base_uri": "https://localhost:8080/",
          "height": 130
        },
        "outputId": "b39dd0b6-6864-4c3d-d57f-dbea0567ae53"
      },
      "source": [
        "# Student Action: Create the multiline string for the above poem and print it using the 'print()' function.\n",
        "poem = \"Where the mind is without fear\n",
        "        and the head is held high,\n",
        "        where knowledge is free.\n",
        "        Where the world has not been broken up into fragments, \n",
        "        by narrow domestic walls.\n",
        "        Where words come out from the depth of truth,\n",
        "        where tireless striving stretches its arms toward perfection.\n",
        "        Where the clear stream of reason has not lost its way\n",
        "        into the dreary desert sand of dead habit.\n",
        "        Where the mind is led forward by thee\n",
        "        into ever widening thought and action.\n",
        "        In to that heaven of freedom, my father,\n",
        "        LET MY COUNTRY AWAKE!\"\n",
        "print(poem)"
      ],
      "execution_count": null,
      "outputs": [
        {
          "output_type": "error",
          "ename": "SyntaxError",
          "evalue": "ignored",
          "traceback": [
            "\u001b[0;36m  File \u001b[0;32m\"<ipython-input-115-edb22198a2fe>\"\u001b[0;36m, line \u001b[0;32m1\u001b[0m\n\u001b[0;31m    poem = \"Where the mind is without fear\u001b[0m\n\u001b[0m                                          ^\u001b[0m\n\u001b[0;31mSyntaxError\u001b[0m\u001b[0;31m:\u001b[0m EOL while scanning string literal\n"
          ]
        }
      ]
    },
    {
      "cell_type": "markdown",
      "metadata": {
        "id": "XV9GyuzxaRxk"
      },
      "source": [
        "---"
      ]
    },
    {
      "cell_type": "markdown",
      "metadata": {
        "id": "mZ4NjAtWsSMG"
      },
      "source": [
        "#### Activity 3: Repetition^^\n",
        "\n",
        "You can repeat a string several times by using the `*` operator. Using this concept you can create many incredible patterns such as a triangle, a rectangle, square etc.\n",
        "\n",
        "Let's learn this concept by creating the following triangle.\n",
        "\n",
        "```\n",
        "#\n",
        "##\n",
        "###\n",
        "####\n",
        "#####\n",
        "```\n",
        "\n",
        "Here, the `#` string appears only once in the first line, twice in the second line, thrice in the third line, four times in the fourth line and five times in the fifth line."
      ]
    },
    {
      "cell_type": "code",
      "metadata": {
        "id": "JfepSinHstil",
        "colab": {
          "base_uri": "https://localhost:8080/",
          "height": 102
        },
        "outputId": "b4ece09e-38cf-408b-b5f8-f0de409c3c45"
      },
      "source": [
        "# Teacher Action: Create the above triangle.\n",
        "for i in range(1, 6):\n",
        "  print('#' * i)"
      ],
      "execution_count": null,
      "outputs": [
        {
          "output_type": "stream",
          "text": [
            "#\n",
            "##\n",
            "###\n",
            "####\n",
            "#####\n"
          ],
          "name": "stdout"
        }
      ]
    },
    {
      "cell_type": "markdown",
      "metadata": {
        "id": "5OiQmtuLtaT2"
      },
      "source": [
        "In the above code:\n",
        "\n",
        "- the value of `i` goes from 1 to 5.\n",
        "\n",
        "- `i = 1`, repeats the `'#'` string only once because of `'#' * 1`.\n",
        "\n",
        "- `i = 2`, repeats the `'#'` string twice because of `'#' * 2`\n",
        "\n",
        "- `i = 3`, repeats the `'#'` string thrice because of `'#' * 3`\n",
        "\n",
        "- `i = 4`, repeats the `'#'` string four times because of `'#' * 4`\n",
        "\n",
        "- `i = 5`, repeats the `'#'` string five times because of `'#' * 5`\n",
        "\n",
        "Now, you create the following triangle. It is a mirror image of the above triangle.\n",
        "\n",
        "```\n",
        "    #\n",
        "   ##\n",
        "  ###\n",
        " ####\n",
        "#####\n",
        "```\n"
      ]
    },
    {
      "cell_type": "code",
      "metadata": {
        "id": "wrCs3k3ZvhLT",
        "colab": {
          "base_uri": "https://localhost:8080/",
          "height": 102
        },
        "outputId": "33f1cbea-2f28-4d41-99e0-5f264d5c4873"
      },
      "source": [
        "# Student Action: Create the above triangle.\n",
        "for i in range(1, 6):\n",
        "  print(' ' * (5 - i) + '#' * i)"
      ],
      "execution_count": null,
      "outputs": [
        {
          "output_type": "stream",
          "text": [
            "    #\n",
            "   ##\n",
            "  ###\n",
            " ####\n",
            "#####\n"
          ],
          "name": "stdout"
        }
      ]
    },
    {
      "cell_type": "markdown",
      "metadata": {
        "id": "FMhzOap-x8IM"
      },
      "source": [
        "In the above code:\n",
        "\n",
        "- the value of `i` goes from 1 to 5.\n",
        "\n",
        "- `i = 1`, repeats the space `' '` four times because of `' ' * (5 - 1)` and the `'#'` string only once because of `'#' * 1`.\n",
        "\n",
        "- `i = 2`, repeats the space `' '` thrice because of `' ' * (5 - 2)` and the `'#'` string twice because of `'#' * 2`\n",
        "\n",
        "- `i = 3`, repeats the space `' '` twice because of `' ' * (5 - 3)` and the `'#'` string thrice because of `'#' * 3`\n",
        "\n",
        "- `i = 4`, repeats the space `' '` only once because of `' ' * (5 - 4)` and the `'#'` string four times because of `'#' * 4`\n",
        "\n",
        "- `i = 5`, repeats the space `' '` zero times because of `' ' * (5 - 5)` and the `'#'` string five times because of `'#' * 5`\n",
        "\n",
        "\n",
        "Similarly, you can create many more such patterns.\n",
        "\n",
        "**Note:** Similarly, you can also repeat the times contained in a list and in a tuple multiple times using the `*` operator."
      ]
    },
    {
      "cell_type": "code",
      "metadata": {
        "id": "DNX97jn-St3h",
        "colab": {
          "base_uri": "https://localhost:8080/",
          "height": 34
        },
        "outputId": "b85de59f-f2d0-492c-bb6c-250af42848eb"
      },
      "source": [
        "# Student Action: Create a list containing three items and repeat them twice.\n",
        "my_list = [1, 2, 3]\n",
        "my_list * 2"
      ],
      "execution_count": null,
      "outputs": [
        {
          "output_type": "execute_result",
          "data": {
            "text/plain": [
              "[1, 2, 3, 1, 2, 3]"
            ]
          },
          "metadata": {
            "tags": []
          },
          "execution_count": 123
        }
      ]
    },
    {
      "cell_type": "code",
      "metadata": {
        "id": "bK7ovlG1SJ-w",
        "colab": {
          "base_uri": "https://localhost:8080/",
          "height": 34
        },
        "outputId": "468e303b-2d30-43a4-9e6c-b2eb610b2b0e"
      },
      "source": [
        "# Student Action: Create a tuple containing three items and repeat them four times.\n",
        "my_tuple = (1, 2, 3)\n",
        "my_tuple * 4"
      ],
      "execution_count": null,
      "outputs": [
        {
          "output_type": "execute_result",
          "data": {
            "text/plain": [
              "(1, 2, 3, 1, 2, 3, 1, 2, 3, 1, 2, 3)"
            ]
          },
          "metadata": {
            "tags": []
          },
          "execution_count": 124
        }
      ]
    },
    {
      "cell_type": "markdown",
      "metadata": {
        "id": "0OMi1V9osRiW"
      },
      "source": [
        "---"
      ]
    },
    {
      "cell_type": "markdown",
      "metadata": {
        "id": "uSbF9A2m8Hm4"
      },
      "source": [
        "#### Activity 4: The `format()` Function^^^\n",
        "\n",
        "This function is our best friend when it comes to formatting a string. Why?\n",
        "\n",
        "Recall that in the case of the string concatenation, we have to use the `+` operator several times to get one string. Additionally, you have to beware of spaces and also have to convert a non-string data-type object to a string before concatenation. This is such a big hassle if too many strings are to be concatenated.\n",
        "\n",
        "Similarly, while printing the values of multiple entities using the `print()` function, you have to separate them with commas. Again quite a handful tasks especially in case of long strings.\n",
        "\n",
        "The `format()` function doesn't require that much effort to generate a clean string. It allows you to create one long string with proper punctuation and plug-in the required values at the respective places in the long string.\n",
        "\n",
        "Let's learn this function with the help of an example. We have a CSV containing the data of the 20 professional marathon runners (men's category) who participated in Tata Mumbai Marathon (TMM) 2020.\n",
        "\n",
        "Our task is to create a certificate for each runner using the `format()` function. The certificate should read the following:\n",
        "\n",
        "```\n",
        "Tata Mumbai Marathon 2020\n",
        "\n",
        "      CONGRATULATIONS\n",
        "\n",
        "This is to certify that DERARA HURISA                    \n",
        "BIB No. 19\n",
        "officially completed the marathon \n",
        "(distance 42.2 km) \n",
        "in the men's category \n",
        "with a finish time of 2:08:09 \n",
        "and rank 1.                   \n",
        "--------------------------------------------------\n",
        "```\n",
        "\n",
        "Here's the link to the CSV file containing data for each runner:\n",
        "\n",
        "https://student-datasets-bucket.s3.ap-south-1.amazonaws.com/whitehat-ds-datasets/tmm-2020-race-results/TMM2020_RaceResults.csv\n",
        "\n",
        "\n",
        "**How to approach this task?**\n",
        "\n",
        "1. Create a Pandas DataFrame for the TMM 2020 professional runners (men's category).\n",
        "\n",
        "2. Create the following string with curly brackets as placeholders:\n",
        "\n",
        "  ```\n",
        "  Tata Mumbai Marathon 2020\n",
        "\n",
        "        CONGRATULATIONS\n",
        "\n",
        "  This is to certify that {}                    \n",
        "  BIB No. {}\n",
        "  officially completed the marathon \n",
        "  (distance 42.2 km) \n",
        "  in the men's category \n",
        "  with a finish time of {} \n",
        "  and rank {}.                   \n",
        "  {}\n",
        "  ```\n",
        "\n",
        "3. Iterate through each row of the DataFrame created in the first step to get the name, BIB number, race finish time and rank of a runner.\n",
        "\n",
        "4. Fill the values in the placeholders (or curly brackets) using the `format()` function such that\n",
        "\n",
        "      - the name of a runner goes to the first placeholder.\n",
        "\n",
        "      - the BIB number of a runner goes to the second placeholder.\n",
        "\n",
        "      - the race finish time of a runner goes to the third placeholder.\n",
        "\n",
        "      - the rank of a runner goes to the fifth placeholder.\n",
        "\n",
        "      - the 50 repetitions of the hyphen symbol goe to the last placeholder.\n",
        "\n",
        "5. Print the prescribed certificate for each runner.\n",
        "\n",
        "The steps 3, 4 and 5 are part of the same iteration."
      ]
    },
    {
      "cell_type": "code",
      "metadata": {
        "id": "VNq8Xc7E3X39",
        "colab": {
          "base_uri": "https://localhost:8080/",
          "height": 669
        },
        "outputId": "6cd74722-8a17-44ee-8bef-4483bbc4c5e1"
      },
      "source": [
        "# Teacher Action: Create a Pandas DataFrame for the TMM 2020 runners.\n",
        "import pandas as pd\n",
        "\n",
        "df = pd.read_csv('https://student-datasets-bucket.s3.ap-south-1.amazonaws.com/whitehat-ds-datasets/tmm-2020-race-results/TMM2020_RaceResults.csv')\n",
        "df.head(20)"
      ],
      "execution_count": null,
      "outputs": [
        {
          "output_type": "execute_result",
          "data": {
            "text/html": [
              "<div>\n",
              "<style scoped>\n",
              "    .dataframe tbody tr th:only-of-type {\n",
              "        vertical-align: middle;\n",
              "    }\n",
              "\n",
              "    .dataframe tbody tr th {\n",
              "        vertical-align: top;\n",
              "    }\n",
              "\n",
              "    .dataframe thead th {\n",
              "        text-align: right;\n",
              "    }\n",
              "</style>\n",
              "<table border=\"1\" class=\"dataframe\">\n",
              "  <thead>\n",
              "    <tr style=\"text-align: right;\">\n",
              "      <th></th>\n",
              "      <th>Finish Position</th>\n",
              "      <th>BIB</th>\n",
              "      <th>NAME</th>\n",
              "      <th>NATIONALITY</th>\n",
              "      <th>Net Finish Time</th>\n",
              "    </tr>\n",
              "  </thead>\n",
              "  <tbody>\n",
              "    <tr>\n",
              "      <th>0</th>\n",
              "      <td>1</td>\n",
              "      <td>19</td>\n",
              "      <td>DERARA HURISA</td>\n",
              "      <td>ETH</td>\n",
              "      <td>2:08:09</td>\n",
              "    </tr>\n",
              "    <tr>\n",
              "      <th>1</th>\n",
              "      <td>2</td>\n",
              "      <td>2</td>\n",
              "      <td>AYELE ABSHERO</td>\n",
              "      <td>ETH</td>\n",
              "      <td>2:08:20</td>\n",
              "    </tr>\n",
              "    <tr>\n",
              "      <th>2</th>\n",
              "      <td>3</td>\n",
              "      <td>8</td>\n",
              "      <td>BIRHANU TESHOME</td>\n",
              "      <td>ETH</td>\n",
              "      <td>2:08:26</td>\n",
              "    </tr>\n",
              "    <tr>\n",
              "      <th>3</th>\n",
              "      <td>4</td>\n",
              "      <td>14</td>\n",
              "      <td>JACKSON KIPROP</td>\n",
              "      <td>UGA</td>\n",
              "      <td>2:08:41</td>\n",
              "    </tr>\n",
              "    <tr>\n",
              "      <th>4</th>\n",
              "      <td>5</td>\n",
              "      <td>15</td>\n",
              "      <td>ABDI ALI</td>\n",
              "      <td>BHR</td>\n",
              "      <td>2:08:56</td>\n",
              "    </tr>\n",
              "    <tr>\n",
              "      <th>5</th>\n",
              "      <td>6</td>\n",
              "      <td>9</td>\n",
              "      <td>PAUL MAINA</td>\n",
              "      <td>KEN</td>\n",
              "      <td>2:09:01</td>\n",
              "    </tr>\n",
              "    <tr>\n",
              "      <th>6</th>\n",
              "      <td>7</td>\n",
              "      <td>3</td>\n",
              "      <td>ABERA KUMA</td>\n",
              "      <td>ETH</td>\n",
              "      <td>2:09:15</td>\n",
              "    </tr>\n",
              "    <tr>\n",
              "      <th>7</th>\n",
              "      <td>8</td>\n",
              "      <td>18</td>\n",
              "      <td>KEBEDE WAMI</td>\n",
              "      <td>ETH</td>\n",
              "      <td>2:10:04</td>\n",
              "    </tr>\n",
              "    <tr>\n",
              "      <th>8</th>\n",
              "      <td>9</td>\n",
              "      <td>12</td>\n",
              "      <td>MERHAWI KESETE</td>\n",
              "      <td>ERI</td>\n",
              "      <td>2:10:36</td>\n",
              "    </tr>\n",
              "    <tr>\n",
              "      <th>9</th>\n",
              "      <td>10</td>\n",
              "      <td>11</td>\n",
              "      <td>BIRA SEBOKA</td>\n",
              "      <td>ETH</td>\n",
              "      <td>2:10:37</td>\n",
              "    </tr>\n",
              "    <tr>\n",
              "      <th>10</th>\n",
              "      <td>11</td>\n",
              "      <td>7</td>\n",
              "      <td>VINCENT RONO</td>\n",
              "      <td>KEN</td>\n",
              "      <td>2:11:15</td>\n",
              "    </tr>\n",
              "    <tr>\n",
              "      <th>11</th>\n",
              "      <td>12</td>\n",
              "      <td>10</td>\n",
              "      <td>SHUMET AKALNEW</td>\n",
              "      <td>ETH</td>\n",
              "      <td>2:13:39</td>\n",
              "    </tr>\n",
              "    <tr>\n",
              "      <th>12</th>\n",
              "      <td>13</td>\n",
              "      <td>51</td>\n",
              "      <td>SRINU BUGATHA</td>\n",
              "      <td>IND</td>\n",
              "      <td>2:18:44</td>\n",
              "    </tr>\n",
              "    <tr>\n",
              "      <th>13</th>\n",
              "      <td>14</td>\n",
              "      <td>56</td>\n",
              "      <td>SHER SINGH</td>\n",
              "      <td>IND</td>\n",
              "      <td>2:24:00</td>\n",
              "    </tr>\n",
              "    <tr>\n",
              "      <th>14</th>\n",
              "      <td>15</td>\n",
              "      <td>53</td>\n",
              "      <td>DURGA BAHADUR BUDHA</td>\n",
              "      <td>IND</td>\n",
              "      <td>2:24:03</td>\n",
              "    </tr>\n",
              "    <tr>\n",
              "      <th>15</th>\n",
              "      <td>16</td>\n",
              "      <td>70</td>\n",
              "      <td>RAVIPRAKASH</td>\n",
              "      <td>IND</td>\n",
              "      <td>2:24:32</td>\n",
              "    </tr>\n",
              "    <tr>\n",
              "      <th>16</th>\n",
              "      <td>17</td>\n",
              "      <td>27</td>\n",
              "      <td>SYLVESTER KIPTOO</td>\n",
              "      <td>KEN</td>\n",
              "      <td>2:24:53</td>\n",
              "    </tr>\n",
              "    <tr>\n",
              "      <th>17</th>\n",
              "      <td>18</td>\n",
              "      <td>55</td>\n",
              "      <td>RAHUL PAL</td>\n",
              "      <td>IND</td>\n",
              "      <td>2:26:56</td>\n",
              "    </tr>\n",
              "    <tr>\n",
              "      <th>18</th>\n",
              "      <td>19</td>\n",
              "      <td>54</td>\n",
              "      <td>PRADEEP SINGH CHAUDHARY</td>\n",
              "      <td>IND</td>\n",
              "      <td>2:29:27</td>\n",
              "    </tr>\n",
              "    <tr>\n",
              "      <th>19</th>\n",
              "      <td>20</td>\n",
              "      <td>57</td>\n",
              "      <td>MOHIT RATHORE</td>\n",
              "      <td>IND</td>\n",
              "      <td>2:31:16</td>\n",
              "    </tr>\n",
              "  </tbody>\n",
              "</table>\n",
              "</div>"
            ],
            "text/plain": [
              "    Finish Position  BIB                     NAME NATIONALITY Net Finish Time\n",
              "0                 1   19            DERARA HURISA         ETH         2:08:09\n",
              "1                 2    2            AYELE ABSHERO         ETH         2:08:20\n",
              "2                 3    8          BIRHANU TESHOME         ETH         2:08:26\n",
              "3                 4   14           JACKSON KIPROP         UGA         2:08:41\n",
              "4                 5   15                 ABDI ALI         BHR         2:08:56\n",
              "5                 6    9               PAUL MAINA         KEN         2:09:01\n",
              "6                 7    3               ABERA KUMA         ETH         2:09:15\n",
              "7                 8   18              KEBEDE WAMI         ETH         2:10:04\n",
              "8                 9   12           MERHAWI KESETE         ERI         2:10:36\n",
              "9                10   11              BIRA SEBOKA         ETH         2:10:37\n",
              "10               11    7             VINCENT RONO         KEN         2:11:15\n",
              "11               12   10           SHUMET AKALNEW         ETH         2:13:39\n",
              "12               13   51            SRINU BUGATHA         IND         2:18:44\n",
              "13               14   56               SHER SINGH         IND         2:24:00\n",
              "14               15   53      DURGA BAHADUR BUDHA         IND         2:24:03\n",
              "15               16   70              RAVIPRAKASH         IND         2:24:32\n",
              "16               17   27         SYLVESTER KIPTOO         KEN         2:24:53\n",
              "17               18   55                RAHUL PAL         IND         2:26:56\n",
              "18               19   54  PRADEEP SINGH CHAUDHARY         IND         2:29:27\n",
              "19               20   57            MOHIT RATHORE         IND         2:31:16"
            ]
          },
          "metadata": {
            "tags": []
          },
          "execution_count": 126
        }
      ]
    },
    {
      "cell_type": "markdown",
      "metadata": {
        "id": "LH7PYgKn7FAQ"
      },
      "source": [
        "The first step is done. Now, let's follow the remaining steps."
      ]
    },
    {
      "cell_type": "code",
      "metadata": {
        "id": "TdemmHi_8-vb",
        "colab": {
          "base_uri": "https://localhost:8080/",
          "height": 1000
        },
        "outputId": "69129436-52a1-4d8a-fd9e-b18048dea4d5"
      },
      "source": [
        "# Teacher Action: Print the certificates for each TMM 2020 runner in the prescribed format.\n",
        "certificate = \"\"\"\n",
        "  Tata Mumbai Marathon 2020\n",
        "\n",
        "      CONGRATULATIONS\n",
        "\n",
        "This is to certify that {}                    \n",
        "BIB No. {}\n",
        "officially completed the marathon \n",
        "(distance 42.2 km) \n",
        "in the men's category \n",
        "with a finish time of {} \n",
        "and rank {}.                   \n",
        "{}\n",
        "\"\"\"\n",
        "for i in df.index: # The index keyword returns an array containing indices of all the rows in a DataFrame.\n",
        "  print(certificate.format(df.loc[i, 'NAME'], df.loc[i, 'BIB'], df.loc[i, 'Net Finish Time'], df.loc[i, 'Finish Position'], '-' * 50))"
      ],
      "execution_count": null,
      "outputs": [
        {
          "output_type": "stream",
          "text": [
            "\n",
            "  Tata Mumbai Marathon 2020\n",
            "\n",
            "      CONGRATULATIONS\n",
            "\n",
            "This is to certify that DERARA HURISA                    \n",
            "BIB No. 19\n",
            "officially completed the marathon \n",
            "(distance 42.2 km) \n",
            "in the men's category \n",
            "with a finish time of 2:08:09 \n",
            "and rank 1.                   \n",
            "--------------------------------------------------\n",
            "\n",
            "\n",
            "  Tata Mumbai Marathon 2020\n",
            "\n",
            "      CONGRATULATIONS\n",
            "\n",
            "This is to certify that AYELE ABSHERO                    \n",
            "BIB No. 2\n",
            "officially completed the marathon \n",
            "(distance 42.2 km) \n",
            "in the men's category \n",
            "with a finish time of 2:08:20 \n",
            "and rank 2.                   \n",
            "--------------------------------------------------\n",
            "\n",
            "\n",
            "  Tata Mumbai Marathon 2020\n",
            "\n",
            "      CONGRATULATIONS\n",
            "\n",
            "This is to certify that BIRHANU TESHOME                    \n",
            "BIB No. 8\n",
            "officially completed the marathon \n",
            "(distance 42.2 km) \n",
            "in the men's category \n",
            "with a finish time of 2:08:26 \n",
            "and rank 3.                   \n",
            "--------------------------------------------------\n",
            "\n",
            "\n",
            "  Tata Mumbai Marathon 2020\n",
            "\n",
            "      CONGRATULATIONS\n",
            "\n",
            "This is to certify that JACKSON KIPROP                    \n",
            "BIB No. 14\n",
            "officially completed the marathon \n",
            "(distance 42.2 km) \n",
            "in the men's category \n",
            "with a finish time of 2:08:41 \n",
            "and rank 4.                   \n",
            "--------------------------------------------------\n",
            "\n",
            "\n",
            "  Tata Mumbai Marathon 2020\n",
            "\n",
            "      CONGRATULATIONS\n",
            "\n",
            "This is to certify that ABDI ALI                    \n",
            "BIB No. 15\n",
            "officially completed the marathon \n",
            "(distance 42.2 km) \n",
            "in the men's category \n",
            "with a finish time of 2:08:56 \n",
            "and rank 5.                   \n",
            "--------------------------------------------------\n",
            "\n",
            "\n",
            "  Tata Mumbai Marathon 2020\n",
            "\n",
            "      CONGRATULATIONS\n",
            "\n",
            "This is to certify that PAUL MAINA                    \n",
            "BIB No. 9\n",
            "officially completed the marathon \n",
            "(distance 42.2 km) \n",
            "in the men's category \n",
            "with a finish time of 2:09:01 \n",
            "and rank 6.                   \n",
            "--------------------------------------------------\n",
            "\n",
            "\n",
            "  Tata Mumbai Marathon 2020\n",
            "\n",
            "      CONGRATULATIONS\n",
            "\n",
            "This is to certify that ABERA KUMA                    \n",
            "BIB No. 3\n",
            "officially completed the marathon \n",
            "(distance 42.2 km) \n",
            "in the men's category \n",
            "with a finish time of 2:09:15 \n",
            "and rank 7.                   \n",
            "--------------------------------------------------\n",
            "\n",
            "\n",
            "  Tata Mumbai Marathon 2020\n",
            "\n",
            "      CONGRATULATIONS\n",
            "\n",
            "This is to certify that KEBEDE WAMI                    \n",
            "BIB No. 18\n",
            "officially completed the marathon \n",
            "(distance 42.2 km) \n",
            "in the men's category \n",
            "with a finish time of 2:10:04 \n",
            "and rank 8.                   \n",
            "--------------------------------------------------\n",
            "\n",
            "\n",
            "  Tata Mumbai Marathon 2020\n",
            "\n",
            "      CONGRATULATIONS\n",
            "\n",
            "This is to certify that MERHAWI KESETE                    \n",
            "BIB No. 12\n",
            "officially completed the marathon \n",
            "(distance 42.2 km) \n",
            "in the men's category \n",
            "with a finish time of 2:10:36 \n",
            "and rank 9.                   \n",
            "--------------------------------------------------\n",
            "\n",
            "\n",
            "  Tata Mumbai Marathon 2020\n",
            "\n",
            "      CONGRATULATIONS\n",
            "\n",
            "This is to certify that BIRA SEBOKA                    \n",
            "BIB No. 11\n",
            "officially completed the marathon \n",
            "(distance 42.2 km) \n",
            "in the men's category \n",
            "with a finish time of 2:10:37 \n",
            "and rank 10.                   \n",
            "--------------------------------------------------\n",
            "\n",
            "\n",
            "  Tata Mumbai Marathon 2020\n",
            "\n",
            "      CONGRATULATIONS\n",
            "\n",
            "This is to certify that VINCENT RONO                    \n",
            "BIB No. 7\n",
            "officially completed the marathon \n",
            "(distance 42.2 km) \n",
            "in the men's category \n",
            "with a finish time of 2:11:15 \n",
            "and rank 11.                   \n",
            "--------------------------------------------------\n",
            "\n",
            "\n",
            "  Tata Mumbai Marathon 2020\n",
            "\n",
            "      CONGRATULATIONS\n",
            "\n",
            "This is to certify that SHUMET AKALNEW                    \n",
            "BIB No. 10\n",
            "officially completed the marathon \n",
            "(distance 42.2 km) \n",
            "in the men's category \n",
            "with a finish time of 2:13:39 \n",
            "and rank 12.                   \n",
            "--------------------------------------------------\n",
            "\n",
            "\n",
            "  Tata Mumbai Marathon 2020\n",
            "\n",
            "      CONGRATULATIONS\n",
            "\n",
            "This is to certify that SRINU BUGATHA                    \n",
            "BIB No. 51\n",
            "officially completed the marathon \n",
            "(distance 42.2 km) \n",
            "in the men's category \n",
            "with a finish time of 2:18:44 \n",
            "and rank 13.                   \n",
            "--------------------------------------------------\n",
            "\n",
            "\n",
            "  Tata Mumbai Marathon 2020\n",
            "\n",
            "      CONGRATULATIONS\n",
            "\n",
            "This is to certify that SHER SINGH                    \n",
            "BIB No. 56\n",
            "officially completed the marathon \n",
            "(distance 42.2 km) \n",
            "in the men's category \n",
            "with a finish time of 2:24:00 \n",
            "and rank 14.                   \n",
            "--------------------------------------------------\n",
            "\n",
            "\n",
            "  Tata Mumbai Marathon 2020\n",
            "\n",
            "      CONGRATULATIONS\n",
            "\n",
            "This is to certify that DURGA BAHADUR BUDHA                    \n",
            "BIB No. 53\n",
            "officially completed the marathon \n",
            "(distance 42.2 km) \n",
            "in the men's category \n",
            "with a finish time of 2:24:03 \n",
            "and rank 15.                   \n",
            "--------------------------------------------------\n",
            "\n",
            "\n",
            "  Tata Mumbai Marathon 2020\n",
            "\n",
            "      CONGRATULATIONS\n",
            "\n",
            "This is to certify that RAVIPRAKASH                    \n",
            "BIB No. 70\n",
            "officially completed the marathon \n",
            "(distance 42.2 km) \n",
            "in the men's category \n",
            "with a finish time of 2:24:32 \n",
            "and rank 16.                   \n",
            "--------------------------------------------------\n",
            "\n",
            "\n",
            "  Tata Mumbai Marathon 2020\n",
            "\n",
            "      CONGRATULATIONS\n",
            "\n",
            "This is to certify that SYLVESTER KIPTOO                    \n",
            "BIB No. 27\n",
            "officially completed the marathon \n",
            "(distance 42.2 km) \n",
            "in the men's category \n",
            "with a finish time of 2:24:53 \n",
            "and rank 17.                   \n",
            "--------------------------------------------------\n",
            "\n",
            "\n",
            "  Tata Mumbai Marathon 2020\n",
            "\n",
            "      CONGRATULATIONS\n",
            "\n",
            "This is to certify that RAHUL PAL                    \n",
            "BIB No. 55\n",
            "officially completed the marathon \n",
            "(distance 42.2 km) \n",
            "in the men's category \n",
            "with a finish time of 2:26:56 \n",
            "and rank 18.                   \n",
            "--------------------------------------------------\n",
            "\n",
            "\n",
            "  Tata Mumbai Marathon 2020\n",
            "\n",
            "      CONGRATULATIONS\n",
            "\n",
            "This is to certify that PRADEEP SINGH CHAUDHARY                    \n",
            "BIB No. 54\n",
            "officially completed the marathon \n",
            "(distance 42.2 km) \n",
            "in the men's category \n",
            "with a finish time of 2:29:27 \n",
            "and rank 19.                   \n",
            "--------------------------------------------------\n",
            "\n",
            "\n",
            "  Tata Mumbai Marathon 2020\n",
            "\n",
            "      CONGRATULATIONS\n",
            "\n",
            "This is to certify that MOHIT RATHORE                    \n",
            "BIB No. 57\n",
            "officially completed the marathon \n",
            "(distance 42.2 km) \n",
            "in the men's category \n",
            "with a finish time of 2:31:16 \n",
            "and rank 20.                   \n",
            "--------------------------------------------------\n",
            "\n"
          ],
          "name": "stdout"
        }
      ]
    },
    {
      "cell_type": "markdown",
      "metadata": {
        "id": "_Zbr1xTY9Olb"
      },
      "source": [
        "As you can see, we first created a multiline string and stored it in a variable. The string contains five place holders in the form of curly brackets.\n",
        "\n",
        "- The first place holder is created to store the name of each runner.\n",
        "\n",
        "- The second place holder is created to store the BIB number of each runner.\n",
        "\n",
        "- The third place holder is created to store the finish time of each runner.\n",
        "\n",
        "- The fourth place holder is created to store the rank secured by each runner in the marathon.\n",
        "\n",
        "- The fifth place holder is created to store the hyphen symbol (`-`).\n",
        "\n",
        "In the same order of the place holders, we passed the values to the `format()` so that they occupy their respective places in the final string. The last value,  `'-' * 50`, that is passed to the `format()` function means that the hyphen symbol is repeated 50 times.\n",
        "\n",
        "**Labelling Placeholders**\n",
        "\n",
        "When there are too many placeholders to fill, you might lose a track of what value to put to what placeholder. In such cases, the better approach is to label the placeholders in such a way that they describe the values to put to the placeholders."
      ]
    },
    {
      "cell_type": "code",
      "metadata": {
        "id": "aSqns1fTbYio",
        "colab": {
          "base_uri": "https://localhost:8080/",
          "height": 1000
        },
        "outputId": "43b023c8-7e90-4c90-954b-158d81ad4617"
      },
      "source": [
        "# Teacher Action: Label the placeholders in the above code.\n",
        "certificate = \"\"\"\n",
        "  Tata Mumbai Marathon 2020\n",
        "\n",
        "      CONGRATULATIONS\n",
        "\n",
        "This is to certify that {name}                    \n",
        "BIB No. {bib}\n",
        "officially completed the marathon \n",
        "(distance 42.2 km) \n",
        "in the men's category \n",
        "with a finish time of {finish_time} \n",
        "and rank {rank}.                   \n",
        "{hyphens}\n",
        "\"\"\"\n",
        "for i in df.index: # The index keyword returns an array containing indices of all the rows in a DataFrame.\n",
        "  print(certificate.format(name=df.loc[i, 'NAME'], \n",
        "                           bib=df.loc[i, 'BIB'], \n",
        "                           finish_time=df.loc[i, 'Net Finish Time'], \n",
        "                           rank=df.loc[i, 'Finish Position'], \n",
        "                           hyphens='-' * 50))"
      ],
      "execution_count": null,
      "outputs": [
        {
          "output_type": "stream",
          "text": [
            "\n",
            "  Tata Mumbai Marathon 2020\n",
            "\n",
            "      CONGRATULATIONS\n",
            "\n",
            "This is to certify that DERARA HURISA                    \n",
            "BIB No. 19\n",
            "officially completed the marathon \n",
            "(distance 42.2 km) \n",
            "in the men's category \n",
            "with a finish time of 2:08:09 \n",
            "and rank 1.                   \n",
            "--------------------------------------------------\n",
            "\n",
            "\n",
            "  Tata Mumbai Marathon 2020\n",
            "\n",
            "      CONGRATULATIONS\n",
            "\n",
            "This is to certify that AYELE ABSHERO                    \n",
            "BIB No. 2\n",
            "officially completed the marathon \n",
            "(distance 42.2 km) \n",
            "in the men's category \n",
            "with a finish time of 2:08:20 \n",
            "and rank 2.                   \n",
            "--------------------------------------------------\n",
            "\n",
            "\n",
            "  Tata Mumbai Marathon 2020\n",
            "\n",
            "      CONGRATULATIONS\n",
            "\n",
            "This is to certify that BIRHANU TESHOME                    \n",
            "BIB No. 8\n",
            "officially completed the marathon \n",
            "(distance 42.2 km) \n",
            "in the men's category \n",
            "with a finish time of 2:08:26 \n",
            "and rank 3.                   \n",
            "--------------------------------------------------\n",
            "\n",
            "\n",
            "  Tata Mumbai Marathon 2020\n",
            "\n",
            "      CONGRATULATIONS\n",
            "\n",
            "This is to certify that JACKSON KIPROP                    \n",
            "BIB No. 14\n",
            "officially completed the marathon \n",
            "(distance 42.2 km) \n",
            "in the men's category \n",
            "with a finish time of 2:08:41 \n",
            "and rank 4.                   \n",
            "--------------------------------------------------\n",
            "\n",
            "\n",
            "  Tata Mumbai Marathon 2020\n",
            "\n",
            "      CONGRATULATIONS\n",
            "\n",
            "This is to certify that ABDI ALI                    \n",
            "BIB No. 15\n",
            "officially completed the marathon \n",
            "(distance 42.2 km) \n",
            "in the men's category \n",
            "with a finish time of 2:08:56 \n",
            "and rank 5.                   \n",
            "--------------------------------------------------\n",
            "\n",
            "\n",
            "  Tata Mumbai Marathon 2020\n",
            "\n",
            "      CONGRATULATIONS\n",
            "\n",
            "This is to certify that PAUL MAINA                    \n",
            "BIB No. 9\n",
            "officially completed the marathon \n",
            "(distance 42.2 km) \n",
            "in the men's category \n",
            "with a finish time of 2:09:01 \n",
            "and rank 6.                   \n",
            "--------------------------------------------------\n",
            "\n",
            "\n",
            "  Tata Mumbai Marathon 2020\n",
            "\n",
            "      CONGRATULATIONS\n",
            "\n",
            "This is to certify that ABERA KUMA                    \n",
            "BIB No. 3\n",
            "officially completed the marathon \n",
            "(distance 42.2 km) \n",
            "in the men's category \n",
            "with a finish time of 2:09:15 \n",
            "and rank 7.                   \n",
            "--------------------------------------------------\n",
            "\n",
            "\n",
            "  Tata Mumbai Marathon 2020\n",
            "\n",
            "      CONGRATULATIONS\n",
            "\n",
            "This is to certify that KEBEDE WAMI                    \n",
            "BIB No. 18\n",
            "officially completed the marathon \n",
            "(distance 42.2 km) \n",
            "in the men's category \n",
            "with a finish time of 2:10:04 \n",
            "and rank 8.                   \n",
            "--------------------------------------------------\n",
            "\n",
            "\n",
            "  Tata Mumbai Marathon 2020\n",
            "\n",
            "      CONGRATULATIONS\n",
            "\n",
            "This is to certify that MERHAWI KESETE                    \n",
            "BIB No. 12\n",
            "officially completed the marathon \n",
            "(distance 42.2 km) \n",
            "in the men's category \n",
            "with a finish time of 2:10:36 \n",
            "and rank 9.                   \n",
            "--------------------------------------------------\n",
            "\n",
            "\n",
            "  Tata Mumbai Marathon 2020\n",
            "\n",
            "      CONGRATULATIONS\n",
            "\n",
            "This is to certify that BIRA SEBOKA                    \n",
            "BIB No. 11\n",
            "officially completed the marathon \n",
            "(distance 42.2 km) \n",
            "in the men's category \n",
            "with a finish time of 2:10:37 \n",
            "and rank 10.                   \n",
            "--------------------------------------------------\n",
            "\n",
            "\n",
            "  Tata Mumbai Marathon 2020\n",
            "\n",
            "      CONGRATULATIONS\n",
            "\n",
            "This is to certify that VINCENT RONO                    \n",
            "BIB No. 7\n",
            "officially completed the marathon \n",
            "(distance 42.2 km) \n",
            "in the men's category \n",
            "with a finish time of 2:11:15 \n",
            "and rank 11.                   \n",
            "--------------------------------------------------\n",
            "\n",
            "\n",
            "  Tata Mumbai Marathon 2020\n",
            "\n",
            "      CONGRATULATIONS\n",
            "\n",
            "This is to certify that SHUMET AKALNEW                    \n",
            "BIB No. 10\n",
            "officially completed the marathon \n",
            "(distance 42.2 km) \n",
            "in the men's category \n",
            "with a finish time of 2:13:39 \n",
            "and rank 12.                   \n",
            "--------------------------------------------------\n",
            "\n",
            "\n",
            "  Tata Mumbai Marathon 2020\n",
            "\n",
            "      CONGRATULATIONS\n",
            "\n",
            "This is to certify that SRINU BUGATHA                    \n",
            "BIB No. 51\n",
            "officially completed the marathon \n",
            "(distance 42.2 km) \n",
            "in the men's category \n",
            "with a finish time of 2:18:44 \n",
            "and rank 13.                   \n",
            "--------------------------------------------------\n",
            "\n",
            "\n",
            "  Tata Mumbai Marathon 2020\n",
            "\n",
            "      CONGRATULATIONS\n",
            "\n",
            "This is to certify that SHER SINGH                    \n",
            "BIB No. 56\n",
            "officially completed the marathon \n",
            "(distance 42.2 km) \n",
            "in the men's category \n",
            "with a finish time of 2:24:00 \n",
            "and rank 14.                   \n",
            "--------------------------------------------------\n",
            "\n",
            "\n",
            "  Tata Mumbai Marathon 2020\n",
            "\n",
            "      CONGRATULATIONS\n",
            "\n",
            "This is to certify that DURGA BAHADUR BUDHA                    \n",
            "BIB No. 53\n",
            "officially completed the marathon \n",
            "(distance 42.2 km) \n",
            "in the men's category \n",
            "with a finish time of 2:24:03 \n",
            "and rank 15.                   \n",
            "--------------------------------------------------\n",
            "\n",
            "\n",
            "  Tata Mumbai Marathon 2020\n",
            "\n",
            "      CONGRATULATIONS\n",
            "\n",
            "This is to certify that RAVIPRAKASH                    \n",
            "BIB No. 70\n",
            "officially completed the marathon \n",
            "(distance 42.2 km) \n",
            "in the men's category \n",
            "with a finish time of 2:24:32 \n",
            "and rank 16.                   \n",
            "--------------------------------------------------\n",
            "\n",
            "\n",
            "  Tata Mumbai Marathon 2020\n",
            "\n",
            "      CONGRATULATIONS\n",
            "\n",
            "This is to certify that SYLVESTER KIPTOO                    \n",
            "BIB No. 27\n",
            "officially completed the marathon \n",
            "(distance 42.2 km) \n",
            "in the men's category \n",
            "with a finish time of 2:24:53 \n",
            "and rank 17.                   \n",
            "--------------------------------------------------\n",
            "\n",
            "\n",
            "  Tata Mumbai Marathon 2020\n",
            "\n",
            "      CONGRATULATIONS\n",
            "\n",
            "This is to certify that RAHUL PAL                    \n",
            "BIB No. 55\n",
            "officially completed the marathon \n",
            "(distance 42.2 km) \n",
            "in the men's category \n",
            "with a finish time of 2:26:56 \n",
            "and rank 18.                   \n",
            "--------------------------------------------------\n",
            "\n",
            "\n",
            "  Tata Mumbai Marathon 2020\n",
            "\n",
            "      CONGRATULATIONS\n",
            "\n",
            "This is to certify that PRADEEP SINGH CHAUDHARY                    \n",
            "BIB No. 54\n",
            "officially completed the marathon \n",
            "(distance 42.2 km) \n",
            "in the men's category \n",
            "with a finish time of 2:29:27 \n",
            "and rank 19.                   \n",
            "--------------------------------------------------\n",
            "\n",
            "\n",
            "  Tata Mumbai Marathon 2020\n",
            "\n",
            "      CONGRATULATIONS\n",
            "\n",
            "This is to certify that MOHIT RATHORE                    \n",
            "BIB No. 57\n",
            "officially completed the marathon \n",
            "(distance 42.2 km) \n",
            "in the men's category \n",
            "with a finish time of 2:31:16 \n",
            "and rank 20.                   \n",
            "--------------------------------------------------\n",
            "\n"
          ],
          "name": "stdout"
        }
      ]
    },
    {
      "cell_type": "markdown",
      "metadata": {
        "id": "OjZsTtePdO0c"
      },
      "source": [
        "As you can see, we have labelled the placeholders with the to determine which value to assign to which placeholder. Then, using the `format()` function, we have assigned the values to their respective placeholders.\n",
        "\n",
        "**Syntax:** `string.format(placeholder1 = value1, placeholder2 = value2, ..., placeholderN = valueN)` where `N` is the number of values to assign or the number of placeholders to fill.\n",
        "\n",
        "We will pause here now and will continue learning the remaining string operations in the next class."
      ]
    },
    {
      "cell_type": "markdown",
      "metadata": {
        "id": "DrJU6Q5E8G0c"
      },
      "source": [
        "---"
      ]
    },
    {
      "cell_type": "markdown",
      "metadata": {
        "id": "LEpQiGGGjDc5"
      },
      "source": [
        "### Activities\n",
        "\n",
        "**Teacher Activities**\n",
        "\n",
        "1. String Operations I (Class Copy)\n",
        "\n",
        "   https://colab.research.google.com/drive/1M7RcCkD35IKuxc3z6hCPy9_v0HpMnfGJ\n",
        "    \n",
        "2. String Operations I (Reference)\n",
        "\n",
        "   https://colab.research.google.com/drive/1shtOa1EWdNLBf2HkuZkhyMITmdujUuIB\n",
        "\n",
        "3. Tata Mumbai Marathon 2020 Race Results\n",
        "\n",
        "   https://tatamumbaimarathon.procam.in/race-results/2020\n",
        "\n",
        "**Student Activities**\n",
        "\n",
        "1. Tata Mumbai Marathon 2020 Race Results\n",
        "\n",
        "   https://tatamumbaimarathon.procam.in/race-results/2020"
      ]
    },
    {
      "cell_type": "markdown",
      "metadata": {
        "id": "oyhCSADOjCqJ"
      },
      "source": [
        "---"
      ]
    }
  ]
}