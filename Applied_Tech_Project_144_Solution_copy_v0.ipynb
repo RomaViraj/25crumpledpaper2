{
  "nbformat": 4,
  "nbformat_minor": 0,
  "metadata": {
    "colab": {
      "name": "Applied_Tech_Project_144_Solution_copy_v0.ipynb",
      "provenance": [],
      "collapsed_sections": [],
      "include_colab_link": true
    },
    "kernelspec": {
      "name": "python3",
      "display_name": "Python 3"
    },
    "language_info": {
      "name": "python"
    }
  },
  "cells": [
    {
      "cell_type": "markdown",
      "metadata": {
        "id": "view-in-github",
        "colab_type": "text"
      },
      "source": [
        "<a href=\"https://colab.research.google.com/github/RomaViraj/APT/blob/master/Applied_Tech_Project_144_Solution_copy_v0.ipynb\" target=\"_parent\"><img src=\"https://colab.research.google.com/assets/colab-badge.svg\" alt=\"Open In Colab\"/></a>"
      ]
    },
    {
      "cell_type": "markdown",
      "metadata": {
        "id": "XgAy_qf5diF9"
      },
      "source": [
        "### Instructions"
      ]
    },
    {
      "cell_type": "markdown",
      "metadata": {
        "id": "9Li3ZESLdiF9"
      },
      "source": [
        "#### Goal of the Project\n",
        "\n",
        "This project is designed for you to practice and solve the activities that are based on the concepts covered in the lesson: \n",
        "\n",
        "**Hyperspectral Image Classification**"
      ]
    },
    {
      "cell_type": "markdown",
      "metadata": {
        "id": "Opjrn5IqdiF-"
      },
      "source": [
        "---"
      ]
    },
    {
      "cell_type": "markdown",
      "metadata": {
        "id": "yVZRxj9MdiF-"
      },
      "source": [
        "#### Problem Statement\n",
        "\n",
        "As a data scientist, study the Hyperspectral Images (HSI) and classify different areas such as Crop Analysis, Geological Mapping, Mineral Exploration, Defence Research, Urban Investigation, Military Surveillance, etc. which can provide in-depth details about an area."
      ]
    },
    {
      "cell_type": "markdown",
      "metadata": {
        "id": "TG1rtdEAdiF-"
      },
      "source": [
        "---"
      ]
    },
    {
      "cell_type": "markdown",
      "metadata": {
        "id": "KVUjt2JjUIbG"
      },
      "source": [
        "#### Dataset Description\n",
        "\n",
        "The images were gathered by AVIRIS sensor over the Indian Pines test site in North-western Indiana and consist of 145*145 pixels and 224 spectral reflectance bands in the wavelength range $0.4–2.5$ $10^{-6}$ meters. This image is a subset of a larger one. The Indian Pines scene contains two-thirds agriculture, and one-third forest or other natural perennial vegetation. There are two major dual lane highways, a rail line, as well as some low density housing, other built structures, and smaller roads. Since the scene is taken in June some of the crops present, corn, soybeans, are in the early stages of growth with less than 5% coverage. \n",
        "\n",
        "The ground truth available is designated into sixteen classes and is not all mutually exclusive. Using these classes, we will make a classification model to classify the different classes.\n",
        "\n",
        "**Dataset Source**: https://purr.purdue.edu/publications/1947/1\n",
        "\n",
        "**Dataset Citation**: \n",
        "Marion F. Baumgardner, Larry L. Biehl, & David A. Landgrebe. (2015). 220 Band AVIRIS Hyperspectral Image Data Set: June 12, 1992, Indian Pine Test Site 3. Purdue University Research Repository. doi:10.4231/R7RX991C\n",
        "\n"
      ]
    },
    {
      "cell_type": "markdown",
      "metadata": {
        "id": "83FgC947OzV4"
      },
      "source": [
        "---"
      ]
    },
    {
      "cell_type": "markdown",
      "metadata": {
        "id": "dkkg2QzEu3lP"
      },
      "source": [
        "### List of Activities\n",
        " \n",
        "**Activity 1:** Import Modules and Read Data\n",
        "\n",
        "**Activity 2:** Plot the Ground Truth Data Bands\n",
        "\n",
        "**Activity 3:** Reduce Dimensions Using PCA\n",
        "\n",
        "**Activity 4:** Create a Classification Model"
      ]
    },
    {
      "cell_type": "markdown",
      "metadata": {
        "id": "eUc0Lq-HlQ3O"
      },
      "source": [
        "---"
      ]
    },
    {
      "cell_type": "markdown",
      "metadata": {
        "id": "DQSgqaR1lire"
      },
      "source": [
        "#### Activity 1: Import Modules and Read Data\n",
        "\n",
        "1. Download and load the data files\n",
        "2. Store the HSI Pixel values in 2 different variables for Indian Pines and Indian Pines Ground Truth."
      ]
    },
    {
      "cell_type": "markdown",
      "source": [
        "Download the data files using the `wget` command.\n",
        "\n",
        "**Links -** \n",
        "\n",
        "1. Indian Pines Corrected Data - http://www.ehu.eus/ccwintco/uploads/6/67/Indian_pines_corrected.mat\n",
        "2. Indian Pines Ground Truth Data - http://www.ehu.eus/ccwintco/uploads/c/c4/Indian_pines_gt.mat"
      ],
      "metadata": {
        "id": "0skqG1cdslou"
      }
    },
    {
      "cell_type": "code",
      "source": [
        "# Use wget to download the .mat files from the links\n",
        "!wget http://www.ehu.eus/ccwintco/uploads/6/67/Indian_pines_corrected.mat\n",
        "!wget http://www.ehu.eus/ccwintco/uploads/c/c4/Indian_pines_gt.mat"
      ],
      "metadata": {
        "colab": {
          "base_uri": "https://localhost:8080/"
        },
        "id": "3Hpt8PygcZXz",
        "outputId": "99fbd7ef-8b47-4538-cd9f-0bd64154775f"
      },
      "execution_count": null,
      "outputs": [
        {
          "output_type": "stream",
          "name": "stdout",
          "text": [
            "--2022-03-02 12:00:12--  http://www.ehu.eus/ccwintco/uploads/6/67/Indian_pines_corrected.mat\n",
            "Resolving www.ehu.eus (www.ehu.eus)... 158.227.0.65, 2001:720:1410::65\n",
            "Connecting to www.ehu.eus (www.ehu.eus)|158.227.0.65|:80... connected.\n",
            "HTTP request sent, awaiting response... 200 OK\n",
            "Length: 5953527 (5.7M)\n",
            "Saving to: ‘Indian_pines_corrected.mat’\n",
            "\n",
            "Indian_pines_correc 100%[===================>]   5.68M   754KB/s    in 8.9s    \n",
            "\n",
            "2022-03-02 12:00:22 (650 KB/s) - ‘Indian_pines_corrected.mat’ saved [5953527/5953527]\n",
            "\n",
            "--2022-03-02 12:00:22--  http://www.ehu.eus/ccwintco/uploads/c/c4/Indian_pines_gt.mat\n",
            "Resolving www.ehu.eus (www.ehu.eus)... 158.227.0.65, 2001:720:1410::65\n",
            "Connecting to www.ehu.eus (www.ehu.eus)|158.227.0.65|:80... connected.\n",
            "HTTP request sent, awaiting response... 200 OK\n",
            "Length: 1125 (1.1K)\n",
            "Saving to: ‘Indian_pines_gt.mat’\n",
            "\n",
            "Indian_pines_gt.mat 100%[===================>]   1.10K  --.-KB/s    in 0s      \n",
            "\n",
            "2022-03-02 12:00:22 (125 MB/s) - ‘Indian_pines_gt.mat’ saved [1125/1125]\n",
            "\n"
          ]
        }
      ]
    },
    {
      "cell_type": "markdown",
      "source": [
        "Load the data files using the `loadmat` function and get the data from both. \n",
        " - For Indian Pines Corrected, the link would be:  `/content/Indian_pines_corrected.mat`\n",
        " - For Indian Pines ground truth, the link would be: `/content/Indian_pines_gt.mat`\n"
      ],
      "metadata": {
        "id": "41r9cIr-sjd5"
      }
    },
    {
      "cell_type": "code",
      "source": [
        "# Import the packages\n",
        "from scipy.io import loadmat\n",
        "import pandas as pd\n",
        "import numpy as np\n",
        "\n",
        "# Load the .mat files\n",
        "pines = loadmat('/content/Indian_pines_corrected.mat')\n",
        "pines_gt = loadmat('/content/Indian_pines_gt.mat')\n",
        "print(pines)\n",
        "print(pines_gt)"
      ],
      "metadata": {
        "id": "kVQ3NlrnrMiC",
        "colab": {
          "base_uri": "https://localhost:8080/"
        },
        "outputId": "b58741d3-ac39-4956-c7a4-65299136b2b2"
      },
      "execution_count": null,
      "outputs": [
        {
          "output_type": "stream",
          "name": "stdout",
          "text": [
            "{'__header__': b'MATLAB 5.0 MAT-file, Platform: GLNXA64, Created on: Fri May 20 18:47:44 2011', '__version__': '1.0', '__globals__': [], 'indian_pines_corrected': array([[[3172, 4142, 4506, ..., 1057, 1020, 1020],\n",
            "        [2580, 4266, 4502, ..., 1064, 1029, 1020],\n",
            "        [3687, 4266, 4421, ..., 1061, 1030, 1016],\n",
            "        ...,\n",
            "        [2570, 3890, 4320, ..., 1042, 1021, 1015],\n",
            "        [3170, 4130, 4320, ..., 1054, 1024, 1020],\n",
            "        [3172, 3890, 4316, ..., 1043, 1034, 1016]],\n",
            "\n",
            "       [[2576, 4388, 4334, ..., 1047, 1030, 1006],\n",
            "        [2747, 4264, 4592, ..., 1055, 1039, 1015],\n",
            "        [2750, 4268, 4423, ..., 1047, 1026, 1015],\n",
            "        ...,\n",
            "        [3859, 4512, 4605, ..., 1056, 1035, 1015],\n",
            "        [3686, 4264, 4690, ..., 1051, 1012, 1020],\n",
            "        [2744, 4268, 4597, ..., 1047, 1019, 1016]],\n",
            "\n",
            "       [[2744, 4146, 4416, ..., 1055, 1029, 1025],\n",
            "        [2576, 4389, 4416, ..., 1051, 1021, 1011],\n",
            "        [2744, 4273, 4420, ..., 1068, 1033, 1010],\n",
            "        ...,\n",
            "        [2570, 4266, 4509, ..., 1051, 1025, 1010],\n",
            "        [2576, 4262, 4496, ..., 1047, 1029, 1020],\n",
            "        [2742, 4142, 4230, ..., 1042, 1025, 1011]],\n",
            "\n",
            "       ...,\n",
            "\n",
            "       [[3324, 3728, 4002, ..., 1003, 1004, 1004],\n",
            "        [2983, 3604, 3829, ..., 1011, 1013, 1008],\n",
            "        [2988, 3612, 3913, ..., 1012, 1001, 1004],\n",
            "        ...,\n",
            "        [2564, 4115, 4103, ..., 1003, 1005, 1013],\n",
            "        [2730, 4111, 4103, ..., 1015, 1013, 1004],\n",
            "        [3156, 3991, 4103, ..., 1017, 1014, 1000]],\n",
            "\n",
            "       [[3161, 3731, 3834, ..., 1002, 1000, 1000],\n",
            "        [2727, 3742, 4011, ...,  999,  991, 1003],\n",
            "        [2988, 4114, 4011, ..., 1006, 1008, 1013],\n",
            "        ...,\n",
            "        [3156, 3858, 4016, ..., 1011, 1004, 1003],\n",
            "        [3159, 3858, 4100, ..., 1016, 1000, 1000],\n",
            "        [2561, 3866, 4003, ..., 1008, 1008, 1000]],\n",
            "\n",
            "       [[2979, 3728, 3732, ..., 1006, 1004, 1000],\n",
            "        [2977, 3728, 3741, ..., 1007, 1009,  990],\n",
            "        [2814, 3728, 3914, ...,  999, 1009, 1003],\n",
            "        ...,\n",
            "        [3153, 3864, 4282, ..., 1003, 1008, 1000],\n",
            "        [3155, 4104, 4106, ..., 1011, 1005, 1003],\n",
            "        [3323, 3860, 4197, ..., 1007, 1004, 1000]]], dtype=uint16)}\n",
            "{'__header__': b'MATLAB 5.0 MAT-file, Platform: GLNXA64, Created on: Fri May 20 18:25:41 2011', '__version__': '1.0', '__globals__': [], 'indian_pines_gt': array([[3, 3, 3, ..., 0, 0, 0],\n",
            "       [3, 3, 3, ..., 0, 0, 0],\n",
            "       [3, 3, 3, ..., 0, 0, 0],\n",
            "       ...,\n",
            "       [0, 0, 0, ..., 0, 0, 0],\n",
            "       [0, 0, 0, ..., 0, 0, 0],\n",
            "       [0, 0, 0, ..., 0, 0, 0]], dtype=uint8)}\n"
          ]
        }
      ]
    },
    {
      "cell_type": "markdown",
      "source": [
        "1. Store the value of key `indian_pines_corrected` in a variable `X_data`. \n",
        "2. Store the value of key `indian_pines_gt` in a variable `y_data`."
      ],
      "metadata": {
        "id": "yQPGXN8gZJOh"
      }
    },
    {
      "cell_type": "code",
      "source": [
        "# Obtain the HSI pixel values stored as an array in the above dictionaries.\n",
        "X_data = pines['indian_pines_corrected']\n",
        "y_data = pines_gt['indian_pines_gt']"
      ],
      "metadata": {
        "id": "lBu47uWbY2qa"
      },
      "execution_count": null,
      "outputs": []
    },
    {
      "cell_type": "markdown",
      "source": [
        "Get the shape of both the data variables."
      ],
      "metadata": {
        "id": "-kcnxzjTv_ie"
      }
    },
    {
      "cell_type": "code",
      "source": [
        "# Get the shape of the KSC data\n",
        "print(X_data.shape)\n",
        "print(y_data.shape)"
      ],
      "metadata": {
        "colab": {
          "base_uri": "https://localhost:8080/"
        },
        "id": "B2XvWfravNFf",
        "outputId": "91b442e1-4580-4aa8-e507-e93669759db7"
      },
      "execution_count": null,
      "outputs": [
        {
          "output_type": "stream",
          "name": "stdout",
          "text": [
            "(145, 145, 200)\n",
            "(145, 145)\n"
          ]
        }
      ]
    },
    {
      "cell_type": "markdown",
      "source": [
        "**Q:** What is the number of spectral bands of the Indian Pines images?\n",
        "\n",
        "**A:** 200 bands \n",
        "\n",
        "<br>\n",
        "\n",
        "---"
      ],
      "metadata": {
        "id": "cdAasLkrxIwx"
      }
    },
    {
      "cell_type": "markdown",
      "source": [
        "#### Activity 2: Plot the Ground Truth Data Bands\n",
        "\n",
        "Plot the Indian Pines ground truth data using the `imshow()` function. Also, pass `cmap = 'cubehelix'` to set colours for the colormap. Put a colourbar to differentiate the classes."
      ],
      "metadata": {
        "id": "ACuJ4B-HwNwY"
      }
    },
    {
      "cell_type": "code",
      "source": [
        "# Plot ground truth image with cmap='cubehelix'\n",
        "import matplotlib.pyplot as plt\n",
        "plt.figure(figsize=(10, 8))\n",
        "plt.imshow(y_data, cmap = 'cubehelix')\n",
        "plt.title('Ground Truth')\n",
        "plt.colorbar()\n",
        "plt.show()"
      ],
      "metadata": {
        "colab": {
          "base_uri": "https://localhost:8080/",
          "height": 499
        },
        "id": "nlGuazrnubOy",
        "outputId": "4491bd41-d852-4a5a-df75-1d7c9ecd77d4"
      },
      "execution_count": null,
      "outputs": [
        {
          "output_type": "display_data",
          "data": {
            "image/png": "[encoded data removed]",
            "text/plain": [
              "<Figure size 720x576 with 2 Axes>"
            ]
          },
          "metadata": {
            "needs_background": "light"
          }
        }
      ]
    },
    {
      "cell_type": "markdown",
      "source": [
        "**Q :** What is the total number of classes of spectral bands?\n",
        " \n",
        "**A :** 16.\n",
        "\n",
        "\n"
      ],
      "metadata": {
        "id": "XSAgqGypRSxn"
      }
    },
    {
      "cell_type": "markdown",
      "source": [
        "---"
      ],
      "metadata": {
        "id": "w4B8NJOKWGc0"
      }
    },
    {
      "cell_type": "markdown",
      "source": [
        "#### Activity 3: Reduce Dimensions Using PCA\n",
        "\n",
        "1. Convert the three-dimensional array `X_data` into a two-dimensional array.\n",
        "\n",
        "2. Create a new DataFrame from the reshaped data with 200 columns (Band 1 - Band 200) and a `class` column.\n",
        "\n",
        "3. Reducing the dimensions using `PCA`.\n",
        "\n",
        "4. Create a new DataFrame after merging the reduced dimension DataFrame and `class` column.\n",
        "\n",
        "5. Scale the DataFrame using `StandardScaler()` function.\n",
        "\n",
        "Convert the three-dimensional array `X_data` into a two-dimensional array using `reshape()` function."
      ],
      "metadata": {
        "id": "HM5XBFlDRqbK"
      }
    },
    {
      "cell_type": "code",
      "source": [
        "# Reshape the Indian Pines Data\n",
        "pines_data_reshaped = X_data.reshape(-1, X_data.shape[2])"
      ],
      "metadata": {
        "id": "rIsRHrqmXUrh"
      },
      "execution_count": null,
      "outputs": []
    },
    {
      "cell_type": "markdown",
      "source": [
        "Create a new DataFrame from the reshaped data where the columns of this DataFrame would be `Band 1` to `Band 200`. Also, add a column `class` that contains the classes obtained from the ground truth. For this, use `ravel()` function to flatten the 2D ground truth array.\n",
        "\n"
      ],
      "metadata": {
        "id": "EtkUIIMoXW1w"
      }
    },
    {
      "cell_type": "code",
      "source": [
        "# Create a DataFrame from the reshaped data\n",
        "df = pd.DataFrame(pines_data_reshaped)\n",
        "df.columns = [f'Band {i}' for i in range(1, 201)]\n",
        "\n",
        "# Create a class column with the ground truth data\n",
        "df['class'] = y_data.ravel()\n",
        "\n",
        "df.head()"
      ],
      "metadata": {
        "id": "PiUVukWLx4ZD",
        "colab": {
          "base_uri": "https://localhost:8080/",
          "height": 317
        },
        "outputId": "757708c0-f57d-436c-fa06-0310533fce8d"
      },
      "execution_count": null,
      "outputs": [
        {
          "output_type": "execute_result",
          "data": {
            "text/html": [
              "\n",
              "  <div id=\"df-14670358-24fb-4b08-89b4-25d63406c632\">\n",
              "    <div class=\"colab-df-container\">\n",
              "      <div>\n",
              "<style scoped>\n",
              "    .dataframe tbody tr th:only-of-type {\n",
              "        vertical-align: middle;\n",
              "    }\n",
              "\n",
              "    .dataframe tbody tr th {\n",
              "        vertical-align: top;\n",
              "    }\n",
              "\n",
              "    .dataframe thead th {\n",
              "        text-align: right;\n",
              "    }\n",
              "</style>\n",
              "<table border=\"1\" class=\"dataframe\">\n",
              "  <thead>\n",
              "    <tr style=\"text-align: right;\">\n",
              "      <th></th>\n",
              "      <th>Band 1</th>\n",
              "      <th>Band 2</th>\n",
              "      <th>Band 3</th>\n",
              "      <th>Band 4</th>\n",
              "      <th>Band 5</th>\n",
              "      <th>Band 6</th>\n",
              "      <th>Band 7</th>\n",
              "      <th>Band 8</th>\n",
              "      <th>Band 9</th>\n",
              "      <th>Band 10</th>\n",
              "      <th>Band 11</th>\n",
              "      <th>Band 12</th>\n",
              "      <th>Band 13</th>\n",
              "      <th>Band 14</th>\n",
              "      <th>Band 15</th>\n",
              "      <th>Band 16</th>\n",
              "      <th>Band 17</th>\n",
              "      <th>Band 18</th>\n",
              "      <th>Band 19</th>\n",
              "      <th>Band 20</th>\n",
              "      <th>Band 21</th>\n",
              "      <th>Band 22</th>\n",
              "      <th>Band 23</th>\n",
              "      <th>Band 24</th>\n",
              "      <th>Band 25</th>\n",
              "      <th>Band 26</th>\n",
              "      <th>Band 27</th>\n",
              "      <th>Band 28</th>\n",
              "      <th>Band 29</th>\n",
              "      <th>Band 30</th>\n",
              "      <th>Band 31</th>\n",
              "      <th>Band 32</th>\n",
              "      <th>Band 33</th>\n",
              "      <th>Band 34</th>\n",
              "      <th>Band 35</th>\n",
              "      <th>Band 36</th>\n",
              "      <th>Band 37</th>\n",
              "      <th>Band 38</th>\n",
              "      <th>Band 39</th>\n",
              "      <th>Band 40</th>\n",
              "      <th>...</th>\n",
              "      <th>Band 162</th>\n",
              "      <th>Band 163</th>\n",
              "      <th>Band 164</th>\n",
              "      <th>Band 165</th>\n",
              "      <th>Band 166</th>\n",
              "      <th>Band 167</th>\n",
              "      <th>Band 168</th>\n",
              "      <th>Band 169</th>\n",
              "      <th>Band 170</th>\n",
              "      <th>Band 171</th>\n",
              "      <th>Band 172</th>\n",
              "      <th>Band 173</th>\n",
              "      <th>Band 174</th>\n",
              "      <th>Band 175</th>\n",
              "      <th>Band 176</th>\n",
              "      <th>Band 177</th>\n",
              "      <th>Band 178</th>\n",
              "      <th>Band 179</th>\n",
              "      <th>Band 180</th>\n",
              "      <th>Band 181</th>\n",
              "      <th>Band 182</th>\n",
              "      <th>Band 183</th>\n",
              "      <th>Band 184</th>\n",
              "      <th>Band 185</th>\n",
              "      <th>Band 186</th>\n",
              "      <th>Band 187</th>\n",
              "      <th>Band 188</th>\n",
              "      <th>Band 189</th>\n",
              "      <th>Band 190</th>\n",
              "      <th>Band 191</th>\n",
              "      <th>Band 192</th>\n",
              "      <th>Band 193</th>\n",
              "      <th>Band 194</th>\n",
              "      <th>Band 195</th>\n",
              "      <th>Band 196</th>\n",
              "      <th>Band 197</th>\n",
              "      <th>Band 198</th>\n",
              "      <th>Band 199</th>\n",
              "      <th>Band 200</th>\n",
              "      <th>class</th>\n",
              "    </tr>\n",
              "  </thead>\n",
              "  <tbody>\n",
              "    <tr>\n",
              "      <th>0</th>\n",
              "      <td>3172</td>\n",
              "      <td>4142</td>\n",
              "      <td>4506</td>\n",
              "      <td>4279</td>\n",
              "      <td>4782</td>\n",
              "      <td>5048</td>\n",
              "      <td>5213</td>\n",
              "      <td>5106</td>\n",
              "      <td>5053</td>\n",
              "      <td>4750</td>\n",
              "      <td>4816</td>\n",
              "      <td>4769</td>\n",
              "      <td>4610</td>\n",
              "      <td>4805</td>\n",
              "      <td>4828</td>\n",
              "      <td>4861</td>\n",
              "      <td>4767</td>\n",
              "      <td>4624</td>\n",
              "      <td>4549</td>\n",
              "      <td>4463</td>\n",
              "      <td>4462</td>\n",
              "      <td>4446</td>\n",
              "      <td>4445</td>\n",
              "      <td>4336</td>\n",
              "      <td>4381</td>\n",
              "      <td>4319</td>\n",
              "      <td>4207</td>\n",
              "      <td>4305</td>\n",
              "      <td>4311</td>\n",
              "      <td>3991</td>\n",
              "      <td>4168</td>\n",
              "      <td>3942</td>\n",
              "      <td>4061</td>\n",
              "      <td>4362</td>\n",
              "      <td>4318</td>\n",
              "      <td>4252</td>\n",
              "      <td>4869</td>\n",
              "      <td>5284</td>\n",
              "      <td>5055</td>\n",
              "      <td>3591</td>\n",
              "      <td>...</td>\n",
              "      <td>1396</td>\n",
              "      <td>1381</td>\n",
              "      <td>1396</td>\n",
              "      <td>1381</td>\n",
              "      <td>1353</td>\n",
              "      <td>1346</td>\n",
              "      <td>1341</td>\n",
              "      <td>1332</td>\n",
              "      <td>1324</td>\n",
              "      <td>1310</td>\n",
              "      <td>1318</td>\n",
              "      <td>1330</td>\n",
              "      <td>1310</td>\n",
              "      <td>1292</td>\n",
              "      <td>1280</td>\n",
              "      <td>1275</td>\n",
              "      <td>1266</td>\n",
              "      <td>1264</td>\n",
              "      <td>1233</td>\n",
              "      <td>1241</td>\n",
              "      <td>1232</td>\n",
              "      <td>1215</td>\n",
              "      <td>1215</td>\n",
              "      <td>1187</td>\n",
              "      <td>1168</td>\n",
              "      <td>1171</td>\n",
              "      <td>1150</td>\n",
              "      <td>1134</td>\n",
              "      <td>1123</td>\n",
              "      <td>1135</td>\n",
              "      <td>1094</td>\n",
              "      <td>1090</td>\n",
              "      <td>1112</td>\n",
              "      <td>1090</td>\n",
              "      <td>1062</td>\n",
              "      <td>1069</td>\n",
              "      <td>1057</td>\n",
              "      <td>1020</td>\n",
              "      <td>1020</td>\n",
              "      <td>3</td>\n",
              "    </tr>\n",
              "    <tr>\n",
              "      <th>1</th>\n",
              "      <td>2580</td>\n",
              "      <td>4266</td>\n",
              "      <td>4502</td>\n",
              "      <td>4426</td>\n",
              "      <td>4853</td>\n",
              "      <td>5249</td>\n",
              "      <td>5352</td>\n",
              "      <td>5353</td>\n",
              "      <td>5347</td>\n",
              "      <td>5065</td>\n",
              "      <td>5141</td>\n",
              "      <td>5100</td>\n",
              "      <td>4994</td>\n",
              "      <td>5172</td>\n",
              "      <td>5290</td>\n",
              "      <td>5289</td>\n",
              "      <td>5217</td>\n",
              "      <td>5053</td>\n",
              "      <td>5033</td>\n",
              "      <td>4939</td>\n",
              "      <td>4931</td>\n",
              "      <td>4941</td>\n",
              "      <td>4902</td>\n",
              "      <td>4824</td>\n",
              "      <td>4859</td>\n",
              "      <td>4805</td>\n",
              "      <td>4698</td>\n",
              "      <td>4794</td>\n",
              "      <td>4806</td>\n",
              "      <td>4452</td>\n",
              "      <td>4628</td>\n",
              "      <td>4433</td>\n",
              "      <td>4643</td>\n",
              "      <td>4967</td>\n",
              "      <td>4853</td>\n",
              "      <td>4760</td>\n",
              "      <td>5449</td>\n",
              "      <td>5768</td>\n",
              "      <td>5684</td>\n",
              "      <td>3987</td>\n",
              "      <td>...</td>\n",
              "      <td>1421</td>\n",
              "      <td>1415</td>\n",
              "      <td>1428</td>\n",
              "      <td>1415</td>\n",
              "      <td>1379</td>\n",
              "      <td>1370</td>\n",
              "      <td>1360</td>\n",
              "      <td>1353</td>\n",
              "      <td>1352</td>\n",
              "      <td>1336</td>\n",
              "      <td>1346</td>\n",
              "      <td>1351</td>\n",
              "      <td>1330</td>\n",
              "      <td>1315</td>\n",
              "      <td>1305</td>\n",
              "      <td>1292</td>\n",
              "      <td>1282</td>\n",
              "      <td>1286</td>\n",
              "      <td>1259</td>\n",
              "      <td>1259</td>\n",
              "      <td>1250</td>\n",
              "      <td>1229</td>\n",
              "      <td>1232</td>\n",
              "      <td>1195</td>\n",
              "      <td>1177</td>\n",
              "      <td>1184</td>\n",
              "      <td>1153</td>\n",
              "      <td>1137</td>\n",
              "      <td>1138</td>\n",
              "      <td>1137</td>\n",
              "      <td>1108</td>\n",
              "      <td>1104</td>\n",
              "      <td>1117</td>\n",
              "      <td>1091</td>\n",
              "      <td>1079</td>\n",
              "      <td>1085</td>\n",
              "      <td>1064</td>\n",
              "      <td>1029</td>\n",
              "      <td>1020</td>\n",
              "      <td>3</td>\n",
              "    </tr>\n",
              "    <tr>\n",
              "      <th>2</th>\n",
              "      <td>3687</td>\n",
              "      <td>4266</td>\n",
              "      <td>4421</td>\n",
              "      <td>4498</td>\n",
              "      <td>5019</td>\n",
              "      <td>5293</td>\n",
              "      <td>5438</td>\n",
              "      <td>5427</td>\n",
              "      <td>5383</td>\n",
              "      <td>5132</td>\n",
              "      <td>5227</td>\n",
              "      <td>5172</td>\n",
              "      <td>5097</td>\n",
              "      <td>5313</td>\n",
              "      <td>5411</td>\n",
              "      <td>5412</td>\n",
              "      <td>5341</td>\n",
              "      <td>5191</td>\n",
              "      <td>5140</td>\n",
              "      <td>5069</td>\n",
              "      <td>5110</td>\n",
              "      <td>5119</td>\n",
              "      <td>5046</td>\n",
              "      <td>4981</td>\n",
              "      <td>5023</td>\n",
              "      <td>4987</td>\n",
              "      <td>4862</td>\n",
              "      <td>4965</td>\n",
              "      <td>4992</td>\n",
              "      <td>4595</td>\n",
              "      <td>4756</td>\n",
              "      <td>4529</td>\n",
              "      <td>4801</td>\n",
              "      <td>5077</td>\n",
              "      <td>4983</td>\n",
              "      <td>4868</td>\n",
              "      <td>5515</td>\n",
              "      <td>5972</td>\n",
              "      <td>5913</td>\n",
              "      <td>4027</td>\n",
              "      <td>...</td>\n",
              "      <td>1446</td>\n",
              "      <td>1440</td>\n",
              "      <td>1443</td>\n",
              "      <td>1425</td>\n",
              "      <td>1390</td>\n",
              "      <td>1379</td>\n",
              "      <td>1376</td>\n",
              "      <td>1363</td>\n",
              "      <td>1355</td>\n",
              "      <td>1347</td>\n",
              "      <td>1361</td>\n",
              "      <td>1356</td>\n",
              "      <td>1341</td>\n",
              "      <td>1330</td>\n",
              "      <td>1321</td>\n",
              "      <td>1304</td>\n",
              "      <td>1290</td>\n",
              "      <td>1289</td>\n",
              "      <td>1263</td>\n",
              "      <td>1269</td>\n",
              "      <td>1261</td>\n",
              "      <td>1245</td>\n",
              "      <td>1241</td>\n",
              "      <td>1214</td>\n",
              "      <td>1185</td>\n",
              "      <td>1188</td>\n",
              "      <td>1156</td>\n",
              "      <td>1147</td>\n",
              "      <td>1149</td>\n",
              "      <td>1144</td>\n",
              "      <td>1111</td>\n",
              "      <td>1114</td>\n",
              "      <td>1114</td>\n",
              "      <td>1100</td>\n",
              "      <td>1065</td>\n",
              "      <td>1092</td>\n",
              "      <td>1061</td>\n",
              "      <td>1030</td>\n",
              "      <td>1016</td>\n",
              "      <td>3</td>\n",
              "    </tr>\n",
              "    <tr>\n",
              "      <th>3</th>\n",
              "      <td>2749</td>\n",
              "      <td>4258</td>\n",
              "      <td>4603</td>\n",
              "      <td>4493</td>\n",
              "      <td>4958</td>\n",
              "      <td>5234</td>\n",
              "      <td>5417</td>\n",
              "      <td>5355</td>\n",
              "      <td>5349</td>\n",
              "      <td>5096</td>\n",
              "      <td>5147</td>\n",
              "      <td>5078</td>\n",
              "      <td>5040</td>\n",
              "      <td>5237</td>\n",
              "      <td>5321</td>\n",
              "      <td>5344</td>\n",
              "      <td>5255</td>\n",
              "      <td>5121</td>\n",
              "      <td>5035</td>\n",
              "      <td>4956</td>\n",
              "      <td>4994</td>\n",
              "      <td>4980</td>\n",
              "      <td>4905</td>\n",
              "      <td>4857</td>\n",
              "      <td>4900</td>\n",
              "      <td>4831</td>\n",
              "      <td>4720</td>\n",
              "      <td>4848</td>\n",
              "      <td>4847</td>\n",
              "      <td>4484</td>\n",
              "      <td>4613</td>\n",
              "      <td>4402</td>\n",
              "      <td>4674</td>\n",
              "      <td>4966</td>\n",
              "      <td>4848</td>\n",
              "      <td>4776</td>\n",
              "      <td>5473</td>\n",
              "      <td>5894</td>\n",
              "      <td>5789</td>\n",
              "      <td>4086</td>\n",
              "      <td>...</td>\n",
              "      <td>1432</td>\n",
              "      <td>1427</td>\n",
              "      <td>1426</td>\n",
              "      <td>1416</td>\n",
              "      <td>1386</td>\n",
              "      <td>1374</td>\n",
              "      <td>1375</td>\n",
              "      <td>1359</td>\n",
              "      <td>1343</td>\n",
              "      <td>1343</td>\n",
              "      <td>1354</td>\n",
              "      <td>1351</td>\n",
              "      <td>1333</td>\n",
              "      <td>1329</td>\n",
              "      <td>1313</td>\n",
              "      <td>1296</td>\n",
              "      <td>1280</td>\n",
              "      <td>1281</td>\n",
              "      <td>1251</td>\n",
              "      <td>1255</td>\n",
              "      <td>1253</td>\n",
              "      <td>1238</td>\n",
              "      <td>1223</td>\n",
              "      <td>1207</td>\n",
              "      <td>1188</td>\n",
              "      <td>1188</td>\n",
              "      <td>1154</td>\n",
              "      <td>1143</td>\n",
              "      <td>1144</td>\n",
              "      <td>1146</td>\n",
              "      <td>1122</td>\n",
              "      <td>1108</td>\n",
              "      <td>1109</td>\n",
              "      <td>1109</td>\n",
              "      <td>1071</td>\n",
              "      <td>1088</td>\n",
              "      <td>1060</td>\n",
              "      <td>1030</td>\n",
              "      <td>1006</td>\n",
              "      <td>3</td>\n",
              "    </tr>\n",
              "    <tr>\n",
              "      <th>4</th>\n",
              "      <td>2746</td>\n",
              "      <td>4018</td>\n",
              "      <td>4675</td>\n",
              "      <td>4417</td>\n",
              "      <td>4886</td>\n",
              "      <td>5117</td>\n",
              "      <td>5215</td>\n",
              "      <td>5096</td>\n",
              "      <td>5098</td>\n",
              "      <td>4834</td>\n",
              "      <td>4853</td>\n",
              "      <td>4857</td>\n",
              "      <td>4734</td>\n",
              "      <td>4879</td>\n",
              "      <td>4976</td>\n",
              "      <td>4958</td>\n",
              "      <td>4885</td>\n",
              "      <td>4754</td>\n",
              "      <td>4647</td>\n",
              "      <td>4532</td>\n",
              "      <td>4586</td>\n",
              "      <td>4591</td>\n",
              "      <td>4492</td>\n",
              "      <td>4453</td>\n",
              "      <td>4497</td>\n",
              "      <td>4398</td>\n",
              "      <td>4297</td>\n",
              "      <td>4408</td>\n",
              "      <td>4401</td>\n",
              "      <td>4102</td>\n",
              "      <td>4227</td>\n",
              "      <td>4075</td>\n",
              "      <td>4264</td>\n",
              "      <td>4529</td>\n",
              "      <td>4490</td>\n",
              "      <td>4438</td>\n",
              "      <td>5001</td>\n",
              "      <td>5378</td>\n",
              "      <td>5321</td>\n",
              "      <td>3779</td>\n",
              "      <td>...</td>\n",
              "      <td>1401</td>\n",
              "      <td>1397</td>\n",
              "      <td>1395</td>\n",
              "      <td>1390</td>\n",
              "      <td>1368</td>\n",
              "      <td>1349</td>\n",
              "      <td>1354</td>\n",
              "      <td>1340</td>\n",
              "      <td>1330</td>\n",
              "      <td>1324</td>\n",
              "      <td>1336</td>\n",
              "      <td>1332</td>\n",
              "      <td>1320</td>\n",
              "      <td>1307</td>\n",
              "      <td>1287</td>\n",
              "      <td>1283</td>\n",
              "      <td>1267</td>\n",
              "      <td>1265</td>\n",
              "      <td>1239</td>\n",
              "      <td>1240</td>\n",
              "      <td>1239</td>\n",
              "      <td>1229</td>\n",
              "      <td>1212</td>\n",
              "      <td>1202</td>\n",
              "      <td>1178</td>\n",
              "      <td>1178</td>\n",
              "      <td>1143</td>\n",
              "      <td>1135</td>\n",
              "      <td>1138</td>\n",
              "      <td>1135</td>\n",
              "      <td>1110</td>\n",
              "      <td>1107</td>\n",
              "      <td>1112</td>\n",
              "      <td>1094</td>\n",
              "      <td>1072</td>\n",
              "      <td>1087</td>\n",
              "      <td>1052</td>\n",
              "      <td>1034</td>\n",
              "      <td>1019</td>\n",
              "      <td>3</td>\n",
              "    </tr>\n",
              "  </tbody>\n",
              "</table>\n",
              "<p>5 rows × 201 columns</p>\n",
              "</div>\n",
              "      <button class=\"colab-df-convert\" onclick=\"convertToInteractive('df-14670358-24fb-4b08-89b4-25d63406c632')\"\n",
              "              title=\"Convert this dataframe to an interactive table.\"\n",
              "              style=\"display:none;\">\n",
              "        \n",
              "  <svg xmlns=\"http://www.w3.org/2000/svg\" height=\"24px\"viewBox=\"0 0 24 24\"\n",
              "       width=\"24px\">\n",
              "    <path d=\"M0 0h24v24H0V0z\" fill=\"none\"/>\n",
              "    <path d=\"M18.56 5.44l.94 2.06.94-2.06 2.06-.94-2.06-.94-.94-2.06-.94 2.06-2.06.94zm-11 1L8.5 8.5l.94-2.06 2.06-.94-2.06-.94L8.5 2.5l-.94 2.06-2.06.94zm10 10l.94 2.06.94-2.06 2.06-.94-2.06-.94-.94-2.06-.94 2.06-2.06.94z\"/><path d=\"M17.41 7.96l-1.37-1.37c-.4-.4-.92-.59-1.43-.59-.52 0-1.04.2-1.43.59L10.3 9.45l-7.72 7.72c-.78.78-.78 2.05 0 2.83L4 21.41c.39.39.9.59 1.41.59.51 0 1.02-.2 1.41-.59l7.78-7.78 2.81-2.81c.8-.78.8-2.07 0-2.86zM5.41 20L4 18.59l7.72-7.72 1.47 1.35L5.41 20z\"/>\n",
              "  </svg>\n",
              "      </button>\n",
              "      \n",
              "  <style>\n",
              "    .colab-df-container {\n",
              "      display:flex;\n",
              "      flex-wrap:wrap;\n",
              "      gap: 12px;\n",
              "    }\n",
              "\n",
              "    .colab-df-convert {\n",
              "      background-color: #E8F0FE;\n",
              "      border: none;\n",
              "      border-radius: 50%;\n",
              "      cursor: pointer;\n",
              "      display: none;\n",
              "      fill: #1967D2;\n",
              "      height: 32px;\n",
              "      padding: 0 0 0 0;\n",
              "      width: 32px;\n",
              "    }\n",
              "\n",
              "    .colab-df-convert:hover {\n",
              "      background-color: #E2EBFA;\n",
              "      box-shadow: 0px 1px 2px rgba(60, 64, 67, 0.3), 0px 1px 3px 1px rgba(60, 64, 67, 0.15);\n",
              "      fill: #174EA6;\n",
              "    }\n",
              "\n",
              "    [theme=dark] .colab-df-convert {\n",
              "      background-color: #3B4455;\n",
              "      fill: #D2E3FC;\n",
              "    }\n",
              "\n",
              "    [theme=dark] .colab-df-convert:hover {\n",
              "      background-color: #434B5C;\n",
              "      box-shadow: 0px 1px 3px 1px rgba(0, 0, 0, 0.15);\n",
              "      filter: drop-shadow(0px 1px 2px rgba(0, 0, 0, 0.3));\n",
              "      fill: #FFFFFF;\n",
              "    }\n",
              "  </style>\n",
              "\n",
              "      <script>\n",
              "        const buttonEl =\n",
              "          document.querySelector('#df-14670358-24fb-4b08-89b4-25d63406c632 button.colab-df-convert');\n",
              "        buttonEl.style.display =\n",
              "          google.colab.kernel.accessAllowed ? 'block' : 'none';\n",
              "\n",
              "        async function convertToInteractive(key) {\n",
              "          const element = document.querySelector('#df-14670358-24fb-4b08-89b4-25d63406c632');\n",
              "          const dataTable =\n",
              "            await google.colab.kernel.invokeFunction('convertToInteractive',\n",
              "                                                     [key], {});\n",
              "          if (!dataTable) return;\n",
              "\n",
              "          const docLinkHtml = 'Like what you see? Visit the ' +\n",
              "            '<a target=\"_blank\" href=https://colab.research.google.com/notebooks/data_table.ipynb>data table notebook</a>'\n",
              "            + ' to learn more about interactive tables.';\n",
              "          element.innerHTML = '';\n",
              "          dataTable['output_type'] = 'display_data';\n",
              "          await google.colab.output.renderOutput(dataTable, element);\n",
              "          const docLink = document.createElement('div');\n",
              "          docLink.innerHTML = docLinkHtml;\n",
              "          element.appendChild(docLink);\n",
              "        }\n",
              "      </script>\n",
              "    </div>\n",
              "  </div>\n",
              "  "
            ],
            "text/plain": [
              "   Band 1  Band 2  Band 3  Band 4  ...  Band 198  Band 199  Band 200  class\n",
              "0    3172    4142    4506    4279  ...      1057      1020      1020      3\n",
              "1    2580    4266    4502    4426  ...      1064      1029      1020      3\n",
              "2    3687    4266    4421    4498  ...      1061      1030      1016      3\n",
              "3    2749    4258    4603    4493  ...      1060      1030      1006      3\n",
              "4    2746    4018    4675    4417  ...      1052      1034      1019      3\n",
              "\n",
              "[5 rows x 201 columns]"
            ]
          },
          "metadata": {},
          "execution_count": 8
        }
      ]
    },
    {
      "cell_type": "markdown",
      "source": [
        "Reducing the dimensions using `PCA` with `n_components = 3`."
      ],
      "metadata": {
        "id": "vwc1tt6Fo_5b"
      }
    },
    {
      "cell_type": "code",
      "source": [
        "# Import PCA from sklearn.decomposition\n",
        "from sklearn.decomposition import PCA\n",
        "\n",
        "# Make a PCA Constructor with 3 components\n",
        "pca_obj = PCA(n_components = 3)\n",
        "\n",
        "# Fit and Transform the DataFrame\n",
        "pca_features = pca_obj.fit_transform(df.iloc[:, :-1].values)\n",
        "pca_features"
      ],
      "metadata": {
        "colab": {
          "base_uri": "https://localhost:8080/"
        },
        "id": "pKIuenY2Tiv3",
        "outputId": "7ebb3476-6580-42c9-9382-8751af8ca59e"
      },
      "execution_count": null,
      "outputs": [
        {
          "output_type": "execute_result",
          "data": {
            "text/plain": [
              "array([[ 5014.90598496,  1456.86326035,    72.6970148 ],\n",
              "       [ 5601.38374305, -2023.45008662,   350.13466368],\n",
              "       [ 5796.13544234, -3090.39485163,   490.54001043],\n",
              "       ...,\n",
              "       [-7369.83419812, -1132.38176565,   398.17011958],\n",
              "       [-6497.08723914,   798.24003307,   676.80862107],\n",
              "       [-6570.46116092,   346.7496221 ,   465.45051459]])"
            ]
          },
          "metadata": {},
          "execution_count": 9
        }
      ]
    },
    {
      "cell_type": "markdown",
      "source": [
        "Creating a new DataFrame by merging the `class` column."
      ],
      "metadata": {
        "id": "-zvUXu2OpNIZ"
      }
    },
    {
      "cell_type": "code",
      "source": [
        "# Obtain the PCA reduced DataFrame containing only 3 features and target variable.\n",
        "pca_df = pd.concat([pd.DataFrame(pca_features), pd.DataFrame(data = y_data.ravel())], axis = 1)\n",
        "pca_df.columns = [f'PC-{i}' for i in range(1, 4)] + ['class']\n",
        "pca_df.head()"
      ],
      "metadata": {
        "colab": {
          "base_uri": "https://localhost:8080/",
          "height": 206
        },
        "id": "c0ImjQf4U0WP",
        "outputId": "be2e3472-63c4-4f77-8593-46b61489b5f7"
      },
      "execution_count": null,
      "outputs": [
        {
          "output_type": "execute_result",
          "data": {
            "text/html": [
              "\n",
              "  <div id=\"df-c6741475-f9ab-421e-9e5a-d6b9994a9c4d\">\n",
              "    <div class=\"colab-df-container\">\n",
              "      <div>\n",
              "<style scoped>\n",
              "    .dataframe tbody tr th:only-of-type {\n",
              "        vertical-align: middle;\n",
              "    }\n",
              "\n",
              "    .dataframe tbody tr th {\n",
              "        vertical-align: top;\n",
              "    }\n",
              "\n",
              "    .dataframe thead th {\n",
              "        text-align: right;\n",
              "    }\n",
              "</style>\n",
              "<table border=\"1\" class=\"dataframe\">\n",
              "  <thead>\n",
              "    <tr style=\"text-align: right;\">\n",
              "      <th></th>\n",
              "      <th>PC-1</th>\n",
              "      <th>PC-2</th>\n",
              "      <th>PC-3</th>\n",
              "      <th>class</th>\n",
              "    </tr>\n",
              "  </thead>\n",
              "  <tbody>\n",
              "    <tr>\n",
              "      <th>0</th>\n",
              "      <td>5014.905985</td>\n",
              "      <td>1456.863260</td>\n",
              "      <td>72.697015</td>\n",
              "      <td>3</td>\n",
              "    </tr>\n",
              "    <tr>\n",
              "      <th>1</th>\n",
              "      <td>5601.383743</td>\n",
              "      <td>-2023.450087</td>\n",
              "      <td>350.134664</td>\n",
              "      <td>3</td>\n",
              "    </tr>\n",
              "    <tr>\n",
              "      <th>2</th>\n",
              "      <td>5796.135442</td>\n",
              "      <td>-3090.394852</td>\n",
              "      <td>490.540010</td>\n",
              "      <td>3</td>\n",
              "    </tr>\n",
              "    <tr>\n",
              "      <th>3</th>\n",
              "      <td>5586.204575</td>\n",
              "      <td>-2369.376085</td>\n",
              "      <td>356.274679</td>\n",
              "      <td>3</td>\n",
              "    </tr>\n",
              "    <tr>\n",
              "      <th>4</th>\n",
              "      <td>5020.990792</td>\n",
              "      <td>339.603390</td>\n",
              "      <td>-23.007571</td>\n",
              "      <td>3</td>\n",
              "    </tr>\n",
              "  </tbody>\n",
              "</table>\n",
              "</div>\n",
              "      <button class=\"colab-df-convert\" onclick=\"convertToInteractive('df-c6741475-f9ab-421e-9e5a-d6b9994a9c4d')\"\n",
              "              title=\"Convert this dataframe to an interactive table.\"\n",
              "              style=\"display:none;\">\n",
              "        \n",
              "  <svg xmlns=\"http://www.w3.org/2000/svg\" height=\"24px\"viewBox=\"0 0 24 24\"\n",
              "       width=\"24px\">\n",
              "    <path d=\"M0 0h24v24H0V0z\" fill=\"none\"/>\n",
              "    <path d=\"M18.56 5.44l.94 2.06.94-2.06 2.06-.94-2.06-.94-.94-2.06-.94 2.06-2.06.94zm-11 1L8.5 8.5l.94-2.06 2.06-.94-2.06-.94L8.5 2.5l-.94 2.06-2.06.94zm10 10l.94 2.06.94-2.06 2.06-.94-2.06-.94-.94-2.06-.94 2.06-2.06.94z\"/><path d=\"M17.41 7.96l-1.37-1.37c-.4-.4-.92-.59-1.43-.59-.52 0-1.04.2-1.43.59L10.3 9.45l-7.72 7.72c-.78.78-.78 2.05 0 2.83L4 21.41c.39.39.9.59 1.41.59.51 0 1.02-.2 1.41-.59l7.78-7.78 2.81-2.81c.8-.78.8-2.07 0-2.86zM5.41 20L4 18.59l7.72-7.72 1.47 1.35L5.41 20z\"/>\n",
              "  </svg>\n",
              "      </button>\n",
              "      \n",
              "  <style>\n",
              "    .colab-df-container {\n",
              "      display:flex;\n",
              "      flex-wrap:wrap;\n",
              "      gap: 12px;\n",
              "    }\n",
              "\n",
              "    .colab-df-convert {\n",
              "      background-color: #E8F0FE;\n",
              "      border: none;\n",
              "      border-radius: 50%;\n",
              "      cursor: pointer;\n",
              "      display: none;\n",
              "      fill: #1967D2;\n",
              "      height: 32px;\n",
              "      padding: 0 0 0 0;\n",
              "      width: 32px;\n",
              "    }\n",
              "\n",
              "    .colab-df-convert:hover {\n",
              "      background-color: #E2EBFA;\n",
              "      box-shadow: 0px 1px 2px rgba(60, 64, 67, 0.3), 0px 1px 3px 1px rgba(60, 64, 67, 0.15);\n",
              "      fill: #174EA6;\n",
              "    }\n",
              "\n",
              "    [theme=dark] .colab-df-convert {\n",
              "      background-color: #3B4455;\n",
              "      fill: #D2E3FC;\n",
              "    }\n",
              "\n",
              "    [theme=dark] .colab-df-convert:hover {\n",
              "      background-color: #434B5C;\n",
              "      box-shadow: 0px 1px 3px 1px rgba(0, 0, 0, 0.15);\n",
              "      filter: drop-shadow(0px 1px 2px rgba(0, 0, 0, 0.3));\n",
              "      fill: #FFFFFF;\n",
              "    }\n",
              "  </style>\n",
              "\n",
              "      <script>\n",
              "        const buttonEl =\n",
              "          document.querySelector('#df-c6741475-f9ab-421e-9e5a-d6b9994a9c4d button.colab-df-convert');\n",
              "        buttonEl.style.display =\n",
              "          google.colab.kernel.accessAllowed ? 'block' : 'none';\n",
              "\n",
              "        async function convertToInteractive(key) {\n",
              "          const element = document.querySelector('#df-c6741475-f9ab-421e-9e5a-d6b9994a9c4d');\n",
              "          const dataTable =\n",
              "            await google.colab.kernel.invokeFunction('convertToInteractive',\n",
              "                                                     [key], {});\n",
              "          if (!dataTable) return;\n",
              "\n",
              "          const docLinkHtml = 'Like what you see? Visit the ' +\n",
              "            '<a target=\"_blank\" href=https://colab.research.google.com/notebooks/data_table.ipynb>data table notebook</a>'\n",
              "            + ' to learn more about interactive tables.';\n",
              "          element.innerHTML = '';\n",
              "          dataTable['output_type'] = 'display_data';\n",
              "          await google.colab.output.renderOutput(dataTable, element);\n",
              "          const docLink = document.createElement('div');\n",
              "          docLink.innerHTML = docLinkHtml;\n",
              "          element.appendChild(docLink);\n",
              "        }\n",
              "      </script>\n",
              "    </div>\n",
              "  </div>\n",
              "  "
            ],
            "text/plain": [
              "          PC-1         PC-2        PC-3  class\n",
              "0  5014.905985  1456.863260   72.697015      3\n",
              "1  5601.383743 -2023.450087  350.134664      3\n",
              "2  5796.135442 -3090.394852  490.540010      3\n",
              "3  5586.204575 -2369.376085  356.274679      3\n",
              "4  5020.990792   339.603390  -23.007571      3"
            ]
          },
          "metadata": {},
          "execution_count": 10
        }
      ]
    },
    {
      "cell_type": "markdown",
      "source": [
        "Scaling the new PCA DataFrame using `StandardScaler()` from `sklearn.preprocessing` package."
      ],
      "metadata": {
        "id": "lH-JE5zJpShJ"
      }
    },
    {
      "cell_type": "code",
      "source": [
        "# Import StandardScaler from sklearn.preprocessing\n",
        "from sklearn.preprocessing import StandardScaler\n",
        "\n",
        "# Obtain features from the DataFrame\n",
        "features = pca_df.iloc[:, :-1]\n",
        "\n",
        "# Define StandardScaler object\n",
        "standard_scaler = StandardScaler()  \n",
        "\n",
        "# Apply fit and transform operation using 'fit_transform()'\n",
        "scaled_values = standard_scaler.fit_transform(features)   \n",
        "\n",
        "# Create a new DataFrame for scaled features\n",
        "features_scaled = pd.DataFrame(scaled_values)\n",
        "features_scaled.columns = features.columns\n",
        "features_scaled"
      ],
      "metadata": {
        "colab": {
          "base_uri": "https://localhost:8080/",
          "height": 423
        },
        "id": "dAcCEEJuVk8g",
        "outputId": "ce1e4256-85bc-4472-a6d6-ac3fc52f3e32"
      },
      "execution_count": null,
      "outputs": [
        {
          "output_type": "execute_result",
          "data": {
            "text/html": [
              "\n",
              "  <div id=\"df-1cfb6573-fceb-4e9c-a937-d06b9c63fcd6\">\n",
              "    <div class=\"colab-df-container\">\n",
              "      <div>\n",
              "<style scoped>\n",
              "    .dataframe tbody tr th:only-of-type {\n",
              "        vertical-align: middle;\n",
              "    }\n",
              "\n",
              "    .dataframe tbody tr th {\n",
              "        vertical-align: top;\n",
              "    }\n",
              "\n",
              "    .dataframe thead th {\n",
              "        text-align: right;\n",
              "    }\n",
              "</style>\n",
              "<table border=\"1\" class=\"dataframe\">\n",
              "  <thead>\n",
              "    <tr style=\"text-align: right;\">\n",
              "      <th></th>\n",
              "      <th>PC-1</th>\n",
              "      <th>PC-2</th>\n",
              "      <th>PC-3</th>\n",
              "    </tr>\n",
              "  </thead>\n",
              "  <tbody>\n",
              "    <tr>\n",
              "      <th>0</th>\n",
              "      <td>0.968792</td>\n",
              "      <td>0.480163</td>\n",
              "      <td>0.095015</td>\n",
              "    </tr>\n",
              "    <tr>\n",
              "      <th>1</th>\n",
              "      <td>1.082089</td>\n",
              "      <td>-0.666902</td>\n",
              "      <td>0.457626</td>\n",
              "    </tr>\n",
              "    <tr>\n",
              "      <th>2</th>\n",
              "      <td>1.119711</td>\n",
              "      <td>-1.018553</td>\n",
              "      <td>0.641136</td>\n",
              "    </tr>\n",
              "    <tr>\n",
              "      <th>3</th>\n",
              "      <td>1.079156</td>\n",
              "      <td>-0.780915</td>\n",
              "      <td>0.465651</td>\n",
              "    </tr>\n",
              "    <tr>\n",
              "      <th>4</th>\n",
              "      <td>0.969967</td>\n",
              "      <td>0.111929</td>\n",
              "      <td>-0.030071</td>\n",
              "    </tr>\n",
              "    <tr>\n",
              "      <th>...</th>\n",
              "      <td>...</td>\n",
              "      <td>...</td>\n",
              "      <td>...</td>\n",
              "    </tr>\n",
              "    <tr>\n",
              "      <th>21020</th>\n",
              "      <td>-1.446463</td>\n",
              "      <td>-0.595127</td>\n",
              "      <td>0.362803</td>\n",
              "    </tr>\n",
              "    <tr>\n",
              "      <th>21021</th>\n",
              "      <td>-1.496685</td>\n",
              "      <td>-0.603773</td>\n",
              "      <td>0.522133</td>\n",
              "    </tr>\n",
              "    <tr>\n",
              "      <th>21022</th>\n",
              "      <td>-1.423722</td>\n",
              "      <td>-0.373218</td>\n",
              "      <td>0.520409</td>\n",
              "    </tr>\n",
              "    <tr>\n",
              "      <th>21023</th>\n",
              "      <td>-1.255123</td>\n",
              "      <td>0.263089</td>\n",
              "      <td>0.884589</td>\n",
              "    </tr>\n",
              "    <tr>\n",
              "      <th>21024</th>\n",
              "      <td>-1.269297</td>\n",
              "      <td>0.114284</td>\n",
              "      <td>0.608344</td>\n",
              "    </tr>\n",
              "  </tbody>\n",
              "</table>\n",
              "<p>21025 rows × 3 columns</p>\n",
              "</div>\n",
              "      <button class=\"colab-df-convert\" onclick=\"convertToInteractive('df-1cfb6573-fceb-4e9c-a937-d06b9c63fcd6')\"\n",
              "              title=\"Convert this dataframe to an interactive table.\"\n",
              "              style=\"display:none;\">\n",
              "        \n",
              "  <svg xmlns=\"http://www.w3.org/2000/svg\" height=\"24px\"viewBox=\"0 0 24 24\"\n",
              "       width=\"24px\">\n",
              "    <path d=\"M0 0h24v24H0V0z\" fill=\"none\"/>\n",
              "    <path d=\"M18.56 5.44l.94 2.06.94-2.06 2.06-.94-2.06-.94-.94-2.06-.94 2.06-2.06.94zm-11 1L8.5 8.5l.94-2.06 2.06-.94-2.06-.94L8.5 2.5l-.94 2.06-2.06.94zm10 10l.94 2.06.94-2.06 2.06-.94-2.06-.94-.94-2.06-.94 2.06-2.06.94z\"/><path d=\"M17.41 7.96l-1.37-1.37c-.4-.4-.92-.59-1.43-.59-.52 0-1.04.2-1.43.59L10.3 9.45l-7.72 7.72c-.78.78-.78 2.05 0 2.83L4 21.41c.39.39.9.59 1.41.59.51 0 1.02-.2 1.41-.59l7.78-7.78 2.81-2.81c.8-.78.8-2.07 0-2.86zM5.41 20L4 18.59l7.72-7.72 1.47 1.35L5.41 20z\"/>\n",
              "  </svg>\n",
              "      </button>\n",
              "      \n",
              "  <style>\n",
              "    .colab-df-container {\n",
              "      display:flex;\n",
              "      flex-wrap:wrap;\n",
              "      gap: 12px;\n",
              "    }\n",
              "\n",
              "    .colab-df-convert {\n",
              "      background-color: #E8F0FE;\n",
              "      border: none;\n",
              "      border-radius: 50%;\n",
              "      cursor: pointer;\n",
              "      display: none;\n",
              "      fill: #1967D2;\n",
              "      height: 32px;\n",
              "      padding: 0 0 0 0;\n",
              "      width: 32px;\n",
              "    }\n",
              "\n",
              "    .colab-df-convert:hover {\n",
              "      background-color: #E2EBFA;\n",
              "      box-shadow: 0px 1px 2px rgba(60, 64, 67, 0.3), 0px 1px 3px 1px rgba(60, 64, 67, 0.15);\n",
              "      fill: #174EA6;\n",
              "    }\n",
              "\n",
              "    [theme=dark] .colab-df-convert {\n",
              "      background-color: #3B4455;\n",
              "      fill: #D2E3FC;\n",
              "    }\n",
              "\n",
              "    [theme=dark] .colab-df-convert:hover {\n",
              "      background-color: #434B5C;\n",
              "      box-shadow: 0px 1px 3px 1px rgba(0, 0, 0, 0.15);\n",
              "      filter: drop-shadow(0px 1px 2px rgba(0, 0, 0, 0.3));\n",
              "      fill: #FFFFFF;\n",
              "    }\n",
              "  </style>\n",
              "\n",
              "      <script>\n",
              "        const buttonEl =\n",
              "          document.querySelector('#df-1cfb6573-fceb-4e9c-a937-d06b9c63fcd6 button.colab-df-convert');\n",
              "        buttonEl.style.display =\n",
              "          google.colab.kernel.accessAllowed ? 'block' : 'none';\n",
              "\n",
              "        async function convertToInteractive(key) {\n",
              "          const element = document.querySelector('#df-1cfb6573-fceb-4e9c-a937-d06b9c63fcd6');\n",
              "          const dataTable =\n",
              "            await google.colab.kernel.invokeFunction('convertToInteractive',\n",
              "                                                     [key], {});\n",
              "          if (!dataTable) return;\n",
              "\n",
              "          const docLinkHtml = 'Like what you see? Visit the ' +\n",
              "            '<a target=\"_blank\" href=https://colab.research.google.com/notebooks/data_table.ipynb>data table notebook</a>'\n",
              "            + ' to learn more about interactive tables.';\n",
              "          element.innerHTML = '';\n",
              "          dataTable['output_type'] = 'display_data';\n",
              "          await google.colab.output.renderOutput(dataTable, element);\n",
              "          const docLink = document.createElement('div');\n",
              "          docLink.innerHTML = docLinkHtml;\n",
              "          element.appendChild(docLink);\n",
              "        }\n",
              "      </script>\n",
              "    </div>\n",
              "  </div>\n",
              "  "
            ],
            "text/plain": [
              "           PC-1      PC-2      PC-3\n",
              "0      0.968792  0.480163  0.095015\n",
              "1      1.082089 -0.666902  0.457626\n",
              "2      1.119711 -1.018553  0.641136\n",
              "3      1.079156 -0.780915  0.465651\n",
              "4      0.969967  0.111929 -0.030071\n",
              "...         ...       ...       ...\n",
              "21020 -1.446463 -0.595127  0.362803\n",
              "21021 -1.496685 -0.603773  0.522133\n",
              "21022 -1.423722 -0.373218  0.520409\n",
              "21023 -1.255123  0.263089  0.884589\n",
              "21024 -1.269297  0.114284  0.608344\n",
              "\n",
              "[21025 rows x 3 columns]"
            ]
          },
          "metadata": {},
          "execution_count": 11
        }
      ]
    },
    {
      "cell_type": "markdown",
      "source": [
        "Get maximum value of each PCA using `.max()` on scaled DataFrame"
      ],
      "metadata": {
        "id": "g3XblKC6g9Yg"
      }
    },
    {
      "cell_type": "code",
      "source": [
        "# Get maximum value of each PCA\n",
        "features_scaled.max()"
      ],
      "metadata": {
        "colab": {
          "base_uri": "https://localhost:8080/"
        },
        "id": "_RLhHCDcgXQw",
        "outputId": "326c59bf-ab4b-41fc-a620-8e32751e632e"
      },
      "execution_count": null,
      "outputs": [
        {
          "output_type": "execute_result",
          "data": {
            "text/plain": [
              "PC-1    2.588139\n",
              "PC-2    5.824620\n",
              "PC-3    9.289662\n",
              "dtype: float64"
            ]
          },
          "metadata": {},
          "execution_count": 16
        }
      ]
    },
    {
      "cell_type": "markdown",
      "source": [
        "**Q:** What is the maximum value in each PCA?\n",
        "\n",
        "**A:**\n",
        "PC-1  =  2.588139,\n",
        "PC-2  =  5.824620,\n",
        "PC-3  =  9.289662"
      ],
      "metadata": {
        "id": "ZGaRNcjkf6wE"
      }
    },
    {
      "cell_type": "markdown",
      "source": [
        "\n",
        "\n",
        "---\n",
        "\n"
      ],
      "metadata": {
        "id": "ZqvYLoBEnWbs"
      }
    },
    {
      "cell_type": "markdown",
      "source": [
        "#### Activity 4: Create a Classification Model\n",
        "\n",
        "1. Preparing a classification model using `kNN`.\n",
        "\n",
        "2. Fit the data into the kNN model and get the accuracy score of train and test data.\n",
        "\n",
        "3. Plot the ground truth data by predicting the scaled features data with kNN model.\n",
        "\n",
        "Perform the train-test split using `train_test_split` module from `sklearn.model_selection`.\n"
      ],
      "metadata": {
        "id": "H89QhixznKdE"
      }
    },
    {
      "cell_type": "code",
      "source": [
        "# Import the package\n",
        "from sklearn.model_selection import train_test_split\n",
        "\n",
        "# Split the data\n",
        "X_train, X_test, y_train, y_test = train_test_split(features_scaled, pca_df['class'],\n",
        "                                                    test_size = 0.30, stratify = pca_df['class'])\n",
        "\n",
        "# Print the shape of train and test sets.\n",
        "print(\"Shape of X_train:\", X_train.shape)\n",
        "print(\"Shape of X_test:\", X_test.shape)\n",
        "print(\"Shape of y_train:\", y_train.shape)\n",
        "print(\"Shape of y_test:\", y_test.shape)"
      ],
      "metadata": {
        "colab": {
          "base_uri": "https://localhost:8080/"
        },
        "id": "sRpFHYvuWO5C",
        "outputId": "23696c24-e458-449a-a756-4a7757903256"
      },
      "execution_count": null,
      "outputs": [
        {
          "output_type": "stream",
          "name": "stdout",
          "text": [
            "Shape of X_train: (14717, 3)\n",
            "Shape of X_test: (6308, 3)\n",
            "Shape of y_train: (14717,)\n",
            "Shape of y_test: (6308,)\n"
          ]
        }
      ]
    },
    {
      "cell_type": "markdown",
      "source": [
        "Build kNN classifier model using `KNeighborsClassifier()` from `sklearn.neighbors`. Calculate the accuracy score using `accuracy_score()` function from `sklearn.metrics`."
      ],
      "metadata": {
        "id": "o-UFGG7nqPR7"
      }
    },
    {
      "cell_type": "code",
      "source": [
        "# Import the packages for Classifier and accuracy score\n",
        "from sklearn.neighbors import KNeighborsClassifier\n",
        "from sklearn.metrics import accuracy_score\n",
        "\n",
        "# kNN Classifier\n",
        "knn = KNeighborsClassifier(n_neighbors = 7)\n",
        "knn.fit(X_train, y_train)\n",
        "\n",
        "# Call the 'score()' function to check the accuracy score of the train set and test set.\n",
        "print(\"Train set accuracy:\", knn.score(X_train, y_train))\n",
        "print(\"Test set accuracy:\", knn.score(X_test, y_test))"
      ],
      "metadata": {
        "colab": {
          "base_uri": "https://localhost:8080/"
        },
        "id": "Ufxi6LqrWPRG",
        "outputId": "2ff3e136-9aca-434e-cef2-42a1267192e6"
      },
      "execution_count": null,
      "outputs": [
        {
          "output_type": "stream",
          "name": "stdout",
          "text": [
            "Train set accuracy: 0.750152884419379\n",
            "Test set accuracy: 0.6693088142041852\n"
          ]
        }
      ]
    },
    {
      "cell_type": "markdown",
      "source": [
        "Visualise predicted values obtained from classification of HSI."
      ],
      "metadata": {
        "id": "b64MVU_VquJY"
      }
    },
    {
      "cell_type": "code",
      "source": [
        "# Plot the predicted values by reshaping it to (145, 145) size\n",
        "plt.figure(figsize=(10, 8))\n",
        "plt.imshow(knn.predict(features_scaled).reshape(145, 145))\n",
        "plt.show()"
      ],
      "metadata": {
        "colab": {
          "base_uri": "https://localhost:8080/",
          "height": 485
        },
        "id": "2MIAHOSTWUTv",
        "outputId": "3e07a814-8554-4f50-a7df-50d1c4ed2b53"
      },
      "execution_count": null,
      "outputs": [
        {
          "output_type": "display_data",
          "data": {
            "image/png": "[encoded data removed]",
            "text/plain": [
              "<Figure size 720x576 with 1 Axes>"
            ]
          },
          "metadata": {
            "needs_background": "light"
          }
        }
      ]
    },
    {
      "cell_type": "markdown",
      "source": [
        "**Q:** Is the predicted image identical to the original image?\n",
        "\n",
        "**A:** Yes, it matches around 70-80% of the ground truth image."
      ],
      "metadata": {
        "id": "NrUSwsdirI6w"
      }
    },
    {
      "cell_type": "markdown",
      "source": [
        "\n",
        "\n",
        "---\n",
        "\n"
      ],
      "metadata": {
        "id": "5qlLdzsxghZ1"
      }
    }
  ]
}