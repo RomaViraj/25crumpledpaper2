{
  "nbformat": 4,
  "nbformat_minor": 0,
  "metadata": {
    "colab": {
      "name": "Applied_Tech_Project_1_Solution_copy_v1.2.ipynb",
      "provenance": [],
      "collapsed_sections": [],
      "include_colab_link": true
    },
    "kernelspec": {
      "name": "python3",
      "display_name": "Python 3"
    }
  },
  "cells": [
    {
      "cell_type": "markdown",
      "metadata": {
        "id": "view-in-github",
        "colab_type": "text"
      },
      "source": [
        "<a href=\"https://colab.research.google.com/github/RomaViraj/APT/blob/master/Applied_Tech_Project_1_Solution_copy_v1_2.ipynb\" target=\"_parent\"><img src=\"https://colab.research.google.com/assets/colab-badge.svg\" alt=\"Open In Colab\"/></a>"
      ]
    },
    {
      "cell_type": "markdown",
      "metadata": {
        "id": "YZnBY81YDCCr"
      },
      "source": [
        "### Instructions"
      ]
    },
    {
      "cell_type": "markdown",
      "metadata": {
        "id": "bEyBzxYRhrLG"
      },
      "source": [
        "#### Goal of the Project\n",
        "\n",
        "This project is designed for you to practice and solve the activities that are based on the concepts covered in the following lessons:\n",
        "\n",
        " 1. Variables and Data-Types\n"
      ]
    },
    {
      "cell_type": "markdown",
      "metadata": {
        "id": "DPOFIO3EHncO"
      },
      "source": [
        "---"
      ]
    },
    {
      "cell_type": "markdown",
      "metadata": {
        "id": "q4fH06mIjuK3"
      },
      "source": [
        "#### Activity 1: Printing name and hobby\n",
        "\n",
        "Here you need to get the name and favourite hobby from the user and display it\n",
        "\n",
        "For example: \n",
        "\n",
        "             Enter your name : Sam\n",
        "             Enter your favourite hobby : cycling\n",
        "             Hello Sam, your favourite hobby is cycling\n",
        "\n",
        "Follow the steps given below to achieve the desired result:\n",
        "\n",
        "  - **Step 1:** Ask the user to enter his/her name using the `input()` function and store it in the `name` variable.\n",
        "\n",
        "  - **Step 2:** Ask the user to enter his/her favourite hobby using the `input()` function and store it in the `hobby` variable.\n",
        "\n",
        "  - **Step 3:** Print the values of `name` and `hobby` variables using the `print()` function.\n",
        "\n",
        "**Hint**: `print(\"Hello\", name,\", your favourite hobby is\", hobby)`  \n"
      ]
    },
    {
      "cell_type": "code",
      "metadata": {
        "id": "4EAoTskqg041",
        "colab": {
          "base_uri": "https://localhost:8080/"
        },
        "outputId": "8ea7887b-bee3-48b4-fd2e-83627980b692"
      },
      "source": [
        "# Write your code here\n",
        "# Step 1: Get name from user and store it in variable 'name'\n",
        "name = input(\"Enter your name: \")\n",
        "# Step 2: Get hobby from user and store it in variable 'hobby'\n",
        "hobby = input(\"Enter your favourite hobby: \")\n",
        "# Step 3: Print name and hobby\n",
        "print(\"Hello\", name,\", your favourite hobby is\", hobby)"
      ],
      "execution_count": null,
      "outputs": [
        {
          "output_type": "stream",
          "text": [
            "Enter your name: Rahul\n",
            "Enter your favourite hobby: trekking \n",
            "Hello Rahul , your favourite hobby is trekking \n"
          ],
          "name": "stdout"
        }
      ]
    },
    {
      "cell_type": "markdown",
      "metadata": {
        "id": "xJlPs9X9oeRw"
      },
      "source": [
        "---"
      ]
    },
    {
      "cell_type": "markdown",
      "metadata": {
        "id": "qA-b1CdeofKc"
      },
      "source": [
        "#### Activity 2: Display the total marks scored in 3 subjects\n",
        "\n",
        "Calculate the total marks scored in 3 subjects (100 marks each) and display the score out of 300 marks.\n",
        "\n",
        "For example: \n",
        "\n",
        "    english = 56\n",
        "    maths = 73\n",
        "    science = 79\n",
        "    Total Marks = 208\n",
        "\n",
        "Follow the steps given below to achieve the desired result:\n",
        "\n",
        "- **Step 1:** Declare three variables `english`, `maths` and `science` respectively and store any numerical values in it.\n",
        "\n",
        "- **Step 2:** Calculate the total marks by adding the values stored in the variables using the `+` operator. Store the result in the variable `total`.\n",
        "\n",
        "- **Step 3:** Print the total score."
      ]
    },
    {
      "cell_type": "code",
      "metadata": {
        "id": "AtvPTG3kpBoS",
        "colab": {
          "base_uri": "https://localhost:8080/"
        },
        "outputId": "041e3e38-d880-41db-c1a0-9df44c7c0d91"
      },
      "source": [
        "# Write your code here\n",
        "# Step 1: Declare three variables 'english', 'maths' and 'science' respectively and store any numerical values in it\n",
        "english = 56\n",
        "maths = 73\n",
        "science = 79\n",
        "# Step 2: store their sum in 'total' variable\n",
        "total = english + maths + science\n",
        "# Step 3: Use the 'print()' function to display the total marks\n",
        "print(\"Total Marks = \", total)"
      ],
      "execution_count": null,
      "outputs": [
        {
          "output_type": "stream",
          "text": [
            "Total Marks =  208\n"
          ],
          "name": "stdout"
        }
      ]
    },
    {
      "cell_type": "markdown",
      "metadata": {
        "id": "KOVBiUSMzut1"
      },
      "source": [
        "---"
      ]
    }
  ]
}