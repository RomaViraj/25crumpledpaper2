{
  "nbformat": 4,
  "nbformat_minor": 0,
  "metadata": {
    "colab": {
      "name": "Copy of AT - Lesson 37 - Reference - v0",
      "provenance": [],
      "collapsed_sections": [],
      "include_colab_link": true
    },
    "kernelspec": {
      "name": "python3",
      "display_name": "Python 3"
    }
  },
  "cells": [
    {
      "cell_type": "markdown",
      "metadata": {
        "id": "view-in-github",
        "colab_type": "text"
      },
      "source": [
        "<a href=\"https://colab.research.google.com/github/RomaViraj/APT/blob/master/Copy_of_AT_Lesson_37_Reference_v0.ipynb\" target=\"_parent\"><img src=\"https://colab.research.google.com/assets/colab-badge.svg\" alt=\"Open In Colab\"/></a>"
      ]
    },
    {
      "cell_type": "markdown",
      "metadata": {
        "id": "LHMNPeUke3VC"
      },
      "source": [
        "# Lesson 37: Capstone Class - String Operations III"
      ]
    },
    {
      "cell_type": "markdown",
      "metadata": {
        "id": "EfuSktrn29Xt"
      },
      "source": [
        "**WARNING:** The reference notebook is meant **ONLY** for a teacher. Please **DO NOT** share it with any student. The contents of the reference notebook are meant only to prepare a teacher for a class. To conduct the class, use the class copy of the reference notebook. \n",
        "\n",
        "|Particulars|Description|\n",
        "|-|-|\n",
        "|**Topic**|String Operations III|\n",
        "|||\n",
        "|**Class Description**|In this class, a student will learn additional string operations that are critical to analysing textual data|\n",
        "|||\n",
        "|**Class**|C37|\n",
        "|||\n",
        "|**Class Time**|45 minutes|\n",
        "|||\n",
        "|**Goals**|Strip some specific characters from a string|\n",
        "||Split a string about some specific character|\n",
        "||Join the items of a list containing only string items|\n",
        "||Change the cases of English letters justify them to the left, right & centre|\n",
        "||Replace a part of a string with another string item|\n",
        "||Create a well-punctuated string using the escape character|\n",
        "|||\n",
        "|**Teacher Resources**|Google Account|\n",
        "||Link to Lesson 37 Colab reference notebook|\n",
        "||Laptop with internet connectivity|\n",
        "||Earphones with mic|\n",
        "|||\n",
        "|**Student Resources**|Google Account|\n",
        "||Laptop with internet connectivity|\n",
        "||Earphones with mic|"
      ]
    },
    {
      "cell_type": "markdown",
      "metadata": {
        "id": "-IzAmV103Ks7"
      },
      "source": [
        "---"
      ]
    },
    {
      "cell_type": "markdown",
      "metadata": {
        "id": "0I2ds09zlnzi"
      },
      "source": [
        "### Warm-up\n",
        "```\n",
        "TEACHER\n",
        "I have an exciting quiz question for you! Are you ready to answer this question?\n",
        "\n",
        "EXPECTED STUDENT RESPONSE\n",
        "Yes.\n",
        "```\n",
        "\n",
        "  **Instructions for the Teacher:**\n",
        "  -  Please click on the \"Quiz Time\" button on the bottom right corner of your screen to start the In-Class Quiz.<img src='https://student-datasets-bucket.s3.ap-south-1.amazonaws.com/images/quiz-time.png' width=100>   \n",
        "  - A quiz will be visible to both you and the student. Encourage the student to answer the quiz question. \n",
        "  - The student may choose the wrong option, help the student to think correctly about the question and then answer again. \n",
        "  - After the student selects the correct option, the \"End Quiz\" button will start appearing on your screen.  <img src='https://student-datasets-bucket.s3.ap-south-1.amazonaws.com/images/end-quiz.png' width=100>  \n",
        "  - Click the \"End quiz\" to close the quiz pop-up and continue the class. \n",
        "  - Do not spend more than 2 minutes on this quiz.\n",
        "\n",
        "\n"
      ]
    },
    {
      "cell_type": "markdown",
      "metadata": {
        "id": "DG2tsw0elovK"
      },
      "source": [
        "---"
      ]
    },
    {
      "cell_type": "markdown",
      "metadata": {
        "id": "VfBvIhZ62-1k"
      },
      "source": [
        "### Note To the Teacher\n",
        "\n",
        "A few of the coding exercises in this class are quite challenging. If a student is struggling to solve them even with your guidance, then please take over and solve them."
      ]
    },
    {
      "cell_type": "markdown",
      "metadata": {
        "id": "jyTEsGEd2-KY"
      },
      "source": [
        "---"
      ]
    },
    {
      "cell_type": "markdown",
      "metadata": {
        "id": "d0RqwmGHOaUo"
      },
      "source": [
        "### Teacher-Student Activities\n",
        "\n",
        "Welcome to the Capstone Class.  Are you prepared for today's challenge? \n",
        "Let's continue our quest to understand String Operations further. \n",
        "\n",
        "In this class, we will learn the remaining string operations/functions in Python."
      ]
    },
    {
      "cell_type": "markdown",
      "metadata": {
        "id": "1ndsjaU3X0V7"
      },
      "source": [
        "---"
      ]
    },
    {
      "cell_type": "markdown",
      "metadata": {
        "id": "CFg0CuZyh1o5"
      },
      "source": [
        "#### Activity 1: The `strip(), lstrip()` & `rstrip()` Functions\n",
        "\n",
        "The `strip()` function removes any unwanted item from a string present at both ends of a string. By-default it removes the whitespaces unless otherwise specified.\n",
        "\n",
        "The string below contains many `#` symbols, whitespaces and commas`.\n",
        "\n",
        "`' #food, #foodie, #yummy, #delicious, #foodislife ## '`\n",
        "\n",
        "Let's remove the whitespaces and `#` symbols from both ends of the string using the `strip()` function.\n",
        "\n",
        "**Syntax:** `string.strip(character)`\n",
        "\n",
        "where `character` is the character to be removed from both ends of a string."
      ]
    },
    {
      "cell_type": "code",
      "metadata": {
        "id": "mxbTH791h0cD",
        "colab": {
          "base_uri": "https://localhost:8080/",
          "height": 34
        },
        "outputId": "362fdb9c-007c-4b2a-f37b-ddf4136cd47c"
      },
      "source": [
        "# Student Action: Remove whitespaces from both ends of the given string.\n",
        "htags = ' #food, #foodie, #yummy, #delicious, #foodislife ## '\n",
        "htags_strip = htags.strip()\n",
        "htags_strip"
      ],
      "execution_count": null,
      "outputs": [
        {
          "output_type": "execute_result",
          "data": {
            "text/plain": [
              "'#food, #foodie, #yummy, #delicious, #foodislife ##'"
            ]
          },
          "metadata": {
            "tags": []
          },
          "execution_count": 289
        }
      ]
    },
    {
      "cell_type": "code",
      "metadata": {
        "id": "pYt-Qka3eHsM",
        "colab": {
          "base_uri": "https://localhost:8080/",
          "height": 34
        },
        "outputId": "99adc9f6-bd89-463b-ef8e-17c0b275f5d5"
      },
      "source": [
        "# Student Action: Strip whitespaces and '#' symbols from both ends of the given string.\n",
        "htags = ' #food, #foodie, #yummy, #delicious, #foodislife ## '\n",
        "htags_strip = htags.strip(' #')\n",
        "htags_strip"
      ],
      "execution_count": null,
      "outputs": [
        {
          "output_type": "execute_result",
          "data": {
            "text/plain": [
              "'food, #foodie, #yummy, #delicious, #foodislife'"
            ]
          },
          "metadata": {
            "tags": []
          },
          "execution_count": 290
        }
      ]
    },
    {
      "cell_type": "markdown",
      "metadata": {
        "id": "aoY0M97aokd_"
      },
      "source": [
        "If you want to remove some character only from the rightmost end side of a string, then you can use the `rstrip()` function.\n",
        "\n",
        "**Syntax:** `string.rstrip(character)`\n",
        "\n",
        "where `character` is the character to be removed from the rightmost end of a string."
      ]
    },
    {
      "cell_type": "code",
      "metadata": {
        "id": "n0TMCqhlleeb",
        "colab": {
          "base_uri": "https://localhost:8080/",
          "height": 34
        },
        "outputId": "8000b57a-f416-47ca-b64e-c153d3e6dd34"
      },
      "source": [
        "# Student Action: Strip whitespaces and '#' symbols from the rightmost end of the given string.\n",
        "htags = ' #food, #foodie, #yummy, #delicious, #foodislife ## '\n",
        "htags_rstrip = htags.rstrip(' #')\n",
        "htags_rstrip"
      ],
      "execution_count": null,
      "outputs": [
        {
          "output_type": "execute_result",
          "data": {
            "text/plain": [
              "' #food, #foodie, #yummy, #delicious, #foodislife'"
            ]
          },
          "metadata": {
            "tags": []
          },
          "execution_count": 55
        }
      ]
    },
    {
      "cell_type": "markdown",
      "metadata": {
        "id": "GoYtEnCRuklj"
      },
      "source": [
        "If you want to remove some character only from the leftmost end side of a string, then you can use the `lstrip()` function.\n",
        "\n",
        "**Syntax:** `string.lstrip(character)`\n",
        "\n",
        "where `character` is the character to be removed from the leftmost end of a string."
      ]
    },
    {
      "cell_type": "code",
      "metadata": {
        "id": "cJpIOHAspGhN",
        "colab": {
          "base_uri": "https://localhost:8080/",
          "height": 34
        },
        "outputId": "43614809-ec84-4abc-eb02-b19daa01410b"
      },
      "source": [
        "# Student Action: Strip whitespaces and '#' symbols from the leftmost end of the given string.\n",
        "htags = ' #food, #foodie, #yummy, #delicious, #foodislife ## '\n",
        "htags_lstrip = htags.lstrip(' #')\n",
        "htags_lstrip"
      ],
      "execution_count": null,
      "outputs": [
        {
          "output_type": "execute_result",
          "data": {
            "text/plain": [
              "'food, #foodie, #yummy, #delicious, #foodislife ## '"
            ]
          },
          "metadata": {
            "tags": []
          },
          "execution_count": 56
        }
      ]
    },
    {
      "cell_type": "markdown",
      "metadata": {
        "id": "yCZ_uXveu-fz"
      },
      "source": [
        "---"
      ]
    },
    {
      "cell_type": "markdown",
      "metadata": {
        "id": "ZiFoVm3Iu_v6"
      },
      "source": [
        "#### Activity 2: The `split()` Function\n",
        "\n",
        "The `split()` function splits a string and returns a list of splitted strings.\n",
        "\n",
        "For example, the `split()` function will split the string `' #food, #foodie, #yummy, #delicious, #foodislife ## '` and will return a list containing its fragments as items."
      ]
    },
    {
      "cell_type": "code",
      "metadata": {
        "id": "XYMb7xHPu_Hu",
        "colab": {
          "base_uri": "https://localhost:8080/",
          "height": 34
        },
        "outputId": "c0b30c7f-238b-46ef-dfcd-ee8a55c41fb2"
      },
      "source": [
        "# Student Action: Apply the 'split()' function without passing any input to it on the given string.\n",
        "htags = ' #food, #foodie, #yummy, #delicious, #foodislife ## '\n",
        "htags_split = htags.split()\n",
        "htags_split"
      ],
      "execution_count": null,
      "outputs": [
        {
          "output_type": "execute_result",
          "data": {
            "text/plain": [
              "['#food,', '#foodie,', '#yummy,', '#delicious,', '#foodislife', '##']"
            ]
          },
          "metadata": {
            "tags": []
          },
          "execution_count": 292
        }
      ]
    },
    {
      "cell_type": "markdown",
      "metadata": {
        "id": "wVMLyWJzvqGu"
      },
      "source": [
        "By default, the `split()` function splits a string about whitespace. If you want to split a string about a particular item, then you have to specify that item as an input to the `split()` function.\n",
        "\n",
        "Let's split the string `' #food, #foodie, #yummy, #delicious, #foodislife ## '` about the comma and whitespace."
      ]
    },
    {
      "cell_type": "code",
      "metadata": {
        "id": "Fa6QhswjdeLX",
        "colab": {
          "base_uri": "https://localhost:8080/",
          "height": 34
        },
        "outputId": "4ebfac91-6238-4f60-e6b0-474a373b571d"
      },
      "source": [
        "# Student Action: Split the string ' #food, #foodie, #yummy, #delicious, #foodislife ## ' about the whitespace and comma.\n",
        "htags_split = htags.split(', ')\n",
        "htags_split"
      ],
      "execution_count": null,
      "outputs": [
        {
          "output_type": "execute_result",
          "data": {
            "text/plain": [
              "[' #food', '#foodie', '#yummy', '#delicious', '#foodislife ## ']"
            ]
          },
          "metadata": {
            "tags": []
          },
          "execution_count": 299
        }
      ]
    },
    {
      "cell_type": "code",
      "metadata": {
        "id": "vzj5y1FbvojZ",
        "colab": {
          "base_uri": "https://localhost:8080/",
          "height": 102
        },
        "outputId": "5e4a461d-2fad-4c59-eaff-3085922a35bb"
      },
      "source": [
        "# Student Action: Remove the hash symbols and whitespaces from all the items contained in the above list. Store the cleaned items in a new list.\n",
        "print(f\"Before stripping:\\n\\t{htags_split}\") # \\t adds a very long space (or tab)\n",
        "new_list = []\n",
        "for item in htags_split:\n",
        "  new_list.append(item.strip(' #'))\n",
        "print(f\"\\nAfter stripping:\\n\\t{new_list}\")"
      ],
      "execution_count": null,
      "outputs": [
        {
          "output_type": "stream",
          "text": [
            "Before stripping:\n",
            "\t[' #food', '#foodie', '#yummy', '#delicious', '#foodislife ## ']\n",
            "\n",
            "After stripping:\n",
            "\t['food', 'foodie', 'yummy', 'delicious', 'foodislife']\n"
          ],
          "name": "stdout"
        }
      ]
    },
    {
      "cell_type": "markdown",
      "metadata": {
        "id": "Q0bB5qCCwQ5G"
      },
      "source": [
        "---"
      ]
    },
    {
      "cell_type": "markdown",
      "metadata": {
        "id": "4cDLkzOHwbeY"
      },
      "source": [
        "#### Activity 3: The `join()` Function\n",
        "\n",
        "To join the items contained in a list to form a string, you can use the `join()` function. \n",
        "\n",
        "**Syntax:** `joining_character.join(list)`\n",
        "\n",
        "\n",
        "**Note:** This function works on the lists containing only the string items.\n"
      ]
    },
    {
      "cell_type": "code",
      "metadata": {
        "id": "Cs48MLoFvU6_",
        "colab": {
          "base_uri": "https://localhost:8080/",
          "height": 34
        },
        "outputId": "cff3b7c1-7676-4c7a-b63e-3038989bf1dc"
      },
      "source": [
        "# Student Action: Create a new string by joining the items of the above list (containing clean items) about whitespace.\n",
        "new_string = ' '.join(new_list)\n",
        "new_string"
      ],
      "execution_count": null,
      "outputs": [
        {
          "output_type": "execute_result",
          "data": {
            "text/plain": [
              "'food foodie yummy delicious foodislife'"
            ]
          },
          "metadata": {
            "tags": []
          },
          "execution_count": 305
        }
      ]
    },
    {
      "cell_type": "markdown",
      "metadata": {
        "id": "Ve4pjwAKkx6I"
      },
      "source": [
        "Let's write a code to create a 12 character long password containing a combination of lowercase & uppercase English letters numbers and special characters.\n",
        "\n",
        "For this exercise, we have to import the `string` module that contains the following string constants.\n",
        "\n",
        "1. `string.ascii_lowercase`: A constant string of lowercase letters, i.e.,`'abcdefghijklmnopqrstuvwxyz'`\n",
        "\n",
        "2. `string.ascii_uppercase`: A constant string of uppercase letters, i.e., `'ABCDEFGHIJKLMNOPQRSTUVWXYZ'`\n",
        "\n",
        "3. `string.ascii_letters`: A constant string containing the concatenation of the `ascii_lowercase` and `ascii_uppercase` constants, i.e., `'abcdefghijklmnopqrstuvwxyzABCDEFGHIJKLMNOPQRSTUVWXYZ'`\n",
        "\n",
        "4. `string.digits`: A constant string of the digits, i.e, `'0123456789'`\n",
        "\n",
        "5. `string.punctuation`: A constant string of ASCII characters which are considered as punctuation characters, i.e., ``!\"#$%&'()*+,-./:;<=>?@[\\]^_`{|}~``\n",
        "\n",
        "The constants are those values which are universally true. E.g., value of `pi = 3.141` etc.\n",
        "\n",
        "Of course, you can create all of the above on your own by typing them individually. But then your life will become miserable."
      ]
    },
    {
      "cell_type": "code",
      "metadata": {
        "id": "l7UvAgLqthax",
        "colab": {
          "base_uri": "https://localhost:8080/"
        },
        "outputId": "268964c4-be10-4bb1-f27b-454861ce885b"
      },
      "source": [
        "# Student Action: Write a code to generate a 12 character long random password containing a combination of lowercase & \n",
        "# uppercase English letters numbers and special characters.\n",
        "import string\n",
        "import random\n",
        "chars = string.ascii_letters + string.digits + string.punctuation # String concatenation\n",
        "print(f\"Alphanumeric string:\\n\\t{chars}\\n\\nLength: {len(chars)}\\n\")\n",
        "rand_chars = [chars[random.randint(0, len(chars) - 1)] for i in range(12)] # Generate 12 random integers between 0 and 93.\n",
        "password = ''.join(rand_chars) # Joining items of the list about the empty string.\n",
        "print(f\"12-character long random password:\\n\\t{password}\")"
      ],
      "execution_count": null,
      "outputs": [
        {
          "output_type": "stream",
          "text": [
            "Alphanumeric string:\n",
            "\tabcdefghijklmnopqrstuvwxyzABCDEFGHIJKLMNOPQRSTUVWXYZ0123456789!\"#$%&'()*+,-./:;<=>?@[\\]^_`{|}~\n",
            "\n",
            "Length: 94\n",
            "\n",
            "12-character long random password:\n",
            "\tzJH}3utZKFhg\n"
          ],
          "name": "stdout"
        }
      ]
    },
    {
      "cell_type": "markdown",
      "metadata": {
        "id": "VqSTUpO-o-8X"
      },
      "source": [
        "In the above code:\n",
        "\n",
        "- An alphanumeric string is created by concatenating the `string.ascii_letters, string.digits, string.punctuation` constants.\n",
        "\n",
        "- A list is created using the list comprehension method: \n",
        "\n",
        "    - By first generating 12 random integers between `0` and `93`. They act as indices for any 12 items of the alphanumeric string.\n",
        "\n",
        "    - Then, by adding the items to the list that are retrieved from the alphanumeric string.\n",
        "\n",
        "- The `join()` function joins the items of the above list about an empty string."
      ]
    },
    {
      "cell_type": "markdown",
      "metadata": {
        "id": "ASoiuhx3yPzV"
      },
      "source": [
        "---"
      ]
    },
    {
      "cell_type": "markdown",
      "metadata": {
        "id": "JEnaq7CeyQ9Q"
      },
      "source": [
        "#### Activity 4: The `capitalize(), lower(), upper()` & `title()` Functions\n",
        "\n",
        "The `capitalize()` function, capitalizes only the item at `index = 0` provided that the item is a lowercase English letter. The syntax is `string.capitalize()`."
      ]
    },
    {
      "cell_type": "code",
      "metadata": {
        "id": "ln7sQZkV9h-_",
        "colab": {
          "base_uri": "https://localhost:8080/",
          "height": 34
        },
        "outputId": "e5e9eac8-7aca-46d8-b1a1-674811ee2a02"
      },
      "source": [
        "# Student Action: Create a string having the first item as a lowercase English letter. Then, apply the 'capitalize()' function on it.\n",
        "quote = \"tell me and i forget. teach me and i remember. involve me and i learn.\"\n",
        "capitalized = quote.capitalize()\n",
        "capitalized"
      ],
      "execution_count": null,
      "outputs": [
        {
          "output_type": "execute_result",
          "data": {
            "text/plain": [
              "'Tell me and i forget. teach me and i remember. involve me and i learn.'"
            ]
          },
          "metadata": {
            "tags": []
          },
          "execution_count": 321
        }
      ]
    },
    {
      "cell_type": "markdown",
      "metadata": {
        "id": "CyONvRyCJCB-"
      },
      "source": [
        "The `lower()` function converts all the uppercase English letters to the lowercase letters. The syntax is `string.lower()`"
      ]
    },
    {
      "cell_type": "code",
      "metadata": {
        "id": "2nFS5jxiw0Kt",
        "colab": {
          "base_uri": "https://localhost:8080/",
          "height": 34
        },
        "outputId": "36ec0ea6-20dc-4ce8-a2ca-42b7b8af607f"
      },
      "source": [
        "# Student Action: Apply the 'lower()' function on the above capitalized string.\n",
        "lowercased = capitalized.lower()\n",
        "lowercased"
      ],
      "execution_count": null,
      "outputs": [
        {
          "output_type": "execute_result",
          "data": {
            "text/plain": [
              "'tell me and i forget. teach me and i remember. involve me and i learn.'"
            ]
          },
          "metadata": {
            "tags": []
          },
          "execution_count": 322
        }
      ]
    },
    {
      "cell_type": "markdown",
      "metadata": {
        "id": "l-z_bvzIJoXo"
      },
      "source": [
        "The `upper()` function converts all the lowercase English letters to the uppercase letters. The syntax is `string.upper()`"
      ]
    },
    {
      "cell_type": "code",
      "metadata": {
        "id": "sbVqMkPCZxpv",
        "colab": {
          "base_uri": "https://localhost:8080/",
          "height": 34
        },
        "outputId": "7973a365-573a-4cd7-8565-b6d1e939bc70"
      },
      "source": [
        "# Student Action: Apply the 'upper()' function on the above lowercase string.\n",
        "uppercased = quote.upper()\n",
        "uppercased"
      ],
      "execution_count": null,
      "outputs": [
        {
          "output_type": "execute_result",
          "data": {
            "text/plain": [
              "'TELL ME AND I FORGET. TEACH ME AND I REMEMBER. INVOLVE ME AND I LEARN.'"
            ]
          },
          "metadata": {
            "tags": []
          },
          "execution_count": 323
        }
      ]
    },
    {
      "cell_type": "markdown",
      "metadata": {
        "id": "trc26JlyK9Fk"
      },
      "source": [
        "The `title()` function capitalizes the first English letter of every word in a string provided that the words are separated in some way. The syntax is `string.title()`"
      ]
    },
    {
      "cell_type": "code",
      "metadata": {
        "id": "G3NPpHQPZwMK",
        "colab": {
          "base_uri": "https://localhost:8080/",
          "height": 34
        },
        "outputId": "bd841039-fe99-41aa-b162-7091c3fd0c22"
      },
      "source": [
        "# Student Action: Apply the 'title()' function on the above uppercase string.\n",
        "titled = quote.title()\n",
        "titled"
      ],
      "execution_count": null,
      "outputs": [
        {
          "output_type": "execute_result",
          "data": {
            "text/plain": [
              "'Tell Me And I Forget. Teach Me And I Remember. Involve Me And I Learn.'"
            ]
          },
          "metadata": {
            "tags": []
          },
          "execution_count": 324
        }
      ]
    },
    {
      "cell_type": "markdown",
      "metadata": {
        "id": "jw7jMsa2NQ1q"
      },
      "source": [
        "---"
      ]
    },
    {
      "cell_type": "markdown",
      "metadata": {
        "id": "DtKI0JeVN9U5"
      },
      "source": [
        "#### Activity 5: The `isupper(), islower()` & `istitle()` Functions\n",
        "\n",
        "The `istitle()` function returns `True` if the words in a string are in a title case. Otherwise, it returns `False`."
      ]
    },
    {
      "cell_type": "code",
      "metadata": {
        "id": "9Rg7h5KHNipJ",
        "colab": {
          "base_uri": "https://localhost:8080/",
          "height": 34
        },
        "outputId": "5f86372e-2014-4ca9-a6ed-eccb23795d4c"
      },
      "source": [
        "# Student Action: Apply the 'istitle()' function on the string that is in the title case.\n",
        "titled.istitle()"
      ],
      "execution_count": null,
      "outputs": [
        {
          "output_type": "execute_result",
          "data": {
            "text/plain": [
              "True"
            ]
          },
          "metadata": {
            "tags": []
          },
          "execution_count": 325
        }
      ]
    },
    {
      "cell_type": "markdown",
      "metadata": {
        "id": "FXNvpkRgPQto"
      },
      "source": [
        "While applying the `istitle()` function on each English letter one-by-one, it returns `True` if the letter is in uppercase. Otherwise, it returns `False`."
      ]
    },
    {
      "cell_type": "code",
      "metadata": {
        "id": "soYffnhONsmM",
        "colab": {
          "base_uri": "https://localhost:8080/",
          "height": 187
        },
        "outputId": "4f04c682-59b5-4274-ff60-652557e856e3"
      },
      "source": [
        "# Student Action: Iterate through the first 10 items in the title cased string and also apply the 'istitle()' function.\n",
        "for item in titled[:10]:\n",
        "  print(f\"Item: {item}, Result: {item.istitle()}\")"
      ],
      "execution_count": null,
      "outputs": [
        {
          "output_type": "stream",
          "text": [
            "Item: T, Result: True\n",
            "Item: e, Result: False\n",
            "Item: l, Result: False\n",
            "Item: l, Result: False\n",
            "Item:  , Result: False\n",
            "Item: M, Result: True\n",
            "Item: e, Result: False\n",
            "Item:  , Result: False\n",
            "Item: A, Result: True\n",
            "Item: n, Result: False\n"
          ],
          "name": "stdout"
        }
      ]
    },
    {
      "cell_type": "markdown",
      "metadata": {
        "id": "Mcn0DPyIQK4h"
      },
      "source": [
        "Similarly, the `isupper()` function returns `True` if an English letter is in uppercase and the `islower()` function returns `True` if an English letter is in lowercase. Otherwise, they return `False`."
      ]
    },
    {
      "cell_type": "markdown",
      "metadata": {
        "id": "UChMXLiTaWe3"
      },
      "source": [
        "---"
      ]
    },
    {
      "cell_type": "markdown",
      "metadata": {
        "id": "FppweQm1RI-U"
      },
      "source": [
        "#### Activity 6: The `ljust(), rjust()` & `center()` Functions^^^\n",
        "\n",
        "The `ljust()` function returns a fixed-length string padded with some special character and justifies (or aligns) it on the left-hand side of the output console. The syntax is `string.ljust(length, character)`\n",
        "\n",
        "Let's write a code to get the following output using the `ljust()` function.\n",
        "\n",
        "```\n",
        "1000\n",
        "2000\n",
        "3000\n",
        "4000\n",
        "5000\n",
        "```\n",
        "\n",
        "Each item in the above output is a string of length `4` padded with `0` and left justified.\n"
      ]
    },
    {
      "cell_type": "code",
      "metadata": {
        "id": "cuyFG-I2VaBP",
        "colab": {
          "base_uri": "https://localhost:8080/",
          "height": 102
        },
        "outputId": "20f1ee64-c1d5-4f75-f0f2-69f7babe3402"
      },
      "source": [
        "# Teacher Action: Write a code to get the above output using the 'ljust()' function.\n",
        "for i in range(1, 6):\n",
        "  print(f\"{i}\".ljust(4, '0')) # Length of the string padded with zeros."
      ],
      "execution_count": null,
      "outputs": [
        {
          "output_type": "stream",
          "text": [
            "1000\n",
            "2000\n",
            "3000\n",
            "4000\n",
            "5000\n"
          ],
          "name": "stdout"
        }
      ]
    },
    {
      "cell_type": "markdown",
      "metadata": {
        "id": "ZXwRU3aaWjxQ"
      },
      "source": [
        "**The `rjust()` function** returns a fixed-length string padded with some special character and justifies (or aligns) it on the right-hand side of the output console. The syntax is `string.rjust(length, character)`\n",
        "\n",
        "Now, write a code to get the following output using the `rjust()` function.\n",
        "\n",
        "```\n",
        "00001\n",
        "00002\n",
        "00003\n",
        "00004\n",
        "00005\n",
        "```\n",
        "\n",
        "Each item in the above output is a string of length `5` padded with `0` and right justified."
      ]
    },
    {
      "cell_type": "code",
      "metadata": {
        "id": "19-SPOeqW-tj",
        "colab": {
          "base_uri": "https://localhost:8080/",
          "height": 102
        },
        "outputId": "94e39cc4-3f2e-4d58-fb68-afb1e5268bb5"
      },
      "source": [
        "# Student Action: Write a code to get the above output using the 'rjust()' function.\n",
        "for i in range(1, 6):\n",
        "  print(f\"{i}\".rjust(5, '0'))"
      ],
      "execution_count": null,
      "outputs": [
        {
          "output_type": "stream",
          "text": [
            "00001\n",
            "00002\n",
            "00003\n",
            "00004\n",
            "00005\n"
          ],
          "name": "stdout"
        }
      ]
    },
    {
      "cell_type": "markdown",
      "metadata": {
        "id": "BC-_dts8XKQ5"
      },
      "source": [
        "**The `center()` function** returns a fixed-length string padded with some special character and justifies (or aligns) it at the center of the output console. The syntax is `string.center(length, character)`\n",
        "\n",
        "Now, write a code to get the following output.\n",
        "\n",
        "```\n",
        "-------#-------\n",
        "------###------\n",
        "-----#####-----\n",
        "----#######----\n",
        "---#########---\n",
        "--###########--\n",
        "-#############-\n",
        "###############\n",
        "```\n",
        "\n",
        "Each item in the above output is a string of length `15` padded with `-` and centre justified."
      ]
    },
    {
      "cell_type": "code",
      "metadata": {
        "id": "8rd5mmeMXfqu",
        "colab": {
          "base_uri": "https://localhost:8080/",
          "height": 153
        },
        "outputId": "6ffb8fa1-d9df-418d-a93e-5143f32e2843"
      },
      "source": [
        "# Student Action: Write a code to get the above output using the 'center()' function.\n",
        "for i in range(1, 16):\n",
        "  if i % 2 != 0:\n",
        "    print(f\"{'#' * i}\".center(15, '-'))"
      ],
      "execution_count": null,
      "outputs": [
        {
          "output_type": "stream",
          "text": [
            "-------#-------\n",
            "------###------\n",
            "-----#####-----\n",
            "----#######----\n",
            "---#########---\n",
            "--###########--\n",
            "-#############-\n",
            "###############\n"
          ],
          "name": "stdout"
        }
      ]
    },
    {
      "cell_type": "markdown",
      "metadata": {
        "id": "1gvWPJgHZY2R"
      },
      "source": [
        "**Note:** If the `character` value is not defined in the `ljust(), rjust()` and `center()` functions, then they take whitespace as the default character."
      ]
    },
    {
      "cell_type": "markdown",
      "metadata": {
        "id": "BXxvHiMXZHyC"
      },
      "source": [
        "---"
      ]
    },
    {
      "cell_type": "markdown",
      "metadata": {
        "id": "Wql1_zNhFaYO"
      },
      "source": [
        "#### Activity 7: The `replace()` Function^^\n",
        "\n",
        "If you want to replace an item in a string with some other item, then you can use the `replace()` function.\n",
        "\n",
        "**Syntax:** `string.replace(item_to_be_replaced, new_item)`\n",
        "\n",
        "Let's learn this concept with the help of an example. Consider the text below.\n",
        "\n",
        "*Who invented the sole? How can we scientifically prove that a sole exists? If the sole is an energy, then what kind of energy it is? The laws of physics state that energy can neither be created nor be destroyed. So, if the sole is an energy, then how does it transfer from one form to another after the death of a person? We know that the laws of physics are universally true. So, it means either the sole is not an energy or it doesn't exist.*\n",
        "\n",
        "The word *soul* has been mistakenly reported as *sole* by a machine because they are *homophone*. Two or more words having the same pronunciation are called *homophone*. \n",
        "\n",
        "We can replace the word *sole* with *soul* using the `replace()` function."
      ]
    },
    {
      "cell_type": "code",
      "metadata": {
        "id": "-SSWzWCWFzQX",
        "colab": {
          "base_uri": "https://localhost:8080/",
          "height": 136
        },
        "outputId": "7dfc2353-29c7-4ee9-835f-2da806d1ff49"
      },
      "source": [
        "# Student Action: Replace the word 'sole' with 'soul' in the given paragraph.\n",
        "para = \"\"\"\n",
        "Who invented the sole? How can we scientifically prove that a sole exists? \n",
        "If the sole is an energy, then what kind of energy it is? \n",
        "The laws of physics state that energy can neither be created nor be destroyed. \n",
        "So, if the sole is an energy, then how does it transfer from one form to another after the death of a person? \n",
        "We know that the laws of physics are universally true. So, it means either the sole is not an energy or it doesn't exist.\n",
        "\"\"\"\n",
        "\n",
        "mod_para = para.replace('sole', 'soul') # 'mod' stands for modified.\n",
        "print(mod_para)"
      ],
      "execution_count": null,
      "outputs": [
        {
          "output_type": "stream",
          "text": [
            "\n",
            "Who invented the soul? How can we scientifically prove that a soul exists? \n",
            "If the soul is an energy, then what kind of energy it is? \n",
            "The laws of physics state that energy can neither be created nor be destroyed. \n",
            "So, if the soul is an energy, then how does it transfer from one form to another after the death of a person? \n",
            "We know that the laws of physics are universally true. So, it means either the soul is not an energy or it doesn't exist.\n",
            "\n"
          ],
          "name": "stdout"
        }
      ]
    },
    {
      "cell_type": "markdown",
      "metadata": {
        "id": "IRf9TEYTZryM"
      },
      "source": [
        "**Note:** If you print a multiline string without using the `print()` function, then you will get a single-line string containing the newline `\\n` character. In fact, this is how all the multiline strings are stored in Python."
      ]
    },
    {
      "cell_type": "code",
      "metadata": {
        "id": "Ej-CGR7yFBYT",
        "colab": {
          "base_uri": "https://localhost:8080/",
          "height": 54
        },
        "outputId": "a987c67d-9c07-45a9-a34e-193146b60a4f"
      },
      "source": [
        "# Student Action: Print the above modified multiline string without using the 'print()' function.\n",
        "mod_para"
      ],
      "execution_count": null,
      "outputs": [
        {
          "output_type": "execute_result",
          "data": {
            "text/plain": [
              "\"\\nWho invented the soul? How can we scientifically prove that a soul exists? \\nIf the soul is an energy, then what kind of energy it is? \\nThe laws of physics state that energy can neither be created nor be destroyed. \\nSo, if the soul is an energy, then how does it transfer from one form to another after the death of a person? \\nWe know that the laws of physics are universally true. So, it means either the soul is not an energy or it doesn't exist.\\n\""
            ]
          },
          "metadata": {
            "tags": []
          },
          "execution_count": 337
        }
      ]
    },
    {
      "cell_type": "markdown",
      "metadata": {
        "id": "LJIdIS5Zaa-Z"
      },
      "source": [
        "Let's split the above string about the newline character."
      ]
    },
    {
      "cell_type": "code",
      "metadata": {
        "id": "qnZHgVG1CDwS",
        "colab": {
          "base_uri": "https://localhost:8080/",
          "height": 136
        },
        "outputId": "295f93d4-3927-41f1-c88c-000f20cc65c0"
      },
      "source": [
        "# Student Action: Split the above string about the newline character.\n",
        "para_list = mod_para.split(\"\\n\")\n",
        "para_list"
      ],
      "execution_count": null,
      "outputs": [
        {
          "output_type": "execute_result",
          "data": {
            "text/plain": [
              "['',\n",
              " 'Who invented the soul? How can we scientifically prove that a soul exists? ',\n",
              " 'If the soul is an energy, then what kind of energy it is? ',\n",
              " 'The laws of physics state that energy can neither be created nor be destroyed. ',\n",
              " 'So, if the soul is an energy, then how does it transfer from one form to another after the death of a person? ',\n",
              " \"We know that the laws of physics are universally true. So, it means either the soul is not an energy or it doesn't exist.\",\n",
              " '']"
            ]
          },
          "metadata": {
            "tags": []
          },
          "execution_count": 338
        }
      ]
    },
    {
      "cell_type": "markdown",
      "metadata": {
        "id": "cFqmonOnatLL"
      },
      "source": [
        "The output is a list containing several single-line strings without having the newline character.\n",
        "\n",
        "Now, right justify the strings in the above list such that each string length is equal to the length of the longest string. But before that remove any unwanted strings from the list using the `remove()` function."
      ]
    },
    {
      "cell_type": "code",
      "metadata": {
        "id": "xLl67ztwbc_y",
        "colab": {
          "base_uri": "https://localhost:8080/",
          "height": 102
        },
        "outputId": "d77b2cc3-d733-49cb-957f-97f2381edde4"
      },
      "source": [
        "# Student Action: Remove the unwanted strings from the above list. \n",
        "# Note: This exercise may not be required depending on how you indent a multiline string.\n",
        "para_list.remove(para_list[0])\n",
        "para_list.remove(para_list[-1])\n",
        "para_list"
      ],
      "execution_count": null,
      "outputs": [
        {
          "output_type": "execute_result",
          "data": {
            "text/plain": [
              "['Who invented the soul? How can we scientifically prove that a soul exists? ',\n",
              " 'If the soul is an energy, then what kind of energy it is? ',\n",
              " 'The laws of physics state that energy can neither be created nor be destroyed. ',\n",
              " 'So, if the soul is an energy, then how does it transfer from one form to another after the death of a person? ',\n",
              " \"We know that the laws of physics are universally true. So, it means either the soul is not an energy or it doesn't exist.\"]"
            ]
          },
          "metadata": {
            "tags": []
          },
          "execution_count": 339
        }
      ]
    },
    {
      "cell_type": "code",
      "metadata": {
        "id": "clb2lNO-Sdh4",
        "colab": {
          "base_uri": "https://localhost:8080/",
          "height": 102
        },
        "outputId": "80e256d9-2aab-4edf-d034-c5687b042624"
      },
      "source": [
        "# Student Action: Right justify the strings in the above list such that each string length is equal to the length of the longest string.\n",
        "for item in para_list:\n",
        "  item = item.strip(\" \")\n",
        "  print(item.rjust(len(para_list[-1]), ' '))"
      ],
      "execution_count": null,
      "outputs": [
        {
          "output_type": "stream",
          "text": [
            "                                               Who invented the soul? How can we scientifically prove that a soul exists?\n",
            "                                                                If the soul is an energy, then what kind of energy it is?\n",
            "                                           The laws of physics state that energy can neither be created nor be destroyed.\n",
            "            So, if the soul is an energy, then how does it transfer from one form to another after the death of a person?\n",
            "We know that the laws of physics are universally true. So, it means either the soul is not an energy or it doesn't exist.\n"
          ],
          "name": "stdout"
        }
      ]
    },
    {
      "cell_type": "code",
      "metadata": {
        "id": "IB4QPuapDjKY",
        "colab": {
          "base_uri": "https://localhost:8080/",
          "height": 102
        },
        "outputId": "1f51c2cb-7641-400a-e8f8-51c5bc8b0a64"
      },
      "source": [
        "# Student Action: Center justify the strings in the above list such that each string length is equal to the length of the longest string.\n",
        "for item in para_list:\n",
        "  item.strip(\" \")\n",
        "  print(item.center(len(para_list[-1]), \" \"))"
      ],
      "execution_count": null,
      "outputs": [
        {
          "output_type": "stream",
          "text": [
            "                       Who invented the soul? How can we scientifically prove that a soul exists?                        \n",
            "                                If the soul is an energy, then what kind of energy it is?                                \n",
            "                     The laws of physics state that energy can neither be created nor be destroyed.                      \n",
            "      So, if the soul is an energy, then how does it transfer from one form to another after the death of a person?      \n",
            "We know that the laws of physics are universally true. So, it means either the soul is not an energy or it doesn't exist.\n"
          ],
          "name": "stdout"
        }
      ]
    },
    {
      "cell_type": "markdown",
      "metadata": {
        "id": "g7Ke-E7hpwS8"
      },
      "source": [
        "---"
      ]
    },
    {
      "cell_type": "markdown",
      "metadata": {
        "id": "WZuh0OGvpxqo"
      },
      "source": [
        "#### Activity 8: The Escape Character (`\\`)^\n",
        "\n",
        "Sometimes you might have to create a string which would contain a combination of single quotes (`''`), double quotes (`\"\"`) or an apostrophe (`'`). In such cases, Python will terminate the string before it is complete. To create such strings, you can use the **escape character** represented by backslash sign (`\\`).\n",
        "\n",
        "Let's create the following string using the escape character.\n",
        "\n",
        "`\"She just said 'That should work' and walked out the door\", he clarified.`\n",
        "\n",
        "To create the above string using double-quotes, you will have to put one backslash before `\"She...` as shown below.\n",
        "\n",
        "`\\\"She...`\n",
        "\n",
        "and one backslash before `\", he...` as shown below\n",
        "\n",
        "`\\\", he...`\n"
      ]
    },
    {
      "cell_type": "code",
      "metadata": {
        "id": "1fm0xW6ip2_V",
        "colab": {
          "base_uri": "https://localhost:8080/",
          "height": 34
        },
        "outputId": "fd6f38e5-9ae0-49f4-f401-3b88ccdca484"
      },
      "source": [
        "# Student Action: Create the above string using double quotes and the escape character.\n",
        "sentence = \"\\\"She just said 'That should work' and walked out the door\\\", he clarified.\" # Be mindful of spaces.\n",
        "print(sentence)"
      ],
      "execution_count": null,
      "outputs": [
        {
          "output_type": "stream",
          "text": [
            "\"She just said 'That should work' and walked out the door\", he clarified.\n"
          ],
          "name": "stdout"
        }
      ]
    },
    {
      "cell_type": "markdown",
      "metadata": {
        "id": "g15ezx0gdLHR"
      },
      "source": [
        "To create the given string using single-quotes, you will have to put one backslash before `'That...` as shown below\n",
        "\n",
        "`\\'That...`\n",
        "\n",
        "and one backslash before `' and...\"` as shown below\n",
        "\n",
        "`\\' and...'`"
      ]
    },
    {
      "cell_type": "code",
      "metadata": {
        "id": "T8mbYWCedAuY",
        "colab": {
          "base_uri": "https://localhost:8080/",
          "height": 34
        },
        "outputId": "6d2d4161-d6fb-4d1e-bb8f-36ed399a7ada"
      },
      "source": [
        "# Student Action: Create the given string using single quotes and the escape character.\n",
        "sentence = 'She just said \\'That should work\\' and walked out the door,\" he clarified.' # Be mindful of spaces.\n",
        "print(sentence)"
      ],
      "execution_count": null,
      "outputs": [
        {
          "output_type": "stream",
          "text": [
            "She just said 'That should work' and walked out the door,\" he clarified.\n"
          ],
          "name": "stdout"
        }
      ]
    },
    {
      "cell_type": "markdown",
      "metadata": {
        "id": "ncUKXmHXsalK"
      },
      "source": [
        "If you create the above string without putting the escape character, then Python will throw a `SyntaxError`."
      ]
    },
    {
      "cell_type": "code",
      "metadata": {
        "id": "NQhTFa9OsgrW",
        "colab": {
          "base_uri": "https://localhost:8080/",
          "height": 130
        },
        "outputId": "ac56ead8-13c3-48e3-8fe4-3155f08af316"
      },
      "source": [
        "# Student Action: Create the above string without putting the escape character.\n",
        "dialogue = \"\"She just said 'That should work' and walked out the door,\" he clarified.\"\n",
        "print(dialogue)"
      ],
      "execution_count": null,
      "outputs": [
        {
          "output_type": "error",
          "ename": "SyntaxError",
          "evalue": "ignored",
          "traceback": [
            "\u001b[0;36m  File \u001b[0;32m\"<ipython-input-346-ccfa88d065c6>\"\u001b[0;36m, line \u001b[0;32m1\u001b[0m\n\u001b[0;31m    dialogue = \"\"She just said 'That should work' and walked out the door,\" he clarified.\"\u001b[0m\n\u001b[0m                   ^\u001b[0m\n\u001b[0;31mSyntaxError\u001b[0m\u001b[0;31m:\u001b[0m invalid syntax\n"
          ]
        }
      ]
    },
    {
      "cell_type": "markdown",
      "metadata": {
        "id": "sNreCXeMfx02"
      },
      "source": [
        "We have covered pretty much everything about the string operations that we need. \n",
        "\n",
        "Congratulations! You have set a new benchmark. \n",
        " You've successfully completed the capstone challenge.\n",
        "You applied the programming constructs learnt during the past few classes to perform various string operations.\n",
        "\n",
        "In the next class, we will learn how to work with `datetime` values, i.e., how to extract date, time, day, month and year from a `datetime` value.\n",
        "\n",
        "\n",
        "\n",
        "\n",
        "\n",
        "\n"
      ]
    },
    {
      "cell_type": "markdown",
      "metadata": {
        "id": "tzBGoUi1_vIj"
      },
      "source": [
        "---"
      ]
    },
    {
      "cell_type": "markdown",
      "metadata": {
        "id": "S8tW4Azu5HrP"
      },
      "source": [
        "### Activities\n",
        "\n",
        "**Teacher Activities**\n",
        "\n",
        "1. String Operations III (Class Copy)\n",
        "\n",
        "   https://colab.research.google.com/drive/1N1Bd06psSkZZ8bZBdrEkVOhY6V4z60R9  \n",
        "    \n",
        "2. String Operations III (Reference)\n",
        "\n",
        "   https://colab.research.google.com/drive/1aPpsaFbaexzc7zoPyctvWe0_i2AcGI8-"
      ]
    },
    {
      "cell_type": "markdown",
      "metadata": {
        "id": "0LKwo4j_5Gk2"
      },
      "source": [
        "---"
      ]
    }
  ]
}